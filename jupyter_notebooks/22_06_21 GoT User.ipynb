{
 "cells": [
  {
   "cell_type": "code",
   "execution_count": 1,
   "metadata": {},
   "outputs": [
    {
     "name": "stdout",
     "output_type": "stream",
     "text": [
      "/home/ubuntu/DistMEC\n"
     ]
    }
   ],
   "source": [
    "cd /home/ubuntu/DistMEC/"
   ]
  },
  {
   "cell_type": "code",
   "execution_count": 2,
   "metadata": {},
   "outputs": [],
   "source": [
    "import numpy as np\n",
    "import matplotlib.pyplot as plt\n",
    "\n",
    "from classes.User import *\n",
    "from classes.solver import *\n",
    "from classes.Server import *\n",
    "from classes.distributed_utils import *\n",
    "\n",
    "from tqdm import tqdm, tqdm_notebook\n",
    "from time import sleep\n",
    "import pickle\n",
    "import os\n",
    "import numpy as np"
   ]
  },
  {
   "cell_type": "code",
   "execution_count": 3,
   "metadata": {},
   "outputs": [],
   "source": [
    "class GoT_User(User):\n",
    "    \n",
    "    def __init__(self, locs, svr_locs, mu, idx, \n",
    "                 max_dist = 7, threshold_dist = 6, self_weight = 0.5, P = None,\n",
    "                 c1 = 100, c2 = 600, c3 = 600, delta = 0, rho = 0.5, epsilon = 0.01,\n",
    "                 c = None, horizon = 15000):\n",
    "        \"\"\"\n",
    "        ceiling = max number of reservation time step\n",
    "        sticky_mode = stick with same arm for set number of time steps once reserved\n",
    "        kick_mode = other user with higher production can interupt reservation when collision\n",
    "        \"\"\"\n",
    "        # max dist - reward range\n",
    "        # threshold dist - used for generating markov chain\n",
    "        \n",
    "        self.idx = idx\n",
    "        self.locs = locs\n",
    "        self.dists = self.get_dists()\n",
    "        self.svr_locs = svr_locs\n",
    "        self.mu = mu # True weights\n",
    "        \n",
    "        self.t = 0 # Time-steps past\n",
    "        self.mode = \"blind\" # oracle\n",
    "        self.phase = 0 #{0-exploration,1-GoT,2-exploitation}\n",
    "        self.t_p = 0 #{timestep within phase }\n",
    "        self.k = 0 # epoch\n",
    "        \n",
    "        self.c1 = c1\n",
    "        self.c2 = c2\n",
    "        self.c3= c3\n",
    "        self.horizon = horizon\n",
    "        \n",
    "        self.delta = delta\n",
    "        self.rho = rho\n",
    "        self.epsilon = epsilon\n",
    "        if c == None:\n",
    "            self.c = len(svr_locs)\n",
    "        else:\n",
    "            self.c = c\n",
    "        self.got_base_arm = 0\n",
    "        \n",
    "        \n",
    "        if P is None:\n",
    "            self.P = self.make_P(threshold_dist, self_weight)\n",
    "        else:\n",
    "            self.P = P\n",
    "            \n",
    "        self.reward_dists = self.get_reward_dists()\n",
    "        self.reward_scale = self.get_scales(max_dist)\n",
    "        self.usr_place = self.init_loc()\n",
    "        \n",
    "        self.stationary_loc = self.get_stationary_loc()\n",
    "        self.stationary_reward_scale = self.get_stationary_scale()\n",
    "        \n",
    "        # Initialize learning parameters\n",
    "        self.pulls = np.zeros(len(svr_locs))\n",
    "        self.param_summed = np.zeros(len(svr_locs))\n",
    "        self.Ftni = np.zeros(len(svr_locs)) # number of rounds in content state\n",
    "        self.Fmax_idx = 0 # arm to pull during exploitation phase\n",
    "        self.mu_est = np.zeros(len(svr_locs))\n",
    "        self.state = 'discontent'\n",
    "        \n",
    "        self.epoch_time_mapping = np.zeros(horizon)\n",
    "        self.phase_time_mapping = np.zeros(horizon)\n",
    "        \n",
    "        self.set_epochs()\n",
    "        \n",
    "        self.ucb_present = self.mu_est\n",
    "        self.expected_time = 1\n",
    "        self.ceiling = 1\n",
    "\n",
    "        # history\n",
    "        self.history_location = []\n",
    "        self.history_pull = []\n",
    "        self.history_reward = []\n",
    "        self.history_collisions = []\n",
    "        \n",
    "    def set_epochs(self):\n",
    "        \n",
    "        pass_flag = True\n",
    "        curr_phase = 0\n",
    "        t_track = 0\n",
    "        temp_k = 1\n",
    "        \n",
    "        while pass_flag:\n",
    "            if curr_phase == 0:\n",
    "                num_steps = self.c1\n",
    "            elif curr_phase == 1:\n",
    "                num_steps = self.c2 * (temp_k)**(1+self.delta)\n",
    "            elif curr_phase == 2:\n",
    "                num_steps = self.c3 * 2**(temp_k)\n",
    "            \n",
    "            end_time = t_track + num_steps\n",
    "            \n",
    "            if end_time >= self.horizon:\n",
    "                end_time = self.horizon\n",
    "                pass_flag = False\n",
    "            \n",
    "            self.epoch_time_mapping[t_track:end_time] = (temp_k) \n",
    "            self.phase_time_mapping[t_track:end_time] = curr_phase\n",
    "            \n",
    "            curr_phase += 1\n",
    "            t_track = end_time\n",
    "            \n",
    "            if curr_phase > 2:\n",
    "                curr_phase = 0\n",
    "                temp_k += 1\n",
    "            \n",
    "        return\n",
    "            \n",
    "        \n",
    "    def update_mean(self):\n",
    "        \"\"\"\n",
    "        Update decision variables for next round\n",
    "        \"\"\"\n",
    "\n",
    "        reward_record = self.param_summed\n",
    "        pulls_record = self.pulls\n",
    "        \n",
    "        for s in range(reward_record.shape[0]):\n",
    "            if pulls_record[s] > 0:\n",
    "                mean = reward_record[s]/pulls_record[s]\n",
    "                self.mu_est[s] = mean\n",
    "    \n",
    "    \n",
    "    def choose_arm(self):\n",
    "        # Choose an arm to pull based on collision restriction and UCB info\n",
    "        \n",
    "        phase = self.phase_time_mapping[self.t]\n",
    "        \n",
    "        if phase == 0: # Exploration Phase\n",
    "            arm_id = np.random.randint(low=0, high=len(self.svr_locs))\n",
    "        elif phase == 1: # GoT Phase\n",
    "            if self.state == 'content':\n",
    "                sub_arm_prob = self.epsilon**self.c / (len(self.svr_locs)-1)\n",
    "                pdf = np.ones(len(self.svr_locs)) * sub_arm_prob\n",
    "                pdf[self.got_base_arm] = 1 - self.epsilon**self.c\n",
    "                arm_id = np.random.choice(len(self.svr_locs), 1, p=pdf)[0]\n",
    "            elif self.state == 'discontent':\n",
    "                arm_id = np.random.randint(low=0, high=len(self.svr_locs))\n",
    "        elif phase == 2: # Exploitation Phase\n",
    "            arm_id = self.Fmax_idx\n",
    "        \n",
    "        return arm_id\n",
    "    \n",
    "    def receive_reward(self, arm_id, reward, collision_flag, max_reward, wait_time, chosen_idx,\n",
    "                       reservation_mode = False):\n",
    "\n",
    "        phase = self.phase_time_mapping[self.t]\n",
    "#         scale = self.stationary_reward_scale[arm_id]\n",
    "        scale = self.reward_scale[self.usr_place][arm_id]\n",
    "        constant = 0.001\n",
    "        \n",
    "        if phase == 0: # Exploration Phase                              \n",
    "            if not collision_flag:\n",
    "                self.pulls[arm_id] += 1\n",
    "                self.param_summed[arm_id] += reward[self.idx]/(scale+constant)\n",
    "                self.update_mean()\n",
    "        elif phase == 1: # GoT Phase\n",
    "            if arm_id == self.got_base_arm and not collision_flag and self.state == 'content':\n",
    "                if self.t_p > np.ceil(self.rho*self.c2*self.k**(1+self.delta)):\n",
    "                    self.Ftni[self.got_base_arm] += 1\n",
    "            else:\n",
    "                self.got_base_arm = arm_id\n",
    "                uns = self.stationary_reward_scale* self.mu_est\n",
    "                un_max = np.max(uns)\n",
    "                un = uns[arm_id] * (1-collision_flag)\n",
    "                prob_c = (un/un_max)*self.epsilon**(un_max-un)\n",
    "                if np.random.binomial(n=1,p=prob_c) == 1:\n",
    "                    self.state = 'content'\n",
    "                    if self.t_p > np.ceil(self.rho*self.c2*self.k**(1+self.delta)):\n",
    "                        self.Ftni[self.got_base_arm] += 1\n",
    "                else:\n",
    "                    self.state = 'discontent'\n",
    "        elif phase == 2: # Exploitation Phase\n",
    "            pass\n",
    "        \n",
    "            \n",
    "        # Update history\n",
    "        self.history_location += [self.usr_place]\n",
    "        self.history_pull += [arm_id]\n",
    "        self.history_reward += [reward]\n",
    "        self.history_collisions += [collision_flag]\n",
    "        \n",
    "        self.advance_time()\n",
    "        \n",
    "    def advance_time(self):\n",
    "        self.t += 1\n",
    "        self.t_p += 1\n",
    "        \n",
    "        try:\n",
    "            prev_epoch = self.epoch_time_mapping[t-1]\n",
    "            now_epoch = self.epoch_time_mapping[t]\n",
    "            prev_phase = self.phase_time_mapping[t-1]\n",
    "            now_phase = self.phase_time_mapping[t]\n",
    "            \n",
    "            if prev_epoch != now_epoch: # Reset all epoch (2-->0)\n",
    "                self.t_p = 0\n",
    "                self.state = 'discontent'\n",
    "                self.Ftni = np.zeros(len(svr_locs)) # number of rounds in content state\n",
    "                self.Fmax_idx = 0\n",
    "                \n",
    "            elif prev_phase != now_phase: # Go to next phase\n",
    "                self.t_p = 0\n",
    "                \n",
    "                if now_phase == 2:\n",
    "                    self.Fmax_idx = np.argmax(self.Ftni) \n",
    "        except:\n",
    "            pass\n",
    "#             print(\"advance time pass\")"
   ]
  },
  {
   "cell_type": "code",
   "execution_count": 4,
   "metadata": {},
   "outputs": [
    {
     "name": "stderr",
     "output_type": "stream",
     "text": [
      "<ipython-input-4-4b200a08c188>:88: TqdmDeprecationWarning: This function will be removed in tqdm==5.0.0\n",
      "Please use `tqdm.notebook.tqdm` instead of `tqdm.tqdm_notebook`\n",
      "  for (zzz,t) in zip(tqdm_notebook(range(T-round_start)),range(round_start, T)):\n"
     ]
    },
    {
     "data": {
      "application/vnd.jupyter.widget-view+json": {
       "model_id": "45477b09ba844bada450652eb9019068",
       "version_major": 2,
       "version_minor": 0
      },
      "text/plain": [
       "HBox(children=(HTML(value=''), FloatProgress(value=0.0, max=19990.0), HTML(value='')))"
      ]
     },
     "metadata": {},
     "output_type": "display_data"
    },
    {
     "name": "stdout",
     "output_type": "stream",
     "text": [
      "\n"
     ]
    }
   ],
   "source": [
    "# System Parameters\n",
    "T = 20000\n",
    "num_users = 6\n",
    "num_svrs = 9\n",
    "num_locs = 9\n",
    "mu = np.random.uniform(low=0, high = 1, size = [num_users, num_svrs])\n",
    "ceiling = 40\n",
    "# w = np.random.uniform(low=0, high=1, size= [num_users, num_svrs])\n",
    "space_1d_dim = 10 #4 for small, 10 for big\n",
    "\n",
    "num_explore = 1\n",
    "trials = 3\n",
    "\n",
    "# result dictionaries\n",
    "result_dicts = []\n",
    "performance_list = []\n",
    "user_dicts = []\n",
    "\n",
    "save_name = 'results/22_06_16_ceiling_20/'\n",
    "isExist = os.path.exists(save_name)\n",
    "if not isExist:\n",
    "  # Create a new directory because it does not exist \n",
    "    os.makedirs(save_name)\n",
    "\n",
    "\n",
    "# Generate visitng locations and server locations\n",
    "usr_locs = gen_eq_locs(space_1d=space_1d_dim, nums=num_locs,offset = 1.7)\n",
    "# svr_locs = gen_eq_locs(space_1d=space_1d_dim, nums=num_svrs,offset = 1.7)\n",
    "svr_locs = gen_rand_locs(space_1d=space_1d_dim, nums=num_svrs)\n",
    "\n",
    "\n",
    "with open('traces_P_40k.pkl', 'rb') as handle:\n",
    "    P_collection = pickle.load(handle)\n",
    "    \n",
    "with open('traces_P_40k_dict.pkl', 'rb') as handle:\n",
    "    P_dict = pickle.load(handle)\n",
    "\n",
    "\n",
    "# Create Users\n",
    "Users = []\n",
    "for i in range(num_users):\n",
    "    P_temp = P_collection\n",
    "    Users += [User(usr_locs,svr_locs,mu[i],i,\n",
    "                  max_dist = 5, threshold_dist = 6, self_weight = 1 - 0.85, P = P_temp, ceiling = ceiling,\n",
    "                  sticky_mode = True, kick_mode=True)]\n",
    "\n",
    "GoT_Users = []\n",
    "for i in range(num_users):\n",
    "    GoT_Users += [GoT_User(usr_locs, svr_locs, mu[i], i, \n",
    "                 max_dist = 5, threshold_dist = 6, self_weight = 1 - 0.95, P = Users[i].P,\n",
    "                 c1 = 5000, c2 = 6000, c3 = 6000, delta = 0, rho = 0.5, epsilon = 0.001,\n",
    "                 c = num_users, horizon = T)]\n",
    "    \n",
    "# Create Servers\n",
    "Servers = []\n",
    "for i in range(num_svrs):\n",
    "    Servers += [Server(svr_locs[i],mu,i)]\n",
    "\n",
    "# Recorded Values - reservation\n",
    "regret_g = np.zeros(T)\n",
    "collision_count_g = np.zeros(T)\n",
    "optimal_reward_g = np.zeros(T)\n",
    "regret_g_compstat = np.zeros(T)\n",
    "\n",
    "regret = np.zeros(T)\n",
    "collision_count = np.zeros(T)\n",
    "optimal_reward = np.zeros(T)\n",
    "\n",
    "\n",
    "explore_rounds(Users, num_users, Servers, mu, regret, collision_count, optimal_reward,\n",
    "                   usr_move_flag = True, rounds=num_explore)\n",
    "\n",
    "round_start = ((num_svrs)*num_explore)+1\n",
    "\n",
    "for t in range(round_start):\n",
    "    w = obtain_w(GoT_Users, len(Users), len(Servers))\n",
    "    optimal = offline_optimal_action(w, mu)\n",
    "    play_round(GoT_Users, Servers, mu, regret_g, collision_count_g, \n",
    "               usr_move_flag = True, debugger=False, reservation_mode = False, optimal=optimal, t = t)\n",
    "    \n",
    "copy_usr_loc(Users, GoT_Users)\n",
    "\n",
    "# Centralized - stationary w, known mu\n",
    "w_stat = obtain_w_stationary(Users, num_users, num_svrs)\n",
    "optimal_stat_arms = offline_optimal_action(w_stat,mu)[0]\n",
    "regret_cst = copy.deepcopy(regret)\n",
    "\n",
    "for (zzz,t) in zip(tqdm_notebook(range(T-round_start)),range(round_start, T)):\n",
    "    w = obtain_w(Users, len(Users), len(Servers))\n",
    "    optimal = offline_optimal_action(w, mu)\n",
    "    optimal_reward[t] = optimal[1]\n",
    "    play_round(Users, Servers, mu, regret, collision_count, \n",
    "               usr_move_flag = True, debugger = False, reservation_mode = True, optimal =optimal, t = t)\n",
    "    play_round(GoT_Users, Servers, mu, regret_g, collision_count_g, \n",
    "               usr_move_flag = False, debugger=False, reservation_mode = False, optimal=optimal, t = t)\n",
    "    copy_usr_loc(Users, GoT_Users)\n",
    "    \n",
    "    # centralized solution - stationary w, known mu\n",
    "    regret_cst[t] = optimal[1] - expected_reward(optimal_stat_arms, mu, w) \n",
    "    regret_g_compstat[t] = regret_g[t] - regret_cst[t]"
   ]
  },
  {
   "cell_type": "code",
   "execution_count": 5,
   "metadata": {},
   "outputs": [
    {
     "name": "stderr",
     "output_type": "stream",
     "text": [
      "ERROR:root:No traceback has been produced, nothing to debug.\n"
     ]
    }
   ],
   "source": [
    "%debug"
   ]
  },
  {
   "cell_type": "code",
   "execution_count": 6,
   "metadata": {},
   "outputs": [
    {
     "data": {
      "text/plain": [
       "0.18801565228149597"
      ]
     },
     "execution_count": 6,
     "metadata": {},
     "output_type": "execute_result"
    }
   ],
   "source": [
    "GoT_Users[0].stationary_reward_scale[1]"
   ]
  },
  {
   "cell_type": "code",
   "execution_count": 7,
   "metadata": {},
   "outputs": [
    {
     "data": {
      "text/plain": [
       "1.0"
      ]
     },
     "execution_count": 7,
     "metadata": {},
     "output_type": "execute_result"
    }
   ],
   "source": [
    "GoT_Users[0].epoch_time_mapping[1899]"
   ]
  },
  {
   "cell_type": "code",
   "execution_count": 8,
   "metadata": {},
   "outputs": [
    {
     "data": {
      "text/plain": [
       "<matplotlib.legend.Legend at 0x7f514327d280>"
      ]
     },
     "execution_count": 8,
     "metadata": {},
     "output_type": "execute_result"
    },
    {
     "data": {
      "image/png": "[encoded data removed]",
      "text/plain": [
       "<Figure size 432x288 with 1 Axes>"
      ]
     },
     "metadata": {
      "needs_background": "light"
     },
     "output_type": "display_data"
    }
   ],
   "source": [
    "plot_idx = 1\n",
    "\n",
    "plt.plot(np.cumsum(regret), label = 'rsv')\n",
    "plt.plot(np.cumsum(regret_g), label = 'GoT')\n",
    "plt.plot(np.cumsum(regret_cst), label = 'stationary op')\n",
    "plt.title('Cumulative Regret CMAB')\n",
    "plt.xlabel('Rounds')\n",
    "plt.legend()"
   ]
  },
  {
   "cell_type": "code",
   "execution_count": 9,
   "metadata": {},
   "outputs": [
    {
     "data": {
      "text/plain": [
       "<matplotlib.legend.Legend at 0x7f513b8de250>"
      ]
     },
     "execution_count": 9,
     "metadata": {},
     "output_type": "execute_result"
    },
    {
     "data": {
      "image/png": "[encoded data removed]",
      "text/plain": [
       "<Figure size 432x288 with 1 Axes>"
      ]
     },
     "metadata": {
      "needs_background": "light"
     },
     "output_type": "display_data"
    }
   ],
   "source": [
    "plot_idx = 1\n",
    "\n",
    "plt.plot(np.cumsum(regret_g_compstat), label = 'stationary compare')\n",
    "plt.title('Cumulative Regret CMAB')\n",
    "plt.xlabel('Rounds')\n",
    "plt.legend()"
   ]
  },
  {
   "cell_type": "code",
   "execution_count": 10,
   "metadata": {},
   "outputs": [
    {
     "data": {
      "text/plain": [
       "<matplotlib.legend.Legend at 0x7f513b897a60>"
      ]
     },
     "execution_count": 10,
     "metadata": {},
     "output_type": "execute_result"
    },
    {
     "data": {
      "image/png": "[encoded data removed]",
      "text/plain": [
       "<Figure size 432x288 with 1 Axes>"
      ]
     },
     "metadata": {
      "needs_background": "light"
     },
     "output_type": "display_data"
    }
   ],
   "source": [
    "plot_idx = 1\n",
    "\n",
    "plt.plot(np.cumsum(collision_count), label = 'rsv')\n",
    "plt.plot(np.cumsum(collision_count_g), label = 'GoT')\n",
    "plt.title('Cumulative Collision CMAB')\n",
    "plt.xlabel('Rounds')\n",
    "plt.legend()"
   ]
  },
  {
   "cell_type": "code",
   "execution_count": 11,
   "metadata": {},
   "outputs": [
    {
     "name": "stdout",
     "output_type": "stream",
     "text": [
      "[0.00927547 0.24288647 0.14123333 0.0172976  0.41269624 0.1890182\n",
      " 0.3177857  0.24586739 0.14292811]\n",
      "[0.03460217 0.01359921 0.88098095 0.02361288 0.02067978 0.77750505\n",
      " 0.76893458 0.92346084 0.76216279]\n",
      "[0.00291101 0.00322672 0.00775    0.02395949 0.14123049 0.\n",
      " 0.01727459 0.         0.        ]\n",
      "[0.01261138 0.09173413 0.57702237 0.01332389 0.17366389 0.27809981\n",
      " 0.38895813 0.06101468 0.65898061]\n",
      "[0.01342145 0.16660516 0.10149544 0.00619838 0.02103229 0.6376121\n",
      " 0.15530147 0.40303916 0.5120948 ]\n",
      "[0.01309956 0.06082366 0.00022251 0.01163541 0.11343998 0.08891211\n",
      " 0.00314185 0.00914083 0.01934545]\n"
     ]
    }
   ],
   "source": [
    "for i in range(num_users):\n",
    "    print(GoT_Users[i].mu_est)"
   ]
  },
  {
   "cell_type": "code",
   "execution_count": 12,
   "metadata": {},
   "outputs": [
    {
     "name": "stdout",
     "output_type": "stream",
     "text": [
      "[0.6868604  0.65343721 0.42645382 0.80767297 0.89682072 0.57520188\n",
      " 0.7601692  0.68707998 0.34008246]\n",
      "[0.92927002 0.03456753 0.88190146 0.93937603 0.54725329 0.77542541\n",
      " 0.78617719 0.92676498 0.73755319]\n",
      "[0.1659878  0.38741964 0.75532704 0.86971107 0.19052271 0.85342094\n",
      " 0.37993234 0.24180586 0.00462658]\n",
      "[0.41869813 0.13741773 0.90863084 0.31632262 0.73608641 0.44413548\n",
      " 0.64801614 0.08448012 0.97064977]\n",
      "[0.55617694 0.149789   0.13012261 0.24643488 0.35911467 0.67160465\n",
      " 0.19305398 0.67456636 0.69237515]\n",
      "[0.75424456 0.6268575  0.11762225 0.91402866 0.19214446 0.81584031\n",
      " 0.04735283 0.83437982 0.68264221]\n"
     ]
    }
   ],
   "source": [
    "for i in range(num_users):\n",
    "    print(mu[i])"
   ]
  },
  {
   "cell_type": "code",
   "execution_count": 13,
   "metadata": {},
   "outputs": [
    {
     "name": "stdout",
     "output_type": "stream",
     "text": [
      "[4.81562357e-05 4.56664577e-02 2.71427081e-02 2.93670876e-05\n",
      " 3.48889810e-03 3.66071989e-02 5.68450116e-02 6.51748181e-03\n",
      " 2.58610526e-02]\n",
      "[1.79647095e-04 2.55686392e-03 1.69309953e-01 4.00888806e-05\n",
      " 1.74825093e-04 1.50579585e-01 1.37545819e-01 2.44792085e-02\n",
      " 1.37903821e-01]\n",
      "[1.51133605e-05 6.06674515e-04 1.48942155e-03 4.06773453e-05\n",
      " 1.19395031e-03 0.00000000e+00 3.09005185e-03 0.00000000e+00\n",
      " 0.00000000e+00]\n",
      "[6.54755643e-05 1.72474518e-02 1.10894146e-01 2.26206957e-05\n",
      " 1.46813940e-03 5.38596552e-02 6.95762240e-02 1.61738423e-03\n",
      " 1.19234296e-01]\n",
      "[6.96812975e-05 3.13243780e-02 1.95057431e-02 1.05233312e-05\n",
      " 1.77805124e-04 1.23486484e-01 2.77800856e-02 1.06838094e-02\n",
      " 9.26571469e-02]\n",
      "[6.80101223e-05 1.14357994e-02 4.27624762e-05 1.97540776e-05\n",
      " 9.59011704e-04 1.72196288e-02 5.62009430e-04 2.42306098e-04\n",
      " 3.50031711e-03]\n"
     ]
    }
   ],
   "source": [
    "for i in range(num_users):\n",
    "    print(GoT_Users[i].mu_est * GoT_Users[i].stationary_reward_scale)"
   ]
  },
  {
   "cell_type": "code",
   "execution_count": 14,
   "metadata": {},
   "outputs": [
    {
     "name": "stdout",
     "output_type": "stream",
     "text": [
      "[0.00356603 0.12285642 0.08195736 0.00137123 0.00758164 0.11139948\n",
      " 0.13597788 0.0182132  0.06153367]\n",
      "[0.00482457 0.00649924 0.16948686 0.00159483 0.00462643 0.15017682\n",
      " 0.14063015 0.02456679 0.13345102]\n",
      "[0.00086177 0.07284096 0.14516135 0.00147656 0.00161066 0.16528223\n",
      " 0.06796171 0.00640982 0.00083712]\n",
      "[0.00217379 0.02583669 0.1746238  0.00053704 0.00622281 0.08601582\n",
      " 0.11591612 0.00223941 0.17562693]\n",
      "[0.00288755 0.02816268 0.02500741 0.00041839 0.00303592 0.13006983\n",
      " 0.03453319 0.01788148 0.12527662]\n",
      "[0.00391588 0.11785902 0.02260505 0.0015518  0.00162437 0.15800398\n",
      " 0.0084704  0.02211784 0.12351557]\n"
     ]
    }
   ],
   "source": [
    "for i in range(num_users):\n",
    "    print(mu[i] * GoT_Users[i].stationary_reward_scale)"
   ]
  },
  {
   "cell_type": "code",
   "execution_count": 15,
   "metadata": {},
   "outputs": [],
   "source": [
    "got_arms = []\n",
    "for i in range(len(GoT_Users)):\n",
    "    got_arms += [GoT_Users[i].Fmax_idx]"
   ]
  },
  {
   "cell_type": "code",
   "execution_count": 16,
   "metadata": {},
   "outputs": [
    {
     "data": {
      "text/plain": [
       "[5, -1, -1, 4, -1, 8]"
      ]
     },
     "execution_count": 16,
     "metadata": {},
     "output_type": "execute_result"
    }
   ],
   "source": [
    "optimal[0]"
   ]
  },
  {
   "cell_type": "code",
   "execution_count": 17,
   "metadata": {},
   "outputs": [
    {
     "data": {
      "text/plain": [
       "[6, 2, 5, 8, 7, 1]"
      ]
     },
     "execution_count": 17,
     "metadata": {},
     "output_type": "execute_result"
    }
   ],
   "source": [
    "optimal_stat_arms"
   ]
  },
  {
   "cell_type": "code",
   "execution_count": 18,
   "metadata": {},
   "outputs": [
    {
     "data": {
      "text/plain": [
       "[6, 7, 2, 8, 5, 1]"
      ]
     },
     "execution_count": 18,
     "metadata": {},
     "output_type": "execute_result"
    }
   ],
   "source": [
    "got_arms"
   ]
  },
  {
   "cell_type": "code",
   "execution_count": 19,
   "metadata": {},
   "outputs": [],
   "source": [
    "arm_id = np.random.randint(low=0, high=16)"
   ]
  },
  {
   "cell_type": "code",
   "execution_count": 20,
   "metadata": {},
   "outputs": [
    {
     "data": {
      "text/plain": [
       "4"
      ]
     },
     "execution_count": 20,
     "metadata": {},
     "output_type": "execute_result"
    }
   ],
   "source": [
    "arm_id"
   ]
  },
  {
   "cell_type": "code",
   "execution_count": 21,
   "metadata": {},
   "outputs": [
    {
     "name": "stdout",
     "output_type": "stream",
     "text": [
      "[   0.   54.   20.    0.    9.   12. 5555.    6.   10.]\n",
      "[   0.    0.   47.    0.    0.   53.   44. 5492.   54.]\n",
      "[3.00e+00 3.10e+01 5.53e+03 0.00e+00 3.00e+01 0.00e+00 3.20e+01 0.00e+00\n",
      " 0.00e+00]\n",
      "[3.000e+00 2.000e+00 4.800e+01 0.000e+00 0.000e+00 1.600e+01 1.500e+01\n",
      " 0.000e+00 5.541e+03]\n",
      "[0.000e+00 1.000e+00 7.000e+00 0.000e+00 0.000e+00 5.525e+03 6.000e+00\n",
      " 4.000e+00 7.000e+01]\n",
      "[0.000e+00 5.531e+03 0.000e+00 0.000e+00 5.000e+00 6.400e+01 0.000e+00\n",
      " 0.000e+00 4.000e+00]\n"
     ]
    }
   ],
   "source": [
    "for i in range(len(GoT_Users)):\n",
    "    print(GoT_Users[i].Ftni)"
   ]
  },
  {
   "cell_type": "code",
   "execution_count": 22,
   "metadata": {},
   "outputs": [
    {
     "data": {
      "text/plain": [
       "array([0.00519179, 0.18801565, 0.19218344, 0.00169776, 0.00845391,\n",
       "       0.19367023, 0.17887844, 0.02650812, 0.18093749])"
      ]
     },
     "execution_count": 22,
     "metadata": {},
     "output_type": "execute_result"
    }
   ],
   "source": [
    "GoT_Users[i].stationary_reward_scale"
   ]
  },
  {
   "cell_type": "code",
   "execution_count": 23,
   "metadata": {},
   "outputs": [
    {
     "data": {
      "text/plain": [
       "[(8.906128272029012, 8.551018503849974),\n",
       " (4.821173865461428, 0.6108840329230669),\n",
       " (7.195933802245392, 3.858951788970396),\n",
       " (9.80838957784836, 9.190019760322702),\n",
       " (6.646654959616997, 9.00335992928038),\n",
       " (4.350777385562213, 1.0022083543776794),\n",
       " (6.931974322833936, 3.9215962246406786),\n",
       " (8.966620023898862, 6.42569095906442),\n",
       " (6.977330484009333, 3.9161858633238755)]"
      ]
     },
     "execution_count": 23,
     "metadata": {},
     "output_type": "execute_result"
    }
   ],
   "source": [
    "svr_locs"
   ]
  },
  {
   "cell_type": "code",
   "execution_count": 24,
   "metadata": {},
   "outputs": [
    {
     "data": {
      "text/plain": [
       "array([[9.87643694e-01, 1.19398012e-02, 5.55339590e-05, 3.05436775e-04,\n",
       "        2.77669795e-05, 0.00000000e+00, 2.77669795e-05, 0.00000000e+00,\n",
       "        0.00000000e+00],\n",
       "       [7.39914163e-01, 2.54935622e-01, 0.00000000e+00, 8.58369099e-04,\n",
       "        4.29184549e-03, 0.00000000e+00, 0.00000000e+00, 0.00000000e+00,\n",
       "        0.00000000e+00],\n",
       "       [1.19032032e-05, 0.00000000e+00, 9.95214912e-01, 0.00000000e+00,\n",
       "        0.00000000e+00, 4.70176525e-03, 5.95160158e-05, 0.00000000e+00,\n",
       "        1.19032032e-05],\n",
       "       [7.19424460e-02, 1.07913669e-02, 0.00000000e+00, 7.37410072e-01,\n",
       "        1.40287770e-01, 0.00000000e+00, 3.95683453e-02, 0.00000000e+00,\n",
       "        0.00000000e+00],\n",
       "       [8.75656742e-04, 4.37828371e-03, 8.75656742e-04, 3.67775832e-02,\n",
       "        8.90542907e-01, 3.59019264e-02, 1.75131348e-03, 2.88966725e-02,\n",
       "        0.00000000e+00],\n",
       "       [0.00000000e+00, 0.00000000e+00, 1.90984004e-01, 0.00000000e+00,\n",
       "        2.08434319e-02, 7.87687833e-01, 0.00000000e+00, 0.00000000e+00,\n",
       "        4.84730974e-04],\n",
       "       [4.52775514e-05, 0.00000000e+00, 1.13193878e-05, 9.05551028e-05,\n",
       "        4.52775514e-05, 1.13193878e-05, 9.90842615e-01, 8.95363579e-03,\n",
       "        0.00000000e+00],\n",
       "       [3.64431487e-04, 0.00000000e+00, 3.64431487e-04, 0.00000000e+00,\n",
       "        1.16618076e-02, 0.00000000e+00, 2.87900875e-01, 6.87682216e-01,\n",
       "        1.20262391e-02],\n",
       "       [0.00000000e+00, 0.00000000e+00, 2.43902438e-02, 0.00000000e+00,\n",
       "        0.00000000e+00, 2.43902438e-02, 0.00000000e+00, 8.04878047e-01,\n",
       "        1.46341463e-01]])"
      ]
     },
     "execution_count": 24,
     "metadata": {},
     "output_type": "execute_result"
    }
   ],
   "source": [
    "Users[1].P"
   ]
  },
  {
   "cell_type": "code",
   "execution_count": null,
   "metadata": {},
   "outputs": [],
   "source": []
  }
 ],
 "metadata": {
  "kernelspec": {
   "display_name": "Python 3",
   "language": "python",
   "name": "python3"
  },
  "language_info": {
   "codemirror_mode": {
    "name": "ipython",
    "version": 3
   },
   "file_extension": ".py",
   "mimetype": "text/x-python",
   "name": "python",
   "nbconvert_exporter": "python",
   "pygments_lexer": "ipython3",
   "version": "3.8.5"
  }
 },
 "nbformat": 4,
 "nbformat_minor": 2
}
