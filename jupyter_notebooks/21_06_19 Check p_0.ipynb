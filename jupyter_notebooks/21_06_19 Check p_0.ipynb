{
 "cells": [
  {
   "cell_type": "markdown",
   "metadata": {},
   "source": [
    "# Check p=0\n",
    "\n",
    "TJ Kim\n",
    "\n",
    "6.19.21\n",
    "\n",
    "### Objective:\n",
    "- Check p=0 case for offloading decisions, the distance x load should be equivalent for everybody.\n",
    "- Is there a rounding error?\n"
   ]
  },
  {
   "cell_type": "code",
   "execution_count": 1,
   "metadata": {},
   "outputs": [
    {
     "name": "stdout",
     "output_type": "stream",
     "text": [
      "/home/tkim/Academics/DistMEC\n"
     ]
    }
   ],
   "source": [
    "cd /home/tkim/Academics/DistMEC"
   ]
  },
  {
   "cell_type": "code",
   "execution_count": 2,
   "metadata": {},
   "outputs": [],
   "source": [
    "import numpy as np\n",
    "import math\n",
    "import copy\n",
    "import itertools\n",
    "\n",
    "from classes.Application import *\n",
    "from classes.User import *\n",
    "from classes.Server import *\n",
    "from solver.Sim_Params import *\n",
    "from classes.Central_Controller import *\n",
    "from classes.Container import *\n",
    "from solver.run_sim_temp import *"
   ]
  },
  {
   "cell_type": "code",
   "execution_count": 35,
   "metadata": {},
   "outputs": [],
   "source": [
    "sim_param = Sim_Params(big_ts=5, small_ts=5, x_length=5, y_length=5, num_users=20, num_servers=10, num_apps=5)\n",
    "sim_param.dist_p = 0\n",
    "sim_param.deploy_rounds = 8\n",
    "sim_param.app_mode = \"uniform\"\n",
    "servers, users, containers, apps = setup_sim(sim_param)"
   ]
  },
  {
   "cell_type": "code",
   "execution_count": 95,
   "metadata": {},
   "outputs": [],
   "source": [
    "sim_param.dist_n = 0.01\n",
    "sim_param.dist_p = 1\n",
    "sim_param.app_mode = \"dist\"\n",
    "# Loop through big time step\n",
    "cc = Central_Controller(servers, containers, sim_param, apps, users)\n",
    "cc.mode = sim_param.cc_mode\n",
    "cc_deployment_history = {}\n",
    "cc_util_history = {}\n",
    "\n",
    "# Clear container memory\n",
    "for c_key in containers.keys():\n",
    "    containers[c_key].flush_queue()\n",
    "    containers[c_key].reset_history()\n",
    "\n",
    "for bt in range(sim_param.big_ts):\n",
    "\n",
    "    # Deploy the containers to the servers\n",
    "    cc.big_ts = bt\n",
    "    cc.VM_placement(users,apps,sim_param.deploy_rounds)\n",
    "    cc_deployment_history[bt] = cc.container_deployed\n",
    "    _,_,_,temp_util_hist = cc.compute_container_utility(cc.container_deployed,users,apps,sim_param.app_mode)\n",
    "    cc_util_history[bt] = np.sum(np.sum(temp_util_hist,axis=1))\n",
    "    \n",
    "    # Reset containers to rid of queues\n",
    "    for c_key in containers.keys():\n",
    "        containers[c_key].flush_queue()\n",
    "\n",
    "    # For each small time step offload and serve at container\n",
    "    for st in range(sim_param.small_ts):\n",
    "        # random order between users when offloading for each app\n",
    "        cc.small_ts = st\n",
    "        usr_order = np.arange(len(users))\n",
    "        np.random.shuffle(usr_order)\n",
    "\n",
    "        temp_containers = {}\n",
    "        queue_replies = {}\n",
    "\n",
    "        # Make offloading decision\n",
    "        for u in usr_order:\n",
    "            # Generate load\n",
    "            # apps[u].new_load(ts_big=bt,ts_small=st)\n",
    "            # Decide to offload given servers --> add offload policy to app class\n",
    "            offload_u = apps[u].offload(cc.container_deployed, bt, st, cc)\n",
    "            for (s,a) in offload_u.keys():\n",
    "                if (s,a) not in temp_containers:\n",
    "                    temp_containers[(s,a)] = np.empty([0,4])\n",
    "                temp_containers[(s,a)] = np.append(temp_containers[(s,a)],offload_u[(s,a)],axis=0)\n",
    "\n",
    "        # Scramble arrived job and add to queue, apps record latency\n",
    "        for (s,a) in temp_containers.keys():\n",
    "            sa_offload = temp_containers[(s,a)]\n",
    "            np.random.shuffle(sa_offload) \n",
    "            replies = containers[(s,a)].add_to_queue(sa_offload)\n",
    "            # print(containers[(s,a)].queue)\n",
    "            queue_replies[(s,a)] = replies\n",
    "\n",
    "            for i in range(replies.shape[0]):\n",
    "                # Add distance between app and server\n",
    "                a_id, reply_len, load = int(replies[i,0]), replies[i,2], replies[i,1]\n",
    "                dist = cc.server_dists[int(users[a_id].user_voronoi_true[bt]),s]\n",
    "                apps[a_id].record_queue_length(reply_len, s, bt, st, load, dist)\n",
    "\n",
    "            # Service the queue\n",
    "            containers[(s,a)].serve_ts()"
   ]
  },
  {
   "cell_type": "code",
   "execution_count": 96,
   "metadata": {},
   "outputs": [
    {
     "data": {
      "text/plain": [
       "{0: array([[1., 0., 0., 0., 1., 1., 1., 1., 1., 0.],\n",
       "        [1., 1., 1., 0., 0., 0., 0., 0., 0., 1.],\n",
       "        [0., 1., 1., 1., 1., 1., 1., 0., 0., 1.],\n",
       "        [0., 0., 0., 1., 0., 0., 0., 1., 0., 0.],\n",
       "        [0., 0., 0., 0., 0., 0., 0., 0., 1., 0.]]),\n",
       " 1: array([[0., 0., 1., 1., 0., 0., 0., 1., 0., 0.],\n",
       "        [1., 1., 1., 0., 1., 1., 1., 0., 1., 0.],\n",
       "        [0., 0., 0., 0., 1., 1., 1., 0., 0., 1.],\n",
       "        [1., 1., 0., 1., 0., 0., 0., 1., 0., 1.],\n",
       "        [0., 0., 0., 0., 0., 0., 0., 0., 1., 0.]]),\n",
       " 2: array([[1., 0., 0., 1., 0., 0., 0., 1., 1., 0.],\n",
       "        [1., 1., 1., 0., 1., 1., 1., 0., 0., 1.],\n",
       "        [0., 1., 1., 1., 1., 1., 1., 0., 0., 1.],\n",
       "        [0., 0., 0., 0., 0., 0., 0., 1., 0., 0.],\n",
       "        [0., 0., 0., 0., 0., 0., 0., 0., 1., 0.]]),\n",
       " 3: array([[0., 0., 0., 1., 1., 0., 0., 1., 1., 0.],\n",
       "        [1., 1., 1., 0., 0., 0., 1., 0., 0., 0.],\n",
       "        [0., 1., 1., 1., 1., 1., 1., 0., 1., 1.],\n",
       "        [0., 0., 0., 0., 0., 1., 0., 1., 0., 0.],\n",
       "        [1., 0., 0., 0., 0., 0., 0., 0., 0., 1.]]),\n",
       " 4: array([[1., 1., 0., 1., 0., 1., 1., 1., 1., 0.],\n",
       "        [1., 1., 1., 0., 1., 1., 1., 0., 0., 1.],\n",
       "        [0., 0., 0., 0., 1., 0., 0., 0., 0., 0.],\n",
       "        [0., 0., 0., 1., 0., 0., 0., 1., 1., 0.],\n",
       "        [0., 0., 1., 0., 0., 0., 0., 0., 0., 1.]])}"
      ]
     },
     "execution_count": 96,
     "metadata": {},
     "output_type": "execute_result"
    }
   ],
   "source": [
    "cc_deployment_history"
   ]
  },
  {
   "cell_type": "code",
   "execution_count": 97,
   "metadata": {},
   "outputs": [
    {
     "data": {
      "text/plain": [
       "{0: -21.265721166505713,\n",
       " 1: -19.15688248986399,\n",
       " 2: -22.22031641408463,\n",
       " 3: -21.095710875833664,\n",
       " 4: -23.15523574064467}"
      ]
     },
     "execution_count": 97,
     "metadata": {},
     "output_type": "execute_result"
    }
   ],
   "source": [
    "cc_util_history"
   ]
  },
  {
   "cell_type": "code",
   "execution_count": 93,
   "metadata": {},
   "outputs": [
    {
     "data": {
      "text/plain": [
       "{0: array([[1., 0., 0., 0., 0., 0., 0., 1., 0., 0.],\n",
       "        [1., 1., 1., 1., 1., 1., 1., 1., 1., 1.],\n",
       "        [0., 1., 0., 1., 1., 1., 1., 0., 0., 1.],\n",
       "        [0., 0., 1., 0., 0., 0., 0., 0., 0., 0.],\n",
       "        [0., 0., 0., 0., 0., 0., 0., 0., 1., 0.]]),\n",
       " 1: array([[1., 0., 1., 1., 1., 1., 1., 1., 1., 1.],\n",
       "        [0., 1., 0., 0., 0., 0., 0., 1., 0., 0.],\n",
       "        [0., 1., 1., 1., 1., 1., 1., 0., 0., 1.],\n",
       "        [1., 0., 0., 0., 0., 0., 0., 0., 0., 0.],\n",
       "        [0., 0., 0., 0., 0., 0., 0., 0., 1., 0.]]),\n",
       " 2: array([[1., 0., 1., 1., 1., 1., 1., 1., 1., 1.],\n",
       "        [0., 1., 0., 0., 0., 0., 0., 0., 0., 0.],\n",
       "        [0., 1., 1., 1., 1., 1., 1., 1., 0., 1.],\n",
       "        [1., 0., 0., 0., 0., 0., 0., 0., 0., 0.],\n",
       "        [0., 0., 0., 0., 0., 0., 0., 0., 1., 0.]]),\n",
       " 3: array([[1., 0., 1., 1., 1., 1., 0., 1., 1., 1.],\n",
       "        [0., 1., 0., 0., 0., 0., 0., 0., 0., 0.],\n",
       "        [1., 1., 1., 1., 1., 1., 1., 0., 1., 1.],\n",
       "        [0., 0., 0., 0., 0., 0., 1., 0., 0., 0.],\n",
       "        [0., 0., 0., 0., 0., 0., 0., 1., 0., 0.]]),\n",
       " 4: array([[1., 1., 1., 1., 1., 1., 1., 1., 0., 1.],\n",
       "        [0., 0., 0., 0., 0., 0., 0., 0., 1., 0.],\n",
       "        [1., 1., 1., 1., 1., 1., 1., 0., 0., 1.],\n",
       "        [0., 0., 0., 0., 0., 0., 0., 0., 1., 0.],\n",
       "        [0., 0., 0., 0., 0., 0., 0., 1., 0., 0.]])}"
      ]
     },
     "execution_count": 93,
     "metadata": {},
     "output_type": "execute_result"
    }
   ],
   "source": [
    "cc_deployment_history"
   ]
  },
  {
   "cell_type": "code",
   "execution_count": 94,
   "metadata": {},
   "outputs": [
    {
     "data": {
      "text/plain": [
       "{0: -39.24585005981713,\n",
       " 1: -39.90883283425103,\n",
       " 2: -40.10082301337313,\n",
       " 3: -43.47241571803089,\n",
       " 4: -42.4124462641332}"
      ]
     },
     "execution_count": 94,
     "metadata": {},
     "output_type": "execute_result"
    }
   ],
   "source": [
    "cc_util_history"
   ]
  },
  {
   "cell_type": "code",
   "execution_count": null,
   "metadata": {},
   "outputs": [],
   "source": []
  }
 ],
 "metadata": {
  "kernelspec": {
   "display_name": "Python 3",
   "language": "python",
   "name": "python3"
  },
  "language_info": {
   "codemirror_mode": {
    "name": "ipython",
    "version": 3
   },
   "file_extension": ".py",
   "mimetype": "text/x-python",
   "name": "python",
   "nbconvert_exporter": "python",
   "pygments_lexer": "ipython3",
   "version": "3.8.8"
  }
 },
 "nbformat": 4,
 "nbformat_minor": 2
}
