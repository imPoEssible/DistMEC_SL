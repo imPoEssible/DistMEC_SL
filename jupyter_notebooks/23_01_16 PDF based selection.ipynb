{
 "cells": [
  {
   "cell_type": "markdown",
   "metadata": {},
   "source": [
    "# PDF Arm Selection Demo\n",
    "\n",
    "Service rate is drawn from exponential distribution at each server.\n",
    "Each user has a random load, while distribution of total load at each server is empirically estimated from initial random offloadings.\n",
    "\n",
    "PDF has been found separately that measures probability of a single user obtaining reward (fast enough service) given distribution of service rate at each server and estimated distribution of all other user's offload."
   ]
  },
  {
   "cell_type": "code",
   "execution_count": 1,
   "metadata": {},
   "outputs": [
    {
     "name": "stdout",
     "output_type": "stream",
     "text": [
      "/home/tkim/Academics/DistMEC\n"
     ]
    }
   ],
   "source": [
    "cd /home/tkim/Academics/DistMEC/"
   ]
  },
  {
   "cell_type": "code",
   "execution_count": 30,
   "metadata": {},
   "outputs": [],
   "source": [
    "import numpy as np\n",
    "import matplotlib.pyplot as plt\n",
    "\n",
    "from tqdm import tqdm, tqdm_notebook\n",
    "from time import sleep\n",
    "import pickle\n",
    "import os\n",
    "import numpy as np\n",
    "\n",
    "from sklearn.neighbors import KernelDensity\n",
    "from scipy.stats import norm"
   ]
  },
  {
   "cell_type": "code",
   "execution_count": 135,
   "metadata": {},
   "outputs": [],
   "source": [
    "# Server Class\n",
    "class Server():\n",
    "    def __init__(self, rate, s_idx):\n",
    "        self.rate = rate\n",
    "        self.s_idx = s_idx\n",
    "        \n",
    "        self.load_history = []\n",
    "        self.num_offloader_history = []\n",
    "        \n",
    "    def receive_users(self, loads_list):\n",
    "        load = np.sum(loads_list)\n",
    "        rate = np.random.exponential(self.rate)\n",
    "        latency = load/rate\n",
    "        \n",
    "        self.load_history += [load]\n",
    "        self.num_offloader_history += [len(loads_list)]\n",
    "        return latency\n",
    "        \n",
    "# User Class - Receive Reward + Arm Selection\n",
    "class User():\n",
    "\n",
    "    def __init__(self, load, latency_threshold, num_servers,T):\n",
    "        self.load = load\n",
    "        self.latency_threshold = latency_threshold\n",
    "        self.pulls, self.means, self.ucb_idx = np.zeros(num_servers), np.zeros(num_servers), np.zeros(num_servers)\n",
    "        self.t = int(0)\n",
    "        self.reward_log = np.zeros(T)\n",
    "        self.arm_history = np.zeros(T)\n",
    "        self.num_servers = num_servers\n",
    "        \n",
    "    def select_arm_random(self):\n",
    "        arm_id = np.random.choice(range(self.num_servers))\n",
    "        self.arm_history[self.t] = int(arm_id)\n",
    "        \n",
    "        return arm_id\n",
    "    \n",
    "    def select_arm_dist(self, server_dists, server_rates): # Assuming linear, dists takes Vs value\n",
    "        \n",
    "        prob_lists = np.zeros(self.num_servers)\n",
    "        \n",
    "        lat = self.latency_threshold\n",
    "        for i in range(self.num_servers):\n",
    "            L = server_dists[i]\n",
    "            C = server_rates[i]\n",
    "            prob_lists[i] = lat * (np.exp(-self.load * C/lat) - np.exp(-(self.load + L) * C/lat))/ (C * L)\n",
    "            \n",
    "        arm_id = np.random.choice(np.flatnonzero(prob_lists == prob_lists.max()))\n",
    "        self.arm_history[self.t] = int(arm_id)\n",
    "        return arm_id\n",
    "\n",
    "    \n",
    "    def log_reward(self, latency):\n",
    "        \n",
    "        curr_reward = 0\n",
    "        if latency < self.latency_threshold:\n",
    "            curr_reward = 1\n",
    "\n",
    "        self.reward_log[self.t] = curr_reward\n",
    "        arm_id = int(self.arm_history[self.t])\n",
    "       \n",
    "\n",
    "        self.pulls[arm_id] += 1\n",
    "        self.t += int(1)\n",
    "        \n",
    "        return curr_reward\n",
    "    \n",
    "def init_offload_dict(num_svrs):\n",
    "    offload_dict = {}\n",
    "    for i in range(num_svrs):\n",
    "        offload_dict[i] = []\n",
    "    return offload_dict\n",
    "\n"
   ]
  },
  {
   "cell_type": "markdown",
   "metadata": {},
   "source": [
    "### Exp 1: Obtain estimates of load at each server given random offloading"
   ]
  },
  {
   "cell_type": "code",
   "execution_count": 210,
   "metadata": {},
   "outputs": [],
   "source": [
    "# System Parameters\n",
    "T = 10000\n",
    "num_users = 5\n",
    "num_svrs = 5\n",
    "\n",
    "# Set user load and latency times\n",
    "thresh_u = np.random.uniform(1,2,num_users)\n",
    "load_u = np.random.uniform(0.5,1,num_users)\n",
    "svr_rate = np.random.uniform(0.9,2, num_svrs)\n",
    "\n",
    "# thresh_u = np.random.uniform(1,1,num_users)\n",
    "# load_u = np.random.uniform(0.5,1,num_users)\n",
    "# svr_rate = np.random.uniform(1,1, num_svrs)\n",
    "\n",
    "# Set up system\n",
    "# Make servers and users\n",
    "Servers = []\n",
    "Users = []\n",
    "\n",
    "for s in range(num_svrs):\n",
    "    Servers += [Server(svr_rate[s],s)]\n",
    "    \n",
    "for u in range(num_users):\n",
    "    Users += [User(load_u[u],thresh_u[u],num_svrs,T)]\n",
    "\n",
    "    \n",
    "rewards = np.zeros(T)\n",
    "\n",
    "# Run Bandits\n",
    "for t in range(T):\n",
    "    \n",
    "    # Users select arms\n",
    "    offload_dict = init_offload_dict(num_svrs)\n",
    "    load_dict = init_offload_dict(num_svrs)\n",
    "    for u in range(num_users):\n",
    "        arm = Users[u].select_arm_random()\n",
    "        load = Users[u].load\n",
    "        \n",
    "        offload_dict[arm] += [u]\n",
    "        load_dict[arm] += [load]\n",
    "        \n",
    "    # Offload to servers and get latency\n",
    "    lat_vals = np.zeros(num_users)\n",
    "    for s in range(num_svrs):\n",
    "        lat = Servers[s].receive_users(load_dict[s])\n",
    "        for u in offload_dict[s]:\n",
    "            reward = Users[u].log_reward(lat)    \n",
    "    \n",
    "            rewards[t] += reward"
   ]
  },
  {
   "cell_type": "code",
   "execution_count": 195,
   "metadata": {},
   "outputs": [
    {
     "name": "stdout",
     "output_type": "stream",
     "text": [
      "0.6406693015262169\n",
      "0.6391964298690079\n",
      "0.6460857156383513\n",
      "0.6474907306356962\n",
      "0.6488961191034552\n"
     ]
    }
   ],
   "source": [
    "mean_val = []\n",
    "\n",
    "for s in Servers:\n",
    "    print(np.mean(s.load_history))\n",
    "    mean_val += [np.mean(s.load_history)]"
   ]
  },
  {
   "cell_type": "markdown",
   "metadata": {},
   "source": [
    "Plot pdf of Kernal density estimates against exponential and linear distribution given same mean."
   ]
  },
  {
   "cell_type": "code",
   "execution_count": 146,
   "metadata": {},
   "outputs": [
    {
     "data": {
      "image/png": "[encoded data removed]",
      "text/plain": [
       "<Figure size 432x288 with 1 Axes>"
      ]
     },
     "metadata": {
      "needs_background": "light"
     },
     "output_type": "display_data"
    }
   ],
   "source": [
    "s_idx = 1\n",
    "N = T\n",
    "X = np.array(Servers[s_idx].load_history)\n",
    "X = X[..., np.newaxis]\n",
    "\n",
    "X_plot = np.linspace(0, np.max(X) * 1.3, 50)[:, np.newaxis]\n",
    "bins = np.linspace(0, np.max(X), 100)\n",
    "\n",
    "true_dens = 0.3 * norm(0, 1).pdf(X_plot[:, 0]) + 0.7 * norm(5, 1).pdf(X_plot[:, 0])\n",
    "\n",
    "fig, ax = plt.subplots()\n",
    "# ax.fill(X_plot[:, 0], true_dens, fc=\"black\", alpha=0.2, label=\"input distribution\")\n",
    "colors = [\"navy\", \"cornflowerblue\", \"darkorange\"]\n",
    "kernels = [\"gaussian\", \"tophat\", \"epanechnikov\"]\n",
    "lw = 2\n",
    "\n",
    "for color, kernel in zip(colors, kernels):\n",
    "    kde = KernelDensity(kernel=kernel, bandwidth=0.5).fit(X)\n",
    "    log_dens = kde.score_samples(X_plot)\n",
    "    ax.plot(\n",
    "        X_plot[:, 0],\n",
    "        np.exp(log_dens),\n",
    "        color=color,\n",
    "        lw=lw,\n",
    "        linestyle=\"-\",\n",
    "        label=\"kernel = '{0}'\".format(kernel),\n",
    "    )\n",
    "\n",
    "    \n",
    "# Plot exponential distribution estimate with mean\n",
    "exp_mean = 1/mean_val[s_idx]\n",
    "# exp_mean = 0.6\n",
    "exp_dist = exp_mean * np.exp(-exp_mean * X_plot)\n",
    "ax.plot(X_plot, exp_dist, label='exp', color='r')\n",
    "\n",
    "# Plot uniform distribution estimate\n",
    "u_h = 1/(2*mean_val[s_idx])\n",
    "lin_dist = np.ones(X_plot.shape) * u_h\n",
    "lin_dist[X_plot > 2*mean_val[s_idx]] = 0\n",
    "ax.plot(X_plot, lin_dist, label='lin', color='y')\n",
    "\n",
    "    \n",
    "ax.text(6, 0.38, \"N={0} points\".format(N))\n",
    "\n",
    "ax.legend(loc=\"upper right\")\n",
    "ax.plot(X[:, 0], 0.005 - 0.01 * np.random.random(X.shape[0]), \"+k\")\n",
    "\n",
    "ax.set_xlim(-1, 5)\n",
    "ax.set_ylim(-0.05, 1.4)\n",
    "plt.show()"
   ]
  },
  {
   "cell_type": "markdown",
   "metadata": {},
   "source": [
    "### Exp 2: Single User Utilizing Intelligent Policy\n",
    "\n",
    "We add one more user to an equivalent system with 2 different policies:\n",
    "1. random arm selection, equivalent to all other users\n",
    "2. Probabilistic preferred arm selection -- where arm with highest probability of reward is consistently selected."
   ]
  },
  {
   "cell_type": "code",
   "execution_count": 211,
   "metadata": {},
   "outputs": [],
   "source": [
    "# System Parameters\n",
    "T = 10000\n",
    "num_users = 6\n",
    "num_svrs = 5\n",
    "\n",
    "# thresh_u = np.random.uniform(1,1,num_users)\n",
    "# load_u = np.random.uniform(0.5,1,num_users)\n",
    "# svr_rate = np.random.uniform(1,1, num_svrs)\n",
    "\n",
    "thresh_u2 = np.append(thresh_u, np.random.uniform(1,2,1))\n",
    "load_u2 = np.append(load_u, np.random.uniform(0.5,1,1))\n"
   ]
  },
  {
   "cell_type": "code",
   "execution_count": 212,
   "metadata": {},
   "outputs": [],
   "source": [
    "# Case 1 - Random User\n",
    "\n",
    "# Make servers and users\n",
    "Servers = []\n",
    "Users = []\n",
    "\n",
    "for s in range(num_svrs):\n",
    "    Servers += [Server(svr_rate[s],s)]\n",
    "    \n",
    "for u in range(num_users):\n",
    "    Users += [User(load_u2[u],thresh_u2[u],num_svrs,T)]\n",
    "\n",
    "rewards = np.zeros(T)\n",
    "\n",
    "# Run Bandits\n",
    "for t in range(T):\n",
    "    \n",
    "    # Users select arms\n",
    "    offload_dict = init_offload_dict(num_svrs)\n",
    "    load_dict = init_offload_dict(num_svrs)\n",
    "    for u in range(num_users):\n",
    "        arm = Users[u].select_arm_random()\n",
    "        load = Users[u].load\n",
    "        \n",
    "        offload_dict[arm] += [u]\n",
    "        load_dict[arm] += [load]\n",
    "    \n",
    "    \n",
    "        \n",
    "    # Offload to servers and get latency\n",
    "    lat_vals = np.zeros(num_users)\n",
    "    for s in range(num_svrs):\n",
    "        lat = Servers[s].receive_users(load_dict[s])\n",
    "        for u in offload_dict[s]:\n",
    "            reward = Users[u].log_reward(lat)    \n",
    "    \n",
    "            rewards[t] += reward"
   ]
  },
  {
   "cell_type": "code",
   "execution_count": 213,
   "metadata": {},
   "outputs": [
    {
     "data": {
      "text/plain": [
       "0.4674"
      ]
     },
     "execution_count": 213,
     "metadata": {},
     "output_type": "execute_result"
    }
   ],
   "source": [
    "np.mean(Users[-1].reward_log)"
   ]
  },
  {
   "cell_type": "code",
   "execution_count": 214,
   "metadata": {},
   "outputs": [],
   "source": [
    "# Case 2 -\"Smart\" User\n",
    "\n",
    "server_dists = np.array(mean_val) * 2\n",
    "server_rates = 1/ svr_rate\n",
    "\n",
    "# Make servers and users\n",
    "Servers = []\n",
    "Users = []\n",
    "\n",
    "for s in range(num_svrs):\n",
    "    Servers += [Server(svr_rate[s],s)]\n",
    "    \n",
    "for u in range(num_users):\n",
    "    Users += [User(load_u2[u],thresh_u2[u],num_svrs,T)]\n",
    "\n",
    "rewards = np.zeros(T)\n",
    "\n",
    "# Run Bandits\n",
    "for t in range(T):\n",
    "    \n",
    "    # Users select arms\n",
    "    offload_dict = init_offload_dict(num_svrs)\n",
    "    load_dict = init_offload_dict(num_svrs)\n",
    "    for u in range(num_users):\n",
    "        if u < num_users-1:\n",
    "            arm = Users[u].select_arm_random()\n",
    "        else:\n",
    "            arm = Users[u].select_arm_dist(server_dists, server_rates)\n",
    "        load = Users[u].load\n",
    "        \n",
    "        offload_dict[arm] += [u]\n",
    "        load_dict[arm] += [load]\n",
    "    \n",
    "    # Offload to servers and get latency\n",
    "    lat_vals = np.zeros(num_users)\n",
    "    for s in range(num_svrs):\n",
    "        lat = Servers[s].receive_users(load_dict[s])\n",
    "        for u in offload_dict[s]:\n",
    "            reward = Users[u].log_reward(lat)    \n",
    "    \n",
    "            rewards[t] += reward"
   ]
  },
  {
   "cell_type": "code",
   "execution_count": 215,
   "metadata": {},
   "outputs": [
    {
     "data": {
      "text/plain": [
       "0.5083"
      ]
     },
     "execution_count": 215,
     "metadata": {},
     "output_type": "execute_result"
    }
   ],
   "source": [
    "np.mean(Users[-1].reward_log)"
   ]
  },
  {
   "cell_type": "raw",
   "metadata": {},
   "source": [
    "random => [0.5195,0.4502,0.4114,0.4856,0.4674]\n",
    "probab => [0.5462,0.5485,0.5125,0.5777,0.5083]"
   ]
  }
 ],
 "metadata": {
  "kernelspec": {
   "display_name": "Python 3",
   "language": "python",
   "name": "python3"
  },
  "language_info": {
   "codemirror_mode": {
    "name": "ipython",
    "version": 3
   },
   "file_extension": ".py",
   "mimetype": "text/x-python",
   "name": "python",
   "nbconvert_exporter": "python",
   "pygments_lexer": "ipython3",
   "version": "3.7.0"
  }
 },
 "nbformat": 4,
 "nbformat_minor": 2
}
