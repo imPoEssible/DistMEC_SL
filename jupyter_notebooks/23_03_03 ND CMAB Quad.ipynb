{
 "cells": [
  {
   "cell_type": "code",
   "execution_count": 8,
   "metadata": {},
   "outputs": [],
   "source": [
    "import numpy as np\n",
    "import matplotlib.pyplot as plt\n",
    "\n",
    "import pulp as lp\n",
    "import itertools\n",
    "import copy\n",
    "from tqdm import tqdm, tqdm_notebook\n",
    "import gurobipy as gp"
   ]
  },
  {
   "cell_type": "code",
   "execution_count": 39,
   "metadata": {},
   "outputs": [],
   "source": [
    "def solve_optimization(UCB, C, L):\n",
    "    U = UCB.shape[0]\n",
    "    K = UCB.shape[1]\n",
    "    \n",
    "    m = gp.Model()\n",
    "    \n",
    "    x = m.addVars(U, K, vtype=gp.GRB.BINARY, name=\"x\")\n",
    "    y = m.addVars(U, K, name=\"y\")\n",
    "    \n",
    "    # Define the objective function\n",
    "    obj = gp.quicksum(x[u,k] * y[u,k] * UCB[u,k] for u in range(U) for k in range(K))\n",
    "    m.setObjective(obj, gp.GRB.MAXIMIZE)\n",
    "    \n",
    "    for u in range(U):\n",
    "        m.addConstr(gp.quicksum(x[u,k] for k in range(K)) <= 1)\n",
    "        for k in range(K):\n",
    "            m.addConstr(y[u,k] <= 1)\n",
    "            m.addConstr(y[u,k] * (gp.quicksum(x[p,k] for p in range(U))) <= C[k]) # Adding small constant to avoid division by zero error\n",
    "            m.addConstr(x[u,k] <= L[u,k])\n",
    "        \n",
    "    m.optimize()\n",
    "\n",
    "    # Print the status of the solution\n",
    "    print(\"Status:\", m.status)\n",
    "\n",
    "    # Print the optimal value of the objective function\n",
    "    print(\"Optimal Value:\", m.objVal)\n",
    "\n",
    "    # Print the optimal values of the decision variables\n",
    "    for v in m.getVars():\n",
    "        print(v.varName, \"=\", v.x)"
   ]
  },
  {
   "cell_type": "code",
   "execution_count": null,
   "metadata": {},
   "outputs": [],
   "source": []
  }
 ],
 "metadata": {
  "kernelspec": {
   "display_name": "Python 3",
   "language": "python",
   "name": "python3"
  },
  "language_info": {
   "codemirror_mode": {
    "name": "ipython",
    "version": 3
   },
   "file_extension": ".py",
   "mimetype": "text/x-python",
   "name": "python",
   "nbconvert_exporter": "python",
   "pygments_lexer": "ipython3",
   "version": "3.7.0"
  }
 },
 "nbformat": 4,
 "nbformat_minor": 2
}
