{
 "cells": [
  {
   "cell_type": "code",
   "execution_count": 40,
   "metadata": {},
   "outputs": [
    {
     "name": "stdout",
     "output_type": "stream",
     "text": [
      "/home/tkim/Academics/DistMEC\n"
     ]
    }
   ],
   "source": [
    "cd /home/tkim/Academics/DistMEC/"
   ]
  },
  {
   "cell_type": "code",
   "execution_count": 41,
   "metadata": {},
   "outputs": [],
   "source": [
    "import numpy as np\n",
    "import matplotlib.pyplot as plt\n",
    "\n",
    "import pulp as lp\n",
    "import itertools\n",
    "import copy\n",
    "from tqdm import tqdm, tqdm_notebook\n",
    "import gurobipy as gp"
   ]
  },
  {
   "cell_type": "code",
   "execution_count": 42,
   "metadata": {},
   "outputs": [],
   "source": [
    "def solve_optimization(UCB, C, L):\n",
    "    U = UCB.shape[0]\n",
    "    K = UCB.shape[1]\n",
    "    \n",
    "    m = gp.Model()\n",
    "    \n",
    "    x = m.addVars(U, K, vtype=gp.GRB.BINARY, name=\"x\")\n",
    "    y = m.addVars(U, K, name=\"y\")\n",
    "    \n",
    "    # Define the objective function\n",
    "    obj = gp.quicksum(x[u,k] * y[u,k] * UCB[u,k] for u in range(U) for k in range(K))\n",
    "    m.setObjective(obj, gp.GRB.MAXIMIZE)\n",
    "    \n",
    "    for u in range(U):\n",
    "        m.addConstr(gp.quicksum(x[u,k] for k in range(K)) <= 1)\n",
    "        for k in range(K):\n",
    "            m.addConstr(y[u,k] <= 1)\n",
    "            m.addConstr(y[u,k] * (gp.quicksum(x[p,k] for p in range(U))) <= C[k]) # Adding small constant to avoid division by zero error\n",
    "            m.addConstr(x[u,k] <= L[u,k])\n",
    "        \n",
    "    m.optimize()\n",
    "\n",
    "    # Print the status of the solution\n",
    "#     print(\"Status:\", m.status)\n",
    "\n",
    "    # Print the optimal value of the objective function\n",
    "#     print(\"Optimal Value:\", m.objVal)\n",
    "\n",
    "    # Print the optimal values of the decision variables\n",
    "    for v in m.getVars():\n",
    "        print(v.varName, \"=\", v.x)\n",
    "\n",
    "def "
   ]
  },
  {
   "cell_type": "code",
   "execution_count": 46,
   "metadata": {},
   "outputs": [],
   "source": [
    "# Setting up CMAB implementation\n",
    "U = 10 # Number users\n",
    "K = 10 # Number servers\n",
    "T = 10000\n",
    "mu = np.random.uniform(low=0.0, high=1.0, size=[U,K])\n",
    "\n",
    "UCB = np.ones_like(mu)\n",
    "T_ka = np.ones_like(mu)\n",
    "rewards_sum = np.zeros([U,K]) # Just for calculating UCB idx\n",
    "regret = np.zeros(T)\n",
    "\n",
    "for t in range(T):\n",
    "    rho_ka = np.sqrt(3*np.log(t+1)/(2*T_ka))\n",
    "    mu_bar = np.minimum(mu_hat + rho_ka, 1) # UCB\n",
    "    a, _ = oracle(mu_bar, Q)\n",
    "    r = 0\n",
    "    # calculate the expected reward of action a\n",
    "    for i in range(a.shape[0]):\n",
    "        if a[i] != 0:\n",
    "            j = a[i] - 1\n",
    "            r += mu[i,j]\n",
    "            T_ka[i, j] += 1\n",
    "            X_k = int(np.random.rand() < mu[i, j])\n",
    "            mu_hat[i, j] += (X_k - mu_hat[i, j]) / T_ka[i, j]\n",
    "    # calculate regert\n",
    "    reg[t] = r_opt - r\n",
    "\n",
    "# plot cumulative regert    \n",
    "plt.plot(np.cumsum(reg))"
   ]
  },
  {
   "cell_type": "code",
   "execution_count": null,
   "metadata": {},
   "outputs": [],
   "source": []
  }
 ],
 "metadata": {
  "kernelspec": {
   "display_name": "Python 3",
   "language": "python",
   "name": "python3"
  },
  "language_info": {
   "codemirror_mode": {
    "name": "ipython",
    "version": 3
   },
   "file_extension": ".py",
   "mimetype": "text/x-python",
   "name": "python",
   "nbconvert_exporter": "python",
   "pygments_lexer": "ipython3",
   "version": "3.7.0"
  }
 },
 "nbformat": 4,
 "nbformat_minor": 2
}
