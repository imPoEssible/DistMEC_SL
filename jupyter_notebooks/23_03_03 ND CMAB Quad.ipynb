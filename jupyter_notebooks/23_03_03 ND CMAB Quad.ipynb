{
 "cells": [
  {
   "cell_type": "code",
   "execution_count": 1,
   "metadata": {},
   "outputs": [
    {
     "name": "stdout",
     "output_type": "stream",
     "text": [
      "/home/tkim/Academics/DistMEC\n"
     ]
    }
   ],
   "source": [
    "cd /home/tkim/Academics/DistMEC/"
   ]
  },
  {
   "cell_type": "code",
   "execution_count": 2,
   "metadata": {},
   "outputs": [],
   "source": [
    "import numpy as np\n",
    "import matplotlib.pyplot as plt\n",
    "\n",
    "import pulp as lp\n",
    "import itertools\n",
    "import copy\n",
    "from tqdm import tqdm, tqdm_notebook\n",
    "import gurobipy as gp"
   ]
  },
  {
   "cell_type": "code",
   "execution_count": 3,
   "metadata": {},
   "outputs": [],
   "source": [
    "def solve_optimization(UCB, C, L):\n",
    "    U = UCB.shape[0]\n",
    "    K = UCB.shape[1]\n",
    "    \n",
    "    m = gp.Model()\n",
    "    \n",
    "    x = m.addVars(U, K, vtype=gp.GRB.BINARY, name=\"x\")\n",
    "    y = m.addVars(U, K, name=\"y\")\n",
    "    \n",
    "    # Define the objective function\n",
    "    obj = gp.quicksum(x[u,k] * y[u,k] * UCB[u,k] for u in range(U) for k in range(K))\n",
    "    m.setObjective(obj, gp.GRB.MAXIMIZE)\n",
    "    \n",
    "    for u in range(U):\n",
    "        m.addConstr(gp.quicksum(x[u,k] for k in range(K)) <= 1)\n",
    "        for k in range(K):\n",
    "            m.addConstr(y[u,k] <= 1)\n",
    "            m.addConstr(y[u,k] * (gp.quicksum(x[p,k] for p in range(U))) <= C[k]) # Adding small constant to avoid division by zero error\n",
    "            m.addConstr(x[u,k] <= L[u,k])\n",
    "    \n",
    "    m.setParam(\"OutputFlag\", 0)\n",
    "    m.optimize()\n",
    "    \n",
    "    # Obtain Reward\n",
    "    obj_val = m.objVal\n",
    "    x_dec = np.array([[x[u,k].x for k in range(K)] for u in range(U)])\n",
    "    \n",
    "    del m, x, y, obj\n",
    "    return x_dec, obj_val\n",
    "\n",
    "def update_UCB(UCB, T_ka, rewards_sum, t):\n",
    "    \n",
    "    UCB_temp = np.zeros_like(UCB)\n",
    "    U = UCB.shape[0]\n",
    "    K = UCB.shape[1]\n",
    "    \n",
    "    mu_bar = np.zeros_like(UCB_temp)\n",
    "    \n",
    "    for u in range(U):\n",
    "        for k in range(K):\n",
    "            mu_bar[u,k] = rewards_sum[u,k] / T_ka[u,k]\n",
    "            UCB_temp[u,k] = mu_bar[u,k] + np.sqrt(2 * np.log(t) / T_ka[u,k])\n",
    "                \n",
    "    return UCB_temp, mu_bar\n",
    "\n",
    "def play_UCB(UCB, T_ka, rewards_sum, t, mu, x):\n",
    "    \n",
    "    U = UCB.shape[0]\n",
    "    K = UCB.shape[1]\n",
    "    \n",
    "    # Update arm pull counts & Draw Rewards for all users\n",
    "    for u in range(U):\n",
    "        for k in range(K):\n",
    "            T_ka[u,k] += x[u,k]\n",
    "            rewards_sum[u,k] += x[u,k] * int(np.random.rand() < mu[u, k])\n",
    "    \n",
    "    UCB_temp, mu_bar = update_UCB(UCB, T_ka, rewards_sum, t)\n",
    "    \n",
    "    return UCB_temp, T_ka, rewards_sum, mu_bar\n",
    "\n",
    "def update_L_random(U,K, num_select):\n",
    "    L = np.zeros([U,K])\n",
    "    for u in range(U):\n",
    "        idx = np.random.choice(range(K), size=num_select, replace=False, p=None)\n",
    "        for i in idx:\n",
    "            L[u,i] = 1\n",
    "    \n",
    "    return L\n",
    "\n",
    "def calculate_obj_val(x, B, C):\n",
    "    U, K = x.shape\n",
    "    obj_val = 0\n",
    "    for u in range(U):\n",
    "        for k in range(K):\n",
    "            denom = 1e-5\n",
    "            for u2 in range(U):\n",
    "                denom += x[u2,k]\n",
    "            obj_val += x[u,k] * B[u,k] * min(C[k]/denom, 1)\n",
    "    return obj_val"
   ]
  },
  {
   "cell_type": "code",
   "execution_count": 9,
   "metadata": {},
   "outputs": [
    {
     "name": "stderr",
     "output_type": "stream",
     "text": [
      "100%|██████████| 10000/10000 [06:44<00:00, 24.75it/s]\n"
     ]
    }
   ],
   "source": [
    "# Setting up CMAB implementation\n",
    "U = 10 # Number users\n",
    "K = 10 # Number servers\n",
    "T = 10000\n",
    "L_select = 5\n",
    "\n",
    "mu = np.random.uniform(low=0.0, high=1.0, size=[U,K])\n",
    "mu_bar = np.zeros_like(mu)\n",
    "C = np.random.randint(low = 1, high=3, size=K, dtype=int)\n",
    "\n",
    "UCB = np.ones_like(mu)\n",
    "T_ka = np.ones_like(mu)\n",
    "rewards_sum = np.ones([U,K]) # Just for calculating UCB idx\n",
    "regret = np.zeros(T)\n",
    "\n",
    "pbar = tqdm(total=T)\n",
    "\n",
    "for t in range(T):\n",
    "    # Obtain New Arm availability\n",
    "    L = update_L_random(U,K,num_select=L_select)\n",
    "    opt_x, opt_reward = solve_optimization(mu, C, L)\n",
    "    lrn_x, _ = solve_optimization(UCB, C, L)\n",
    "    lrn_reward = calculate_obj_val(lrn_x, mu, C)\n",
    "    \n",
    "    # calculate regert\n",
    "    regret[t] = opt_reward - lrn_reward\n",
    "    \n",
    "    # Update UCB Learning\n",
    "    UCB, T_ka, rewards_sum, mu_bar = play_UCB(UCB, T_ka, rewards_sum, t+1, mu, lrn_x)\n",
    "    pbar.update(1)\n",
    "\n",
    "# plot cumulative regert    \n",
    "pbar.close()"
   ]
  },
  {
   "cell_type": "code",
   "execution_count": 10,
   "metadata": {},
   "outputs": [
    {
     "data": {
      "text/plain": [
       "Text(0.5,0,'Rounds')"
      ]
     },
     "execution_count": 10,
     "metadata": {},
     "output_type": "execute_result"
    },
    {
     "data": {
      "image/png": "[encoded data removed]",
      "text/plain": [
       "<Figure size 432x288 with 1 Axes>"
      ]
     },
     "metadata": {
      "needs_background": "light"
     },
     "output_type": "display_data"
    }
   ],
   "source": [
    "plt.plot(np.cumsum(regret))\n",
    "plt.title(\"Cumulative Regret\")\n",
    "plt.xlabel(\"Rounds\")"
   ]
  },
  {
   "cell_type": "code",
   "execution_count": 14,
   "metadata": {},
   "outputs": [
    {
     "data": {
      "text/plain": [
       "Text(0.5,0,'Rounds')"
      ]
     },
     "execution_count": 14,
     "metadata": {},
     "output_type": "execute_result"
    },
    {
     "data": {
      "image/png": "[encoded data removed]",
      "text/plain": [
       "<Figure size 432x288 with 1 Axes>"
      ]
     },
     "metadata": {
      "needs_background": "light"
     },
     "output_type": "display_data"
    }
   ],
   "source": [
    "plt.plot(regret)\n",
    "plt.title(\"Per Round Regret\")\n",
    "plt.xlabel(\"Rounds\")"
   ]
  },
  {
   "cell_type": "code",
   "execution_count": null,
   "metadata": {},
   "outputs": [],
   "source": []
  }
 ],
 "metadata": {
  "kernelspec": {
   "display_name": "Python 3",
   "language": "python",
   "name": "python3"
  },
  "language_info": {
   "codemirror_mode": {
    "name": "ipython",
    "version": 3
   },
   "file_extension": ".py",
   "mimetype": "text/x-python",
   "name": "python",
   "nbconvert_exporter": "python",
   "pygments_lexer": "ipython3",
   "version": "3.7.0"
  }
 },
 "nbformat": 4,
 "nbformat_minor": 2
}
