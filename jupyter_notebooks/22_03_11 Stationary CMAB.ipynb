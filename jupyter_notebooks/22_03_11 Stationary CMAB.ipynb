{
 "cells": [
  {
   "cell_type": "code",
   "execution_count": 1,
   "metadata": {},
   "outputs": [],
   "source": [
    "import numpy as np\n",
    "import matplotlib.pyplot as plt\n",
    "\n",
    "import pulp as lp\n",
    "import itertools\n",
    "import copy"
   ]
  },
  {
   "cell_type": "code",
   "execution_count": 2,
   "metadata": {},
   "outputs": [],
   "source": [
    "# Offline optimal to calculate regret\n",
    "def offline_optimal_action(mu):\n",
    "    \n",
    "    action = np.ones_like(mu[:,0]) * -1\n",
    "    \n",
    "    C = np.append(mu,np.zeros([mu.shape[0],1]),axis=1)\n",
    "    \n",
    "    num_user = mu[:,0].shape[0]\n",
    "    num_server = mu[0,:].shape[0]\n",
    "    \n",
    "    prob = lp.LpProblem(\"prob\",lp.LpMaximize)\n",
    "    \n",
    "    # Import pulp and make decision variables\n",
    "    dec_var = []\n",
    "    for u,s in itertools.product(range(num_user),range(num_server+1)):\n",
    "        dec_var += [(u,s-1)]\n",
    "\n",
    "    X = lp.LpVariable.dicts(\"x\", dec_var,lowBound=0,upBound = 1, cat='Integer')\n",
    "\n",
    "    # Make Constraints - 1 pull per user\n",
    "    usr_constraint = []\n",
    "    for u in range(num_user):\n",
    "        usr_constraint += [0]\n",
    "\n",
    "    for u,s in itertools.product(range(num_user),range(num_server+1)):\n",
    "        usr_constraint[u] += X[(u,s-1)]\n",
    "\n",
    "    for u in range(num_user):\n",
    "        prob += (usr_constraint[u] == 1)\n",
    "\n",
    "    # Make constraint - 1 user per server\n",
    "    svr_constraint = []\n",
    "\n",
    "    for s in range(num_server):\n",
    "        svr_constraint += [0]\n",
    "\n",
    "    for u,s in itertools.product(range(num_user),range(num_server)):\n",
    "        svr_constraint[s] += X[(u,s)]\n",
    "\n",
    "    for s in range(num_server):\n",
    "        prob += (svr_constraint[s] <= 1)\n",
    "\n",
    "    # Make objective function\n",
    "    obj = 0\n",
    "    for u,s in itertools.product(range(num_user),range(num_server+1)):\n",
    "        obj += C[u,s-1] * X[(u,s-1)]\n",
    "    prob += obj\n",
    "\n",
    "    status = prob.solve(lp.PULP_CBC_CMD(msg=0))\n",
    "    \n",
    "    X2 = copy.deepcopy(X)\n",
    "\n",
    "    for key in X2.keys():\n",
    "        if X2[key].value() > 0:\n",
    "            u,s = key\n",
    "            action[u] = s\n",
    "    \n",
    "    rwd = 0\n",
    "    \n",
    "    for u in range(num_user):\n",
    "        rwd += C[u,int(action[u])]\n",
    "        \n",
    "    new_action = []\n",
    "    for i in range(action.shape[0]):\n",
    "        new_action += [int(action[i])]\n",
    "    \n",
    "    return new_action, rwd\n",
    "\n",
    "def pull_super_arm(arms, mus, rewards_record, pulls_record ):\n",
    "    \"\"\"\n",
    "    arms - u x 1, vector, ith-element is user i, indicates which arm they will pull\n",
    "    return - rewards of each arm drawn from bernoulli distribution \n",
    "    \"\"\"\n",
    "    \n",
    "    for i in range(len(arms)): # looping through clients\n",
    "        n = 1\n",
    "        p = mus[i,arms[i]]\n",
    "        s = np.random.binomial(n, p, 1)\n",
    "        rewards_record[i,arms[i]] += [s]\n",
    "        pulls_record[i,arms[i]] += 1\n",
    "    return rewards_record, pulls_record\n",
    "    \n",
    "def update_ucb(reward_record, pulls_record, ucb, T, L=2):\n",
    "    \"\"\"\n",
    "    Update decision variables for next round\n",
    "    \"\"\"\n",
    "    \n",
    "    num_users, num_svrs = reward_record.shape[0], reward_record.shape[1]\n",
    "    for u in range(num_users):\n",
    "        for s in range(num_svrs):\n",
    "            if pulls_record[u,s] > 0:\n",
    "                mean = reward_record[u,s]/pulls_record[u,s]\n",
    "            else:\n",
    "                mean = 0\n",
    "            \n",
    "            cb = np.sqrt(L * np.log(T)/ pulls_record[u,s])\n",
    "            \n",
    "            ucb[u,s] = mean + cb\n",
    "    \n",
    "    return ucb\n",
    "\n",
    "    \n",
    "def sweep_init_next(lst, num_svrs):\n",
    "    for i in range(len(lst)):\n",
    "        lst[i] += 1\n",
    "        lst[i] = lst[i]%(num_svrs)\n",
    "    \n",
    "    return lst\n",
    "\n",
    "def expected_reward(arms, mus):\n",
    "    exp_mus = np.zeros(len(arms))\n",
    "    for i in range(len(arms)):\n",
    "        exp_mus[i] = mus[i, arms[i]]\n",
    "        \n",
    "    return np.sum(exp_mus)"
   ]
  },
  {
   "cell_type": "code",
   "execution_count": 9,
   "metadata": {},
   "outputs": [],
   "source": [
    "# System Parameters\n",
    "T = 10000\n",
    "num_users = 10\n",
    "num_svrs = 15\n",
    "mu = np.random.uniform(low=0, high = 1, size = [num_users, num_svrs])\n",
    "\n",
    "# Recorded Values\n",
    "rewards_record = np.zeros([num_users,num_svrs])\n",
    "pulls_record = np.zeros([num_users,num_svrs])\n",
    "ucb = np.zeros([num_users,num_svrs])\n",
    "optimal = offline_optimal_action(mu)\n",
    "regret = np.zeros(T)"
   ]
  },
  {
   "cell_type": "code",
   "execution_count": 10,
   "metadata": {},
   "outputs": [],
   "source": [
    "# Initial Stages -- TS = servers, rotating \n",
    "arms = list(range(num_users)) \n",
    "for i in range(num_svrs):\n",
    "    rewards_record, pulls_record = pull_super_arm(arms,mu, rewards_record, pulls_record)\n",
    "    regret[i] = optimal[1] - expected_reward(arms, mu)\n",
    "    arms = sweep_init_next(arms, num_svrs)\n",
    "    \n",
    "for t in range(i+1, T):\n",
    "    ucb = update_ucb(rewards_record, pulls_record, ucb, i, 1)\n",
    "    arms = offline_optimal_action(ucb)[0]\n",
    "    rewards_record, pulls_record = pull_super_arm(arms, mu, rewards_record, pulls_record)\n",
    "    regret[t] = optimal[1] - expected_reward(arms, mu)"
   ]
  },
  {
   "cell_type": "code",
   "execution_count": 11,
   "metadata": {},
   "outputs": [
    {
     "data": {
      "text/plain": [
       "Text(0, 0.5, 'Regret')"
      ]
     },
     "execution_count": 11,
     "metadata": {},
     "output_type": "execute_result"
    },
    {
     "data": {
      "image/png": "[encoded data removed]",
      "text/plain": [
       "<Figure size 432x288 with 1 Axes>"
      ]
     },
     "metadata": {
      "needs_background": "light"
     },
     "output_type": "display_data"
    }
   ],
   "source": [
    "plt.plot(np.cumsum(regret))\n",
    "plt.title('Cumulative Regret CMAB')\n",
    "plt.xlabel('Rounds')\n",
    "plt.ylabel('Regret')"
   ]
  },
  {
   "cell_type": "code",
   "execution_count": 12,
   "metadata": {},
   "outputs": [
    {
     "data": {
      "text/plain": [
       "Text(0, 0.5, 'Regret')"
      ]
     },
     "execution_count": 12,
     "metadata": {},
     "output_type": "execute_result"
    },
    {
     "data": {
      "image/png": "[encoded data removed]",
      "text/plain": [
       "<Figure size 432x288 with 1 Axes>"
      ]
     },
     "metadata": {
      "needs_background": "light"
     },
     "output_type": "display_data"
    }
   ],
   "source": [
    "plt.plot(regret)\n",
    "plt.title('Per Round Regret CMAB')\n",
    "plt.xlabel('Rounds')\n",
    "plt.ylabel('Regret')"
   ]
  },
  {
   "cell_type": "code",
   "execution_count": 13,
   "metadata": {},
   "outputs": [
    {
     "data": {
      "text/plain": [
       "array([0.        , 0.        , 0.        , 0.        , 0.        ,\n",
       "       0.        , 0.        , 0.        , 0.        , 0.        ,\n",
       "       0.        , 0.        , 0.        , 0.        , 0.        ,\n",
       "       0.        , 0.        , 0.        , 0.        , 0.        ,\n",
       "       0.        , 0.        , 0.        , 0.        , 0.        ,\n",
       "       0.        , 0.        , 0.        , 0.        , 0.        ,\n",
       "       0.        , 0.        , 0.        , 0.        , 0.        ,\n",
       "       0.        , 0.        , 0.        , 0.        , 0.        ,\n",
       "       0.        , 0.        , 0.        , 0.        , 0.        ,\n",
       "       0.        , 0.        , 0.        , 0.        , 0.        ,\n",
       "       0.        , 0.        , 0.        , 0.        , 0.        ,\n",
       "       0.        , 0.        , 0.        , 0.        , 0.        ,\n",
       "       0.03854173, 0.        , 0.        , 0.        , 0.        ,\n",
       "       0.        , 0.06190487, 0.        , 0.        , 0.06190487,\n",
       "       0.        , 0.        , 0.        , 0.        , 0.06190487,\n",
       "       0.        , 0.        , 0.        , 0.        , 0.        ,\n",
       "       0.        , 0.        , 0.        , 0.        , 0.        ,\n",
       "       0.        , 0.06190487, 0.        , 0.06190487, 0.06190487,\n",
       "       0.        , 0.        , 0.        , 0.06190487, 0.06190487,\n",
       "       0.06190487, 0.06190487, 0.06190487, 0.06190487, 0.06190487,\n",
       "       0.02306515, 0.        , 0.        , 0.        , 0.        ,\n",
       "       0.        , 0.        , 0.        , 0.        , 0.        ,\n",
       "       0.        , 0.02306515, 0.21263717, 0.06049392, 0.06049392,\n",
       "       0.02306515, 0.02306515, 0.02306515, 0.02306515, 0.        ,\n",
       "       0.02306515, 0.        , 0.        , 0.        , 0.        ,\n",
       "       0.        , 0.        , 0.        , 0.        , 0.        ,\n",
       "       0.        , 0.02306515, 0.        , 0.        , 0.        ,\n",
       "       0.        , 0.        , 0.        , 0.        , 0.        ,\n",
       "       0.        , 0.        , 0.        , 0.        , 0.        ,\n",
       "       0.        , 0.        , 0.        , 0.        , 0.        ,\n",
       "       0.        , 0.        , 0.        , 0.        , 0.        ,\n",
       "       0.        , 0.        , 0.        , 0.        , 0.        ,\n",
       "       0.        , 0.        , 0.        , 0.        , 0.        ,\n",
       "       0.        , 0.        , 0.        , 0.        , 0.        ,\n",
       "       0.        , 0.        , 0.        , 0.        , 0.        ,\n",
       "       0.        , 0.        , 0.        , 0.        , 0.        ,\n",
       "       0.06049392, 0.        , 0.        , 0.02306515, 0.02306515,\n",
       "       0.02306515, 0.02306515, 0.        , 0.        , 0.        ,\n",
       "       0.        , 0.        , 0.        , 0.        , 0.        ,\n",
       "       0.        , 0.        , 0.        , 0.        , 0.        ,\n",
       "       0.02306515, 0.29094443, 0.29094443, 0.29094443, 0.29094443,\n",
       "       0.29094443, 0.29094443, 0.02306515, 0.02306515, 0.02306515,\n",
       "       0.02306515, 0.02306515, 0.02306515, 0.02306515, 0.02306515,\n",
       "       0.02306515, 0.02306515, 0.02306515, 0.02306515, 0.02306515,\n",
       "       0.02306515, 0.02306515, 0.02306515, 0.02306515, 0.02306515,\n",
       "       0.        , 0.        , 0.02306515, 0.02306515, 0.02306515,\n",
       "       0.02306515, 0.02306515, 0.02306515, 0.02306515, 0.02306515,\n",
       "       0.02306515, 0.02306515, 0.02306515, 0.02306515, 0.02306515,\n",
       "       0.02306515, 0.02306515, 0.02306515, 0.02306515, 0.02306515,\n",
       "       0.02306515, 0.02306515, 0.02306515, 0.02306515, 0.02306515,\n",
       "       0.02306515, 0.02306515, 0.02306515, 0.02306515, 0.02306515,\n",
       "       0.02306515, 0.02306515, 0.02306515, 0.02306515, 0.02306515,\n",
       "       0.02306515, 0.02306515, 0.02306515, 0.02306515, 0.02306515,\n",
       "       0.02306515, 0.02306515, 0.02306515, 0.02306515, 0.02306515,\n",
       "       0.02306515, 0.02306515, 0.02306515, 0.02306515, 0.02306515,\n",
       "       0.02306515, 0.02306515, 0.02306515, 0.02306515, 0.02306515,\n",
       "       0.02306515, 0.02306515, 0.02306515, 0.02306515, 0.02306515,\n",
       "       0.02306515, 0.02306515, 0.02306515, 0.02306515, 0.02306515,\n",
       "       0.13823925, 0.13823925, 0.13823925, 0.13823925, 0.13823925,\n",
       "       0.02306515, 0.02306515, 0.02306515, 0.02306515, 0.02306515,\n",
       "       0.02306515, 0.02306515, 0.02306515, 0.02306515, 0.02306515,\n",
       "       0.02306515, 0.02306515, 0.02306515, 0.02306515, 0.02306515,\n",
       "       0.02306515, 0.02306515, 0.02306515, 0.02306515, 0.02306515,\n",
       "       0.02306515, 0.02306515, 0.02306515, 0.02306515, 0.02306515,\n",
       "       0.02306515, 0.02306515, 0.02306515, 0.02306515, 0.02306515,\n",
       "       0.02306515, 0.02306515, 0.21486347, 0.02306515, 0.02306515,\n",
       "       0.02306515, 0.02306515, 0.02306515, 0.        , 0.        ,\n",
       "       0.        , 0.        , 0.        , 0.        , 0.        ,\n",
       "       0.        , 0.        , 0.        , 0.        , 0.        ,\n",
       "       0.        , 0.        , 0.        , 0.        , 0.        ,\n",
       "       0.        , 0.        , 0.02306515, 0.02306515, 0.        ,\n",
       "       0.        , 0.02306515, 0.02306515, 0.        , 0.        ,\n",
       "       0.        , 0.        , 0.        , 0.        , 0.        ,\n",
       "       0.        , 0.        , 0.        , 0.        , 0.        ,\n",
       "       0.02306515, 0.02306515, 0.02306515, 0.18806934, 0.18806934,\n",
       "       0.18806934, 0.18806934, 0.18806934, 0.18806934, 0.41589472,\n",
       "       0.41589472, 0.41589472, 0.46927168, 0.46927168, 0.45186915,\n",
       "       0.41444038, 0.41444038, 0.41444038, 0.27371278, 0.13823925,\n",
       "       0.13823925, 0.13823925, 0.13823925, 0.13823925, 0.13823925,\n",
       "       0.08163789, 0.        , 0.        , 0.        , 0.        ,\n",
       "       0.        , 0.        , 0.        , 0.        , 0.        ,\n",
       "       0.        , 0.        , 0.        , 0.        , 0.        ,\n",
       "       0.        , 0.        , 0.        , 0.        , 0.        ,\n",
       "       0.        , 0.        , 0.        , 0.        , 0.        ,\n",
       "       0.        , 0.        , 0.        , 0.        , 0.15564179,\n",
       "       0.15564179, 0.15564179, 0.15564179, 0.15564179, 0.15564179,\n",
       "       0.15564179, 0.15564179, 0.15564179, 0.15564179, 0.15564179,\n",
       "       0.15564179, 0.15564179, 0.12265336, 0.        , 0.        ,\n",
       "       0.        , 0.        , 0.        , 0.        , 0.        ,\n",
       "       0.        , 0.        , 0.        , 0.        , 0.        ,\n",
       "       0.        , 0.        , 0.        , 0.        , 0.        ,\n",
       "       0.        , 0.        , 0.        , 0.        , 0.        ,\n",
       "       0.        , 0.        , 0.        , 0.        , 0.        ,\n",
       "       0.        , 0.        , 0.        , 0.16008213, 0.16008213,\n",
       "       0.12265336, 0.12265336, 0.12265336, 0.12265336, 0.12265336,\n",
       "       0.12265336, 0.25224349, 0.12265336, 0.12265336, 0.12265336,\n",
       "       0.12265336, 0.12265336, 0.12265336, 0.16008213, 0.18776773,\n",
       "       0.18776773, 0.18776773, 0.        , 0.        , 0.        ,\n",
       "       0.        , 0.        , 0.        , 0.        , 0.        ,\n",
       "       0.        , 0.        , 0.        , 0.        , 0.        ])"
      ]
     },
     "execution_count": 13,
     "metadata": {},
     "output_type": "execute_result"
    }
   ],
   "source": [
    "regret[9500:]"
   ]
  },
  {
   "cell_type": "code",
   "execution_count": null,
   "metadata": {},
   "outputs": [],
   "source": []
  }
 ],
 "metadata": {
  "kernelspec": {
   "display_name": "Python 3",
   "language": "python",
   "name": "python3"
  },
  "language_info": {
   "codemirror_mode": {
    "name": "ipython",
    "version": 3
   },
   "file_extension": ".py",
   "mimetype": "text/x-python",
   "name": "python",
   "nbconvert_exporter": "python",
   "pygments_lexer": "ipython3",
   "version": "3.7.3"
  }
 },
 "nbformat": 4,
 "nbformat_minor": 2
}
