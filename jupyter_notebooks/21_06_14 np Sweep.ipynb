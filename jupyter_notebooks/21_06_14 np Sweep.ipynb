{
 "cells": [
  {
   "cell_type": "markdown",
   "metadata": {},
   "source": [
    "# NP Sweep\n",
    "\n",
    "TJ Kim\n",
    "6/14/21\n",
    "\n",
    "Sweep the values of dist_n and dist_p and observe the impact on perceived queue vs distance latency.\n",
    "\n",
    "Changelog from prior:\n",
    "- added dist_p to scale the power of offload divide\n",
    "- added double option to offloading so all values do not have to be integers\n",
    "- loads per ts are decided as users are generated, not as timesteps pass (simulation consistency)\n"
   ]
  },
  {
   "cell_type": "code",
   "execution_count": 1,
   "metadata": {},
   "outputs": [
    {
     "name": "stdout",
     "output_type": "stream",
     "text": [
      "/home/tkim/CMU/DistMEC\n"
     ]
    }
   ],
   "source": [
    "cd /home/tkim/CMU/DistMEC"
   ]
  },
  {
   "cell_type": "markdown",
   "metadata": {},
   "source": [
    "### Import Relevant Libraries and Dependencies"
   ]
  },
  {
   "cell_type": "code",
   "execution_count": 2,
   "metadata": {},
   "outputs": [],
   "source": [
    "import numpy as np\n",
    "import math\n",
    "import copy\n",
    "import itertools\n",
    "\n",
    "from classes.Application import *\n",
    "from classes.User import *\n",
    "from classes.Server import *\n",
    "from solver.Sim_Params import *\n",
    "from classes.Central_Controller import *\n",
    "from classes.Container import *\n",
    "from solver.run_sim_temp import *"
   ]
  },
  {
   "cell_type": "markdown",
   "metadata": {},
   "source": [
    "### Set Sweep parameters then perform sweep"
   ]
  },
  {
   "cell_type": "code",
   "execution_count": 3,
   "metadata": {},
   "outputs": [],
   "source": [
    "n_sweep = [0.01, 0.1, 1, 10]\n",
    "p_sweep = [0, 1, 2, 3, 4]\n",
    "num_trial = 5"
   ]
  },
  {
   "cell_type": "code",
   "execution_count": 9,
   "metadata": {},
   "outputs": [
    {
     "name": "stdout",
     "output_type": "stream",
     "text": [
      "trial 0\n",
      "n,p: 0.01 0\n",
      "n,p: 0.01 1\n",
      "n,p: 0.01 2\n",
      "n,p: 0.01 3\n",
      "n,p: 0.01 4\n",
      "n,p: 0.1 0\n",
      "n,p: 0.1 1\n",
      "n,p: 0.1 2\n",
      "n,p: 0.1 3\n",
      "n,p: 0.1 4\n",
      "n,p: 1 0\n",
      "n,p: 1 1\n",
      "n,p: 1 2\n",
      "n,p: 1 3\n",
      "n,p: 1 4\n",
      "n,p: 10 0\n",
      "n,p: 10 1\n",
      "n,p: 10 2\n",
      "n,p: 10 3\n",
      "n,p: 10 4\n",
      "trial 1\n",
      "n,p: 0.01 0\n",
      "n,p: 0.01 1\n",
      "n,p: 0.01 2\n",
      "n,p: 0.01 3\n",
      "n,p: 0.01 4\n",
      "n,p: 0.1 0\n",
      "n,p: 0.1 1\n",
      "n,p: 0.1 2\n",
      "n,p: 0.1 3\n",
      "n,p: 0.1 4\n",
      "n,p: 1 0\n",
      "n,p: 1 1\n",
      "n,p: 1 2\n",
      "n,p: 1 3\n",
      "n,p: 1 4\n",
      "n,p: 10 0\n",
      "n,p: 10 1\n",
      "n,p: 10 2\n",
      "n,p: 10 3\n",
      "n,p: 10 4\n",
      "trial 2\n",
      "n,p: 0.01 0\n",
      "n,p: 0.01 1\n",
      "n,p: 0.01 2\n",
      "n,p: 0.01 3\n",
      "n,p: 0.01 4\n",
      "n,p: 0.1 0\n",
      "n,p: 0.1 1\n",
      "n,p: 0.1 2\n",
      "n,p: 0.1 3\n",
      "n,p: 0.1 4\n",
      "n,p: 1 0\n",
      "n,p: 1 1\n",
      "n,p: 1 2\n",
      "n,p: 1 3\n",
      "n,p: 1 4\n",
      "n,p: 10 0\n",
      "n,p: 10 1\n",
      "n,p: 10 2\n",
      "n,p: 10 3\n",
      "n,p: 10 4\n",
      "trial 3\n",
      "n,p: 0.01 0\n",
      "n,p: 0.01 1\n",
      "n,p: 0.01 2\n",
      "n,p: 0.01 3\n",
      "n,p: 0.01 4\n",
      "n,p: 0.1 0\n",
      "n,p: 0.1 1\n",
      "n,p: 0.1 2\n",
      "n,p: 0.1 3\n",
      "n,p: 0.1 4\n",
      "n,p: 1 0\n",
      "n,p: 1 1\n",
      "n,p: 1 2\n",
      "n,p: 1 3\n",
      "n,p: 1 4\n",
      "n,p: 10 0\n",
      "n,p: 10 1\n",
      "n,p: 10 2\n",
      "n,p: 10 3\n",
      "n,p: 10 4\n",
      "trial 4\n",
      "n,p: 0.01 0\n",
      "n,p: 0.01 1\n",
      "n,p: 0.01 2\n",
      "n,p: 0.01 3\n",
      "n,p: 0.01 4\n",
      "n,p: 0.1 0\n",
      "n,p: 0.1 1\n",
      "n,p: 0.1 2\n",
      "n,p: 0.1 3\n",
      "n,p: 0.1 4\n",
      "n,p: 1 0\n",
      "n,p: 1 1\n",
      "n,p: 1 2\n",
      "n,p: 1 3\n",
      "n,p: 1 4\n",
      "n,p: 10 0\n",
      "n,p: 10 1\n",
      "n,p: 10 2\n",
      "n,p: 10 3\n",
      "n,p: 10 4\n"
     ]
    }
   ],
   "source": [
    "# Cost recording\n",
    "costs_l = {}\n",
    "costs_q = {}\n",
    "\n",
    "for t in range(num_trial):\n",
    "    print('trial',t)\n",
    "\n",
    "    sim_param = Sim_Params(big_ts=5, small_ts=5, x_length=5, y_length=5, num_users=20, num_servers=10, num_apps=5)\n",
    "    servers, users, containers, apps = setup_sim(sim_param)\n",
    "\n",
    "    for (n,p) in itertools.product(n_sweep,p_sweep):\n",
    "        print('n,p:', n,p)\n",
    "        # Override important values\n",
    "        sim_param.dist_n = n\n",
    "        sim_param.dist_p = p\n",
    "\n",
    "        apps_temp = copy.deepcopy(apps)\n",
    "        for a in apps_temp:\n",
    "            a.dist_n = n\n",
    "            a.dist_p = p\n",
    "            a.offload_mode = 'd'\n",
    "        apps_temp = run_sim_temp(sim_param, servers, users, containers, apps_temp)\n",
    "    \n",
    "        costs_l[(n,p,t)] = 0\n",
    "        costs_q[(n,p,t)] = 0\n",
    "        \n",
    "        for u in range(len(apps_temp)):\n",
    "            for key in apps_temp[u].queue_length.keys():\n",
    "                costs_q[(n,p,t)] += np.sum(apps_temp[u].queue_length[key][:,3] * apps_temp[u].queue_length[key][:,2])\n",
    "                costs_l[(n,p,t)] += np.sum(apps_temp[u].queue_length[key][:,4] * apps_temp[u].queue_length[key][:,2])"
   ]
  },
  {
   "cell_type": "markdown",
   "metadata": {},
   "source": [
    "# Plot results\n",
    "\n",
    "Normalize outputs across trials and plot results for each pair.\n",
    "\n",
    "fix p and sweep d."
   ]
  },
  {
   "cell_type": "code",
   "execution_count": 11,
   "metadata": {},
   "outputs": [],
   "source": [
    "# Analyse data and normalize - mean and SD of queue and length\n",
    "l_collect = []\n",
    "q_collect = []\n",
    "\n",
    "for t in range(num_trial):\n",
    "    for n,p in itertools.product(n_sweep,p_sweep):\n",
    "        l_collect += [costs_l[(n,p,t)]]\n",
    "        q_collect += [costs_q[(n,p,t)]]\n",
    "\n",
    "l_collect = np.asarray(l_collect)\n",
    "q_collect = np.asarray(q_collect)\n",
    "\n",
    "l_mean = np.mean(l_collect)\n",
    "l_std = np.std(l_collect)\n",
    "q_mean = np.mean(q_collect)\n",
    "q_std = np.std(q_collect)"
   ]
  },
  {
   "cell_type": "code",
   "execution_count": 12,
   "metadata": {},
   "outputs": [
    {
     "data": {
      "image/png": "[encoded data removed]",
      "text/plain": [
       "<Figure size 432x288 with 1 Axes>"
      ]
     },
     "metadata": {
      "needs_background": "light"
     },
     "output_type": "display_data"
    },
    {
     "data": {
      "image/png": "[encoded data removed]",
      "text/plain": [
       "<Figure size 432x288 with 1 Axes>"
      ]
     },
     "metadata": {
      "needs_background": "light"
     },
     "output_type": "display_data"
    },
    {
     "data": {
      "image/png": "[encoded data removed]",
      "text/plain": [
       "<Figure size 432x288 with 1 Axes>"
      ]
     },
     "metadata": {
      "needs_background": "light"
     },
     "output_type": "display_data"
    },
    {
     "data": {
      "image/png": "[encoded data removed]",
      "text/plain": [
       "<Figure size 432x288 with 1 Axes>"
      ]
     },
     "metadata": {
      "needs_background": "light"
     },
     "output_type": "display_data"
    },
    {
     "data": {
      "image/png": "[encoded data removed]",
      "text/plain": [
       "<Figure size 432x288 with 1 Axes>"
      ]
     },
     "metadata": {
      "needs_background": "light"
     },
     "output_type": "display_data"
    }
   ],
   "source": [
    "import matplotlib.pyplot as plt\n",
    "\n",
    "for p in p_sweep:\n",
    "    \n",
    "    n_vals_to_plot_q = []\n",
    "    n_vals_to_plot_l = []\n",
    "    \n",
    "    \n",
    "    for n in n_sweep:\n",
    "        n_val_cumul_q = 0\n",
    "        n_val_cumul_l = 0\n",
    "        for t in range(num_trial):\n",
    "            n_val_cumul_q += costs_q[(n,p,t)]/num_trial\n",
    "            n_val_cumul_l += costs_l[(n,p,t)]/num_trial\n",
    "            \n",
    "        n_vals_to_plot_q += [(n_val_cumul_q-q_mean)/q_std]\n",
    "        n_vals_to_plot_l += [(n_val_cumul_l-l_mean)/l_std]\n",
    "    \n",
    "    # Plot the value\n",
    "    labels = ['0.01','0.1','1','10']\n",
    "    q_vals = n_vals_to_plot_q\n",
    "    l_vals = n_vals_to_plot_l\n",
    "    width = 0.2  # the width of the bars\n",
    "    \n",
    "    fig, ax = plt.subplots()\n",
    "    x = np.arange(len(labels))\n",
    "    rects1 = ax.bar(x - width/2, q_vals, width, label='queue')\n",
    "    rects2 = ax.bar(x + width/2, l_vals, width, label='dist')\n",
    "    \n",
    "    # Add some text for labels, title and custom x-axis tick labels, etc.\n",
    "    ax.set_ylabel('Standard Deviations')\n",
    "    ax.set_xlabel('n (dist_offset)')\n",
    "    ax.set_title('Latency (queue and distance), p = '+ str(p))\n",
    "    ax.set_xticks(x)\n",
    "    ax.set_xticklabels(labels)\n",
    "    ax.legend()\n",
    "\n",
    "    fig.tight_layout()\n",
    "\n",
    "    plt.show()"
   ]
  },
  {
   "cell_type": "code",
   "execution_count": 13,
   "metadata": {},
   "outputs": [
    {
     "name": "stdout",
     "output_type": "stream",
     "text": [
      "l_mean: 5740.0 l_std: 2113.0\n",
      "q_mean: 7285.0 q_std: 4364.0\n"
     ]
    }
   ],
   "source": [
    "# Print stats\n",
    "print(\"l_mean:\", round(l_mean,0), \"l_std:\", round(l_std,0))\n",
    "print(\"q_mean:\", round(q_mean,0), \"q_std:\", round(q_std,0))"
   ]
  },
  {
   "cell_type": "code",
   "execution_count": null,
   "metadata": {},
   "outputs": [],
   "source": []
  }
 ],
 "metadata": {
  "kernelspec": {
   "display_name": "Python 3",
   "language": "python",
   "name": "python3"
  },
  "language_info": {
   "codemirror_mode": {
    "name": "ipython",
    "version": 3
   },
   "file_extension": ".py",
   "mimetype": "text/x-python",
   "name": "python",
   "nbconvert_exporter": "python",
   "pygments_lexer": "ipython3",
   "version": "3.8.3"
  }
 },
 "nbformat": 4,
 "nbformat_minor": 4
}
