{
 "cells": [
  {
   "cell_type": "code",
   "execution_count": 1,
   "metadata": {},
   "outputs": [
    {
     "name": "stdout",
     "output_type": "stream",
     "text": [
      "/home/ubuntu/DistMEC\n"
     ]
    }
   ],
   "source": [
    "cd /home/ubuntu/DistMEC/"
   ]
  },
  {
   "cell_type": "code",
   "execution_count": 2,
   "metadata": {},
   "outputs": [],
   "source": [
    "import numpy as np\n",
    "import matplotlib.pyplot as plt\n",
    "\n",
    "from classes.User import *\n",
    "from classes.solver import *\n",
    "from classes.Server import *\n",
    "from classes.distributed_utils import *\n",
    "\n",
    "import pickle\n",
    "import os"
   ]
  },
  {
   "cell_type": "code",
   "execution_count": 3,
   "metadata": {},
   "outputs": [],
   "source": [
    "def load_trial(path_user, path_regret,  trial_num):\n",
    "    \n",
    "    user_load_path = path_user + str(trial_num) + '.p'\n",
    "    with open(user_load_path, 'rb') as handle:\n",
    "        user_dict = pickle.load(handle)\n",
    "    \n",
    "    regret_load_path = path_regret + str(trial_num) + '.p'\n",
    "    with open(regret_load_path, 'rb') as handle:\n",
    "        regret_dict = pickle.load(handle)\n",
    "    \n",
    "    return user_dict, regret_dict\n",
    "\n",
    "\n",
    "def track_collision(users):\n",
    "    \n",
    "    collision = np.zeros([len(users),len(users)])\n",
    "    time_steps = len(users[0].history_location)\n",
    "    for t in range(time_steps):\n",
    "        arm_pulls = []\n",
    "        for u in users:\n",
    "            arm_pulls += [u.history_pull[t]]\n",
    "        for u in range(len(users)):\n",
    "            for u2 in range(len(users)):\n",
    "                if u != u2 and arm_pulls[u] == arm_pulls[u2]:\n",
    "                    collision[u,u2] += 1\n",
    "    return collision\n",
    "\n",
    "def track_movement_overlap(users):\n",
    "    mvmt = np.zeros([len(users),len(users)])\n",
    "    time_steps = len(users[0].history_location)\n",
    "    for t in range(time_steps):\n",
    "        locs = []\n",
    "        for u in users:\n",
    "            locs += [u.history_location[t]]\n",
    "        for u in range(len(users)):\n",
    "            for u2 in range(len(users)):\n",
    "                if u != u2 and locs[u] == locs[u2]:\n",
    "                    mvmt[u,u2] += 1\n",
    "    return mvmt\n",
    "\n",
    "def track_movement(users, num_servers):\n",
    "    locs = np.zeros([len(users),num_servers])\n",
    "    time_steps = len(users[0].history_location)\n",
    "    for t in range(time_steps):\n",
    "        for u in range(len(users)):\n",
    "            then_loc = int(users[u].history_location[t])\n",
    "            locs[u, then_loc] += 1\n",
    "\n",
    "    return locs\n",
    "\n",
    "\n",
    "def track_mu_est(users, num_servers):\n",
    "    mu_est = np.zeros([len(users),num_servers])\n",
    "    for u in range(len(users)):\n",
    "        mu_est[u,:] = users[u].mu\n",
    "    return mu_est\n",
    "\n",
    "def pull_records(users, num_servers):\n",
    "    pull_rec = np.zeros([len(users),num_servers])\n",
    "    for u in range(len(users)):\n",
    "        pull_rec[u,:] = users[u].pulls\n",
    "    return pull_rec"
   ]
  },
  {
   "cell_type": "code",
   "execution_count": 4,
   "metadata": {},
   "outputs": [],
   "source": [
    "# path_regret = 'results/22_06_13_reserve_troubleshoot/regret_trial'\n",
    "# path_user = 'results/22_06_13_reserve_troubleshoot/user_trial'\n",
    "\n",
    "# path_regret = 'results/22_06_14_reserve_troubleshoot_n3_kick/regret_trial'\n",
    "# path_user = 'results/22_06_14_reserve_troubleshoot_n3_kick/user_trial'\n",
    "\n",
    "\n",
    "path_regret = 'results/fixed_bug_t2/regret_trial'\n",
    "path_user = 'results/fixed_bug_t2/user_trial'\n",
    "\n",
    "\n"
   ]
  },
  {
   "cell_type": "code",
   "execution_count": 7,
   "metadata": {},
   "outputs": [
    {
     "name": "stdout",
     "output_type": "stream",
     "text": [
      "[[  13   12   40    8  114   47    8  752  743   14  160    9  187 2412\n",
      "   291  189]\n",
      " [ 127  357   84   30    7  315   30  426   16   80    9   41 3154   45\n",
      "    16  262]\n",
      " [ 332  563  222   59   27  182   73  361   87   15   31  277  144  168\n",
      "   137 2321]\n",
      " [ 197  185   46   31   24   64   36 2807   93  199  310  157   15  348\n",
      "    69  418]\n",
      " [  12  792    8    6   12  868   52   17  567  172   67   24   12   20\n",
      "  2163  207]\n",
      " [ 106   25    8   83   20  199    7   25   40   16 3915    7   39  405\n",
      "     9   95]\n",
      " [  12 1926    9   24   15  798   16   59  233   84   70   66  291   23\n",
      "  1362   11]\n",
      " [  87  209   87   10    8  746   38  176 2960    8   60    8  269   88\n",
      "    57  188]\n",
      " [  21  847   12   14  209  700   11  192   23 1070  286   11  198 1352\n",
      "    16   37]\n",
      " [  16   96   11   14   29 1101   29  289  223   11  105   26  706  157\n",
      "   890 1296]]\n"
     ]
    }
   ],
   "source": [
    "mode = 'new'\n",
    "idxs = 0\n",
    "a,b = load_trial(path_user, path_regret, idxs)\n",
    "coll = track_collision(a[mode])\n",
    "mvmt_overlap = track_movement_overlap(a[mode])\n",
    "mu_est = track_mu_est(a[mode], 16)\n",
    "pull_rec = pull_records(a[mode],16)\n",
    "mvmt = track_movement(a[mode],16)\n",
    "\n",
    "# print(coll.astype(int))\n",
    "# print(mu_est)\n",
    "# print(mu_est.argmax(axis=1))\n",
    "# print(pull_rec.astype(int))\n",
    "# print(pull_rec.argmax(axis=1))\n",
    "# print(mvmt/5000)\n",
    "# print(mvmt.argmax(axis=1))\n"
   ]
  },
  {
   "cell_type": "code",
   "execution_count": 6,
   "metadata": {},
   "outputs": [
    {
     "name": "stdout",
     "output_type": "stream",
     "text": [
      "[[  35.  698.  107.  327.  141.  341.   58.  789.   27.  118.  574.  238.\n",
      "   943.  515.   42.   46.]\n",
      " [  20.  292.  135.  334.  426.   41.  200.  968.  183.  141.  101.  972.\n",
      "   181.  230.   24.  751.]\n",
      " [1087.  148.  520.  123.  483.   59.  435.  228.  473.   80.  231.  275.\n",
      "   141.  299.  360.   57.]\n",
      " [  42.  272.  155.  291.  423.  234.  529. 1092.   67.  879.  123.  186.\n",
      "   240.   73.   36.  357.]\n",
      " [  34.  231.  104.   40.   20.  145.  635.  235.   79.  180.  588.  468.\n",
      "   749.   58.  309. 1124.]\n",
      " [1308.  153.  119.  654.   44.   47.   66.   40.  313.  745.  124.  101.\n",
      "    46.  731.  214.  294.]\n",
      " [  76.  228.   60.  373.  789.  127.  549.   32.  748.  152.  118.  379.\n",
      "   191.  890.  170.  117.]\n",
      " [ 214.  143.   61.   50.  256.   50.  600.  229.   80.   60.  313.   70.\n",
      "   198. 1325.  964.  386.]\n",
      " [ 176.   87.   98.  311. 1153.  414.  424.   44.  524.  351.  498.   30.\n",
      "   297.  330.   47.  215.]\n",
      " [  79.  214.  174.  238.  124.  253. 1153.   10.  199.  576.  522.  375.\n",
      "   159.  833.   23.   67.]]\n"
     ]
    }
   ],
   "source": [
    "print(mvmt)"
   ]
  },
  {
   "cell_type": "code",
   "execution_count": 64,
   "metadata": {},
   "outputs": [
    {
     "data": {
      "text/plain": [
       "0.9014"
      ]
     },
     "execution_count": 64,
     "metadata": {},
     "output_type": "execute_result"
    }
   ],
   "source": [
    "np.sum(a[mode][-3].history_reserve[:])/5000"
   ]
  },
  {
   "cell_type": "code",
   "execution_count": 60,
   "metadata": {},
   "outputs": [
    {
     "name": "stdout",
     "output_type": "stream",
     "text": [
      "[0.71900826 0.63414634 0.67391304 0.83333333 0.27777778 0.13513514\n",
      " 0.02222222 0.         0.36842105 0.24242424 0.99680511 0.97215496\n",
      " 0.08333333 0.37183099 0.55924171 0.55865922]\n",
      "[0.71207203 0.46495019 0.68835921 0.8229379  0.19677066 0.15974612\n",
      " 0.01622407 0.16870992 0.38911061 0.23768286 0.99510612 0.97321672\n",
      " 0.07871893 0.36628599 0.52465089 0.57533903]\n"
     ]
    }
   ],
   "source": [
    "print(a[mode][0].mu_est)\n",
    "print(a[mode][0].mu)"
   ]
  },
  {
   "cell_type": "code",
   "execution_count": 55,
   "metadata": {},
   "outputs": [
    {
     "name": "stdout",
     "output_type": "stream",
     "text": [
      "2\n",
      "11\n"
     ]
    }
   ],
   "source": [
    "print(a[mode][0].expected_time)\n",
    "print(a[mode][0].svr_stick_idx)"
   ]
  },
  {
   "cell_type": "code",
   "execution_count": 56,
   "metadata": {},
   "outputs": [],
   "source": [
    "a[mode][0].update_waittime(0,0,0)"
   ]
  },
  {
   "cell_type": "code",
   "execution_count": 57,
   "metadata": {},
   "outputs": [
    {
     "data": {
      "text/plain": [
       "array([0.9066094 , 0.95642847, 0.97817611, 0.90479039, 0.96564861,\n",
       "       0.6149153 , 0.45726994, 1.03180625, 1.03794536, 0.60165307,\n",
       "       1.1617622 , 1.04395723, 0.92579961, 0.52672298, 0.76015188,\n",
       "       0.77678984])"
      ]
     },
     "execution_count": 57,
     "metadata": {},
     "output_type": "execute_result"
    }
   ],
   "source": [
    "a[mode][0].ucb_present"
   ]
  },
  {
   "cell_type": "code",
   "execution_count": null,
   "metadata": {},
   "outputs": [],
   "source": []
  },
  {
   "cell_type": "code",
   "execution_count": null,
   "metadata": {},
   "outputs": [],
   "source": []
  }
 ],
 "metadata": {
  "kernelspec": {
   "display_name": "Python 3",
   "language": "python",
   "name": "python3"
  },
  "language_info": {
   "codemirror_mode": {
    "name": "ipython",
    "version": 3
   },
   "file_extension": ".py",
   "mimetype": "text/x-python",
   "name": "python",
   "nbconvert_exporter": "python",
   "pygments_lexer": "ipython3",
   "version": "3.7.3"
  }
 },
 "nbformat": 4,
 "nbformat_minor": 2
}
