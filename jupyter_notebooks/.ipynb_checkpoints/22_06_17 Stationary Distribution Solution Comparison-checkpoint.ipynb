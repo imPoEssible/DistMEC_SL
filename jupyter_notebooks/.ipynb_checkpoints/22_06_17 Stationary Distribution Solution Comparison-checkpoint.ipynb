{
 "cells": [
  {
   "cell_type": "code",
   "execution_count": 1,
   "metadata": {},
   "outputs": [
    {
     "name": "stdout",
     "output_type": "stream",
     "text": [
      "/home/ubuntu/DistMEC\n"
     ]
    }
   ],
   "source": [
    "cd /home/ubuntu/DistMEC/"
   ]
  },
  {
   "cell_type": "code",
   "execution_count": 2,
   "metadata": {},
   "outputs": [],
   "source": [
    "import numpy as np\n",
    "import matplotlib.pyplot as plt\n",
    "\n",
    "from classes.User import *\n",
    "from classes.solver import *\n",
    "from classes.Server import *\n",
    "from classes.distributed_utils import *\n",
    "\n",
    "from tqdm import tqdm, tqdm_notebook\n",
    "from time import sleep\n",
    "import pickle\n",
    "import os"
   ]
  },
  {
   "cell_type": "code",
   "execution_count": 14,
   "metadata": {},
   "outputs": [],
   "source": [
    "# Fix P\n",
    "def fix_P(user):\n",
    "    P = user.P\n",
    "    \n",
    "    for i in range(user.P.shape[1]):\n",
    "        tot = np.sum(user.P[i])\n",
    "        if tot != 1.0:\n",
    "            user.P[i] = user.P[i]/tot\n",
    "        \n",
    "    return\n",
    "\n",
    "\n",
    "def obtain_w_stationary(Users, num_users, num_svrs):\n",
    "    \n",
    "    w_curr = np.zeros([num_users,num_svrs])\n",
    "    for i in range(num_users):\n",
    "        w_curr[i] = Users[i].stationary_reward_scale\n",
    "    \n",
    "    return w_curr\n",
    "\n",
    "def extract_centralized_case(Users, num_users, num_svrs):\n",
    "    \n",
    "    rewards_record = np.zeros([num_users,num_svrs])\n",
    "    pulls_record = np.zeros([num_users,num_svrs])\n",
    "    ucb = np.zeros([num_users,num_svrs])\n",
    "    \n",
    "    for i in range(num_users):\n",
    "        rewards_record[i] = Users[i].param_summed\n",
    "        pulls_record = Users[i].pulls\n",
    "        ucb[i] = Users[i].ucb_raw \n",
    "    \n",
    "    return rewards_record, pulls_record, ucb"
   ]
  },
  {
   "cell_type": "code",
   "execution_count": 4,
   "metadata": {},
   "outputs": [
    {
     "name": "stdout",
     "output_type": "stream",
     "text": [
      "trial: 0\n"
     ]
    }
   ],
   "source": [
    "# System Parameters\n",
    "T = 5000\n",
    "num_users = 10\n",
    "num_svrs = 16\n",
    "num_locs = 16\n",
    "mu = np.random.uniform(low=0, high = 1, size = [num_users, num_svrs])\n",
    "ceiling = 20\n",
    "# w = np.random.uniform(low=0, high=1, size= [num_users, num_svrs])\n",
    "space_1d_dim = 10 #4 for small, 10 for big\n",
    "\n",
    "num_explore = 1\n",
    "trials = 1\n",
    "\n",
    "# result dictionaries\n",
    "result_dicts = []\n",
    "performance_list = []\n",
    "user_dicts = []\n",
    "\n",
    "save_name = 'results/22_06_16_ceiling_20/'\n",
    "isExist = os.path.exists(save_name)\n",
    "if not isExist:\n",
    "  # Create a new directory because it does not exist \n",
    "    os.makedirs(save_name)\n",
    "\n",
    "for tri in range(trials):\n",
    "    \n",
    "    print(\"trial:\", tri)\n",
    "    result_dict = {}\n",
    "    user_dict = {}\n",
    "    \n",
    "    # Generate visitng locations and server locations\n",
    "    usr_locs = gen_eq_locs(space_1d=space_1d_dim, nums=num_locs)\n",
    "    svr_locs = gen_eq_locs(space_1d=space_1d_dim, nums=num_svrs)\n",
    "\n",
    "    # Create Users\n",
    "    Users_w = []\n",
    "    for i in range(num_users):\n",
    "        Users_w += [User(usr_locs,svr_locs,mu[i],i,\n",
    "                      max_dist = 4, threshold_dist = 4, self_weight = 1 - 0.95, P = None, ceiling = 1,\n",
    "                      sticky_mode = False, kick_mode=True)]\n",
    "        \n",
    "    # Create Servers\n",
    "    Servers = []\n",
    "    for i in range(num_svrs):\n",
    "        Servers += [Server(svr_locs[i],mu,i)]\n",
    "\n",
    "    # Recorded Values - reservation\n",
    "    regret_w = np.zeros(T)\n",
    "    collision_count_w = np.zeros(T)\n",
    "    optimal_reward_w = np.zeros(T)\n",
    "\n",
    "    # Explore rounds are common/shared across all users\n",
    "    explore_rounds(Users_w, num_users, Servers, mu, regret_w, collision_count_w, optimal_reward_w,\n",
    "                   usr_move_flag = True, rounds=num_explore)\n",
    "    \n",
    "    # Distributed - true w learning\n",
    "    Users_s = copy.deepcopy(Users_w)\n",
    "    regret_s = copy.deepcopy(regret_w)\n",
    "    collision_count_s = copy.deepcopy(collision_count_w)\n",
    "    for u in Users_s:\n",
    "        u.sticky_mode = True\n",
    "        u.kick_mode = True #false\n",
    "        \n",
    "    # Centralized - true w learning\n",
    "    rewards_record_ct, pulls_record_ct, ucb_ct = extract_centralized_case(Users_w, num_users, num_svrs)\n",
    "    regret_ct = copy.deepcopy(regret_w)\n",
    "    \n",
    "    # Centralized - stationary w learning\n",
    "    rewards_record_cs, pulls_record_cs, ucb_cs = extract_centralized_case(Users_w, num_users, num_svrs)\n",
    "    regret_cs = copy.deepcopy(regret_w)\n",
    "    \n",
    "    # Centralized - stationary w, known mu\n",
    "    \n",
    "    "
   ]
  },
  {
   "cell_type": "code",
   "execution_count": 6,
   "metadata": {},
   "outputs": [],
   "source": [
    "fix_P(Users_w[0])"
   ]
  },
  {
   "cell_type": "code",
   "execution_count": 9,
   "metadata": {},
   "outputs": [
    {
     "data": {
      "text/plain": [
       "(16,)"
      ]
     },
     "execution_count": 9,
     "metadata": {},
     "output_type": "execute_result"
    }
   ],
   "source": [
    "Users_w[0].stationary_reward_scale.shape"
   ]
  },
  {
   "cell_type": "code",
   "execution_count": 160,
   "metadata": {},
   "outputs": [],
   "source": [
    "P = np.array([[0.7, 0.2, 0.1],[0.4,0.6,0],[0,1,0]])"
   ]
  },
  {
   "cell_type": "code",
   "execution_count": 161,
   "metadata": {},
   "outputs": [],
   "source": [
    "evals, evecs = np.linalg.eig(Users[0].P.T)\n",
    "evec1 = evecs[:,np.isclose(evals, 1)]\n",
    "\n",
    "#Since np.isclose will return an array, we've indexed with an array\n",
    "#so we still have our 2nd axis.  Get rid of it, since it's only size 1.\n",
    "evec1 = evec1[:,0]\n",
    "\n",
    "stationary = evec1 / evec1.sum()\n",
    "\n",
    "#eigs finds complex eigenvalues and eigenvectors, so you'll want the real part.\n",
    "stationary = stationary.real"
   ]
  },
  {
   "cell_type": "code",
   "execution_count": 162,
   "metadata": {},
   "outputs": [],
   "source": [
    "s2 = stationary.reshape([1,stationary.shape[0]])"
   ]
  },
  {
   "cell_type": "code",
   "execution_count": 163,
   "metadata": {},
   "outputs": [],
   "source": [
    "r2 = Users[0].reward_scale"
   ]
  },
  {
   "cell_type": "code",
   "execution_count": 174,
   "metadata": {},
   "outputs": [],
   "source": [
    "true_scaling = np.matmul(s2, Users[0].reward_scale)"
   ]
  },
  {
   "cell_type": "code",
   "execution_count": 178,
   "metadata": {},
   "outputs": [
    {
     "data": {
      "text/plain": [
       "array([0.01418415, 0.04076948, 0.07075752, 0.11449394, 0.01854684,\n",
       "       0.17635562, 0.00885521, 0.01378636, 0.17506885, 0.07949673,\n",
       "       0.03025502, 0.01886457, 0.01227082, 0.16134263, 0.01981257,\n",
       "       0.0451397 ])"
      ]
     },
     "execution_count": 178,
     "metadata": {},
     "output_type": "execute_result"
    }
   ],
   "source": [
    "stationary"
   ]
  },
  {
   "cell_type": "code",
   "execution_count": 12,
   "metadata": {},
   "outputs": [],
   "source": [
    "w2 = obtain_w_stationary(Users_w,  num_users, num_svrs)"
   ]
  },
  {
   "cell_type": "code",
   "execution_count": 13,
   "metadata": {},
   "outputs": [
    {
     "data": {
      "text/plain": [
       "array([[0.68966886, 0.70309462, 0.66513838, 0.58121115, 0.73974057,\n",
       "        0.77837824, 0.72120058, 0.62917617, 0.72003593, 0.75355825,\n",
       "        0.7159357 , 0.63020159, 0.64226993, 0.68186278, 0.65710858,\n",
       "        0.57300329],\n",
       "       [0.61681633, 0.68513614, 0.69012004, 0.63406074, 0.68178213,\n",
       "        0.74668027, 0.74460606, 0.69157697, 0.70395873, 0.73939451,\n",
       "        0.73369552, 0.6761866 , 0.61230602, 0.6642079 , 0.66341463,\n",
       "        0.61814077],\n",
       "       [0.57644049, 0.6620544 , 0.67724389, 0.6350632 , 0.65112569,\n",
       "        0.75178164, 0.77793392, 0.72907838, 0.67127607, 0.77159917,\n",
       "        0.80676505, 0.76935531, 0.62287109, 0.71523508, 0.7371109 ,\n",
       "        0.68963639],\n",
       "       [0.59506308, 0.6564949 , 0.67512521, 0.625099  , 0.66596378,\n",
       "        0.73424469, 0.73989736, 0.69225131, 0.6884668 , 0.74150859,\n",
       "        0.75422249, 0.69209454, 0.62961885, 0.68181368, 0.68199131,\n",
       "        0.63592823],\n",
       "       [0.662027  , 0.68969299, 0.66908196, 0.58861805, 0.70488892,\n",
       "        0.76752797, 0.73191875, 0.65002667, 0.68854006, 0.75443247,\n",
       "        0.74115663, 0.66923021, 0.61976288, 0.68344298, 0.69718537,\n",
       "        0.6236993 ],\n",
       "       [0.586627  , 0.66867433, 0.71162064, 0.68355442, 0.64408302,\n",
       "        0.72860331, 0.76376679, 0.71308767, 0.6436261 , 0.72049459,\n",
       "        0.74110485, 0.6911139 , 0.5908783 , 0.66017234, 0.68628343,\n",
       "        0.61975562],\n",
       "       [0.59809893, 0.68507282, 0.70543137, 0.67639576, 0.65660679,\n",
       "        0.74795528, 0.75716777, 0.70812642, 0.63629073, 0.72530066,\n",
       "        0.75105421, 0.70052427, 0.56768871, 0.64964927, 0.67761257,\n",
       "        0.64966099],\n",
       "       [0.60231858, 0.67150246, 0.67943831, 0.62444811, 0.67516891,\n",
       "        0.75679283, 0.7782784 , 0.69750288, 0.69850518, 0.77584279,\n",
       "        0.77631186, 0.69824006, 0.64475406, 0.71619243, 0.73464297,\n",
       "        0.64811762],\n",
       "       [0.59267174, 0.63825454, 0.63416556, 0.59795338, 0.64906766,\n",
       "        0.69500459, 0.69082069, 0.62909714, 0.67667331, 0.71157911,\n",
       "        0.69817827, 0.6243033 , 0.66808173, 0.67347491, 0.65333353,\n",
       "        0.58173181],\n",
       "       [0.50629722, 0.58717728, 0.62880428, 0.62638793, 0.58589376,\n",
       "        0.67145388, 0.71734732, 0.70619334, 0.59603881, 0.69509183,\n",
       "        0.7581958 , 0.7578711 , 0.5585639 , 0.66094369, 0.73913623,\n",
       "        0.75976113]])"
      ]
     },
     "execution_count": 13,
     "metadata": {},
     "output_type": "execute_result"
    }
   ],
   "source": [
    "w2"
   ]
  },
  {
   "cell_type": "code",
   "execution_count": null,
   "metadata": {},
   "outputs": [],
   "source": []
  }
 ],
 "metadata": {
  "kernelspec": {
   "display_name": "Python 3",
   "language": "python",
   "name": "python3"
  },
  "language_info": {
   "codemirror_mode": {
    "name": "ipython",
    "version": 3
   },
   "file_extension": ".py",
   "mimetype": "text/x-python",
   "name": "python",
   "nbconvert_exporter": "python",
   "pygments_lexer": "ipython3",
   "version": "3.7.3"
  }
 },
 "nbformat": 4,
 "nbformat_minor": 2
}
