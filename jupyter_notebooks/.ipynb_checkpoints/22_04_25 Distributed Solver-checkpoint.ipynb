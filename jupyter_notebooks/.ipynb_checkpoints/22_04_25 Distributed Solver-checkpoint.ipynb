{
 "cells": [
  {
   "cell_type": "code",
   "execution_count": 1,
   "metadata": {},
   "outputs": [
    {
     "name": "stdout",
     "output_type": "stream",
     "text": [
      "/home/ubuntu/DistMEC\n"
     ]
    }
   ],
   "source": [
    "cd /home/ubuntu/DistMEC/"
   ]
  },
  {
   "cell_type": "code",
   "execution_count": 2,
   "metadata": {},
   "outputs": [],
   "source": [
    "import numpy as np\n",
    "import matplotlib.pyplot as plt\n",
    "\n",
    "from classes.User import *\n",
    "from classes.solver import *\n",
    "from classes.Server import *"
   ]
  },
  {
   "cell_type": "code",
   "execution_count": 32,
   "metadata": {},
   "outputs": [],
   "source": [
    "def gen_eq_locs(space_1d, nums, offset = 0.5):\n",
    "    # Generate well spread out locations in square space\n",
    "    num_across = int(np.floor(np.sqrt(nums)))\n",
    "    locs = []\n",
    "    \n",
    "    inc = space_1d/nums\n",
    "    \n",
    "    for i,j in itertools.product(range(num_across), range(num_across)):\n",
    "        locs += [(i*inc+offset, j*inc+offset)]\n",
    "    \n",
    "    return locs\n",
    "\n",
    "def obtain_w(Users, num_users, num_svrs):\n",
    "    \n",
    "    w_curr = np.zeros([num_users,num_svrs])\n",
    "    for i in range(num_users):\n",
    "        w_curr[i] = Users[i].reward_scale[Users[i].usr_place]\n",
    "    \n",
    "    return w_curr\n",
    "\n",
    "def update_user_locs(Users):\n",
    "    \n",
    "    for i in range(len(Users)):\n",
    "        Users[i].next_loc()\n",
    "    return\n",
    "    \n",
    "def get_arms_list(Users):\n",
    "    arms = []\n",
    "    for i in range(len(Users)):\n",
    "        arms+= [Users[i].choose_arm()]\n",
    "    return arms\n",
    "\n",
    "def sort_server_results(arms_list, Servers, Users):\n",
    "    \n",
    "    scales_dict = {}\n",
    "    usr_idxs_dict = {}\n",
    "    w_est_dict = {}\n",
    "    \n",
    "    \n",
    "    for s in range(len(Servers)):\n",
    "        usr_idxs = np.argwhere(arms_list == s).flatten()\n",
    "        scales = np.zeros(usr_idxs.shape[0])\n",
    "        w_est = np.zeros(usr_idxs.shape[0])\n",
    "        stay_times = np.zeros()\n",
    "        for u in range(usr_idxs.shape[0])\n",
    "            scales[u] = Users[usr_idxs[u]].reward_scale[Users[usr_idxs[u]].usr_place]\n",
    "            w_est[u] =  Users[usr_idxs[u]].ucb_raw[s]\n",
    "        scales_dict[s] = copy.deepcopy(scales)\n",
    "        usr_idxs_dict[s] = copy.deepcopy(usr_idxs)\n",
    "        w_est_dict[s] = copy.deepcopy(w_est)\n",
    "        \n",
    "        Servers[s].receive_users(user_list, scales_list, w_est_list, stay_times_list)\n",
    "    \n",
    "    \n",
    "    return scales_dict, usr_idxs_dict, w_est_dict\n",
    "\n",
    "\n",
    "def update_user_info(Users):\n",
    "    return"
   ]
  },
  {
   "cell_type": "code",
   "execution_count": 33,
   "metadata": {},
   "outputs": [],
   "source": [
    "# System Parameters\n",
    "T = 10000\n",
    "num_users = 10\n",
    "num_svrs = 16\n",
    "num_locs = 16\n",
    "mu = np.random.uniform(low=0, high = 1, size = [num_users, num_svrs])\n",
    "# w = np.random.uniform(low=0, high=1, size= [num_users, num_svrs])\n",
    "\n",
    "# Generate visitng locations and server locations\n",
    "space_1d_dim = 16\n",
    "usr_locs = gen_eq_locs(space_1d=space_1d_dim, nums=num_locs)\n",
    "svr_locs = gen_eq_locs(space_1d=space_1d_dim, nums=num_svrs)\n",
    "\n",
    "# Create Users\n",
    "Users = []\n",
    "for i in range(num_users):\n",
    "    Users += [User(usr_locs,svr_locs,mu[i],i)]\n",
    "    \n",
    "# Create Servers\n",
    "Servers = []\n",
    "for i in range(num_svrs):\n",
    "    Servers += [Server(svr_locs[i],mu,i)]\n",
    "\n",
    "# Recorded Values\n",
    "rewards_record = np.zeros([num_users,num_svrs])\n",
    "pulls_record = np.zeros([num_users,num_svrs])\n",
    "ucb = np.zeros([num_users,num_svrs])\n",
    "regret = np.zeros(T)"
   ]
  },
  {
   "cell_type": "code",
   "execution_count": 40,
   "metadata": {},
   "outputs": [
    {
     "data": {
      "text/plain": [
       "(0, 1)"
      ]
     },
     "execution_count": 40,
     "metadata": {},
     "output_type": "execute_result"
    }
   ],
   "source": [
    "a = np.array([1,2,3,4])\n",
    "b = np.argwhere(a==5)\n",
    "b.flatten()\n",
    "b.shape"
   ]
  },
  {
   "cell_type": "code",
   "execution_count": null,
   "metadata": {},
   "outputs": [],
   "source": [
    "# Initial Stages -- TS = servers, rotating \n",
    "arms = list(range(num_users)) \n",
    "\n",
    "for i in range(num_svrs):\n",
    "    w = obtain_w(Users)\n",
    "    optimal = offline_optimal_action(w, mu)\n",
    "    rewards_record, pulls_record = pull_super_arm(arms, mu, rewards_record, pulls_record)\n",
    "    regret[i] = optimal[1] - expected_reward(arms, mu, w)\n",
    "    arms = sweep_init_next(arms, num_svrs)\n",
    "    \n",
    "for t in range(i+1, T):\n",
    "    w = np.random.uniform(low=0, high=1, size= [num_users, num_svrs])\n",
    "    optimal = offline_optimal_action(w, mu)\n",
    "    ucb = update_ucb(rewards_record, pulls_record, ucb, i, 1)\n",
    "    arms = offline_optimal_action(w, ucb)[0]\n",
    "    rewards_record, pulls_record = pull_super_arm(arms, mu, rewards_record, pulls_record)\n",
    "    regret[t] = optimal[1] - expected_reward(arms, mu, w)"
   ]
  }
 ],
 "metadata": {
  "kernelspec": {
   "display_name": "Python 3",
   "language": "python",
   "name": "python3"
  },
  "language_info": {
   "codemirror_mode": {
    "name": "ipython",
    "version": 3
   },
   "file_extension": ".py",
   "mimetype": "text/x-python",
   "name": "python",
   "nbconvert_exporter": "python",
   "pygments_lexer": "ipython3",
   "version": "3.7.3"
  }
 },
 "nbformat": 4,
 "nbformat_minor": 2
}
