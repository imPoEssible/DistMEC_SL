{
 "cells": [
  {
   "cell_type": "markdown",
   "metadata": {},
   "source": [
    "# Queuing Server Demo\n",
    "\n",
    "Introduce loads per user, have servers serve all user in parallel and return latency value. Users have latency threshold, and receive reward if latency is below threshold. "
   ]
  },
  {
   "cell_type": "code",
   "execution_count": 1,
   "metadata": {},
   "outputs": [
    {
     "name": "stdout",
     "output_type": "stream",
     "text": [
      "/home/tkim/Academics/DistMEC\n"
     ]
    }
   ],
   "source": [
    "cd /home/tkim/Academics/DistMEC/"
   ]
  },
  {
   "cell_type": "code",
   "execution_count": 2,
   "metadata": {},
   "outputs": [],
   "source": [
    "import numpy as np\n",
    "import matplotlib.pyplot as plt\n",
    "\n",
    "from classes.User import *\n",
    "from classes.solver import *\n",
    "from classes.Server import *\n",
    "from classes.distributed_utils import *\n",
    "\n",
    "from tqdm import tqdm, tqdm_notebook\n",
    "from time import sleep\n",
    "import pickle\n",
    "import os\n",
    "import numpy as np"
   ]
  },
  {
   "cell_type": "code",
   "execution_count": 240,
   "metadata": {},
   "outputs": [],
   "source": [
    "# Server Class\n",
    "class Server():\n",
    "    def __init__(self, rate, s_idx):\n",
    "        self.rate = rate\n",
    "        self.s_idx = s_idx\n",
    "        \n",
    "    def receive_users(self, loads_list):\n",
    "        load = np.sum(loads_list)\n",
    "        rate = np.random.exponential(self.rate)\n",
    "        latency = load/rate\n",
    "        return latency\n",
    "        \n",
    "# User Class - Receive Reward + Arm Selection\n",
    "class User():\n",
    "\n",
    "    def __init__(self, load, latency_threshold, num_servers,T):\n",
    "        self.load = load\n",
    "        self.latency_threshold = latency_threshold\n",
    "        self.pulls, self.means, self.ucb_idx = np.zeros(num_servers), np.zeros(num_servers), np.zeros(num_servers)\n",
    "        self.t = int(0)\n",
    "        self.reward_log = np.zeros(T + num_servers)\n",
    "        self.arm_history = np.zeros(T + num_servers)\n",
    "        \n",
    "    def calc_ucb(self):\n",
    "        for i in range(self.ucb_idx.shape[0]):\n",
    "            self.ucb_idx[i] = self.means[i] + np.sqrt(np.log(self.t)/self.pulls[i])\n",
    "            \n",
    "    def select_arm(self):\n",
    "        arm_id = np.random.choice(np.flatnonzero(self.ucb_idx == self.ucb_idx.max()))\n",
    "        self.arm_history[self.t] = int(arm_id)\n",
    "        \n",
    "        return arm_id\n",
    "    \n",
    "    def log_reward(self, latency):\n",
    "        \n",
    "        curr_reward = 0\n",
    "        if latency < self.latency_threshold:\n",
    "            curr_reward = 1\n",
    "\n",
    "        self.reward_log[self.t] = curr_reward\n",
    "        arm_id = int(self.arm_history[self.t])\n",
    "        self.means[int(self.arm_history[int(self.t)])] = (curr_reward + self.means[int(self.arm_history[int(self.t)])] \n",
    "                                                          * self.pulls[int(arm_id)])/(self.pulls[int(arm_id)] + 1)\n",
    "\n",
    "        self.pulls[arm_id] += 1\n",
    "        self.t += int(1)\n",
    "        \n",
    "        return curr_reward"
   ]
  },
  {
   "cell_type": "code",
   "execution_count": 188,
   "metadata": {},
   "outputs": [],
   "source": [
    "def init_offload_dict(num_svrs):\n",
    "    offload_dict = {}\n",
    "    for i in range(num_svrs):\n",
    "        offload_dict[i] = []\n",
    "    return offload_dict\n",
    "\n"
   ]
  },
  {
   "cell_type": "code",
   "execution_count": null,
   "metadata": {},
   "outputs": [],
   "source": [
    "import numpy as np\n",
    "import pulp as lp\n",
    "import itertools\n",
    "import copy\n",
    "\n",
    "# Compute the optimal static allocation in this scenario\n",
    "def offline_optimal_action(thresh_u, load_u, svr_rate):\n",
    "    \n",
    "    prob = lp.LpProblem(\"prob\",lp.LpMaximize)\n",
    "    \n",
    "    # Import pulp and make decision variables\n",
    "    dec_var = []\n",
    "    for u,s in itertools.product(range(num_user),range(num_server)):\n",
    "        dec_var += [(u,s)]\n",
    "        \n",
    "    X = lp.LpVariable.dicts(\"x\", dec_var,lowBound=0,upBound = 1, cat='Integer')\n",
    "\n",
    "    # Make Constraints - 1 pull per user\n",
    "    usr_constraint = []\n",
    "    for u in range(num_user):\n",
    "        usr_constraint += [0]\n",
    "\n",
    "    for u,s in itertools.product(range(num_user),range(num_server+1)):\n",
    "        usr_constraint[u] += X[(u,s-1)]\n",
    "\n",
    "    for u in range(num_user):\n",
    "        prob += (usr_constraint[u] == 1)\n",
    "        \n",
    "    "
   ]
  },
  {
   "cell_type": "code",
   "execution_count": 245,
   "metadata": {},
   "outputs": [],
   "source": [
    "# System Parameters\n",
    "T = 10000\n",
    "num_users = 5\n",
    "num_svrs = 5\n",
    "\n",
    "# Set user load and latency times\n",
    "thresh_u = np.random.uniform(1,2,num_users)\n",
    "load_u = np.random.uniform(0.5,1,num_users)\n",
    "svr_rate = np.random.uniform(0.9,2, num_svrs)\n",
    "\n",
    "thresh_u = np.random.uniform(1,1,num_users)\n",
    "load_u = np.random.uniform(1,1,num_users)\n",
    "svr_rate = np.random.uniform(1,1, num_svrs)\n",
    "\n",
    "# Set up system\n",
    "# Make servers and users\n",
    "Servers = []\n",
    "Users = []\n",
    "\n",
    "for s in range(num_svrs):\n",
    "    Servers += [Server(svr_rate[s],s)]\n",
    "    \n",
    "for u in range(num_users):\n",
    "    Users += [User(load_u[u],thresh_u[u],num_svrs,T)]\n",
    "\n",
    "# Calculate Optimal Reward    \n",
    "\n",
    "# Run Bandits\n",
    "rewards = np.zeros(T)\n",
    "\n",
    "# Each user pulls each server once\n",
    "for i in range(num_users):\n",
    "    for s in range(num_svrs):\n",
    "        lat = Servers[s].receive_users([Users[i].load])\n",
    "        Users[i].log_reward(lat)\n",
    "        \n",
    "# Run Bandits\n",
    "for t in range(T):\n",
    "    \n",
    "    # Users select arms\n",
    "    offload_dict = init_offload_dict(num_svrs)\n",
    "    load_dict = init_offload_dict(num_svrs)\n",
    "    for u in range(num_users):\n",
    "        arm = Users[u].select_arm()\n",
    "        load = Users[u].load\n",
    "        \n",
    "        offload_dict[arm] += [u]\n",
    "        load_dict[arm] += [load]\n",
    "        \n",
    "    # Offload to servers and get latency\n",
    "    lat_vals = np.zeros(num_users)\n",
    "    for s in range(num_svrs):\n",
    "        lat = Servers[s].receive_users(load_dict[s])\n",
    "        for u in offload_dict[s]:\n",
    "            reward = Users[u].log_reward(lat)    \n",
    "    \n",
    "            rewards[t] += reward"
   ]
  },
  {
   "cell_type": "code",
   "execution_count": 234,
   "metadata": {},
   "outputs": [],
   "source": [
    "num_user = num_users\n",
    "num_server = num_svrs\n",
    "\n",
    "prob = lp.LpProblem(\"prob\",lp.LpMaximize)\n",
    "\n",
    "# Import pulp and make decision variables\n",
    "dec_var = []\n",
    "for u,s in itertools.product(range(num_user),range(num_server)):\n",
    "    dec_var += [(u,s)]\n",
    "\n",
    "X = lp.LpVariable.dicts(\"x\", dec_var,lowBound=0,upBound = 1, cat='Integer')\n",
    "\n",
    "# Make Constraints - 1 pull per user\n",
    "usr_constraint = []\n",
    "for u in range(num_user):\n",
    "    usr_constraint += [0]\n",
    "\n",
    "for u,s in itertools.product(range(num_user),range(num_server)):\n",
    "    usr_constraint[u] += X[(u,s)]\n",
    "\n",
    "for u in range(num_user):\n",
    "    prob += (usr_constraint[u] == 1)\n",
    "    \n",
    "obj = 0\n",
    "for u,s in itertools.product(range(num_user),range(num_server)):\n",
    "    temp_u = load_u[u]/svr_rate[s]\n",
    "    for u2 in range(num_user):\n",
    "        if u2 != u:\n",
    "            temp_u += X[(u2,s)]*load_u[u2]/svr_rate[s] \n",
    "    obj += X[(u,s)] * (thresh_u[u] >= temp_u)\n",
    "    \n",
    "prob += obj\n",
    "\n",
    "status = prob.solve(lp.PULP_CBC_CMD(msg=0))\n",
    "\n",
    "X2 = copy.deepcopy(X)\n",
    "\n",
    "action = np.ones_like(np.ndarray(num_users)) * -1\n",
    "\n",
    "\n",
    "for key in X2.keys():\n",
    "    if X2[key].value() > 0:\n",
    "        u,s = key\n",
    "        action[u] = s"
   ]
  },
  {
   "cell_type": "code",
   "execution_count": 235,
   "metadata": {},
   "outputs": [
    {
     "data": {
      "text/plain": [
       "array([0., 4., 0., 4., 4.])"
      ]
     },
     "execution_count": 235,
     "metadata": {},
     "output_type": "execute_result"
    }
   ],
   "source": [
    "action"
   ]
  },
  {
   "cell_type": "code",
   "execution_count": 239,
   "metadata": {},
   "outputs": [
    {
     "data": {
      "text/plain": [
       "1*x_(0,_0) + 1*x_(0,_1) + 1*x_(0,_2) + 1*x_(0,_3) + 1*x_(0,_4) + 1*x_(1,_0) + 1*x_(1,_1) + 1*x_(1,_2) + 1*x_(1,_3) + 1*x_(1,_4) + 1*x_(2,_0) + 1*x_(2,_1) + 1*x_(2,_2) + 1*x_(2,_3) + 1*x_(2,_4) + 1*x_(3,_0) + 1*x_(3,_1) + 1*x_(3,_2) + 1*x_(3,_3) + 1*x_(3,_4) + 1*x_(4,_0) + 1*x_(4,_1) + 1*x_(4,_2) + 1*x_(4,_3) + 1*x_(4,_4) + 0"
      ]
     },
     "execution_count": 239,
     "metadata": {},
     "output_type": "execute_result"
    }
   ],
   "source": [
    "obj"
   ]
  },
  {
   "cell_type": "code",
   "execution_count": 246,
   "metadata": {},
   "outputs": [
    {
     "data": {
      "text/plain": [
       "<matplotlib.legend.Legend at 0x7fd226da9278>"
      ]
     },
     "execution_count": 246,
     "metadata": {},
     "output_type": "execute_result"
    },
    {
     "data": {
      "image/png": "[encoded data removed]",
      "text/plain": [
       "<Figure size 432x288 with 1 Axes>"
      ]
     },
     "metadata": {
      "needs_background": "light"
     },
     "output_type": "display_data"
    }
   ],
   "source": [
    "plot_idx = 1\n",
    "\n",
    "plt.plot(np.cumsum(rewards), label = 'stationary compare')\n",
    "plt.title('Cumulative Regret CMAB')\n",
    "plt.xlabel('Rounds')\n",
    "plt.legend()"
   ]
  },
  {
   "cell_type": "code",
   "execution_count": null,
   "metadata": {},
   "outputs": [],
   "source": []
  }
 ],
 "metadata": {
  "kernelspec": {
   "display_name": "Python 3",
   "language": "python",
   "name": "python3"
  },
  "language_info": {
   "codemirror_mode": {
    "name": "ipython",
    "version": 3
   },
   "file_extension": ".py",
   "mimetype": "text/x-python",
   "name": "python",
   "nbconvert_exporter": "python",
   "pygments_lexer": "ipython3",
   "version": "3.7.0"
  }
 },
 "nbformat": 4,
 "nbformat_minor": 2
}
