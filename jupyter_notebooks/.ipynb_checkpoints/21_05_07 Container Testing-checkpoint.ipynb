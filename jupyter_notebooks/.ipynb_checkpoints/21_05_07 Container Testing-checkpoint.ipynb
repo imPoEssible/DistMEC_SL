{
 "cells": [
  {
   "cell_type": "markdown",
   "metadata": {},
   "source": [
    "# Container Testing\n",
    "\n",
    "Date: 5.7.21\n",
    "\n",
    "Summary: Test the container class with the following characteristics:\n",
    "\n",
    "- FCFS Queue\n",
    "- Returning latency feedback to users\n",
    "- Queues carry on between small timesteps\n",
    "- Queues flush and reset between big timesteps\n",
    "- Compatibility with central controller deployment."
   ]
  },
  {
   "cell_type": "code",
   "execution_count": 1,
   "metadata": {},
   "outputs": [
    {
     "name": "stdout",
     "output_type": "stream",
     "text": [
      "/home/tkim/CMU/DistMEC\n"
     ]
    }
   ],
   "source": [
    "cd /home/tkim/CMU/DistMEC"
   ]
  },
  {
   "cell_type": "markdown",
   "metadata": {},
   "source": [
    "Import relevant libraries."
   ]
  },
  {
   "cell_type": "code",
   "execution_count": 2,
   "metadata": {},
   "outputs": [],
   "source": [
    "import numpy as np\n",
    "import math\n",
    "\n",
    "from classes.Application import *\n",
    "from classes.User import *\n",
    "from classes.Server import *\n",
    "from solver.Sim_Params import *\n",
    "import copy\n",
    "# from classes.Central_Controller import *"
   ]
  },
  {
   "cell_type": "markdown",
   "metadata": {},
   "source": [
    "### Container Class\n",
    "\n",
    "Build the class here and import to .py file."
   ]
  },
  {
   "cell_type": "code",
   "execution_count": 4,
   "metadata": {},
   "outputs": [],
   "source": [
    "import numpy as np\n",
    "\n",
    "class Container:\n",
    "    \"\"\"\n",
    "    Container: Associated with a specific server-application pair for one-to-many matching\n",
    "    Here \n",
    "    - Job type, resource requirements, UE requirements, arrival, departure times\n",
    "    \"\"\"\n",
    "    \n",
    "    def __init__(self, app_id, server_id, service_rate):\n",
    "        \"\"\"\n",
    "        app_id - which application this container is for\n",
    "        server_id - which server this VM is designated for (binary on off)\n",
    "        \"\"\"\n",
    "        \n",
    "        self.app_id = app_id\n",
    "        self.server_id = server_id\n",
    "        self.deployed = False # True when active at server\n",
    "        self.service_rate = service_rate\n",
    "        \n",
    "        # queue --> [user_id, job_id, load, remaining load]\n",
    "        self.queue = np.empty((0,4))\n",
    "        # history --> [user_id,job_id,load,completion_time,latency_restrict]\n",
    "        self.history = np.empty((0,5))\n",
    "        \n",
    "        \n",
    "        \n",
    "    def add_to_queue(self, new_offload):\n",
    "        \"\"\"\n",
    "        At the start of small TS add all queues\n",
    "        new_offload -> np array of shape (1,3)\n",
    "        \"\"\"\n",
    "        \n",
    "        new_offload = np.reshape(new_offload, (1,3))\n",
    "        \n",
    "        return\n",
    "        \n",
    "    def calc_emp_beta(self):\n",
    "        \"\"\"\n",
    "        Calculate the emprical value of beta based on latency violations\n",
    "        \"\"\"\n",
    "        \n",
    "        return"
   ]
  },
  {
   "cell_type": "markdown",
   "metadata": {},
   "source": [
    "### Test Scenarios\n",
    "\n",
    "1. generate containers, add to queue from user, process queue and return information to user\n"
   ]
  },
  {
   "cell_type": "code",
   "execution_count": 5,
   "metadata": {},
   "outputs": [],
   "source": [
    "a = Container(app_id = 1, server_id = 1, service_rate = 0.5)"
   ]
  },
  {
   "cell_type": "code",
   "execution_count": 6,
   "metadata": {},
   "outputs": [
    {
     "data": {
      "text/plain": [
       "<__main__.Container at 0x7f19d85105b0>"
      ]
     },
     "execution_count": 6,
     "metadata": {},
     "output_type": "execute_result"
    }
   ],
   "source": [
    "a\n"
   ]
  },
  {
   "cell_type": "code",
   "execution_count": null,
   "metadata": {},
   "outputs": [],
   "source": []
  }
 ],
 "metadata": {
  "kernelspec": {
   "display_name": "Python 3",
   "language": "python",
   "name": "python3"
  },
  "language_info": {
   "codemirror_mode": {
    "name": "ipython",
    "version": 3
   },
   "file_extension": ".py",
   "mimetype": "text/x-python",
   "name": "python",
   "nbconvert_exporter": "python",
   "pygments_lexer": "ipython3",
   "version": "3.8.3"
  }
 },
 "nbformat": 4,
 "nbformat_minor": 4
}
