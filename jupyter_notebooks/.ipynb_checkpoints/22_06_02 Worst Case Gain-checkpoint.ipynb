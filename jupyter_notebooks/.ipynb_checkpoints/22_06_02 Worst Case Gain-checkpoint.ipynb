{
 "cells": [
  {
   "cell_type": "code",
   "execution_count": 1,
   "metadata": {},
   "outputs": [
    {
     "name": "stdout",
     "output_type": "stream",
     "text": [
      "/home/ubuntu/DistMEC\n"
     ]
    }
   ],
   "source": [
    "cd /home/ubuntu/DistMEC/"
   ]
  },
  {
   "cell_type": "code",
   "execution_count": 2,
   "metadata": {},
   "outputs": [],
   "source": [
    "import numpy as np\n",
    "import matplotlib.pyplot as plt\n",
    "\n",
    "from classes.User import *\n",
    "from classes.solver import *\n",
    "from classes.Server import *\n",
    "from classes.distributed_utils import *"
   ]
  },
  {
   "cell_type": "code",
   "execution_count": 3,
   "metadata": {},
   "outputs": [],
   "source": [
    "def copy_usr_loc(Users1, Users2):\n",
    "    \n",
    "    for u in range(len(Users1)):\n",
    "        Users2[u].usr_place = Users1[u].usr_place\n",
    "        Users2[u].expected_time = Users1[u].expected_time\n",
    "        \n",
    "def moving_average(a, n=3) :\n",
    "    ret = np.cumsum(a, dtype=float)\n",
    "    ret[n:] = ret[n:] - ret[:-n]\n",
    "    return ret[n - 1:] / n"
   ]
  },
  {
   "cell_type": "code",
   "execution_count": 18,
   "metadata": {},
   "outputs": [],
   "source": [
    "# System Parameters\n",
    "T = 5000\n",
    "num_users = 10\n",
    "num_svrs = 16\n",
    "num_locs = 9\n",
    "mu = np.random.uniform(low=0, high = 1, size = [num_users, num_svrs])\n",
    "ceiling = 5\n",
    "# w = np.random.uniform(low=0, high=1, size= [num_users, num_svrs])\n",
    "\n",
    "# Generate visitng locations and server locations\n",
    "space_1d_dim = 10 #4 for small, 10 for big\n",
    "usr_locs = gen_eq_locs(space_1d=space_1d_dim, nums=num_locs)\n",
    "svr_locs = gen_eq_locs(space_1d=space_1d_dim, nums=num_svrs)\n",
    "\n",
    "# Create Users\n",
    "Users = []\n",
    "for i in range(num_users):\n",
    "    Users += [User(usr_locs,svr_locs,mu[i],i,\n",
    "                  max_dist = 7, threshold_dist = 6, self_weight = 1 - 0.95, P = None, ceiling = ceiling,\n",
    "                  sticky_mode = False)]\n",
    "    \n",
    "# Create Servers\n",
    "Servers = []\n",
    "for i in range(num_svrs):\n",
    "    Servers += [Server(svr_locs[i],mu,i)]\n",
    "\n",
    "# Recorded Values - reservation\n",
    "regret = np.zeros(T)\n",
    "collision_count = np.zeros(T)\n",
    "optimal_reward = np.zeros(T)"
   ]
  },
  {
   "cell_type": "code",
   "execution_count": null,
   "metadata": {},
   "outputs": [],
   "source": [
    "# Explore rounds are common/shared across all users\n",
    "explore_rounds(Users, num_users, Servers, mu, regret, collision_count, optimal_reward,\n",
    "               usr_move_flag = True, rounds=1)\n",
    "\n",
    "# Make copies of values for worst case\n",
    "Users_w = copy.deepcopy(Users)\n",
    "regret_w = copy.deepcopy(regret)\n",
    "collision_count_w = copy.deepcopy(collision_count)\n",
    "\n",
    "# For sticky Case\n",
    "Users_s = copy.deepcopy(Users)\n",
    "regret_s = copy.deepcopy(regret)\n",
    "collision_count_s = copy.deepcopy(collision_count)\n",
    "for u in Users_s:\n",
    "    u.sticky_mode = True\n",
    "\n",
    "for t in range(i+1, T):\n",
    "    w = obtain_w(Users, len(Users), len(Servers))\n",
    "    optimal = offline_optimal_action(w, mu)\n",
    "    optimal_reward[t] = optimal[1]\n",
    "    play_round(Users, Servers, mu, regret, collision_count, \n",
    "               usr_move_flag = True, debugger = False, reservation_mode = True, optimal =optimal)\n",
    "    play_round(Users_w, Servers, mu, regret_w, collision_count_w, \n",
    "               usr_move_flag = False, debugger=False, reservation_mode = False, optimal=optimal)\n",
    "    play_round(Users_s, Servers, mu, regret_s, collision_count_s, \n",
    "               usr_move_flag = False, debugger=False, reservation_mode = True, optimal=optimal)\n",
    "    copy_usr_loc(Users, Users_w)\n",
    "    copy_usr_loc(Users, Users_s)"
   ]
  },
  {
   "cell_type": "code",
   "execution_count": null,
   "metadata": {},
   "outputs": [],
   "source": [
    "# Obtain reward values\n",
    "reward = optimal_reward - regret\n",
    "reward_w = optimal_reward - regret_w\n",
    "reward_s = optimal_reward - regret_s\n",
    "threshold = 1\n",
    "\n",
    "# reward[reward <=  0] = threshold\n",
    "reward_w[reward_w <= 0] = reward_s[reward_w <=  0]# threshold"
   ]
  },
  {
   "cell_type": "code",
   "execution_count": null,
   "metadata": {},
   "outputs": [],
   "source": [
    "plt.plot(np.cumsum(regret), label = 'reserve')\n",
    "plt.plot(np.cumsum(regret_w), label = 'worst case')\n",
    "plt.plot(np.cumsum(regret_s), label = 'new rsv')\n",
    "plt.title('Cumulative Regret CMAB')\n",
    "plt.xlabel('Rounds')\n",
    "plt.ylabel('Regret')\n",
    "plt.legend()"
   ]
  },
  {
   "cell_type": "code",
   "execution_count": null,
   "metadata": {},
   "outputs": [],
   "source": [
    "plt.plot(np.cumsum(collision_count), label = 'reserve')\n",
    "plt.plot(np.cumsum(collision_count_w), label = 'worst case')\n",
    "plt.plot(np.cumsum(collision_count_s), label = 'new rsv')\n",
    "plt.title('Cumulative Collisions CMAB')\n",
    "plt.xlabel('Rounds')\n",
    "plt.legend()"
   ]
  },
  {
   "cell_type": "code",
   "execution_count": null,
   "metadata": {},
   "outputs": [],
   "source": [
    "# data preprocessing\n",
    "n = 100\n",
    "y1 = np.divide(reward, reward_w)\n",
    "y1 = moving_average(y1,n=n)\n",
    "\n",
    "y2 = np.divide(reward_s, reward_w)\n",
    "y2 = moving_average(y2, n=n)\n",
    "\n",
    "plt.plot(y1, label = 'regular')\n",
    "plt.plot(y2, label = 'new')\n",
    "plt.title('Reward Proportion to Worst Case CMAB')\n",
    "plt.xlabel('Rounds')\n",
    "plt.ylabel('Reward')\n",
    "plt.legend()\n",
    "\n",
    "print('reg',np.mean(np.divide(reward, reward_w)))\n",
    "print('new',np.mean(np.divide(reward_s, reward_w)))\n"
   ]
  },
  {
   "cell_type": "code",
   "execution_count": null,
   "metadata": {},
   "outputs": [],
   "source": [
    "m = 50\n",
    "plt.plot(moving_average(collision_count,m), label = 'reserve')\n",
    "plt.plot(moving_average(collision_count_w,m), label = 'worst case')\n",
    "plt.plot(moving_average(collision_count_s,m), label = 'new rsv')\n",
    "plt.title('Per Round Collisions CMAB')\n",
    "plt.xlabel('Rounds')\n",
    "plt.legend()\n",
    "\n"
   ]
  }
 ],
 "metadata": {
  "kernelspec": {
   "display_name": "Python 3",
   "language": "python",
   "name": "python3"
  },
  "language_info": {
   "codemirror_mode": {
    "name": "ipython",
    "version": 3
   },
   "file_extension": ".py",
   "mimetype": "text/x-python",
   "name": "python",
   "nbconvert_exporter": "python",
   "pygments_lexer": "ipython3",
   "version": "3.7.3"
  }
 },
 "nbformat": 4,
 "nbformat_minor": 2
}
