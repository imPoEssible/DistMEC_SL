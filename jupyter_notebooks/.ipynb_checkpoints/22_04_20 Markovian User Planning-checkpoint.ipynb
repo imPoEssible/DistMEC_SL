{
 "cells": [
  {
   "cell_type": "code",
   "execution_count": 72,
   "metadata": {},
   "outputs": [],
   "source": [
    "import numpy as np\n",
    "import itertools\n",
    "import random"
   ]
  },
  {
   "cell_type": "code",
   "execution_count": 73,
   "metadata": {},
   "outputs": [],
   "source": [
    "class User():\n",
    "\n",
    "    def __init__(self, locs, svr_locs, w, idx, \n",
    "                 max_dist = 7, threshold_dist = 6, self_weight = 0.5, P = None, ceiling = 20):\n",
    "        # max dist - reward range\n",
    "        # threshold dist - used for generating markov chain\n",
    "        \n",
    "        self.idx = idx\n",
    "        self.locs = locs\n",
    "        self.dists = self.get_dists()\n",
    "        self.svr_locs = svr_locs\n",
    "        self.ceiling = ceiling\n",
    "        self.w = w # True weights\n",
    "        self.t = 0 # Time-steps past\n",
    "        self.mode = \"blind\" # oracle\n",
    "        \n",
    "        if P is None:\n",
    "            self.P = self.make_P(threshold_dist, self_weight)\n",
    "        else:\n",
    "            self.P = P\n",
    "            \n",
    "        self.reward_dists = self.get_reward_dists()\n",
    "        self.reward_scale = self.get_scales(max_dist)\n",
    "        self.usr_place = self.init_loc()\n",
    "        self.expected_time = self.get_expected_time()\n",
    "        \n",
    "        # Initialize learning parameters\n",
    "        self.ucb_raw = np.zeros(len(svr_locs))\n",
    "        self.pulls = np.zeros(len(svr_locs))\n",
    "        self.param_summed = np.zeros(len(svr_locs))\n",
    "        self.max_logs = np.zeros(len(svr_locs)) # Threshold value UCB idx must exceed to pull arm\n",
    "        self.wait_times = np.zeros(len(svr_locs))\n",
    "        \n",
    "        \n",
    "    \n",
    "    def make_P(self, threshold_dist, self_weight):\n",
    "        # Creating Markov Transition Probability Matrix \n",
    "        \n",
    "        P = np.zeros(self.dists.shape)\n",
    "        locs = self.locs\n",
    "        for i in range(len(locs)):\n",
    "            cut_list = self.dists[i,:]\n",
    "            others = np.squeeze(np.argwhere((cut_list > 0) * (cut_list < threshold_dist) == True))\n",
    "            num_others = others.shape[0]\n",
    "        \n",
    "            # Draw values to make up row of MC\n",
    "            self_transition = np.random.exponential(scale=1/self_weight)\n",
    "            others_transition = np.random.exponential(scale=1/((1-self_weight)*num_others),size=num_others)\n",
    "            total = self_transition + np.sum(others_transition)\n",
    "            \n",
    "            P[i,i] = self_transition/total\n",
    "            \n",
    "            idx = 0\n",
    "            for j in others:\n",
    "                P[i,j] = others_transition[idx]/total\n",
    "                idx += 1\n",
    "            \n",
    "        return P\n",
    "    \n",
    "    def get_dists(self):\n",
    "        # Obtaining distance matrix (from loc to loc) \n",
    "        \n",
    "        locs = self.locs\n",
    "        \n",
    "        num_locs = len(locs)\n",
    "        dists = np.zeros([num_locs,num_locs])\n",
    "        \n",
    "        for i,j in itertools.product(range(num_locs), range(num_locs)):\n",
    "            if dists[i,j] == 0 and i != j:\n",
    "                a = np.array(locs[i])\n",
    "                b = np.array(locs[j])\n",
    "                dists[i,j] = np.linalg.norm(a-b)\n",
    "                dists[j,i] = dists[i,j]\n",
    "        \n",
    "        return dists\n",
    "    \n",
    "    def get_reward_dists(self):\n",
    "        \n",
    "        locs = self.locs\n",
    "        svr_locs = self.svr_locs\n",
    "        \n",
    "        dists = np.zeros([len(locs),len(svr_locs)])\n",
    "        \n",
    "        for i,j in itertools.product(range(len(locs)), range(len(svr_locs))):\n",
    "            a = np.array(locs[i])\n",
    "            b = np.array(svr_locs[j])\n",
    "            dists[i,j] = np.linalg.norm(a-b)\n",
    "        \n",
    "        return dists\n",
    "    \n",
    "    def get_scales(self,max_dist):\n",
    "        # Mapping reward to [0,1] based on distance and max acceptable distance\n",
    "        \n",
    "        reward_scale = np.ones(self.reward_dists.shape) - self.reward_dists/max_dist\n",
    "        reward_scale[reward_scale < 0] = 0\n",
    "        \n",
    "        return reward_scale\n",
    "    \n",
    "    def init_loc(self):\n",
    "        # Initial location user takes \n",
    "        curr_loc = np.random.randint(0, len(self.locs)-1)\n",
    "        return curr_loc\n",
    "    \n",
    "    def next_loc(self):\n",
    "        # Update user location based on markov chain\n",
    "        weights = self.P[self.usr_place]\n",
    "        population = range(weights.shape[0])\n",
    "        self.usr_place =  random.choices(population, weights)[0]\n",
    "        self.expected_time = self.get_expected_time()\n",
    "        \n",
    "    def get_expected_time(self):\n",
    "        # Get number of expected ts user will stay at this location\n",
    "        try:\n",
    "            curr_prob = np.ceil( 1/(1 - self.P[self.usr_place, self.usr_place]) )\n",
    "        except:\n",
    "            curr_prob = self.ceiling\n",
    "        \n",
    "        return curr_prob\n",
    "    \n",
    "    def update_ucb(self, L=2):\n",
    "        \"\"\"\n",
    "        Update decision variables for next round\n",
    "        \"\"\"\n",
    "\n",
    "        reward_record = self.rewards_scaled\n",
    "        pulls_record = self.pulls\n",
    "        ucb = np.zeros(self.ucb_raw.shape)\n",
    "        \n",
    "        for s in range(reward_record.shape[0]):\n",
    "            if pulls_record[s] > 0:\n",
    "                mean = reward_record[s]/pulls_record[s]\n",
    "            else:\n",
    "                mean = 0\n",
    "\n",
    "            cb = np.sqrt(L * np.log(self.t)/ pulls_record[s])\n",
    "\n",
    "            ucb[s] = mean + cb\n",
    "\n",
    "        self.ucb_raw = ucb\n",
    "    \n",
    "    def choose_arm(self):\n",
    "        # Choose an arm to pull based on collision restriction and UCB info\n",
    "        \n",
    "        if self.mode is \"blind\": \n",
    "            ucb_scaled =  self.reward_scale[self.usr_place] * self.ucb_raw\n",
    "        else:\n",
    "            ucb_scaled = self.reward_scale[self.usr_place] * self.w\n",
    "            \n",
    "        for i in range(ucb_scaled.shape[0]):\n",
    "            if self.wait_times[i] > 0 and ucb_scaled[i] > self.max_logs[i]:\n",
    "                ucb_scaled[i] = -10 # Force arm out of consideration\n",
    "        \n",
    "        arm_id = np.argmax(ucb_scaled)\n",
    "        \n",
    "        return arm_id\n",
    "    \n",
    "    def receive_reward(self, arm_id, reward, collision_flag, max_reward, wait_time, chosen_idx):\n",
    "        # Return information from server transaction\n",
    "        if not collision_flag:\n",
    "            scale = self.reward_scale[self.usr_place,arm_id]\n",
    "            self.pulls[arm_id] += 1\n",
    "            self.param_summed[arm_id] += reward/scale\n",
    "            self.t += 1 # only update time used in UCB index when success\n",
    "        elif chosen_idx != self.idx:\n",
    "            self.max_logs[arm_id] = max_reward # Threshold value UCB idx must exceed to pull arm\n",
    "            self.wait_times[arm_id] = wait_time\n",
    "        else: # This arm is reserved\n",
    "            pass\n",
    "        \n",
    "        self.update_waittime(arm_id, wait_time, max_reward)\n",
    "    \n",
    "    def update_waittime(self, arm_id, wait_time, max_reward):\n",
    "        self.wait_times -= 1\n",
    "        self.wait_times[self.wait_times < 0] = 0\n",
    "        self.max_logs[self.wait_times <= 0] = 0\n",
    "    \n"
   ]
  },
  {
   "cell_type": "code",
   "execution_count": 1,
   "metadata": {},
   "outputs": [
    {
     "ename": "SyntaxError",
     "evalue": "invalid syntax (<ipython-input-1-396dd768da70>, line 6)",
     "output_type": "error",
     "traceback": [
      "\u001b[0;36m  File \u001b[0;32m\"<ipython-input-1-396dd768da70>\"\u001b[0;36m, line \u001b[0;32m6\u001b[0m\n\u001b[0;31m    def\u001b[0m\n\u001b[0m        ^\u001b[0m\n\u001b[0;31mSyntaxError\u001b[0m\u001b[0;31m:\u001b[0m invalid syntax\n"
     ]
    }
   ],
   "source": [
    "class Server():\n",
    "    def __init__(self, loc, w, s_idx):\n",
    "        self.locs = locs\n",
    "        self.w = w\n",
    "        self.s_idx = s_idx\n",
    "       \n",
    "    def receive_users(self, user_list, scales_list, w_est_list, stay_times_list):\n",
    "        \n",
    "        # if 1 pull\n",
    "        if len(user_list) == 1:\n",
    "            reserve_id = user_list[0]\n",
    "            reward = np.array([scales_list[0] *  np.random.binomial(n=1,p=self.w[reserve_id, self.s_idx])])\n",
    "            reserve_max_val = scales_list[0]* w_est_list[0]\n",
    "            reserve_time = stay_times_list[0]\n",
    "            collision_flag = False\n",
    "        elif len(user_list) > 1:\n",
    "            collision_flag = True\n",
    "            reward = np.zeros(len(user_list))\n",
    "            reserve_max_val_list = np.zeros(len(user_list))\n",
    "            for i in range(len(user_list)):\n",
    "                reward[i] = scales_list[i] *  np.random.binomial(n=1,p=self.w[user_list[i], self.s_idx])\n",
    "                reserve_max_val_list[i] = scales_list[i] * w_est_list[i]\n",
    "            \n",
    "            reserve_id = user_list[np.argmax(reserve_max_val)]\n",
    "            reserve_max_val = reserve_max_val_list[np.argmax(reserve_max_val)]\n",
    "            reserve_time = stay_times_list[np.argmax(reserve_max_val)]\n",
    "            \n",
    "                \n",
    "        else: # no users pull this arm\n",
    "            reserve_id, reserve_max_val, reserve_time, reward, collision_flag = None, None, None, None, False\n",
    "            \n",
    "        \n",
    "        return reserve_id, reserve_max_val, reserve_time, reward, collision_flag"
   ]
  },
  {
   "cell_type": "code",
   "execution_count": 75,
   "metadata": {},
   "outputs": [],
   "source": [
    "locs = [(0,0),(2,2),(4,4),(5,5)]\n",
    "svr_locs = [(1,1),(3,3),(6,6)]\n",
    "w = np.zeros(3)\n",
    "u = User(locs,svr_locs,w)"
   ]
  },
  {
   "cell_type": "code",
   "execution_count": 24,
   "metadata": {},
   "outputs": [
    {
     "data": {
      "text/plain": [
       "array([0.39840772, 0.22612264, 0.37546964, 0.        ])"
      ]
     },
     "execution_count": 24,
     "metadata": {},
     "output_type": "execute_result"
    }
   ],
   "source": [
    "        self.ucb_raw = np.zeros(len(svr_locs))\n",
    "        self.pulls = np.zeros(len(svr_locs))\n",
    "        self.max_logs = np.zeros(len(svr_locs)) # Threshold value UCB idx must exceed to pull arm\n",
    "        self.wait_times = np.zeros(len(svr_locs))\n",
    "        "
   ]
  },
  {
   "cell_type": "code",
   "execution_count": 25,
   "metadata": {},
   "outputs": [
    {
     "data": {
      "text/plain": [
       "array([[0.79796949, 0.39390847, 0.        ],\n",
       "       [0.79796949, 0.79796949, 0.19187796],\n",
       "       [0.39390847, 0.79796949, 0.59593898],\n",
       "       [0.19187796, 0.59593898, 0.79796949]])"
      ]
     },
     "execution_count": 25,
     "metadata": {},
     "output_type": "execute_result"
    }
   ],
   "source": [
    "u.reward_scale"
   ]
  },
  {
   "cell_type": "code",
   "execution_count": 26,
   "metadata": {},
   "outputs": [
    {
     "data": {
      "text/plain": [
       "array([[0.        , 0.40406102, 0.80812204, 1.01015254],\n",
       "       [0.40406102, 0.        , 0.40406102, 0.60609153],\n",
       "       [0.80812204, 0.40406102, 0.        , 0.20203051],\n",
       "       [1.01015254, 0.60609153, 0.20203051, 0.        ]])"
      ]
     },
     "execution_count": 26,
     "metadata": {},
     "output_type": "execute_result"
    }
   ],
   "source": [
    "u.dists/7"
   ]
  },
  {
   "cell_type": "code",
   "execution_count": 27,
   "metadata": {},
   "outputs": [
    {
     "data": {
      "text/plain": [
       "2"
      ]
     },
     "execution_count": 27,
     "metadata": {},
     "output_type": "execute_result"
    }
   ],
   "source": [
    "np.random.randint(0, 9)"
   ]
  },
  {
   "cell_type": "code",
   "execution_count": 41,
   "metadata": {},
   "outputs": [
    {
     "data": {
      "text/plain": [
       "3"
      ]
     },
     "execution_count": 41,
     "metadata": {},
     "output_type": "execute_result"
    }
   ],
   "source": [
    "weights = u.P[u.usr_place]\n",
    "population = range(weights.shape[0])\n",
    "random.choices(population, weights)[0]"
   ]
  },
  {
   "cell_type": "code",
   "execution_count": 31,
   "metadata": {},
   "outputs": [
    {
     "data": {
      "text/plain": [
       "range(0, 4)"
      ]
     },
     "execution_count": 31,
     "metadata": {},
     "output_type": "execute_result"
    }
   ],
   "source": [
    "population"
   ]
  },
  {
   "cell_type": "code",
   "execution_count": 33,
   "metadata": {},
   "outputs": [
    {
     "data": {
      "text/plain": [
       "array([0.14406385, 0.66682787, 0.03831985, 0.15078843])"
      ]
     },
     "execution_count": 33,
     "metadata": {},
     "output_type": "execute_result"
    }
   ],
   "source": [
    "weights"
   ]
  },
  {
   "cell_type": "code",
   "execution_count": 71,
   "metadata": {},
   "outputs": [
    {
     "name": "stdout",
     "output_type": "stream",
     "text": [
      "2\n",
      "2\n",
      "1\n",
      "0\n",
      "2\n",
      "2\n",
      "2\n",
      "2\n",
      "1\n",
      "3\n"
     ]
    }
   ],
   "source": [
    "for i in range(10):\n",
    "    u.next_loc()\n",
    "    print(u.usr_place)"
   ]
  },
  {
   "cell_type": "code",
   "execution_count": 98,
   "metadata": {},
   "outputs": [],
   "source": [
    "a = np.array([3,2,3])"
   ]
  },
  {
   "cell_type": "code",
   "execution_count": 99,
   "metadata": {},
   "outputs": [
    {
     "data": {
      "text/plain": [
       "0"
      ]
     },
     "execution_count": 99,
     "metadata": {},
     "output_type": "execute_result"
    }
   ],
   "source": [
    "np.argmax(a)"
   ]
  },
  {
   "cell_type": "code",
   "execution_count": 100,
   "metadata": {},
   "outputs": [],
   "source": [
    "a-=1"
   ]
  },
  {
   "cell_type": "code",
   "execution_count": 101,
   "metadata": {},
   "outputs": [],
   "source": [
    "a[a>1] = 0"
   ]
  },
  {
   "cell_type": "code",
   "execution_count": 102,
   "metadata": {},
   "outputs": [
    {
     "data": {
      "text/plain": [
       "array([0, 1, 0])"
      ]
     },
     "execution_count": 102,
     "metadata": {},
     "output_type": "execute_result"
    }
   ],
   "source": [
    "a"
   ]
  },
  {
   "cell_type": "code",
   "execution_count": null,
   "metadata": {},
   "outputs": [],
   "source": []
  }
 ],
 "metadata": {
  "kernelspec": {
   "display_name": "Python 3",
   "language": "python",
   "name": "python3"
  },
  "language_info": {
   "codemirror_mode": {
    "name": "ipython",
    "version": 3
   },
   "file_extension": ".py",
   "mimetype": "text/x-python",
   "name": "python",
   "nbconvert_exporter": "python",
   "pygments_lexer": "ipython3",
   "version": "3.7.3"
  }
 },
 "nbformat": 4,
 "nbformat_minor": 2
}
