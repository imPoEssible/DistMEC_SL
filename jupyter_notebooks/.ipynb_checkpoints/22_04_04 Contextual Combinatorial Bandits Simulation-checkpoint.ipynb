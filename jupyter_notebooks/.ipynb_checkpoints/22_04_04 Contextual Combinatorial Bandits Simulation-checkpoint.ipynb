{
 "cells": [
  {
   "cell_type": "code",
   "execution_count": 1,
   "metadata": {},
   "outputs": [],
   "source": [
    "import numpy as np\n",
    "import matplotlib.pyplot as plt\n",
    "\n",
    "import pulp as lp\n",
    "import itertools\n",
    "import copy"
   ]
  },
  {
   "cell_type": "code",
   "execution_count": 31,
   "metadata": {},
   "outputs": [],
   "source": [
    "# Offline optimal to calculate regret\n",
    "def offline_optimal_action(W, mu):\n",
    "    \n",
    "    action = np.ones_like(mu[:,0]) * -1\n",
    "    \n",
    "    C = np.append(mu,np.zeros([mu.shape[0],1]),axis=1)\n",
    "    \n",
    "    num_user = mu[:,0].shape[0]\n",
    "    num_server = mu[0,:].shape[0]\n",
    "    \n",
    "    prob = lp.LpProblem(\"prob\",lp.LpMaximize)\n",
    "    \n",
    "    # Import pulp and make decision variables\n",
    "    dec_var = []\n",
    "    for u,s in itertools.product(range(num_user),range(num_server+1)):\n",
    "        dec_var += [(u,s-1)]\n",
    "\n",
    "    X = lp.LpVariable.dicts(\"x\", dec_var,lowBound=0,upBound = 1, cat='Integer')\n",
    "\n",
    "    # Make Constraints - 1 pull per user\n",
    "    usr_constraint = []\n",
    "    for u in range(num_user):\n",
    "        usr_constraint += [0]\n",
    "\n",
    "    for u,s in itertools.product(range(num_user),range(num_server+1)):\n",
    "        usr_constraint[u] += X[(u,s-1)]\n",
    "\n",
    "    for u in range(num_user):\n",
    "        prob += (usr_constraint[u] == 1)\n",
    "\n",
    "    # Make constraint - 1 user per server\n",
    "    svr_constraint = []\n",
    "\n",
    "    for s in range(num_server):\n",
    "        svr_constraint += [0]\n",
    "\n",
    "    for u,s in itertools.product(range(num_user),range(num_server)):\n",
    "        svr_constraint[s] += X[(u,s)]\n",
    "\n",
    "    for s in range(num_server):\n",
    "        prob += (svr_constraint[s] <= 1)\n",
    "\n",
    "    # Make objective function\n",
    "    obj = 0\n",
    "    for u,s in itertools.product(range(num_user),range(num_server+1)):\n",
    "        obj += W[u,s-1] * C[u,s-1] * X[(u,s-1)]\n",
    "    prob += obj\n",
    "\n",
    "    status = prob.solve(lp.PULP_CBC_CMD(msg=0))\n",
    "    \n",
    "    X2 = copy.deepcopy(X)\n",
    "\n",
    "    for key in X2.keys():\n",
    "        if X2[key].value() > 0:\n",
    "            u,s = key\n",
    "            action[u] = s\n",
    "    \n",
    "    rwd = 0\n",
    "    \n",
    "    for u in range(num_user):\n",
    "        rwd += W[u, int(action[u])]* C[u,int(action[u])]\n",
    "        \n",
    "    new_action = []\n",
    "    for i in range(action.shape[0]):\n",
    "        new_action += [int(action[i])]\n",
    "    \n",
    "    return new_action, rwd\n",
    "\n",
    "def pull_super_arm(arms, mus, rewards_record, pulls_record ):\n",
    "    \"\"\"\n",
    "    arms - u x 1, vector, ith-element is user i, indicates which arm they will pull\n",
    "    return - rewards of each arm drawn from bernoulli distribution \n",
    "    \"\"\"\n",
    "    \n",
    "    for i in range(len(arms)): # looping through clients\n",
    "        n = 1\n",
    "        p = mus[i,arms[i]]\n",
    "        s = np.random.binomial(n, p, 1)\n",
    "        rewards_record[i,arms[i]] += [s]\n",
    "        pulls_record[i,arms[i]] += 1\n",
    "    return rewards_record, pulls_record\n",
    "    \n",
    "def update_ucb(reward_record, pulls_record, ucb, T, L=2):\n",
    "    \"\"\"\n",
    "    Update decision variables for next round\n",
    "    \"\"\"\n",
    "    \n",
    "    num_users, num_svrs = reward_record.shape[0], reward_record.shape[1]\n",
    "    for u in range(num_users):\n",
    "        for s in range(num_svrs):\n",
    "            if pulls_record[u,s] > 0:\n",
    "                mean = reward_record[u,s]/pulls_record[u,s]\n",
    "            else:\n",
    "                mean = 0\n",
    "            \n",
    "            cb = np.sqrt(L * np.log(T)/ pulls_record[u,s])\n",
    "            \n",
    "            ucb[u,s] = mean + cb\n",
    "    \n",
    "    return ucb\n",
    "\n",
    "    \n",
    "def sweep_init_next(lst, num_svrs):\n",
    "    for i in range(len(lst)):\n",
    "        lst[i] += 1\n",
    "        lst[i] = lst[i]%(num_svrs)\n",
    "    \n",
    "    return lst\n",
    "\n",
    "def expected_reward(arms, mus, w):\n",
    "    exp_mus = np.zeros(len(arms))\n",
    "    for i in range(len(arms)):\n",
    "        exp_mus[i] = w[i, arms[i]]* mus[i, arms[i]]\n",
    "        \n",
    "    return np.sum(exp_mus)"
   ]
  },
  {
   "cell_type": "code",
   "execution_count": 56,
   "metadata": {},
   "outputs": [],
   "source": [
    "# System Parameters\n",
    "T = 10000\n",
    "num_users = 10\n",
    "num_svrs = 15\n",
    "mu = np.random.uniform(low=0, high = 1, size = [num_users, num_svrs])\n",
    "w = np.random.uniform(low=0, high=1, size= [num_users, num_svrs])\n",
    "\n",
    "# Recorded Values\n",
    "rewards_record = np.zeros([num_users,num_svrs])\n",
    "pulls_record = np.zeros([num_users,num_svrs])\n",
    "ucb = np.zeros([num_users,num_svrs])\n",
    "# optimal = offline_optimal_action(w, mu)\n",
    "regret = np.zeros(T)"
   ]
  },
  {
   "cell_type": "code",
   "execution_count": 57,
   "metadata": {},
   "outputs": [],
   "source": [
    "# Initial Stages -- TS = servers, rotating \n",
    "arms = list(range(num_users)) \n",
    "# w = np.random.uniform(low=0, high=1, size= [num_users, num_svrs])\n",
    "# optimal = offline_optimal_action(w, mu)\n",
    "\n",
    "for i in range(num_svrs):\n",
    "    w = np.random.uniform(low=0, high=1, size= [num_users, num_svrs])\n",
    "    optimal = offline_optimal_action(w, mu)\n",
    "    rewards_record, pulls_record = pull_super_arm(arms, mu, rewards_record, pulls_record)\n",
    "    regret[i] = optimal[1] - expected_reward(arms, mu, w)\n",
    "    arms = sweep_init_next(arms, num_svrs)\n",
    "    \n",
    "for t in range(i+1, T):\n",
    "    w = np.random.uniform(low=0, high=1, size= [num_users, num_svrs])\n",
    "    optimal = offline_optimal_action(w, mu)\n",
    "    ucb = update_ucb(rewards_record, pulls_record, ucb, i, 1)\n",
    "    arms = offline_optimal_action(w, ucb)[0]\n",
    "    rewards_record, pulls_record = pull_super_arm(arms, mu, rewards_record, pulls_record)\n",
    "    regret[t] = optimal[1] - expected_reward(arms, mu, w)"
   ]
  },
  {
   "cell_type": "code",
   "execution_count": 58,
   "metadata": {},
   "outputs": [
    {
     "data": {
      "text/plain": [
       "Text(0, 0.5, 'Regret')"
      ]
     },
     "execution_count": 58,
     "metadata": {},
     "output_type": "execute_result"
    },
    {
     "data": {
      "image/png": "[encoded data removed]",
      "text/plain": [
       "<Figure size 432x288 with 1 Axes>"
      ]
     },
     "metadata": {
      "needs_background": "light"
     },
     "output_type": "display_data"
    }
   ],
   "source": [
    "plt.plot(np.cumsum(regret))\n",
    "plt.title('Cumulative Regret CMAB')\n",
    "plt.xlabel('Rounds')\n",
    "plt.ylabel('Regret')"
   ]
  },
  {
   "cell_type": "code",
   "execution_count": 59,
   "metadata": {},
   "outputs": [
    {
     "data": {
      "text/plain": [
       "Text(0, 0.5, 'Regret')"
      ]
     },
     "execution_count": 59,
     "metadata": {},
     "output_type": "execute_result"
    },
    {
     "data": {
      "image/png": "[encoded data removed]",
      "text/plain": [
       "<Figure size 432x288 with 1 Axes>"
      ]
     },
     "metadata": {
      "needs_background": "light"
     },
     "output_type": "display_data"
    }
   ],
   "source": [
    "plt.plot(regret)\n",
    "plt.title('Per Round Regret CMAB')\n",
    "plt.xlabel('Rounds')\n",
    "plt.ylabel('Regret')"
   ]
  },
  {
   "cell_type": "code",
   "execution_count": 60,
   "metadata": {},
   "outputs": [
    {
     "data": {
      "text/plain": [
       "array([ 2.68506652e-02,  1.72445264e-01,  8.44728146e-02, -8.88178420e-16,\n",
       "        0.00000000e+00,  0.00000000e+00,  0.00000000e+00,  0.00000000e+00,\n",
       "        5.02075881e-02, -1.77635684e-15,  2.19495158e-02, -8.88178420e-16,\n",
       "        0.00000000e+00,  5.85570905e-02,  0.00000000e+00,  8.88178420e-16,\n",
       "        1.26122204e-03,  7.80288357e-02,  8.88178420e-16,  0.00000000e+00,\n",
       "        8.88178420e-16,  6.61309336e-04,  6.77244836e-02,  1.23662651e-02,\n",
       "        3.69502830e-03,  0.00000000e+00,  0.00000000e+00,  5.13258807e-02,\n",
       "        9.33225472e-03,  0.00000000e+00,  0.00000000e+00,  0.00000000e+00,\n",
       "        3.88527475e-03, -8.88178420e-16,  3.73925352e-02,  0.00000000e+00,\n",
       "        6.97002573e-02,  0.00000000e+00,  2.29513528e-02,  4.29564609e-02,\n",
       "        0.00000000e+00, -8.88178420e-16,  0.00000000e+00,  0.00000000e+00,\n",
       "        2.59040469e-02,  9.50074303e-02,  3.48446965e-03,  6.55858707e-02,\n",
       "        1.56981319e-01,  0.00000000e+00,  0.00000000e+00,  3.42486224e-02,\n",
       "       -8.88178420e-16,  5.47898523e-03,  0.00000000e+00,  0.00000000e+00,\n",
       "        8.88178420e-16,  0.00000000e+00,  8.88178420e-16, -8.88178420e-16,\n",
       "        7.18290763e-02,  8.88178420e-16,  5.37964829e-02,  0.00000000e+00,\n",
       "        0.00000000e+00, -8.88178420e-16,  7.11841966e-02,  7.15607520e-03,\n",
       "        0.00000000e+00,  0.00000000e+00,  0.00000000e+00,  1.65221291e-01,\n",
       "        0.00000000e+00,  8.88178420e-16, -8.88178420e-16,  0.00000000e+00,\n",
       "        0.00000000e+00,  0.00000000e+00,  0.00000000e+00,  0.00000000e+00,\n",
       "       -1.77635684e-15,  0.00000000e+00,  3.29546840e-02,  2.25290207e-02,\n",
       "        3.14413661e-01,  0.00000000e+00,  0.00000000e+00,  3.31236654e-02,\n",
       "       -8.88178420e-16,  0.00000000e+00,  6.05584739e-02,  1.53617588e-02,\n",
       "        8.88178420e-16,  4.26152102e-02,  0.00000000e+00, -8.88178420e-16,\n",
       "        0.00000000e+00,  1.33444944e-01,  0.00000000e+00,  0.00000000e+00,\n",
       "        3.11164739e-02, -8.88178420e-16,  8.88178420e-16, -8.88178420e-16,\n",
       "        0.00000000e+00,  3.18374926e-03,  7.60343463e-03,  4.65308058e-02,\n",
       "        1.79810355e-03,  0.00000000e+00,  0.00000000e+00,  3.88329267e-02,\n",
       "        1.93046685e-02,  0.00000000e+00,  0.00000000e+00,  3.46296819e-02,\n",
       "        1.06270912e-01,  0.00000000e+00,  2.97634013e-03,  9.70067903e-02,\n",
       "        6.79298297e-03,  1.02844825e-01,  2.28051538e-01, -8.88178420e-16,\n",
       "       -1.77635684e-15, -1.77635684e-15,  1.93428782e-02,  1.56616137e-02,\n",
       "        7.82911607e-02,  0.00000000e+00,  1.46050624e-02,  1.36439593e-02,\n",
       "        5.52572347e-02,  1.95140119e-01,  6.59372948e-02,  2.16496664e-01,\n",
       "        0.00000000e+00,  3.63825937e-02,  0.00000000e+00,  1.77635684e-15,\n",
       "        5.36914960e-02,  0.00000000e+00,  1.13615463e-02,  0.00000000e+00,\n",
       "        1.21028517e-03,  5.57839618e-02,  0.00000000e+00,  2.11785629e-01,\n",
       "        4.82136093e-02, -1.77635684e-15,  0.00000000e+00,  2.15720378e-02,\n",
       "        1.47358020e-01,  0.00000000e+00,  1.24480557e-02,  1.79418824e-02,\n",
       "        0.00000000e+00,  2.41201257e-02,  0.00000000e+00,  2.42369434e-02,\n",
       "        6.06572348e-02,  1.67050526e-01,  0.00000000e+00,  1.29708582e-02,\n",
       "        2.27880552e-02, -8.88178420e-16,  0.00000000e+00,  0.00000000e+00,\n",
       "        1.05909289e-02,  9.70500241e-02,  0.00000000e+00,  0.00000000e+00,\n",
       "        1.28203971e-01,  4.62957819e-03,  1.20726232e-02,  0.00000000e+00,\n",
       "        0.00000000e+00,  0.00000000e+00,  0.00000000e+00,  6.40654195e-02,\n",
       "        2.84352286e-02,  1.12282419e-01,  7.83621570e-03,  6.91831460e-03,\n",
       "       -8.88178420e-16, -8.88178420e-16,  2.27789052e-02,  9.01031506e-02,\n",
       "        2.87390365e-01,  1.78632372e-02,  8.88178420e-16,  4.34962250e-02,\n",
       "       -8.88178420e-16,  9.37104153e-03,  0.00000000e+00,  0.00000000e+00,\n",
       "        0.00000000e+00,  1.13166243e-01,  0.00000000e+00,  1.03154681e-02,\n",
       "        0.00000000e+00,  8.88178420e-16,  0.00000000e+00,  7.24729528e-03,\n",
       "        3.35610941e-02,  8.88178420e-16,  1.23696207e-02,  5.70538619e-02,\n",
       "        0.00000000e+00,  0.00000000e+00,  0.00000000e+00,  0.00000000e+00,\n",
       "       -8.88178420e-16,  0.00000000e+00,  0.00000000e+00,  8.88178420e-16,\n",
       "        0.00000000e+00,  0.00000000e+00,  1.35021238e-02, -8.88178420e-16,\n",
       "        0.00000000e+00,  2.27020208e-02,  0.00000000e+00,  2.03738355e-02,\n",
       "        0.00000000e+00,  6.43935266e-03,  0.00000000e+00,  1.77635684e-15,\n",
       "        1.56267356e-01,  3.87764811e-02,  1.36423580e-01, -8.88178420e-16,\n",
       "        6.57800802e-03,  7.82735285e-03,  3.89371928e-02,  1.51738985e-02,\n",
       "        0.00000000e+00,  0.00000000e+00,  7.89388686e-02,  8.88178420e-16,\n",
       "       -1.77635684e-15,  1.34084555e-01,  2.59022051e-02,  1.41360475e-01,\n",
       "        0.00000000e+00,  0.00000000e+00,  0.00000000e+00,  0.00000000e+00,\n",
       "        3.14577291e-03,  1.17613110e-02,  0.00000000e+00,  1.57723658e-02,\n",
       "        1.25886428e-01,  4.25358169e-03,  2.25437183e-02,  2.68726891e-01,\n",
       "        0.00000000e+00,  1.07174891e-01,  8.88178420e-16,  1.46868839e-01,\n",
       "        0.00000000e+00, -8.88178420e-16, -8.88178420e-16,  1.89343916e-02,\n",
       "        2.28831904e-02,  0.00000000e+00,  1.57743796e-02,  0.00000000e+00,\n",
       "        6.85925388e-02,  0.00000000e+00,  1.45295094e-02,  8.88178420e-16,\n",
       "       -8.88178420e-16,  1.36037327e-01, -8.88178420e-16,  2.67927548e-01,\n",
       "        3.97316133e-02, -8.88178420e-16,  0.00000000e+00,  6.46546572e-03,\n",
       "       -8.88178420e-16,  8.81562849e-03,  0.00000000e+00,  0.00000000e+00,\n",
       "        0.00000000e+00,  0.00000000e+00, -8.88178420e-16,  8.22556197e-02,\n",
       "        6.43174774e-02, -8.88178420e-16,  0.00000000e+00,  1.29268779e-02,\n",
       "        0.00000000e+00,  0.00000000e+00,  8.88178420e-16,  0.00000000e+00,\n",
       "        1.42244303e-02,  0.00000000e+00,  1.35972099e-02, -8.88178420e-16,\n",
       "        2.17709273e-01,  0.00000000e+00,  1.18941727e-01,  8.88178420e-16,\n",
       "        1.11381362e-02,  0.00000000e+00,  0.00000000e+00,  4.81930679e-02,\n",
       "        1.31565071e-02,  0.00000000e+00,  0.00000000e+00,  8.88178420e-16,\n",
       "       -1.77635684e-15,  7.37660278e-03,  2.58866040e-02,  0.00000000e+00,\n",
       "        1.15071914e-01,  1.12878858e-01,  1.41757618e-02,  1.00530938e-01,\n",
       "        8.88178420e-16,  3.20490850e-02,  0.00000000e+00,  1.26754398e-02,\n",
       "       -1.77635684e-15,  5.04376257e-02,  1.75223557e-02, -8.88178420e-16,\n",
       "        0.00000000e+00,  1.19510280e-02,  0.00000000e+00,  3.77549501e-02,\n",
       "        0.00000000e+00, -8.88178420e-16,  8.88178420e-16, -8.88178420e-16,\n",
       "        1.18308178e-01,  0.00000000e+00, -8.88178420e-16,  0.00000000e+00,\n",
       "        8.74630812e-02,  0.00000000e+00,  4.54947245e-02,  8.88178420e-16,\n",
       "        0.00000000e+00,  2.73813636e-02,  8.88178420e-16,  4.13034431e-03,\n",
       "        0.00000000e+00, -8.88178420e-16, -8.88178420e-16, -8.88178420e-16,\n",
       "        0.00000000e+00, -8.88178420e-16,  0.00000000e+00,  3.28511137e-02,\n",
       "        1.43675925e-03,  8.88178420e-16,  1.39631343e-02,  1.04970287e-01,\n",
       "        3.55409970e-02,  1.04738072e-01,  7.96340310e-02,  6.36341547e-02,\n",
       "        0.00000000e+00, -8.88178420e-16,  0.00000000e+00, -8.88178420e-16,\n",
       "        6.25090576e-02,  0.00000000e+00,  8.55009675e-02,  2.42724606e-02,\n",
       "        6.40514934e-03,  0.00000000e+00,  8.88178420e-16,  1.86145351e-01,\n",
       "        4.97310119e-02,  0.00000000e+00,  0.00000000e+00,  7.83159405e-02,\n",
       "        1.09137845e-02,  0.00000000e+00,  0.00000000e+00,  2.08473972e-01,\n",
       "        8.80527261e-04,  0.00000000e+00,  0.00000000e+00,  4.56606124e-03,\n",
       "        0.00000000e+00,  0.00000000e+00,  0.00000000e+00,  0.00000000e+00,\n",
       "        0.00000000e+00,  3.27774867e-03,  0.00000000e+00,  8.88178420e-16,\n",
       "        2.06662151e-01,  0.00000000e+00,  0.00000000e+00,  1.51431459e-02,\n",
       "        0.00000000e+00,  1.37214592e-02,  3.73114734e-02,  1.13977599e-02,\n",
       "        0.00000000e+00,  0.00000000e+00, -8.88178420e-16, -8.88178420e-16,\n",
       "        2.82547456e-02,  0.00000000e+00,  0.00000000e+00,  0.00000000e+00,\n",
       "        4.57493123e-02,  3.85724811e-02,  0.00000000e+00,  3.08260757e-03,\n",
       "        8.88178420e-16,  2.63865164e-01, -8.88178420e-16,  4.18821908e-02,\n",
       "        3.73014127e-02, -1.77635684e-15,  0.00000000e+00,  2.50958857e-02,\n",
       "        0.00000000e+00,  2.24368961e-02,  0.00000000e+00,  0.00000000e+00,\n",
       "       -8.88178420e-16,  0.00000000e+00,  3.23241310e-04,  3.69833953e-02,\n",
       "        7.78688311e-02,  1.65205289e-01,  1.35255274e-01,  0.00000000e+00,\n",
       "        0.00000000e+00,  6.20095127e-04,  2.23948654e-02,  4.86046302e-03,\n",
       "        8.88178420e-16,  3.12876226e-02,  1.65739452e-01,  0.00000000e+00,\n",
       "        0.00000000e+00,  8.88178420e-16,  1.24521670e-01,  0.00000000e+00,\n",
       "        0.00000000e+00,  4.09330268e-02,  4.02242046e-02,  1.08004849e-01,\n",
       "        0.00000000e+00,  1.67815788e-02,  2.39107941e-02, -1.77635684e-15,\n",
       "        0.00000000e+00,  0.00000000e+00,  2.83421342e-02,  0.00000000e+00,\n",
       "        2.22557971e-02,  4.56141714e-03,  0.00000000e+00,  8.88178420e-16,\n",
       "       -8.88178420e-16,  5.25791640e-02,  0.00000000e+00, -8.88178420e-16,\n",
       "        8.88178420e-16,  0.00000000e+00,  9.48759082e-02,  0.00000000e+00,\n",
       "        0.00000000e+00,  3.47571343e-02,  1.33370807e-02,  0.00000000e+00,\n",
       "        1.54568691e-01,  1.56365002e-02,  8.88178420e-16,  0.00000000e+00,\n",
       "        8.88178420e-16,  0.00000000e+00,  8.88178420e-16,  3.68895206e-03,\n",
       "        9.17563343e-02,  3.36709857e-02,  0.00000000e+00,  2.20031866e-02,\n",
       "        1.63946822e-02,  8.02466115e-02,  0.00000000e+00,  1.77635684e-15,\n",
       "        6.37543247e-03, -8.88178420e-16,  2.53727273e-02,  1.30534380e-02,\n",
       "        1.26252829e-02,  0.00000000e+00,  9.32525532e-02,  0.00000000e+00])"
      ]
     },
     "execution_count": 60,
     "metadata": {},
     "output_type": "execute_result"
    }
   ],
   "source": [
    "regret[T-500:]"
   ]
  },
  {
   "cell_type": "code",
   "execution_count": 61,
   "metadata": {},
   "outputs": [
    {
     "name": "stdout",
     "output_type": "stream",
     "text": [
      "[4, 12, 3, 14, 13, 7, 9, 6, 1, 2]\n",
      "[4, 12, 3, 14, 13, 7, 9, 6, 1, 2]\n"
     ]
    }
   ],
   "source": [
    "print(optimal[0])\n",
    "print(arms)"
   ]
  },
  {
   "cell_type": "code",
   "execution_count": 68,
   "metadata": {},
   "outputs": [
    {
     "data": {
      "text/plain": [
       "array([0.66546438, 0.25892857, 0.57624398, 0.6036036 , 0.04545455,\n",
       "       0.60322953, 0.        , 0.98198739, 0.20512821, 0.46195652,\n",
       "       0.74076561, 0.48484848, 0.6781158 , 0.        , 0.04347826])"
      ]
     },
     "execution_count": 68,
     "metadata": {},
     "output_type": "execute_result"
    }
   ],
   "source": [
    "# estimated parameters\n",
    "update_ucb(rewards_record, pulls_record, ucb, i, 0)[1]"
   ]
  },
  {
   "cell_type": "code",
   "execution_count": 69,
   "metadata": {},
   "outputs": [
    {
     "data": {
      "text/plain": [
       "array([0.66289327, 0.22229353, 0.58949061, 0.59912608, 0.1102458 ,\n",
       "       0.59469044, 0.03079697, 0.98417654, 0.21208574, 0.45506221,\n",
       "       0.75569856, 0.48408783, 0.67730733, 0.12038735, 0.09441667])"
      ]
     },
     "execution_count": 69,
     "metadata": {},
     "output_type": "execute_result"
    }
   ],
   "source": [
    "# Real parameters\n",
    "mu[1]"
   ]
  },
  {
   "cell_type": "code",
   "execution_count": 72,
   "metadata": {},
   "outputs": [
    {
     "data": {
      "text/plain": [
       "array([1109.,  112.,  623.,  555.,   22.,  867.,   23., 3331.,   39.,\n",
       "        368., 1489.,  396., 1019.,   24.,   23.])"
      ]
     },
     "execution_count": 72,
     "metadata": {},
     "output_type": "execute_result"
    }
   ],
   "source": [
    "pulls_record[1]"
   ]
  },
  {
   "cell_type": "code",
   "execution_count": null,
   "metadata": {},
   "outputs": [],
   "source": []
  }
 ],
 "metadata": {
  "kernelspec": {
   "display_name": "Python 3",
   "language": "python",
   "name": "python3"
  },
  "language_info": {
   "codemirror_mode": {
    "name": "ipython",
    "version": 3
   },
   "file_extension": ".py",
   "mimetype": "text/x-python",
   "name": "python",
   "nbconvert_exporter": "python",
   "pygments_lexer": "ipython3",
   "version": "3.7.3"
  }
 },
 "nbformat": 4,
 "nbformat_minor": 2
}
