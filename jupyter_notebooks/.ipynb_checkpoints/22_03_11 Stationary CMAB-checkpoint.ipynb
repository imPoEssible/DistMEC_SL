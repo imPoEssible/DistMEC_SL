{
 "cells": [
  {
   "cell_type": "code",
   "execution_count": 2,
   "metadata": {},
   "outputs": [],
   "source": [
    "import numpy as np\n",
    "import matplotlib.pyplot as plt\n",
    "\n",
    "import pulp as lp\n",
    "import itertools\n",
    "import copy"
   ]
  },
  {
   "cell_type": "code",
   "execution_count": 30,
   "metadata": {},
   "outputs": [],
   "source": [
    "# Offline optimal to calculate regret\n",
    "def offline_optimal_action(mu):\n",
    "    \n",
    "    action = np.ones_like(mu[:,0]) * -1\n",
    "    \n",
    "    C = np.append(mu,np.zeros([mu.shape[0],1]),axis=1)\n",
    "    \n",
    "    num_user = mu[:,0].shape[0]\n",
    "    num_server = mu[0,:].shape[0]\n",
    "    \n",
    "    prob = lp.LpProblem(\"prob\",lp.LpMaximize)\n",
    "    \n",
    "    # Import pulp and make decision variables\n",
    "    dec_var = []\n",
    "    for u,s in itertools.product(range(num_user),range(num_server+1)):\n",
    "        dec_var += [(u,s-1)]\n",
    "\n",
    "    X = lp.LpVariable.dicts(\"x\", dec_var,lowBound=0,upBound = 1, cat='Integer')\n",
    "\n",
    "    # Make Constraints - 1 pull per user\n",
    "    usr_constraint = []\n",
    "    for u in range(num_user):\n",
    "        usr_constraint += [0]\n",
    "\n",
    "    for u,s in itertools.product(range(num_user),range(num_server+1)):\n",
    "        usr_constraint[u] += X[(u,s-1)]\n",
    "\n",
    "    for u in range(num_user):\n",
    "        prob += (usr_constraint[u] == 1)\n",
    "\n",
    "    # Make constraint - 1 user per server\n",
    "    svr_constraint = []\n",
    "\n",
    "    for s in range(num_server):\n",
    "        svr_constraint += [0]\n",
    "\n",
    "    for u,s in itertools.product(range(num_user),range(num_server)):\n",
    "        svr_constraint[s] += X[(u,s)]\n",
    "\n",
    "    for s in range(num_server):\n",
    "        prob += (svr_constraint[s] <= 1)\n",
    "\n",
    "    # Make objective function\n",
    "    obj = 0\n",
    "    for u,s in itertools.product(range(num_user),range(num_server+1)):\n",
    "        obj += C[u,s-1] * X[(u,s-1)]\n",
    "    prob += obj\n",
    "\n",
    "    status = prob.solve(lp.PULP_CBC_CMD(msg=0))\n",
    "    \n",
    "    X2 = copy.deepcopy(X)\n",
    "\n",
    "    for key in X2.keys():\n",
    "        if X2[key].value() > 0:\n",
    "            u,s = key\n",
    "            action[u] = s\n",
    "    \n",
    "    rwd = 0\n",
    "    \n",
    "    for u in range(num_user):\n",
    "        rwd += C[u,int(action[u])]\n",
    "        \n",
    "    new_action = []\n",
    "    for i in range(action.shape[0]):\n",
    "        new_action += [int(action[i])]\n",
    "    \n",
    "    return action, rwd\n",
    "\n",
    "def pull_super_arm(arms, mus, rewards_record, pulls_record ):\n",
    "    \"\"\"\n",
    "    arms - u x 1, vector, ith-element is user i, indicates which arm they will pull\n",
    "    return - rewards of each arm drawn from bernoulli distribution \n",
    "    \"\"\"\n",
    "    \n",
    "    for i in range(len(arms)): # looping through clients\n",
    "        n = 1\n",
    "        p = mus[i,arms[i]]\n",
    "        s = np.random.binomial(n, p, 1)\n",
    "        rewards_record[i,arms[i]] += [s]\n",
    "        pulls_record[i,arms[i]] += 1\n",
    "    return rewards_record, pulls_record\n",
    "    \n",
    "def update_ucb(reward_record, pulls_record, ucb, T, L=2):\n",
    "    \"\"\"\n",
    "    Update decision variables for next round\n",
    "    \"\"\"\n",
    "    \n",
    "    num_users, num_svrs = reward_record.shape[0], reward_record.shape[1]\n",
    "    for u in range(num_users):\n",
    "        for s in range(num_svrs):\n",
    "            if pulls_record[u,s] > 0:\n",
    "                mean = reward_record[u,s]/pulls_record[u,s]\n",
    "            else:\n",
    "                mean = 0\n",
    "            \n",
    "            cb = np.sqrt(L * np.log(T)/ pulls_record[u,s])\n",
    "            \n",
    "            ucb[u,s] = mean + cb\n",
    "    \n",
    "    return ucb\n",
    "\n",
    "    \n",
    "def sweep_init_next(lst, num_svrs):\n",
    "    for i in range(len(lst)):\n",
    "        lst[i] += 1\n",
    "        lst[i] = lst[i]%(num_svrs)\n",
    "    \n",
    "    return lst\n",
    "\n",
    "def expected_reward(arms, mus):\n",
    "    exp_mus = np.zeros(len(arms))\n",
    "    for i in range(len(arms)):\n",
    "        exp_mus[i] = mus[i, arms[i]]\n",
    "        \n",
    "    return np.sum(exp_mus)"
   ]
  },
  {
   "cell_type": "code",
   "execution_count": 31,
   "metadata": {},
   "outputs": [],
   "source": [
    "# System Parameters\n",
    "T = 300\n",
    "num_users = 10\n",
    "num_svrs = 11\n",
    "mu = np.random.uniform(low=0, high = 1, size = [num_users, num_svrs])\n",
    "\n",
    "# Recorded Values\n",
    "rewards_record = np.zeros([num_users,num_svrs])\n",
    "pulls_record = np.zeros([num_users,num_svrs])\n",
    "ucb = np.zeros([num_users,num_svrs])\n",
    "optimal = offline_optimal_action(mu)\n",
    "regret = np.zeros(T)"
   ]
  },
  {
   "cell_type": "code",
   "execution_count": 39,
   "metadata": {},
   "outputs": [
    {
     "ename": "IndexError",
     "evalue": "only integers, slices (`:`), ellipsis (`...`), numpy.newaxis (`None`) and integer or boolean arrays are valid indices",
     "output_type": "error",
     "traceback": [
      "\u001b[0;31m---------------------------------------------------------------------------\u001b[0m",
      "\u001b[0;31mIndexError\u001b[0m                                Traceback (most recent call last)",
      "\u001b[0;32m<ipython-input-39-54ed1ef296ef>\u001b[0m in \u001b[0;36m<module>\u001b[0;34m\u001b[0m\n\u001b[1;32m      9\u001b[0m     \u001b[0mucb\u001b[0m \u001b[0;34m=\u001b[0m \u001b[0mupdate_ucb\u001b[0m\u001b[0;34m(\u001b[0m\u001b[0mrewards_record\u001b[0m\u001b[0;34m,\u001b[0m \u001b[0mpulls_record\u001b[0m\u001b[0;34m,\u001b[0m \u001b[0mucb\u001b[0m\u001b[0;34m,\u001b[0m \u001b[0mi\u001b[0m\u001b[0;34m,\u001b[0m \u001b[0;36m2\u001b[0m\u001b[0;34m)\u001b[0m\u001b[0;34m\u001b[0m\u001b[0;34m\u001b[0m\u001b[0m\n\u001b[1;32m     10\u001b[0m     \u001b[0marms\u001b[0m\u001b[0;34m,\u001b[0m \u001b[0m_\u001b[0m \u001b[0;34m=\u001b[0m \u001b[0moffline_optimal_action\u001b[0m\u001b[0;34m(\u001b[0m\u001b[0mucb\u001b[0m\u001b[0;34m)\u001b[0m\u001b[0;34m\u001b[0m\u001b[0;34m\u001b[0m\u001b[0m\n\u001b[0;32m---> 11\u001b[0;31m     \u001b[0mrewards_record\u001b[0m\u001b[0;34m,\u001b[0m \u001b[0mpulls_record\u001b[0m \u001b[0;34m=\u001b[0m \u001b[0mpull_super_arm\u001b[0m\u001b[0;34m(\u001b[0m\u001b[0marms\u001b[0m\u001b[0;34m,\u001b[0m \u001b[0mmu\u001b[0m\u001b[0;34m,\u001b[0m \u001b[0mrewards_record\u001b[0m\u001b[0;34m,\u001b[0m \u001b[0mpulls_record\u001b[0m\u001b[0;34m)\u001b[0m\u001b[0;34m\u001b[0m\u001b[0;34m\u001b[0m\u001b[0m\n\u001b[0m\u001b[1;32m     12\u001b[0m     \u001b[0mregret\u001b[0m\u001b[0;34m[\u001b[0m\u001b[0mt\u001b[0m\u001b[0;34m]\u001b[0m \u001b[0;34m=\u001b[0m \u001b[0moptimal\u001b[0m\u001b[0;34m[\u001b[0m\u001b[0;36m1\u001b[0m\u001b[0;34m]\u001b[0m \u001b[0;34m-\u001b[0m \u001b[0mexpected_reward\u001b[0m\u001b[0;34m(\u001b[0m\u001b[0marms\u001b[0m\u001b[0;34m,\u001b[0m \u001b[0mmu\u001b[0m\u001b[0;34m)\u001b[0m\u001b[0;34m\u001b[0m\u001b[0;34m\u001b[0m\u001b[0m\n",
      "\u001b[0;32m<ipython-input-30-346855a95b38>\u001b[0m in \u001b[0;36mpull_super_arm\u001b[0;34m(arms, mus, rewards_record, pulls_record)\u001b[0m\n\u001b[1;32m     71\u001b[0m     \u001b[0;32mfor\u001b[0m \u001b[0mi\u001b[0m \u001b[0;32min\u001b[0m \u001b[0mrange\u001b[0m\u001b[0;34m(\u001b[0m\u001b[0mlen\u001b[0m\u001b[0;34m(\u001b[0m\u001b[0marms\u001b[0m\u001b[0;34m)\u001b[0m\u001b[0;34m)\u001b[0m\u001b[0;34m:\u001b[0m \u001b[0;31m# looping through clients\u001b[0m\u001b[0;34m\u001b[0m\u001b[0;34m\u001b[0m\u001b[0m\n\u001b[1;32m     72\u001b[0m         \u001b[0mn\u001b[0m \u001b[0;34m=\u001b[0m \u001b[0;36m1\u001b[0m\u001b[0;34m\u001b[0m\u001b[0;34m\u001b[0m\u001b[0m\n\u001b[0;32m---> 73\u001b[0;31m         \u001b[0mp\u001b[0m \u001b[0;34m=\u001b[0m \u001b[0mmus\u001b[0m\u001b[0;34m[\u001b[0m\u001b[0mi\u001b[0m\u001b[0;34m,\u001b[0m\u001b[0marms\u001b[0m\u001b[0;34m[\u001b[0m\u001b[0mi\u001b[0m\u001b[0;34m]\u001b[0m\u001b[0;34m]\u001b[0m\u001b[0;34m\u001b[0m\u001b[0;34m\u001b[0m\u001b[0m\n\u001b[0m\u001b[1;32m     74\u001b[0m         \u001b[0ms\u001b[0m \u001b[0;34m=\u001b[0m \u001b[0mnp\u001b[0m\u001b[0;34m.\u001b[0m\u001b[0mrandom\u001b[0m\u001b[0;34m.\u001b[0m\u001b[0mbinomial\u001b[0m\u001b[0;34m(\u001b[0m\u001b[0mn\u001b[0m\u001b[0;34m,\u001b[0m \u001b[0mp\u001b[0m\u001b[0;34m,\u001b[0m \u001b[0;36m1\u001b[0m\u001b[0;34m)\u001b[0m\u001b[0;34m\u001b[0m\u001b[0;34m\u001b[0m\u001b[0m\n\u001b[1;32m     75\u001b[0m         \u001b[0mrewards_record\u001b[0m\u001b[0;34m[\u001b[0m\u001b[0mi\u001b[0m\u001b[0;34m,\u001b[0m\u001b[0marms\u001b[0m\u001b[0;34m[\u001b[0m\u001b[0mi\u001b[0m\u001b[0;34m]\u001b[0m\u001b[0;34m]\u001b[0m \u001b[0;34m+=\u001b[0m \u001b[0;34m[\u001b[0m\u001b[0ms\u001b[0m\u001b[0;34m]\u001b[0m\u001b[0;34m\u001b[0m\u001b[0;34m\u001b[0m\u001b[0m\n",
      "\u001b[0;31mIndexError\u001b[0m: only integers, slices (`:`), ellipsis (`...`), numpy.newaxis (`None`) and integer or boolean arrays are valid indices"
     ]
    }
   ],
   "source": [
    "# Initial Stages -- TS = servers, rotating \n",
    "arms = list(range(num_users)) \n",
    "for i in range(num_svrs):\n",
    "    rewards_record, pulls_record = pull_super_arm(arms,mu, rewards_record, pulls_record)\n",
    "    regret[i] = optimal[1] - expected_reward(arms, mu)\n",
    "    arms = sweep_init_next(arms, num_svrs)\n",
    "    \n",
    "for t in range(i+1, T):\n",
    "    ucb = update_ucb(rewards_record, pulls_record, ucb, i, 2)\n",
    "    arms = offline_optimal_action(ucb)[0]\n",
    "    rewards_record, pulls_record = pull_super_arm(arms, mu, rewards_record, pulls_record)\n",
    "    regret[t] = optimal[1] - expected_reward(arms, mu)"
   ]
  },
  {
   "cell_type": "code",
   "execution_count": 44,
   "metadata": {},
   "outputs": [
    {
     "data": {
      "text/plain": [
       "[2.0, 1.0, 10.0, 7.0, 4.0, 0.0, 3.0, 6.0, 5.0, 8.0]"
      ]
     },
     "execution_count": 44,
     "metadata": {},
     "output_type": "execute_result"
    }
   ],
   "source": [
    "list(offline_optimal_action(ucb)[0])"
   ]
  },
  {
   "cell_type": "code",
   "execution_count": 44,
   "metadata": {},
   "outputs": [],
   "source": [
    "lst = initial_usr_to_svr"
   ]
  },
  {
   "cell_type": "code",
   "execution_count": 55,
   "metadata": {},
   "outputs": [
    {
     "data": {
      "text/plain": [
       "[0, 1, 2, 3, 4, 5, 6, 7, 8, 9]"
      ]
     },
     "execution_count": 55,
     "metadata": {},
     "output_type": "execute_result"
    }
   ],
   "source": [
    "sweep_init_next(lst,num_svrs)"
   ]
  },
  {
   "cell_type": "code",
   "execution_count": 34,
   "metadata": {},
   "outputs": [],
   "source": [
    "ucb = update_ucb(rewards_record, pulls_record, ucb, i, 2)"
   ]
  },
  {
   "cell_type": "code",
   "execution_count": 35,
   "metadata": {},
   "outputs": [
    {
     "data": {
      "text/plain": [
       "array([[2.01742713, 2.01742713, 2.51742713, 2.01742713, 2.01742713,\n",
       "        1.51742713, 1.51742713, 2.01742713, 2.01742713, 1.51742713,\n",
       "        1.51742713],\n",
       "       [2.51742713, 2.51742713, 1.51742713, 2.01742713, 1.51742713,\n",
       "        2.01742713, 2.01742713, 1.51742713, 2.01742713, 2.51742713,\n",
       "        2.01742713],\n",
       "       [1.51742713, 1.51742713, 2.01742713, 1.51742713, 2.01742713,\n",
       "        2.01742713, 1.51742713, 2.51742713, 2.51742713, 2.01742713,\n",
       "        2.51742713],\n",
       "       [1.51742713, 1.51742713, 2.01742713, 2.01742713, 2.01742713,\n",
       "        2.01742713, 1.51742713, 2.51742713, 2.51742713, 2.01742713,\n",
       "        1.51742713],\n",
       "       [1.51742713, 2.51742713, 2.51742713, 2.01742713, 2.51742713,\n",
       "        2.01742713, 1.51742713, 2.01742713, 1.51742713, 2.51742713,\n",
       "        2.01742713],\n",
       "       [2.01742713, 2.51742713, 2.51742713, 2.01742713, 1.51742713,\n",
       "        2.01742713, 2.01742713, 2.01742713, 2.51742713, 2.01742713,\n",
       "        2.01742713],\n",
       "       [1.51742713, 2.51742713, 2.01742713, 2.51742713, 1.51742713,\n",
       "        2.51742713, 2.51742713, 2.01742713, 2.51742713, 2.51742713,\n",
       "        2.01742713],\n",
       "       [1.51742713, 2.01742713, 2.01742713, 2.51742713, 1.51742713,\n",
       "        2.51742713, 2.51742713, 1.51742713, 1.51742713, 2.01742713,\n",
       "        2.51742713],\n",
       "       [1.51742713, 2.51742713, 2.51742713, 2.01742713, 2.51742713,\n",
       "        2.51742713, 2.51742713, 2.51742713, 2.51742713, 2.51742713,\n",
       "        1.51742713],\n",
       "       [1.51742713, 1.51742713, 2.01742713, 1.51742713, 1.51742713,\n",
       "        2.01742713, 2.01742713, 2.01742713, 2.51742713, 2.01742713,\n",
       "        2.01742713]])"
      ]
     },
     "execution_count": 35,
     "metadata": {},
     "output_type": "execute_result"
    }
   ],
   "source": [
    "ucb"
   ]
  },
  {
   "cell_type": "code",
   "execution_count": null,
   "metadata": {},
   "outputs": [],
   "source": []
  }
 ],
 "metadata": {
  "kernelspec": {
   "display_name": "Python 3",
   "language": "python",
   "name": "python3"
  },
  "language_info": {
   "codemirror_mode": {
    "name": "ipython",
    "version": 3
   },
   "file_extension": ".py",
   "mimetype": "text/x-python",
   "name": "python",
   "nbconvert_exporter": "python",
   "pygments_lexer": "ipython3",
   "version": "3.7.3"
  }
 },
 "nbformat": 4,
 "nbformat_minor": 2
}
