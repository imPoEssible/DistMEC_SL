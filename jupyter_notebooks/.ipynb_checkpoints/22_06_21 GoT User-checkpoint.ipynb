{
 "cells": [
  {
   "cell_type": "code",
   "execution_count": 1,
   "metadata": {},
   "outputs": [
    {
     "name": "stdout",
     "output_type": "stream",
     "text": [
      "/home/ubuntu/DistMEC\n"
     ]
    }
   ],
   "source": [
    "cd /home/ubuntu/DistMEC/"
   ]
  },
  {
   "cell_type": "code",
   "execution_count": 2,
   "metadata": {},
   "outputs": [],
   "source": [
    "import numpy as np\n",
    "import matplotlib.pyplot as plt\n",
    "\n",
    "from classes.User import *\n",
    "from classes.solver import *\n",
    "from classes.Server import *\n",
    "from classes.distributed_utils import *\n",
    "\n",
    "from tqdm import tqdm, tqdm_notebook\n",
    "from time import sleep\n",
    "import pickle\n",
    "import os\n",
    "import numpy as np"
   ]
  },
  {
   "cell_type": "code",
   "execution_count": 3,
   "metadata": {},
   "outputs": [],
   "source": [
    "class GoT_User(User):\n",
    "    \n",
    "    def __init__(self, locs, svr_locs, mu, idx, \n",
    "                 max_dist = 7, threshold_dist = 6, self_weight = 0.5, P = None,\n",
    "                 c1 = 100, c2 = 600, c3 = 600, delta = 0, rho = 0.5, epsilon = 0.01,\n",
    "                 c = None, horizon = 15000):\n",
    "        \"\"\"\n",
    "        ceiling = max number of reservation time step\n",
    "        sticky_mode = stick with same arm for set number of time steps once reserved\n",
    "        kick_mode = other user with higher production can interupt reservation when collision\n",
    "        \"\"\"\n",
    "        # max dist - reward range\n",
    "        # threshold dist - used for generating markov chain\n",
    "        \n",
    "        self.idx = idx\n",
    "        self.locs = locs\n",
    "        self.dists = self.get_dists()\n",
    "        self.svr_locs = svr_locs\n",
    "        self.mu = mu # True weights\n",
    "        \n",
    "        self.t = 0 # Time-steps past\n",
    "        self.mode = \"blind\" # oracle\n",
    "        self.phase = 0 #{0-exploration,1-GoT,2-exploitation}\n",
    "        self.t_p = 0 #{timestep within phase }\n",
    "        self.k = 0 # epoch\n",
    "        \n",
    "        self.c1 = c1\n",
    "        self.c2 = c2\n",
    "        self.c3= c3\n",
    "        self.horizon = horizon\n",
    "        \n",
    "        self.delta = delta\n",
    "        self.rho = rho\n",
    "        self.epsilon = epsilon\n",
    "        if c == None:\n",
    "            self.c = len(svr_locs)\n",
    "        else:\n",
    "            self.c = c\n",
    "        self.got_base_arm = 0\n",
    "        \n",
    "        \n",
    "        if P is None:\n",
    "            self.P = self.make_P(threshold_dist, self_weight)\n",
    "        else:\n",
    "            self.P = P\n",
    "            \n",
    "        self.reward_dists = self.get_reward_dists()\n",
    "        self.reward_scale = self.get_scales(max_dist)\n",
    "        self.usr_place = self.init_loc()\n",
    "        \n",
    "        self.stationary_loc = self.get_stationary_loc()\n",
    "        self.stationary_reward_scale = self.get_stationary_scale()\n",
    "        \n",
    "        # Initialize learning parameters\n",
    "        self.pulls = np.zeros(len(svr_locs))\n",
    "        self.param_summed = np.zeros(len(svr_locs))\n",
    "        self.Ftni = np.zeros(len(svr_locs)) # number of rounds in content state\n",
    "        self.Fmax_idx = 0 # arm to pull during exploitation phase\n",
    "        self.mu_est = np.zeros(len(svr_locs))\n",
    "        self.state = 'discontent'\n",
    "        \n",
    "        self.epoch_time_mapping = np.zeros(horizon)\n",
    "        self.phase_time_mapping = np.zeros(horizon)\n",
    "        \n",
    "        self.set_epochs()\n",
    "        \n",
    "        self.ucb_present = self.mu_est\n",
    "        self.expected_time = 1\n",
    "        self.ceiling = 1\n",
    "\n",
    "        # history\n",
    "        self.history_location = []\n",
    "        self.history_pull = []\n",
    "        self.history_reward = []\n",
    "        self.history_collisions = []\n",
    "        \n",
    "    def set_epochs(self):\n",
    "        \n",
    "        pass_flag = True\n",
    "        curr_phase = 0\n",
    "        t_track = 0\n",
    "        temp_k = 1\n",
    "        \n",
    "        while pass_flag:\n",
    "            if curr_phase == 0:\n",
    "                num_steps = self.c1\n",
    "            elif curr_phase == 1:\n",
    "                num_steps = self.c2 * (temp_k)**(1+self.delta)\n",
    "            elif curr_phase == 2:\n",
    "                num_steps = self.c3 * 2**(temp_k)\n",
    "            \n",
    "            end_time = t_track + num_steps\n",
    "            \n",
    "            if end_time >= self.horizon:\n",
    "                end_time = self.horizon\n",
    "                pass_flag = False\n",
    "            \n",
    "            self.epoch_time_mapping[t_track:end_time] = (temp_k) \n",
    "            self.phase_time_mapping[t_track:end_time] = curr_phase\n",
    "            \n",
    "            curr_phase += 1\n",
    "            t_track = end_time\n",
    "            \n",
    "            if curr_phase > 2:\n",
    "                curr_phase = 0\n",
    "                temp_k += 1\n",
    "            \n",
    "        return\n",
    "            \n",
    "        \n",
    "    def update_mean(self):\n",
    "        \"\"\"\n",
    "        Update decision variables for next round\n",
    "        \"\"\"\n",
    "\n",
    "        reward_record = self.param_summed\n",
    "        pulls_record = self.pulls\n",
    "        \n",
    "        for s in range(reward_record.shape[0]):\n",
    "            if pulls_record[s] > 0:\n",
    "                mean = reward_record[s]/pulls_record[s]\n",
    "                self.mu_est[s] = mean\n",
    "    \n",
    "    \n",
    "    def choose_arm(self):\n",
    "        # Choose an arm to pull based on collision restriction and UCB info\n",
    "        \n",
    "        phase = self.phase_time_mapping[self.t]\n",
    "        \n",
    "        if phase == 0: # Exploration Phase\n",
    "            arm_id = np.random.randint(low=0, high=len(self.svr_locs))\n",
    "        elif phase == 1: # GoT Phase\n",
    "            if self.state == 'content':\n",
    "                sub_arm_prob = self.epsilon**self.c / (len(self.svr_locs)-1)\n",
    "                pdf = np.ones(len(self.svr_locs)) * sub_arm_prob\n",
    "                pdf[self.got_base_arm] = 1 - self.epsilon**self.c\n",
    "                arm_id = np.random.choice(len(self.svr_locs), 1, p=pdf)[0]\n",
    "            elif self.state == 'discontent':\n",
    "                arm_id = np.random.randint(low=0, high=len(self.svr_locs))\n",
    "        elif phase == 2: # Exploitation Phase\n",
    "            arm_id = self.Fmax_idx\n",
    "        \n",
    "        return arm_id\n",
    "    \n",
    "    def receive_reward(self, arm_id, reward, collision_flag, max_reward, wait_time, chosen_idx,\n",
    "                       reservation_mode = False):\n",
    "\n",
    "        phase = self.phase_time_mapping[self.t]\n",
    "#         scale = self.stationary_reward_scale[arm_id]\n",
    "        scale = self.reward_scale[self.usr_place][arm_id]\n",
    "        constant = 0.001\n",
    "        \n",
    "        if phase == 0: # Exploration Phase                              \n",
    "            if not collision_flag:\n",
    "                self.pulls[arm_id] += 1\n",
    "                self.param_summed[arm_id] += reward[self.idx]/(scale+constant)\n",
    "                self.update_mean()\n",
    "        elif phase == 1: # GoT Phase\n",
    "            if arm_id == self.got_base_arm and not collision_flag and self.state == 'content':\n",
    "                if self.t_p > np.ceil(self.rho*self.c2*self.k**(1+self.delta)):\n",
    "                    self.Ftni[self.got_base_arm] += 1\n",
    "            else:\n",
    "                self.got_base_arm = arm_id\n",
    "                uns = self.stationary_reward_scale* self.mu_est\n",
    "                un_max = np.max(uns)\n",
    "                un = uns[arm_id] * (1-collision_flag)\n",
    "                prob_c = (un/un_max)*self.epsilon**(un_max-un)\n",
    "                if np.random.binomial(n=1,p=prob_c) == 1:\n",
    "                    self.state = 'content'\n",
    "                    if self.t_p > np.ceil(self.rho*self.c2*self.k**(1+self.delta)):\n",
    "                        self.Ftni[self.got_base_arm] += 1\n",
    "                else:\n",
    "                    self.state = 'discontent'\n",
    "        elif phase == 2: # Exploitation Phase\n",
    "            pass\n",
    "        \n",
    "            \n",
    "        # Update history\n",
    "        self.history_location += [self.usr_place]\n",
    "        self.history_pull += [arm_id]\n",
    "        self.history_reward += [reward]\n",
    "        self.history_collisions += [collision_flag]\n",
    "        \n",
    "        self.advance_time()\n",
    "        \n",
    "    def advance_time(self):\n",
    "        self.t += 1\n",
    "        self.t_p += 1\n",
    "        \n",
    "        try:\n",
    "            prev_epoch = self.epoch_time_mapping[t-1]\n",
    "            now_epoch = self.epoch_time_mapping[t]\n",
    "            prev_phase = self.phase_time_mapping[t-1]\n",
    "            now_phase = self.phase_time_mapping[t]\n",
    "            \n",
    "            if prev_epoch != now_epoch: # Reset all epoch (2-->0)\n",
    "                self.t_p = 0\n",
    "                self.state = 'discontent'\n",
    "                self.Ftni = np.zeros(len(svr_locs)) # number of rounds in content state\n",
    "                self.Fmax_idx = 0\n",
    "                \n",
    "            elif prev_phase != now_phase: # Go to next phase\n",
    "                self.t_p = 0\n",
    "                \n",
    "                if now_phase == 2:\n",
    "                    self.Fmax_idx = np.argmax(self.Ftni) \n",
    "        except:\n",
    "            pass\n",
    "#             print(\"advance time pass\")"
   ]
  },
  {
   "cell_type": "code",
   "execution_count": null,
   "metadata": {},
   "outputs": [
    {
     "name": "stderr",
     "output_type": "stream",
     "text": [
      "<ipython-input-4-d19de77cab70>:86: TqdmDeprecationWarning: This function will be removed in tqdm==5.0.0\n",
      "Please use `tqdm.notebook.tqdm` instead of `tqdm.tqdm_notebook`\n",
      "  for (zzz,t) in zip(tqdm_notebook(range(T-round_start)),range(round_start, T)):\n"
     ]
    },
    {
     "data": {
      "application/vnd.jupyter.widget-view+json": {
       "model_id": "f79346e60d604a408a8d2470825da73f",
       "version_major": 2,
       "version_minor": 0
      },
      "text/plain": [
       "HBox(children=(HTML(value=''), FloatProgress(value=0.0, max=19990.0), HTML(value='')))"
      ]
     },
     "metadata": {},
     "output_type": "display_data"
    }
   ],
   "source": [
    "# System Parameters\n",
    "T = 20000\n",
    "num_users = 6\n",
    "num_svrs = 9\n",
    "num_locs = 9\n",
    "mu = np.random.uniform(low=0, high = 1, size = [num_users, num_svrs])\n",
    "ceiling = 40\n",
    "# w = np.random.uniform(low=0, high=1, size= [num_users, num_svrs])\n",
    "space_1d_dim = 10 #4 for small, 10 for big\n",
    "\n",
    "num_explore = 1\n",
    "trials = 3\n",
    "\n",
    "# result dictionaries\n",
    "result_dicts = []\n",
    "performance_list = []\n",
    "user_dicts = []\n",
    "\n",
    "save_name = 'results/22_06_16_ceiling_20/'\n",
    "isExist = os.path.exists(save_name)\n",
    "if not isExist:\n",
    "  # Create a new directory because it does not exist \n",
    "    os.makedirs(save_name)\n",
    "\n",
    "\n",
    "# Generate visitng locations and server locations\n",
    "usr_locs = gen_eq_locs(space_1d=space_1d_dim, nums=num_locs,offset = 1.7)\n",
    "# svr_locs = gen_eq_locs(space_1d=space_1d_dim, nums=num_svrs,offset = 1.7)\n",
    "svr_locs = gen_rand_locs(space_1d=space_1d_dim, nums=num_svrs,offset = 1.7)\n",
    "\n",
    "\n",
    "with open('traces_P_40k.pkl', 'rb') as handle:\n",
    "    P_collection = pickle.load(handle)\n",
    "    \n",
    "with open('traces_P_40k_dict.pkl', 'rb') as handle:\n",
    "    P_dict = pickle.load(handle)\n",
    "\n",
    "\n",
    "# Create Users\n",
    "Users = []\n",
    "for i in range(num_users):\n",
    "    P_temp = P_collection\n",
    "    Users += [User(usr_locs,svr_locs,mu[i],i,\n",
    "                  max_dist = 5, threshold_dist = 6, self_weight = 1 - 0.85, P = P_temp, ceiling = ceiling,\n",
    "                  sticky_mode = True, kick_mode=True)]\n",
    "\n",
    "GoT_Users = []\n",
    "for i in range(num_users):\n",
    "    GoT_Users += [GoT_User(usr_locs, svr_locs, mu[i], i, \n",
    "                 max_dist = 5, threshold_dist = 6, self_weight = 1 - 0.95, P = Users[i].P,\n",
    "                 c1 = 5000, c2 = 6000, c3 = 6000, delta = 0, rho = 0.5, epsilon = 0.001,\n",
    "                 c = num_users, horizon = T)]\n",
    "    \n",
    "# Create Servers\n",
    "Servers = []\n",
    "for i in range(num_svrs):\n",
    "    Servers += [Server(svr_locs[i],mu,i)]\n",
    "\n",
    "# Recorded Values - reservation\n",
    "regret_g = np.zeros(T)\n",
    "collision_count_g = np.zeros(T)\n",
    "optimal_reward_g = np.zeros(T)\n",
    "regret_g_compstat = np.zeros(T)\n",
    "\n",
    "regret = np.zeros(T)\n",
    "collision_count = np.zeros(T)\n",
    "optimal_reward = np.zeros(T)\n",
    "\n",
    "\n",
    "explore_rounds(Users, num_users, Servers, mu, regret, collision_count, optimal_reward,\n",
    "                   usr_move_flag = True, rounds=num_explore)\n",
    "\n",
    "round_start = ((num_svrs)*num_explore)+1\n",
    "\n",
    "for t in range(round_start):\n",
    "    w = obtain_w(GoT_Users, len(Users), len(Servers))\n",
    "    optimal = offline_optimal_action(w, mu)\n",
    "    play_round(GoT_Users, Servers, mu, regret_g, collision_count_g, \n",
    "               usr_move_flag = True, debugger=False, reservation_mode = False, optimal=optimal, t = t)\n",
    "    \n",
    "copy_usr_loc(Users, GoT_Users)\n",
    "\n",
    "# Centralized - stationary w, known mu\n",
    "w_stat = obtain_w_stationary(Users, num_users, num_svrs)\n",
    "optimal_stat_arms = offline_optimal_action(w_stat,mu)[0]\n",
    "regret_cst = copy.deepcopy(regret)\n",
    "\n",
    "for (zzz,t) in zip(tqdm_notebook(range(T-round_start)),range(round_start, T)):\n",
    "    w = obtain_w(Users, len(Users), len(Servers))\n",
    "    optimal = offline_optimal_action(w, mu)\n",
    "    optimal_reward[t] = optimal[1]\n",
    "    play_round(Users, Servers, mu, regret, collision_count, \n",
    "               usr_move_flag = True, debugger = False, reservation_mode = True, optimal =optimal, t = t)\n",
    "    play_round(GoT_Users, Servers, mu, regret_g, collision_count_g, \n",
    "               usr_move_flag = False, debugger=False, reservation_mode = False, optimal=optimal, t = t)\n",
    "    copy_usr_loc(Users, GoT_Users)\n",
    "    \n",
    "    # centralized solution - stationary w, known mu\n",
    "    regret_cst[t] = optimal[1] - expected_reward(optimal_stat_arms, mu, w) \n",
    "    regret_g_compstat[t] = regret_g[t] - regret_cst[t]"
   ]
  },
  {
   "cell_type": "code",
   "execution_count": 25,
   "metadata": {},
   "outputs": [
    {
     "name": "stderr",
     "output_type": "stream",
     "text": [
      "ERROR:root:No traceback has been produced, nothing to debug.\n"
     ]
    }
   ],
   "source": [
    "%debug"
   ]
  },
  {
   "cell_type": "code",
   "execution_count": 26,
   "metadata": {},
   "outputs": [
    {
     "data": {
      "text/plain": [
       "0.2107657103137894"
      ]
     },
     "execution_count": 26,
     "metadata": {},
     "output_type": "execute_result"
    }
   ],
   "source": [
    "GoT_Users[0].stationary_reward_scale[1]"
   ]
  },
  {
   "cell_type": "code",
   "execution_count": 27,
   "metadata": {},
   "outputs": [
    {
     "data": {
      "text/plain": [
       "1.0"
      ]
     },
     "execution_count": 27,
     "metadata": {},
     "output_type": "execute_result"
    }
   ],
   "source": [
    "GoT_Users[0].epoch_time_mapping[1899]"
   ]
  },
  {
   "cell_type": "code",
   "execution_count": 28,
   "metadata": {},
   "outputs": [
    {
     "data": {
      "text/plain": [
       "<matplotlib.legend.Legend at 0x7fde01bbd9d0>"
      ]
     },
     "execution_count": 28,
     "metadata": {},
     "output_type": "execute_result"
    },
    {
     "data": {
      "image/png": "[encoded data removed]",
      "text/plain": [
       "<Figure size 432x288 with 1 Axes>"
      ]
     },
     "metadata": {
      "needs_background": "light"
     },
     "output_type": "display_data"
    }
   ],
   "source": [
    "plot_idx = 1\n",
    "\n",
    "plt.plot(np.cumsum(regret), label = 'rsv')\n",
    "plt.plot(np.cumsum(regret_g), label = 'GoT')\n",
    "plt.plot(np.cumsum(regret_cst), label = 'stationary op')\n",
    "plt.title('Cumulative Regret CMAB')\n",
    "plt.xlabel('Rounds')\n",
    "plt.legend()"
   ]
  },
  {
   "cell_type": "code",
   "execution_count": 29,
   "metadata": {},
   "outputs": [
    {
     "data": {
      "text/plain": [
       "<matplotlib.legend.Legend at 0x7fde01ad05b0>"
      ]
     },
     "execution_count": 29,
     "metadata": {},
     "output_type": "execute_result"
    },
    {
     "data": {
      "image/png": "[encoded data removed]",
      "text/plain": [
       "<Figure size 432x288 with 1 Axes>"
      ]
     },
     "metadata": {
      "needs_background": "light"
     },
     "output_type": "display_data"
    }
   ],
   "source": [
    "plot_idx = 1\n",
    "\n",
    "plt.plot(np.cumsum(regret_g_compstat), label = 'stationary compare')\n",
    "plt.title('Cumulative Regret CMAB')\n",
    "plt.xlabel('Rounds')\n",
    "plt.legend()"
   ]
  },
  {
   "cell_type": "code",
   "execution_count": 30,
   "metadata": {},
   "outputs": [
    {
     "data": {
      "text/plain": [
       "<matplotlib.legend.Legend at 0x7fde01b37a30>"
      ]
     },
     "execution_count": 30,
     "metadata": {},
     "output_type": "execute_result"
    },
    {
     "data": {
      "image/png": "[encoded data removed]",
      "text/plain": [
       "<Figure size 432x288 with 1 Axes>"
      ]
     },
     "metadata": {
      "needs_background": "light"
     },
     "output_type": "display_data"
    }
   ],
   "source": [
    "plot_idx = 1\n",
    "\n",
    "plt.plot(np.cumsum(collision_count), label = 'rsv')\n",
    "plt.plot(np.cumsum(collision_count_g), label = 'GoT')\n",
    "plt.title('Cumulative Collision CMAB')\n",
    "plt.xlabel('Rounds')\n",
    "plt.legend()"
   ]
  },
  {
   "cell_type": "code",
   "execution_count": null,
   "metadata": {},
   "outputs": [],
   "source": [
    "for i in range(num_users):\n",
    "    print(GoT_Users[i].mu_est)"
   ]
  },
  {
   "cell_type": "code",
   "execution_count": null,
   "metadata": {},
   "outputs": [],
   "source": [
    "for i in range(num_users):\n",
    "    print(mu[i])"
   ]
  },
  {
   "cell_type": "code",
   "execution_count": null,
   "metadata": {},
   "outputs": [],
   "source": [
    "for i in range(num_users):\n",
    "    print(GoT_Users[i].mu_est * GoT_Users[i].stationary_reward_scale)"
   ]
  },
  {
   "cell_type": "code",
   "execution_count": null,
   "metadata": {},
   "outputs": [],
   "source": [
    "for i in range(num_users):\n",
    "    print(mu[i] * GoT_Users[i].stationary_reward_scale)"
   ]
  },
  {
   "cell_type": "code",
   "execution_count": null,
   "metadata": {},
   "outputs": [],
   "source": [
    "got_arms = []\n",
    "for i in range(len(GoT_Users)):\n",
    "    got_arms += [GoT_Users[i].Fmax_idx]"
   ]
  },
  {
   "cell_type": "code",
   "execution_count": null,
   "metadata": {},
   "outputs": [],
   "source": [
    "optimal[0]"
   ]
  },
  {
   "cell_type": "code",
   "execution_count": null,
   "metadata": {},
   "outputs": [],
   "source": [
    "optimal_stat_arms"
   ]
  },
  {
   "cell_type": "code",
   "execution_count": null,
   "metadata": {},
   "outputs": [],
   "source": [
    "got_arms"
   ]
  },
  {
   "cell_type": "code",
   "execution_count": null,
   "metadata": {},
   "outputs": [],
   "source": [
    "arm_id = np.random.randint(low=0, high=16)"
   ]
  },
  {
   "cell_type": "code",
   "execution_count": null,
   "metadata": {},
   "outputs": [],
   "source": [
    "arm_id"
   ]
  },
  {
   "cell_type": "code",
   "execution_count": null,
   "metadata": {},
   "outputs": [],
   "source": [
    "for i in range(len(GoT_Users)):\n",
    "    print(GoT_Users[i].Ftni)"
   ]
  },
  {
   "cell_type": "code",
   "execution_count": null,
   "metadata": {},
   "outputs": [],
   "source": [
    "GoT_Users[i].stationary_reward_scale"
   ]
  },
  {
   "cell_type": "code",
   "execution_count": null,
   "metadata": {},
   "outputs": [],
   "source": [
    "svr_locs"
   ]
  },
  {
   "cell_type": "code",
   "execution_count": null,
   "metadata": {},
   "outputs": [],
   "source": [
    "Users[1].P"
   ]
  },
  {
   "cell_type": "code",
   "execution_count": null,
   "metadata": {},
   "outputs": [],
   "source": []
  }
 ],
 "metadata": {
  "kernelspec": {
   "display_name": "Python 3",
   "language": "python",
   "name": "python3"
  },
  "language_info": {
   "codemirror_mode": {
    "name": "ipython",
    "version": 3
   },
   "file_extension": ".py",
   "mimetype": "text/x-python",
   "name": "python",
   "nbconvert_exporter": "python",
   "pygments_lexer": "ipython3",
   "version": "3.8.5"
  }
 },
 "nbformat": 4,
 "nbformat_minor": 2
}
