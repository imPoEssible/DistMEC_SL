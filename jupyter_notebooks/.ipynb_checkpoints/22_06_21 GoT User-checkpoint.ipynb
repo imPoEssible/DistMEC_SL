{
 "cells": [
  {
   "cell_type": "code",
   "execution_count": 1,
   "metadata": {},
   "outputs": [
    {
     "name": "stdout",
     "output_type": "stream",
     "text": [
      "/home/ubuntu/DistMEC\n"
     ]
    }
   ],
   "source": [
    "cd /home/ubuntu/DistMEC/"
   ]
  },
  {
   "cell_type": "code",
   "execution_count": 2,
   "metadata": {},
   "outputs": [],
   "source": [
    "import numpy as np\n",
    "import matplotlib.pyplot as plt\n",
    "\n",
    "from classes.User import *\n",
    "from classes.solver import *\n",
    "from classes.Server import *\n",
    "from classes.distributed_utils import *\n",
    "\n",
    "from tqdm import tqdm, tqdm_notebook\n",
    "from time import sleep\n",
    "import pickle\n",
    "import os\n",
    "import numpy as np"
   ]
  },
  {
   "cell_type": "code",
   "execution_count": 3,
   "metadata": {},
   "outputs": [],
   "source": [
    "class GoT_User(User):\n",
    "    \n",
    "    def __init__(self, locs, svr_locs, mu, idx, \n",
    "                 max_dist = 7, threshold_dist = 6, self_weight = 0.5, P = None,\n",
    "                 c1 = 100, c2 = 600, c3 = 600, delta = 0, rho = 0.5, epsilon = 0.01,\n",
    "                 c = None, horizon = 15000):\n",
    "        \"\"\"\n",
    "        ceiling = max number of reservation time step\n",
    "        sticky_mode = stick with same arm for set number of time steps once reserved\n",
    "        kick_mode = other user with higher production can interupt reservation when collision\n",
    "        \"\"\"\n",
    "        # max dist - reward range\n",
    "        # threshold dist - used for generating markov chain\n",
    "        \n",
    "        self.idx = idx\n",
    "        self.locs = locs\n",
    "        self.dists = self.get_dists()\n",
    "        self.svr_locs = svr_locs\n",
    "        self.mu = mu # True weights\n",
    "        \n",
    "        self.t = 0 # Time-steps past\n",
    "        self.mode = \"blind\" # oracle\n",
    "        self.phase = 0 #{0-exploration,1-GoT,2-exploitation}\n",
    "        self.t_p = 0 #{timestep within phase }\n",
    "        self.k = 0 # epoch\n",
    "        \n",
    "        self.c1 = c1\n",
    "        self.c2 = c2\n",
    "        self.c3= c3\n",
    "        self.horizon = horizon\n",
    "        \n",
    "        self.delta = delta\n",
    "        self.rho = rho\n",
    "        self.epsilon = epsilon\n",
    "        if c == None:\n",
    "            self.c = len(svr_locs)\n",
    "        else:\n",
    "            self.c = c\n",
    "        self.got_base_arm = 0\n",
    "        \n",
    "        \n",
    "        if P is None:\n",
    "            self.P = self.make_P(threshold_dist, self_weight)\n",
    "        else:\n",
    "            self.P = P\n",
    "            \n",
    "        self.reward_dists = self.get_reward_dists()\n",
    "        self.reward_scale = self.get_scales(max_dist)\n",
    "        self.usr_place = self.init_loc()\n",
    "        \n",
    "        self.stationary_loc = self.get_stationary_loc()\n",
    "        self.stationary_reward_scale = self.get_stationary_scale()\n",
    "        \n",
    "        # Initialize learning parameters\n",
    "        self.pulls = np.zeros(len(svr_locs))\n",
    "        self.param_summed = np.zeros(len(svr_locs))\n",
    "        self.Ftni = np.zeros(len(svr_locs)) # number of rounds in content state\n",
    "        self.Fmax_idx = 0 # arm to pull during exploitation phase\n",
    "        self.mu_est = np.zeros(len(svr_locs))\n",
    "        self.state = 'discontent'\n",
    "        \n",
    "        self.epoch_time_mapping = np.zeros(horizon)\n",
    "        self.phase_time_mapping = np.zeros(horizon)\n",
    "        \n",
    "        self.set_epochs()\n",
    "        \n",
    "        self.ucb_present = self.mu_est\n",
    "        self.expected_time = 1\n",
    "        self.ceiling = 1\n",
    "\n",
    "        # history\n",
    "        self.history_location = []\n",
    "        self.history_pull = []\n",
    "        self.history_reward = []\n",
    "        self.history_collisions = []\n",
    "        \n",
    "    def set_epochs(self):\n",
    "        \n",
    "        pass_flag = True\n",
    "        curr_phase = 0\n",
    "        t_track = 0\n",
    "        temp_k = 1\n",
    "        \n",
    "        while pass_flag:\n",
    "            if curr_phase == 0:\n",
    "                num_steps = self.c1\n",
    "            elif curr_phase == 1:\n",
    "                num_steps = self.c2 * (temp_k)**(1+self.delta)\n",
    "            elif curr_phase == 2:\n",
    "                num_steps = self.c3 * 2**(temp_k)\n",
    "            \n",
    "            end_time = t_track + num_steps\n",
    "            \n",
    "            if end_time >= self.horizon:\n",
    "                end_time = self.horizon\n",
    "                pass_flag = False\n",
    "            \n",
    "            self.epoch_time_mapping[t_track:end_time] = (temp_k) \n",
    "            self.phase_time_mapping[t_track:end_time] = curr_phase\n",
    "            \n",
    "            curr_phase += 1\n",
    "            t_track = end_time\n",
    "            \n",
    "            if curr_phase > 2:\n",
    "                curr_phase = 0\n",
    "                temp_k += 1\n",
    "            \n",
    "        return\n",
    "            \n",
    "        \n",
    "    def update_mean(self):\n",
    "        \"\"\"\n",
    "        Update decision variables for next round\n",
    "        \"\"\"\n",
    "\n",
    "        reward_record = self.param_summed\n",
    "        pulls_record = self.pulls\n",
    "        \n",
    "        for s in range(reward_record.shape[0]):\n",
    "            if pulls_record[s] > 0:\n",
    "                mean = reward_record[s]/pulls_record[s]\n",
    "                self.mu_est[s] = mean\n",
    "    \n",
    "    \n",
    "    def choose_arm(self):\n",
    "        # Choose an arm to pull based on collision restriction and UCB info\n",
    "        \n",
    "        phase = self.phase_time_mapping[self.t]\n",
    "        \n",
    "        if phase == 0: # Exploration Phase\n",
    "            arm_id = np.random.randint(low=0, high=len(self.svr_locs))\n",
    "        elif phase == 1: # GoT Phase\n",
    "            if self.state == 'content':\n",
    "                sub_arm_prob = self.epsilon**self.c / (len(self.svr_locs)-1)\n",
    "                pdf = np.ones(len(self.svr_locs)) * sub_arm_prob\n",
    "                pdf[self.got_base_arm] = 1 - self.epsilon**self.c\n",
    "                arm_id = np.random.choice(len(self.svr_locs), 1, p=pdf)[0]\n",
    "            elif self.state == 'discontent':\n",
    "                arm_id = np.random.randint(low=0, high=len(self.svr_locs))\n",
    "        elif phase == 2: # Exploitation Phase\n",
    "            arm_id = self.Fmax_idx\n",
    "        \n",
    "        return arm_id\n",
    "    \n",
    "    def receive_reward(self, arm_id, reward, collision_flag, max_reward, wait_time, chosen_idx,\n",
    "                       reservation_mode = False):\n",
    "\n",
    "        phase = self.phase_time_mapping[self.t]\n",
    "#         scale = self.stationary_reward_scale[arm_id]\n",
    "        scale = self.reward_scale[self.usr_place][arm_id]\n",
    "        constant = 0.001\n",
    "        \n",
    "        if phase == 0: # Exploration Phase                              \n",
    "            if not collision_flag:\n",
    "                self.pulls[arm_id] += 1\n",
    "                self.param_summed[arm_id] += reward[self.idx]/(scale+constant)\n",
    "                self.update_mean()\n",
    "        elif phase == 1: # GoT Phase\n",
    "            if arm_id == self.got_base_arm and not collision_flag and self.state == 'content':\n",
    "                if self.t_p > np.ceil(self.rho*self.c2*self.k**(1+self.delta)):\n",
    "                    self.Ftni[self.got_base_arm] += 1\n",
    "            else:\n",
    "                self.got_base_arm = arm_id\n",
    "                uns = self.stationary_reward_scale* self.mu_est\n",
    "                un_max = np.max(uns)\n",
    "                un = uns[arm_id] * (1-collision_flag)\n",
    "                prob_c = (un/un_max)*self.epsilon**(un_max-un)\n",
    "                if np.random.binomial(n=1,p=prob_c) == 1:\n",
    "                    self.state = 'content'\n",
    "                    if self.t_p > np.ceil(self.rho*self.c2*self.k**(1+self.delta)):\n",
    "                        self.Ftni[self.got_base_arm] += 1\n",
    "                else:\n",
    "                    self.state = 'discontent'\n",
    "        elif phase == 2: # Exploitation Phase\n",
    "            pass\n",
    "        \n",
    "            \n",
    "        # Update history\n",
    "        self.history_location += [self.usr_place]\n",
    "        self.history_pull += [arm_id]\n",
    "        self.history_reward += [reward]\n",
    "        self.history_collisions += [collision_flag]\n",
    "        \n",
    "        self.advance_time()\n",
    "        \n",
    "    def advance_time(self):\n",
    "        self.t += 1\n",
    "        self.t_p += 1\n",
    "        \n",
    "        try:\n",
    "            prev_epoch = self.epoch_time_mapping[t-1]\n",
    "            now_epoch = self.epoch_time_mapping[t]\n",
    "            prev_phase = self.phase_time_mapping[t-1]\n",
    "            now_phase = self.phase_time_mapping[t]\n",
    "            \n",
    "            if prev_epoch != now_epoch: # Reset all epoch (2-->0)\n",
    "                self.t_p = 0\n",
    "                self.state = 'discontent'\n",
    "                self.Ftni = np.zeros(len(svr_locs)) # number of rounds in content state\n",
    "                self.Fmax_idx = 0\n",
    "                \n",
    "            elif prev_phase != now_phase: # Go to next phase\n",
    "                self.t_p = 0\n",
    "                \n",
    "                if now_phase == 2:\n",
    "                    self.Fmax_idx = np.argmax(self.Ftni) \n",
    "        except:\n",
    "            pass\n",
    "#             print(\"advance time pass\")"
   ]
  },
  {
   "cell_type": "code",
   "execution_count": 4,
   "metadata": {},
   "outputs": [
    {
     "data": {
      "application/vnd.jupyter.widget-view+json": {
       "model_id": "16a07ca5a5fa47a08a67727fe2514132",
       "version_major": 2,
       "version_minor": 0
      },
      "text/plain": [
       "HBox(children=(IntProgress(value=0, max=19990), HTML(value='')))"
      ]
     },
     "metadata": {},
     "output_type": "display_data"
    },
    {
     "name": "stdout",
     "output_type": "stream",
     "text": [
      "\n"
     ]
    }
   ],
   "source": [
    "# System Parameters\n",
    "T = 20000\n",
    "num_users = 4\n",
    "num_svrs = 4\n",
    "num_locs = 4\n",
    "mu = np.random.uniform(low=0, high = 1, size = [num_users, num_svrs])\n",
    "ceiling = 40\n",
    "# w = np.random.uniform(low=0, high=1, size= [num_users, num_svrs])\n",
    "space_1d_dim = 10 #4 for small, 10 for big\n",
    "\n",
    "num_explore = 1\n",
    "trials = 3\n",
    "\n",
    "# result dictionaries\n",
    "result_dicts = []\n",
    "performance_list = []\n",
    "user_dicts = []\n",
    "\n",
    "save_name = 'results/22_06_16_ceiling_20/'\n",
    "isExist = os.path.exists(save_name)\n",
    "if not isExist:\n",
    "  # Create a new directory because it does not exist \n",
    "    os.makedirs(save_name)\n",
    "\n",
    "\n",
    "# Generate visitng locations and server locations\n",
    "usr_locs = gen_eq_locs(space_1d=space_1d_dim, nums=num_locs,offset = 1.7)\n",
    "svr_locs = gen_eq_locs(space_1d=space_1d_dim, nums=num_svrs,offset = 1.7)\n",
    "\n",
    "# Create Users\n",
    "Users = []\n",
    "for i in range(num_users):\n",
    "    Users += [User(usr_locs,svr_locs,mu[i],i,\n",
    "                  max_dist = 7, threshold_dist = 6, self_weight = 1 - 0.95, P = None, ceiling = ceiling,\n",
    "                  sticky_mode = True, kick_mode=True)]\n",
    "\n",
    "GoT_Users = []\n",
    "for i in range(num_users):\n",
    "    GoT_Users += [GoT_User(usr_locs, svr_locs, mu[i], i, \n",
    "                 max_dist = 7, threshold_dist = 6, self_weight = 1 - 0.95, P = Users[i].P,\n",
    "                 c1 = 5000, c2 = 6000, c3 = 6000, delta = 0, rho = 0.5, epsilon = 0.01,\n",
    "                 c = num_users, horizon = T)]\n",
    "    \n",
    "# Create Servers\n",
    "Servers = []\n",
    "for i in range(num_svrs):\n",
    "    Servers += [Server(svr_locs[i],mu,i)]\n",
    "\n",
    "# Recorded Values - reservation\n",
    "regret_g = np.zeros(T)\n",
    "collision_count_g = np.zeros(T)\n",
    "optimal_reward_g = np.zeros(T)\n",
    "regret_g_compstat = np.zeros(T)\n",
    "\n",
    "regret = np.zeros(T)\n",
    "collision_count = np.zeros(T)\n",
    "optimal_reward = np.zeros(T)\n",
    "\n",
    "\n",
    "explore_rounds(Users, num_users, Servers, mu, regret, collision_count, optimal_reward,\n",
    "                   usr_move_flag = True, rounds=num_explore)\n",
    "\n",
    "round_start = ((num_svrs)*num_explore)+1\n",
    "\n",
    "for t in range(round_start):\n",
    "    w = obtain_w(GoT_Users, len(Users), len(Servers))\n",
    "    optimal = offline_optimal_action(w, mu)\n",
    "    play_round(GoT_Users, Servers, mu, regret_g, collision_count_g, \n",
    "               usr_move_flag = True, debugger=False, reservation_mode = False, optimal=optimal, t = t)\n",
    "    \n",
    "copy_usr_loc(Users, GoT_Users)\n",
    "\n",
    "# Centralized - stationary w, known mu\n",
    "w_stat = obtain_w_stationary(Users, num_users, num_svrs)\n",
    "optimal_stat_arms = offline_optimal_action(w_stat,mu)[0]\n",
    "regret_cst = copy.deepcopy(regret)\n",
    "\n",
    "for (zzz,t) in zip(tqdm_notebook(range(T-round_start)),range(round_start, T)):\n",
    "    w = obtain_w(Users, len(Users), len(Servers))\n",
    "    optimal = offline_optimal_action(w, mu)\n",
    "    optimal_reward[t] = optimal[1]\n",
    "    play_round(Users, Servers, mu, regret, collision_count, \n",
    "               usr_move_flag = True, debugger = False, reservation_mode = True, optimal =optimal, t = t)\n",
    "    play_round(GoT_Users, Servers, mu, regret_g, collision_count_g, \n",
    "               usr_move_flag = False, debugger=False, reservation_mode = False, optimal=optimal, t = t)\n",
    "    copy_usr_loc(Users, GoT_Users)\n",
    "    \n",
    "    # centralized solution - stationary w, known mu\n",
    "    regret_cst[t] = optimal[1] - expected_reward(optimal_stat_arms, mu, w) \n",
    "    regret_g_compstat[t] = regret_g[t] - regret_cst[t]"
   ]
  },
  {
   "cell_type": "code",
   "execution_count": 5,
   "metadata": {},
   "outputs": [
    {
     "name": "stderr",
     "output_type": "stream",
     "text": [
      "ERROR:root:No traceback has been produced, nothing to debug.\n"
     ]
    }
   ],
   "source": [
    "%debug"
   ]
  },
  {
   "cell_type": "code",
   "execution_count": 6,
   "metadata": {},
   "outputs": [
    {
     "data": {
      "text/plain": [
       "0.5489157661887459"
      ]
     },
     "execution_count": 6,
     "metadata": {},
     "output_type": "execute_result"
    }
   ],
   "source": [
    "GoT_Users[0].stationary_reward_scale[1]"
   ]
  },
  {
   "cell_type": "code",
   "execution_count": 7,
   "metadata": {},
   "outputs": [
    {
     "data": {
      "text/plain": [
       "1.0"
      ]
     },
     "execution_count": 7,
     "metadata": {},
     "output_type": "execute_result"
    }
   ],
   "source": [
    "GoT_Users[0].epoch_time_mapping[1899]"
   ]
  },
  {
   "cell_type": "code",
   "execution_count": 8,
   "metadata": {},
   "outputs": [
    {
     "data": {
      "text/plain": [
       "<matplotlib.legend.Legend at 0x7feb29d03f60>"
      ]
     },
     "execution_count": 8,
     "metadata": {},
     "output_type": "execute_result"
    },
    {
     "data": {
      "image/png": "[encoded data removed]",
      "text/plain": [
       "<Figure size 432x288 with 1 Axes>"
      ]
     },
     "metadata": {
      "needs_background": "light"
     },
     "output_type": "display_data"
    }
   ],
   "source": [
    "plot_idx = 1\n",
    "\n",
    "plt.plot(np.cumsum(regret), label = 'rsv')\n",
    "plt.plot(np.cumsum(regret_g), label = 'GoT')\n",
    "plt.plot(np.cumsum(regret_cst), label = 'stationary op')\n",
    "plt.title('Cumulative Regret CMAB')\n",
    "plt.xlabel('Rounds')\n",
    "plt.legend()"
   ]
  },
  {
   "cell_type": "code",
   "execution_count": 9,
   "metadata": {},
   "outputs": [
    {
     "data": {
      "text/plain": [
       "<matplotlib.legend.Legend at 0x7feb29ca5cc0>"
      ]
     },
     "execution_count": 9,
     "metadata": {},
     "output_type": "execute_result"
    },
    {
     "data": {
      "image/png": "[encoded data removed]",
      "text/plain": [
       "<Figure size 432x288 with 1 Axes>"
      ]
     },
     "metadata": {
      "needs_background": "light"
     },
     "output_type": "display_data"
    }
   ],
   "source": [
    "plot_idx = 1\n",
    "\n",
    "plt.plot(np.cumsum(regret_g_compstat), label = 'stationary compare')\n",
    "plt.title('Cumulative Regret CMAB')\n",
    "plt.xlabel('Rounds')\n",
    "plt.legend()"
   ]
  },
  {
   "cell_type": "code",
   "execution_count": 10,
   "metadata": {},
   "outputs": [
    {
     "data": {
      "text/plain": [
       "<matplotlib.legend.Legend at 0x7feb29c0cfd0>"
      ]
     },
     "execution_count": 10,
     "metadata": {},
     "output_type": "execute_result"
    },
    {
     "data": {
      "image/png": "[encoded data removed]",
      "text/plain": [
       "<Figure size 432x288 with 1 Axes>"
      ]
     },
     "metadata": {
      "needs_background": "light"
     },
     "output_type": "display_data"
    }
   ],
   "source": [
    "plot_idx = 1\n",
    "\n",
    "plt.plot(np.cumsum(collision_count), label = 'rsv')\n",
    "plt.plot(np.cumsum(collision_count_g), label = 'GoT')\n",
    "plt.title('Cumulative Collision CMAB')\n",
    "plt.xlabel('Rounds')\n",
    "plt.legend()"
   ]
  },
  {
   "cell_type": "code",
   "execution_count": 11,
   "metadata": {},
   "outputs": [
    {
     "name": "stdout",
     "output_type": "stream",
     "text": [
      "[0.61202483 0.17434633 0.38661338 0.4115546  0.86078427 0.55000016\n",
      " 0.35731688 0.34124405 0.4370651 ]\n",
      "[0.66386398 0.26572181 0.01032405 0.09794858 0.04704355 0.11355612\n",
      " 0.05602766 0.41203225 0.09976433]\n",
      "[0.02694253 0.17823676 0.12639892 0.44010478 0.07364167 0.41599258\n",
      " 0.1563727  0.51106366 0.43481941]\n",
      "[0.64130018 0.41683742 0.54096422 0.59457251 0.53546539 0.10481087\n",
      " 0.48587907 0.61179377 0.11222282]\n",
      "[0.18967745 0.81514457 0.54012181 0.82701455 0.86207526 0.40583599\n",
      " 0.23319348 0.43663674 0.10522875]\n",
      "[0.42977661 0.66406618 0.42197793 0.76589465 0.37066517 0.32599586\n",
      " 0.26173164 0.05485052 0.02840133]\n"
     ]
    }
   ],
   "source": [
    "for i in range(num_users):\n",
    "    print(GoT_Users[i].mu_est)"
   ]
  },
  {
   "cell_type": "code",
   "execution_count": 12,
   "metadata": {},
   "outputs": [
    {
     "name": "stdout",
     "output_type": "stream",
     "text": [
      "[0.71877535 0.20147032 0.46259375 0.48145395 0.84414131 0.70763998\n",
      " 0.63288596 0.52811044 0.82411963]\n",
      "[0.69631196 0.31489237 0.03776112 0.09032073 0.05419353 0.15823762\n",
      " 0.06364574 0.47719961 0.34141565]\n",
      "[0.12817402 0.33520147 0.13815612 0.74477849 0.09670967 0.56802175\n",
      " 0.24648707 0.7108458  0.51628003]\n",
      "[0.71784484 0.54160844 0.98010398 0.79032267 0.56870444 0.15409336\n",
      " 0.66752768 0.87666652 0.16661644]\n",
      "[0.32223713 0.86024732 0.9972004  0.93832994 0.84864913 0.45528673\n",
      " 0.29633097 0.56583597 0.20336459]\n",
      "[0.55726414 0.68865729 0.53700558 0.86356345 0.31462363 0.38677502\n",
      " 0.53275411 0.0632337  0.06118104]\n"
     ]
    }
   ],
   "source": [
    "for i in range(num_users):\n",
    "    print(mu[i])"
   ]
  },
  {
   "cell_type": "code",
   "execution_count": 13,
   "metadata": {},
   "outputs": [
    {
     "name": "stdout",
     "output_type": "stream",
     "text": [
      "[0.241982   0.09570145 0.13937238 0.16434311 0.48571305 0.21901637\n",
      " 0.06249812 0.08739125 0.07886072]\n",
      "[0.27256019 0.11197094 0.00159029 0.06635695 0.02931924 0.02704613\n",
      " 0.02233464 0.16307871 0.0153914 ]\n",
      "[0.00393872 0.04734683 0.03518189 0.0637805  0.02961739 0.20832992\n",
      " 0.01858619 0.18120707 0.23642464]\n",
      "[0.19314703 0.13887095 0.12198539 0.31810699 0.30069954 0.03081848\n",
      " 0.20538935 0.23899446 0.01967834]\n",
      "[0.05190886 0.29081562 0.10056697 0.36067334 0.48307528 0.13078933\n",
      " 0.0774959  0.22663265 0.03218806]\n",
      "[0.14067406 0.342473   0.12885233 0.33125083 0.22384959 0.13182539\n",
      " 0.06226617 0.02014356 0.0066882 ]\n"
     ]
    }
   ],
   "source": [
    "for i in range(num_users):\n",
    "    print(GoT_Users[i].mu_est * GoT_Users[i].stationary_reward_scale)"
   ]
  },
  {
   "cell_type": "code",
   "execution_count": 14,
   "metadata": {},
   "outputs": [
    {
     "name": "stdout",
     "output_type": "stream",
     "text": [
      "[0.28418895 0.11059024 0.16676296 0.19225551 0.47632196 0.28179035\n",
      " 0.11069778 0.13524699 0.1486979 ]\n",
      "[0.28588224 0.13269062 0.00581661 0.06118933 0.03377536 0.03768811\n",
      " 0.02537148 0.18887137 0.05267277]\n",
      "[0.01873771 0.08904295 0.0384544  0.10793417 0.03889494 0.28446643\n",
      " 0.02929703 0.25204352 0.28071728]\n",
      "[0.21620077 0.18043889 0.22100974 0.42283685 0.31936548 0.04530946\n",
      " 0.28217532 0.3424658  0.02921629]\n",
      "[0.08818635 0.30690673 0.18567187 0.40921964 0.47555177 0.14672588\n",
      " 0.09847803 0.29369244 0.06220649]\n",
      "[0.18240315 0.35515515 0.1639764  0.37349276 0.19000536 0.15640311\n",
      " 0.12674264 0.02322224 0.01440747]\n"
     ]
    }
   ],
   "source": [
    "for i in range(num_users):\n",
    "    print(mu[i] * GoT_Users[i].stationary_reward_scale)"
   ]
  },
  {
   "cell_type": "code",
   "execution_count": 15,
   "metadata": {},
   "outputs": [],
   "source": [
    "got_arms = []\n",
    "for i in range(len(GoT_Users)):\n",
    "    got_arms += [GoT_Users[i].Fmax_idx]"
   ]
  },
  {
   "cell_type": "code",
   "execution_count": 16,
   "metadata": {},
   "outputs": [
    {
     "data": {
      "text/plain": [
       "[4, 7, 5, 2, 8, 3]"
      ]
     },
     "execution_count": 16,
     "metadata": {},
     "output_type": "execute_result"
    }
   ],
   "source": [
    "optimal[0]"
   ]
  },
  {
   "cell_type": "code",
   "execution_count": 17,
   "metadata": {},
   "outputs": [
    {
     "data": {
      "text/plain": [
       "[4, 0, 5, 7, 3, 1]"
      ]
     },
     "execution_count": 17,
     "metadata": {},
     "output_type": "execute_result"
    }
   ],
   "source": [
    "optimal_stat_arms"
   ]
  },
  {
   "cell_type": "code",
   "execution_count": 18,
   "metadata": {},
   "outputs": [
    {
     "data": {
      "text/plain": [
       "[2, 0, 8, 3, 4, 1]"
      ]
     },
     "execution_count": 18,
     "metadata": {},
     "output_type": "execute_result"
    }
   ],
   "source": [
    "got_arms"
   ]
  },
  {
   "cell_type": "code",
   "execution_count": 19,
   "metadata": {},
   "outputs": [],
   "source": [
    "arm_id = np.random.randint(low=0, high=16)"
   ]
  },
  {
   "cell_type": "code",
   "execution_count": 20,
   "metadata": {},
   "outputs": [
    {
     "data": {
      "text/plain": [
       "14"
      ]
     },
     "execution_count": 20,
     "metadata": {},
     "output_type": "execute_result"
    }
   ],
   "source": [
    "arm_id"
   ]
  },
  {
   "cell_type": "code",
   "execution_count": 21,
   "metadata": {},
   "outputs": [
    {
     "name": "stdout",
     "output_type": "stream",
     "text": [
      "[7.000e+00 4.000e+00 5.567e+03 4.000e+00 9.100e+01 1.000e+00 1.000e+00\n",
      " 1.000e+00 0.000e+00]\n",
      "[5.637e+03 1.100e+01 0.000e+00 6.000e+00 0.000e+00 0.000e+00 1.000e+00\n",
      " 1.700e+01 0.000e+00]\n",
      "[0.000e+00 2.000e+00 5.000e+00 1.000e+00 7.000e+00 6.200e+01 0.000e+00\n",
      " 3.700e+01 5.634e+03]\n",
      "[2.000e+01 7.000e+00 2.000e+00 5.609e+03 2.900e+01 0.000e+00 3.000e+01\n",
      " 2.100e+01 0.000e+00]\n",
      "[0.000e+00 1.100e+01 3.000e+00 1.300e+01 5.631e+03 0.000e+00 1.000e+00\n",
      " 3.000e+00 0.000e+00]\n",
      "[2.700e+01 5.615e+03 1.800e+01 5.700e+01 1.100e+01 7.000e+00 3.000e+00\n",
      " 0.000e+00 0.000e+00]\n"
     ]
    }
   ],
   "source": [
    "for i in range(len(GoT_Users)):\n",
    "    print(GoT_Users[i].Ftni)"
   ]
  },
  {
   "cell_type": "code",
   "execution_count": 22,
   "metadata": {},
   "outputs": [
    {
     "data": {
      "text/plain": [
       "array([0.32731902, 0.51572118, 0.30535325, 0.43250182, 0.6039132 ,\n",
       "       0.4043775 , 0.23790083, 0.36724471, 0.23548908])"
      ]
     },
     "execution_count": 22,
     "metadata": {},
     "output_type": "execute_result"
    }
   ],
   "source": [
    "GoT_Users[i].stationary_reward_scale"
   ]
  },
  {
   "cell_type": "code",
   "execution_count": 23,
   "metadata": {},
   "outputs": [
    {
     "data": {
      "text/plain": [
       "[(1.7, 1.7),\n",
       " (1.7, 5.033333333333333),\n",
       " (1.7, 8.366666666666667),\n",
       " (5.033333333333333, 1.7),\n",
       " (5.033333333333333, 5.033333333333333),\n",
       " (5.033333333333333, 8.366666666666667),\n",
       " (8.366666666666667, 1.7),\n",
       " (8.366666666666667, 5.033333333333333),\n",
       " (8.366666666666667, 8.366666666666667)]"
      ]
     },
     "execution_count": 23,
     "metadata": {},
     "output_type": "execute_result"
    }
   ],
   "source": [
    "svr_locs"
   ]
  },
  {
   "cell_type": "code",
   "execution_count": null,
   "metadata": {},
   "outputs": [],
   "source": []
  }
 ],
 "metadata": {
  "kernelspec": {
   "display_name": "Python 3",
   "language": "python",
   "name": "python3"
  },
  "language_info": {
   "codemirror_mode": {
    "name": "ipython",
    "version": 3
   },
   "file_extension": ".py",
   "mimetype": "text/x-python",
   "name": "python",
   "nbconvert_exporter": "python",
   "pygments_lexer": "ipython3",
   "version": "3.7.3"
  }
 },
 "nbformat": 4,
 "nbformat_minor": 2
}
