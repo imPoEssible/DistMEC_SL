{
 "cells": [
  {
   "cell_type": "code",
   "execution_count": 1,
   "metadata": {},
   "outputs": [
    {
     "name": "stdout",
     "output_type": "stream",
     "text": [
      "/home/ubuntu/DistMEC\n"
     ]
    }
   ],
   "source": [
    "cd /home/ubuntu/DistMEC/"
   ]
  },
  {
   "cell_type": "code",
   "execution_count": 2,
   "metadata": {},
   "outputs": [],
   "source": [
    "import numpy as np\n",
    "import matplotlib.pyplot as plt\n",
    "\n",
    "from classes.User import *\n",
    "from classes.solver import *\n",
    "from classes.Server import *\n",
    "from classes.distributed_utils import *\n",
    "\n",
    "from tqdm import tqdm, tqdm_notebook\n",
    "from time import sleep\n",
    "import pickle\n",
    "import os\n",
    "import numpy as np"
   ]
  },
  {
   "cell_type": "code",
   "execution_count": 3,
   "metadata": {},
   "outputs": [],
   "source": [
    "class GoT_User(User):\n",
    "    \n",
    "    def __init__(self, locs, svr_locs, mu, idx, \n",
    "                 max_dist = 7, threshold_dist = 6, self_weight = 0.5, P = None,\n",
    "                 c1 = 100, c2 = 600, c3 = 600, delta = 0, rho = 0.5, epsilon = 0.01,\n",
    "                 c = None, horizon = 15000):\n",
    "        \"\"\"\n",
    "        ceiling = max number of reservation time step\n",
    "        sticky_mode = stick with same arm for set number of time steps once reserved\n",
    "        kick_mode = other user with higher production can interupt reservation when collision\n",
    "        \"\"\"\n",
    "        # max dist - reward range\n",
    "        # threshold dist - used for generating markov chain\n",
    "        \n",
    "        self.idx = idx\n",
    "        self.locs = locs\n",
    "        self.dists = self.get_dists()\n",
    "        self.svr_locs = svr_locs\n",
    "        self.mu = mu # True weights\n",
    "        \n",
    "        self.t = 0 # Time-steps past\n",
    "        self.mode = \"blind\" # oracle\n",
    "        self.phase = 0 #{0-exploration,1-GoT,2-exploitation}\n",
    "        self.t_p = 0 #{timestep within phase }\n",
    "        self.k = 0 # epoch\n",
    "        \n",
    "        self.c1 = c1\n",
    "        self.c2 = c2\n",
    "        self.c3= c3\n",
    "        self.horizon = horizon\n",
    "        \n",
    "        self.delta = delta\n",
    "        self.rho = rho\n",
    "        self.epsilon = epsilon\n",
    "        if c == None:\n",
    "            self.c = len(svr_locs)\n",
    "        self.got_base_arm = 0\n",
    "        \n",
    "        \n",
    "        if P is None:\n",
    "            self.P = self.make_P(threshold_dist, self_weight)\n",
    "        else:\n",
    "            self.P = P\n",
    "            \n",
    "        self.reward_dists = self.get_reward_dists()\n",
    "        self.reward_scale = self.get_scales(max_dist)\n",
    "        self.usr_place = self.init_loc()\n",
    "        \n",
    "        self.stationary_loc = self.get_stationary_loc()\n",
    "        self.stationary_reward_scale = self.get_stationary_scale()\n",
    "        \n",
    "        # Initialize learning parameters\n",
    "        self.pulls = np.zeros(len(svr_locs))\n",
    "        self.param_summed = np.zeros(len(svr_locs))\n",
    "        self.Ftni = np.zeros(len(svr_locs)) # number of rounds in content state\n",
    "        self.Fmax_idx = 0 # arm to pull during exploitation phase\n",
    "        self.mu_est = np.zeros(len(svr_locs))\n",
    "        self.state = 'discontent'\n",
    "        \n",
    "        self.epoch_time_mapping = np.zeros(horizon)\n",
    "        self.phase_time_mapping = np.zeros(horizon)\n",
    "        \n",
    "        self.set_epochs()\n",
    "        \n",
    "        self.ucb_present = self.mu_est\n",
    "        self.expected_time = 1\n",
    "        self.ceiling = 1\n",
    "\n",
    "        # history\n",
    "        self.history_location = []\n",
    "        self.history_pull = []\n",
    "        self.history_reward = []\n",
    "        self.history_collisions = []\n",
    "        \n",
    "    def set_epochs(self):\n",
    "        \n",
    "        pass_flag = True\n",
    "        curr_phase = 0\n",
    "        t_track = 0\n",
    "        temp_k = 1\n",
    "        \n",
    "        while pass_flag:\n",
    "            if curr_phase == 0:\n",
    "                num_steps = self.c1\n",
    "            elif curr_phase == 1:\n",
    "                num_steps = self.c2 * (temp_k)**(1+self.delta)\n",
    "            elif curr_phase == 2:\n",
    "                num_steps = self.c3 * 2**(temp_k)\n",
    "            \n",
    "            end_time = t_track + num_steps\n",
    "            \n",
    "            if end_time >= self.horizon:\n",
    "                end_time = self.horizon\n",
    "                pass_flag = False\n",
    "            \n",
    "            self.epoch_time_mapping[t_track:end_time] = (temp_k) \n",
    "            self.phase_time_mapping[t_track:end_time] = curr_phase\n",
    "            \n",
    "            curr_phase += 1\n",
    "            t_track = end_time\n",
    "            \n",
    "            if curr_phase > 2:\n",
    "                curr_phase = 0\n",
    "                temp_k += 1\n",
    "            \n",
    "        return\n",
    "            \n",
    "        \n",
    "    def update_mean(self):\n",
    "        \"\"\"\n",
    "        Update decision variables for next round\n",
    "        \"\"\"\n",
    "\n",
    "        reward_record = self.param_summed\n",
    "        pulls_record = self.pulls\n",
    "        \n",
    "        for s in range(reward_record.shape[0]):\n",
    "            if pulls_record[s] > 0:\n",
    "                mean = reward_record[s]/pulls_record[s]\n",
    "                self.mu_est[s] = mean\n",
    "    \n",
    "    \n",
    "    def choose_arm(self):\n",
    "        # Choose an arm to pull based on collision restriction and UCB info\n",
    "        \n",
    "        phase = self.phase_time_mapping[self.t]\n",
    "        \n",
    "        if phase == 0: # Exploration Phase\n",
    "            arm_id = np.random.randint(low=0, high=len(self.svr_locs))\n",
    "        elif phase == 1: # GoT Phase\n",
    "            if self.state == 'content':\n",
    "                sub_arm_prob = self.epsilon**self.c / (len(self.svr_locs)-1)\n",
    "                pdf = np.ones(len(self.svr_locs)) * sub_arm_prob\n",
    "                pdf[self.got_base_arm] = 1 - self.epsilon**c\n",
    "                arm_id = np.random.choice(len(self.svr_locs, 1, p=pdf))\n",
    "            elif self.state == 'discontent':\n",
    "                arm_id = np.random.randint(low=0, high=len(self.svr_locs))\n",
    "        elif phase == 2: # Exploitation Phase\n",
    "            arm_id = self.Fmax_idx\n",
    "        \n",
    "        return arm_id\n",
    "    \n",
    "    def receive_reward(self, arm_id, reward, collision_flag, max_reward, wait_time, chosen_idx,\n",
    "                       reservation_mode = False):\n",
    "\n",
    "        phase = self.phase_time_mapping[self.t]\n",
    "#         scale = self.stationary_reward_scale[arm_id]\n",
    "        scale = self.reward_scale[self.usr_place][arm_id]\n",
    "        constant = 0.001\n",
    "        \n",
    "        if phase == 0: # Exploration Phase                              \n",
    "            if not collision_flag:\n",
    "                self.pulls[arm_id] += 1\n",
    "                self.param_summed[arm_id] += reward[self.idx]/(scale+constant)\n",
    "                self.update_mean()\n",
    "        elif phase == 1: # GoT Phase\n",
    "            if arm_id == self.got_base_arm and not collision_flag and self.state == 'content':\n",
    "                pass\n",
    "            else:\n",
    "                self.got_base_arm = arm_id\n",
    "                uns = self.stationary_reward_scale* self.mu_est\n",
    "                un_max = np.max(uns)\n",
    "                un = uns[arm_id] * (1-collision_flag)\n",
    "                prob_c = (un/un_max)*self.epsilon**(un_max-un)\n",
    "                if np.random.binomial(n=1,p=prob_c):\n",
    "                    self.state == 'content'\n",
    "                    if self.t_p > np.ceil(self.rho*self.c2*self.k**(1+self.delta)):\n",
    "                        self.Ftni[self.got_base_arm] += 1\n",
    "                else:\n",
    "                    self.state == 'discontent'\n",
    "        elif phase == 2: # Exploitation Phase\n",
    "            pass\n",
    "        \n",
    "            \n",
    "        # Update history\n",
    "        self.history_location += [self.usr_place]\n",
    "        self.history_pull += [arm_id]\n",
    "        self.history_reward += [reward]\n",
    "        self.history_collisions += [collision_flag]\n",
    "        \n",
    "        self.advance_time()\n",
    "        \n",
    "    def advance_time(self):\n",
    "        self.t += 1\n",
    "        self.t_p += 1\n",
    "        \n",
    "        try:\n",
    "            prev_epoch = self.epoch_time_mapping[t-1]\n",
    "            now_epoch = self.epoch_time_mapping[t]\n",
    "            prev_phase = self.phase_time_mapping[t-1]\n",
    "            now_phase = self.phase_time_mapping[t]\n",
    "            \n",
    "            if prev_epoch != now_epoch: # Reset all epoch (2-->0)\n",
    "                self.t_p = 0\n",
    "                self.state = 'discontent'\n",
    "                self.Ftni = np.zeros(len(svr_locs)) # number of rounds in content state\n",
    "                self.Fmax_idx = 0\n",
    "                \n",
    "            elif prev_phase != now_phase: # Go to next phase\n",
    "                self.t_p = 0\n",
    "                \n",
    "                if now_phase == 2:\n",
    "                    self.Fmax_idx = np.argmax(self.Ftni) \n",
    "        except:\n",
    "            pass\n",
    "#             print(\"advance time pass\")"
   ]
  },
  {
   "cell_type": "code",
   "execution_count": 4,
   "metadata": {},
   "outputs": [
    {
     "data": {
      "application/vnd.jupyter.widget-view+json": {
       "model_id": "2b4861840f844cdba9584a45683148bd",
       "version_major": 2,
       "version_minor": 0
      },
      "text/plain": [
       "HBox(children=(IntProgress(value=0, max=39983), HTML(value='')))"
      ]
     },
     "metadata": {},
     "output_type": "display_data"
    },
    {
     "name": "stdout",
     "output_type": "stream",
     "text": [
      "\n"
     ]
    }
   ],
   "source": [
    "# System Parameters\n",
    "T = 40000\n",
    "num_users = 10\n",
    "num_svrs = 16\n",
    "num_locs = 16\n",
    "mu = np.random.uniform(low=0, high = 1, size = [num_users, num_svrs])\n",
    "ceiling = 40\n",
    "# w = np.random.uniform(low=0, high=1, size= [num_users, num_svrs])\n",
    "space_1d_dim = 10 #4 for small, 10 for big\n",
    "\n",
    "num_explore = 1\n",
    "trials = 3\n",
    "\n",
    "# result dictionaries\n",
    "result_dicts = []\n",
    "performance_list = []\n",
    "user_dicts = []\n",
    "\n",
    "save_name = 'results/22_06_16_ceiling_20/'\n",
    "isExist = os.path.exists(save_name)\n",
    "if not isExist:\n",
    "  # Create a new directory because it does not exist \n",
    "    os.makedirs(save_name)\n",
    "\n",
    "\n",
    "# Generate visitng locations and server locations\n",
    "usr_locs = gen_eq_locs(space_1d=space_1d_dim, nums=num_locs)\n",
    "svr_locs = gen_eq_locs(space_1d=space_1d_dim, nums=num_svrs)\n",
    "\n",
    "# Create Users\n",
    "Users = []\n",
    "for i in range(num_users):\n",
    "    Users += [User(usr_locs,svr_locs,mu[i],i,\n",
    "                  max_dist = 7, threshold_dist = 6, self_weight = 1 - 0.95, P = None, ceiling = ceiling,\n",
    "                  sticky_mode = True, kick_mode=True)]\n",
    "\n",
    "GoT_Users = []\n",
    "for i in range(num_users):\n",
    "    GoT_Users += [GoT_User(usr_locs, svr_locs, mu[i], i, \n",
    "                 max_dist = 7, threshold_dist = 6, self_weight = 1 - 0.95, P = Users[i].P,\n",
    "                 c1 = 1000, c2 = 6000, c3 = 6000, delta = 0, rho = 0.5, epsilon = 0.001,\n",
    "                 c = num_users, horizon = T)]\n",
    "    \n",
    "# Create Servers\n",
    "Servers = []\n",
    "for i in range(num_svrs):\n",
    "    Servers += [Server(svr_locs[i],mu,i)]\n",
    "\n",
    "# Recorded Values - reservation\n",
    "regret_g = np.zeros(T)\n",
    "collision_count_g = np.zeros(T)\n",
    "optimal_reward_g = np.zeros(T)\n",
    "regret_g_compstat = np.zeros(T)\n",
    "\n",
    "regret = np.zeros(T)\n",
    "collision_count = np.zeros(T)\n",
    "optimal_reward = np.zeros(T)\n",
    "\n",
    "\n",
    "explore_rounds(Users, num_users, Servers, mu, regret, collision_count, optimal_reward,\n",
    "                   usr_move_flag = True, rounds=num_explore)\n",
    "\n",
    "explore_rounds(GoT_Users, num_users, Servers, mu, regret_g, collision_count_g, optimal_reward_g,\n",
    "                   usr_move_flag = True, rounds=num_explore)\n",
    "copy_usr_loc(Users, GoT_Users)\n",
    "\n",
    "# Centralized - stationary w, known mu\n",
    "w_stat = obtain_w_stationary(Users, num_users, num_svrs)\n",
    "optimal_stat_arms = offline_optimal_action(w_stat,mu)[0]\n",
    "regret_cst = copy.deepcopy(regret)\n",
    "\n",
    "round_start = ((num_svrs)*num_explore)+1\n",
    "for (zzz,t) in zip(tqdm_notebook(range(T-round_start)),range(round_start, T)):\n",
    "    w = obtain_w(Users, len(Users), len(Servers))\n",
    "    optimal = offline_optimal_action(w, mu)\n",
    "    optimal_reward[t] = optimal[1]\n",
    "    play_round(Users, Servers, mu, regret, collision_count, \n",
    "               usr_move_flag = True, debugger = False, reservation_mode = True, optimal =optimal, t = t)\n",
    "    play_round(GoT_Users, Servers, mu, regret_g, collision_count_g, \n",
    "               usr_move_flag = False, debugger=False, reservation_mode = False, optimal=optimal, t = t)\n",
    "    copy_usr_loc(Users, GoT_Users)\n",
    "    \n",
    "    # centralized solution - stationary w, known mu\n",
    "    regret_cst[t] = optimal[1] - expected_reward(optimal_stat_arms, mu, w) \n",
    "    regret_g_compstat[t] = regret_g[t] - regret_g_compstat[t]"
   ]
  },
  {
   "cell_type": "code",
   "execution_count": 5,
   "metadata": {},
   "outputs": [
    {
     "data": {
      "text/plain": [
       "0.7986342233213014"
      ]
     },
     "execution_count": 5,
     "metadata": {},
     "output_type": "execute_result"
    }
   ],
   "source": [
    "GoT_Users[0].stationary_reward_scale[1]"
   ]
  },
  {
   "cell_type": "code",
   "execution_count": 6,
   "metadata": {},
   "outputs": [
    {
     "data": {
      "text/plain": [
       "1.0"
      ]
     },
     "execution_count": 6,
     "metadata": {},
     "output_type": "execute_result"
    }
   ],
   "source": [
    "GoT_Users[0].epoch_time_mapping[1899]"
   ]
  },
  {
   "cell_type": "code",
   "execution_count": 7,
   "metadata": {},
   "outputs": [
    {
     "data": {
      "text/plain": [
       "<matplotlib.legend.Legend at 0x7fecf6fe3278>"
      ]
     },
     "execution_count": 7,
     "metadata": {},
     "output_type": "execute_result"
    },
    {
     "data": {
      "image/png": "[encoded data removed]",
      "text/plain": [
       "<Figure size 432x288 with 1 Axes>"
      ]
     },
     "metadata": {
      "needs_background": "light"
     },
     "output_type": "display_data"
    }
   ],
   "source": [
    "plot_idx = 1\n",
    "\n",
    "plt.plot(np.cumsum(regret), label = 'rsv')\n",
    "plt.plot(np.cumsum(regret_g), label = 'GoT')\n",
    "plt.plot(np.cumsum(regret_cst), label = 'stationary op')\n",
    "plt.title('Cumulative Regret CMAB')\n",
    "plt.xlabel('Rounds')\n",
    "plt.legend()"
   ]
  },
  {
   "cell_type": "code",
   "execution_count": 8,
   "metadata": {},
   "outputs": [
    {
     "data": {
      "text/plain": [
       "<matplotlib.legend.Legend at 0x7fed24dc12e8>"
      ]
     },
     "execution_count": 8,
     "metadata": {},
     "output_type": "execute_result"
    },
    {
     "data": {
      "image/png": "[encoded data removed]",
      "text/plain": [
       "<Figure size 432x288 with 1 Axes>"
      ]
     },
     "metadata": {
      "needs_background": "light"
     },
     "output_type": "display_data"
    }
   ],
   "source": [
    "plot_idx = 1\n",
    "\n",
    "plt.plot(np.cumsum(regret_g_compstat), label = 'stationary compare')\n",
    "plt.title('Cumulative Regret CMAB')\n",
    "plt.xlabel('Rounds')\n",
    "plt.legend()"
   ]
  },
  {
   "cell_type": "code",
   "execution_count": 9,
   "metadata": {},
   "outputs": [
    {
     "data": {
      "text/plain": [
       "<matplotlib.legend.Legend at 0x7fecf6fc30f0>"
      ]
     },
     "execution_count": 9,
     "metadata": {},
     "output_type": "execute_result"
    },
    {
     "data": {
      "image/png": "[encoded data removed]",
      "text/plain": [
       "<Figure size 432x288 with 1 Axes>"
      ]
     },
     "metadata": {
      "needs_background": "light"
     },
     "output_type": "display_data"
    }
   ],
   "source": [
    "plot_idx = 1\n",
    "\n",
    "plt.plot(np.cumsum(collision_count), label = 'rsv')\n",
    "plt.plot(np.cumsum(collision_count_g), label = 'GoT')\n",
    "plt.title('Cumulative Collision CMAB')\n",
    "plt.xlabel('Rounds')\n",
    "plt.legend()"
   ]
  },
  {
   "cell_type": "code",
   "execution_count": 10,
   "metadata": {},
   "outputs": [
    {
     "data": {
      "text/plain": [
       "31489.0"
      ]
     },
     "execution_count": 10,
     "metadata": {},
     "output_type": "execute_result"
    }
   ],
   "source": [
    "np.cumsum(collision_count)[-1]"
   ]
  },
  {
   "cell_type": "code",
   "execution_count": 11,
   "metadata": {},
   "outputs": [
    {
     "data": {
      "text/plain": [
       "array([4.6929809 , 5.40939629, 2.82267071, 6.13214767, 5.3669245 ,\n",
       "       6.07995072, 4.70817047, 5.40786577, 5.34107708, 6.04039129,\n",
       "       5.68177508, 5.87147173, 6.1996973 , 5.22552895, 7.01807911,\n",
       "       4.77173208, 5.72032031, 6.94354454, 6.50011184, 5.95780739,\n",
       "       5.26645896, 4.34486762, 6.96791201, 7.04170395, 5.51436503,\n",
       "       5.81148982, 5.97530008, 5.73060884, 5.47983218, 6.28390921,\n",
       "       6.73602761, 5.3268595 , 4.53781598, 6.20806498, 4.42761615,\n",
       "       5.3751796 , 6.57323023, 4.52478942, 5.68688426, 4.68139046,\n",
       "       5.74375886, 5.3696714 , 5.89264848, 5.38909878, 5.96701078,\n",
       "       7.29931908, 3.87791612, 4.40151814, 5.85058414, 3.5653961 ,\n",
       "       6.00459705, 4.12535482, 4.93123698, 6.70318827, 6.21376644,\n",
       "       7.0445229 , 6.19020248, 6.09916426])"
      ]
     },
     "execution_count": 11,
     "metadata": {},
     "output_type": "execute_result"
    }
   ],
   "source": [
    "regret_g[242:300]"
   ]
  },
  {
   "cell_type": "code",
   "execution_count": 12,
   "metadata": {},
   "outputs": [
    {
     "data": {
      "text/plain": [
       "array([  0.,   2.,   1., 116.,   6., 382.,  95.,  10.,   0.,   3.,  40.,\n",
       "        33.,   0., 402.,   4.,  18.])"
      ]
     },
     "execution_count": 12,
     "metadata": {},
     "output_type": "execute_result"
    }
   ],
   "source": [
    "GoT_Users[9].Ftni"
   ]
  },
  {
   "cell_type": "code",
   "execution_count": 13,
   "metadata": {},
   "outputs": [
    {
     "data": {
      "text/plain": [
       "array([0.07803173, 0.14648797, 0.20429418, 0.74503721, 0.29653356,\n",
       "       0.86565776, 0.66586754, 0.41612452, 0.        , 0.31212393,\n",
       "       0.56646589, 0.57274486, 0.08738706, 0.91065066, 0.21099584,\n",
       "       0.4681082 ])"
      ]
     },
     "execution_count": 13,
     "metadata": {},
     "output_type": "execute_result"
    }
   ],
   "source": [
    "GoT_Users[9].mu_est"
   ]
  },
  {
   "cell_type": "code",
   "execution_count": 14,
   "metadata": {},
   "outputs": [],
   "source": [
    "got_arms = []\n",
    "for i in range(len(GoT_Users)):\n",
    "    got_arms += [GoT_Users[i].Fmax_idx]"
   ]
  },
  {
   "cell_type": "code",
   "execution_count": 15,
   "metadata": {},
   "outputs": [
    {
     "data": {
      "text/plain": [
       "([8, 12, 1, 6, 9, 15, 13, 11, 14, 5], 7.620439263843797)"
      ]
     },
     "execution_count": 15,
     "metadata": {},
     "output_type": "execute_result"
    }
   ],
   "source": [
    "optimal"
   ]
  },
  {
   "cell_type": "code",
   "execution_count": 16,
   "metadata": {},
   "outputs": [
    {
     "data": {
      "text/plain": [
       "[8, 7, 1, 6, 9, 15, 13, 11, 14, 5]"
      ]
     },
     "execution_count": 16,
     "metadata": {},
     "output_type": "execute_result"
    }
   ],
   "source": [
    "optimal_stat_arms"
   ]
  },
  {
   "cell_type": "code",
   "execution_count": 17,
   "metadata": {},
   "outputs": [
    {
     "data": {
      "text/plain": [
       "[8, 12, 5, 5, 9, 15, 9, 11, 9, 13]"
      ]
     },
     "execution_count": 17,
     "metadata": {},
     "output_type": "execute_result"
    }
   ],
   "source": [
    "got_arms"
   ]
  },
  {
   "cell_type": "code",
   "execution_count": null,
   "metadata": {},
   "outputs": [],
   "source": []
  }
 ],
 "metadata": {
  "kernelspec": {
   "display_name": "Python 3",
   "language": "python",
   "name": "python3"
  },
  "language_info": {
   "codemirror_mode": {
    "name": "ipython",
    "version": 3
   },
   "file_extension": ".py",
   "mimetype": "text/x-python",
   "name": "python",
   "nbconvert_exporter": "python",
   "pygments_lexer": "ipython3",
   "version": "3.7.3"
  }
 },
 "nbformat": 4,
 "nbformat_minor": 2
}
