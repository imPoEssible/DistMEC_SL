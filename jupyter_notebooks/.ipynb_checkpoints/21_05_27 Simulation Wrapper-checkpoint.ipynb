{
 "cells": [
  {
   "cell_type": "markdown",
   "id": "95dbfd74",
   "metadata": {},
   "source": [
    "# Simulation Wrapper\n",
    "\n",
    "5/27/21\n",
    "\n",
    "#### Summary:\n",
    "Run a crude version of system realization and latency measurements given the offloading decisions are identical for user to assumptions in container dispatchment.\n",
    "- Initialize the system (servers, users, containers)\n",
    "- Deploy the containers for one cycle\n",
    "- Offload user jobs and record lateny throughout the system \n",
    "- Move the users based on their markovian mobility\n",
    "- Reassign containers and repeat"
   ]
  },
  {
   "cell_type": "code",
   "execution_count": 1,
   "id": "7cafac97",
   "metadata": {},
   "outputs": [
    {
     "name": "stdout",
     "output_type": "stream",
     "text": [
      "/home/tkim/Academics/DistMEC\n"
     ]
    }
   ],
   "source": [
    "cd /home/tkim/Academics/DistMEC"
   ]
  },
  {
   "cell_type": "markdown",
   "id": "be819260",
   "metadata": {},
   "source": [
    "### Import Relevant Libraries and Dependencies"
   ]
  },
  {
   "cell_type": "code",
   "execution_count": 2,
   "id": "ad333500",
   "metadata": {},
   "outputs": [],
   "source": [
    "import numpy as np\n",
    "import math\n",
    "import copy\n",
    "\n",
    "from classes.Application import *\n",
    "from classes.User import *\n",
    "from classes.Server import *\n",
    "from solver.Sim_Params import *\n",
    "from classes.Central_Controller import *\n",
    "from classes.Container import *"
   ]
  },
  {
   "cell_type": "markdown",
   "id": "55306c50",
   "metadata": {},
   "source": [
    "### Build Wrapper Class\n",
    "\n",
    "The wrapper class should propagate between small and big timesteps.\n",
    "\n",
    "Functions should take charge of each step of the cycle"
   ]
  },
  {
   "cell_type": "code",
   "execution_count": 3,
   "id": "c461b942",
   "metadata": {},
   "outputs": [],
   "source": [
    "class Sim_Params:\n",
    "    \"\"\"\n",
    "    Simulation params hold information about system setting for simulation\n",
    "    - timestep - 5 min per timestep\n",
    "    - length - 1 mile per unit length\n",
    "    \"\"\"\n",
    "    \n",
    "    def __init__(self, big_ts, small_ts, x_length, y_length, num_users, num_servers, num_apps):\n",
    "        \n",
    "        self.big_ts = big_ts\n",
    "        self.small_ts = small_ts\n",
    "        self.x_length = x_length\n",
    "        self.y_length = y_length\n",
    "        self.num_users = num_users\n",
    "        self.num_servers = num_servers\n",
    "        self.num_apps = num_apps\n",
    "        \n",
    "        # Non-specified instances\n",
    "        self.low_mean_jobs = 5\n",
    "        self.high_mean_jobs = 15\n",
    "        self.server_weak_range = np.array([[1,4]])\n",
    "        self.server_strong_range = np.array([[1,4]])\n",
    "        self.user_max_speed = 2.5\n",
    "        self.user_lamdas = [1/0.25,1/0.83,1/1.67] # 3 mph, 10 mph, 20 mph\n",
    "        self.user_num_path = 10\n",
    "        self.container_service_low = 20\n",
    "        self.container_service_high = 30\n",
    "        self.deploy_rounds = 5"
   ]
  },
  {
   "cell_type": "code",
   "execution_count": 4,
   "id": "82327e44",
   "metadata": {},
   "outputs": [],
   "source": [
    "def setup_sim(sim_param):\n",
    "    \n",
    "    # Create Job Profiles\n",
    "    num_app_types = sim_param.num_apps\n",
    "    low_mean = sim_param.low_mean_jobs\n",
    "    high_mean = sim_param.high_mean_jobs\n",
    "    job_profiles = []\n",
    "\n",
    "    for i in range(num_app_types):\n",
    "        job_profiles += [Job_Profile(job_name = str(i),\n",
    "                                     latency_req = 3,\n",
    "                                     offload_mean = np.random.uniform(low_mean,high_mean))]\n",
    "\n",
    "\n",
    "    # System physical Boundaries - All action takes within this\n",
    "    boundaries = np.array([[0,sim_param.x_length],[0,sim_param.y_length]])\n",
    "\n",
    "\n",
    "    # Generate Servers\n",
    "    num_resource = 1\n",
    "    weak_range = sim_param.server_weak_range\n",
    "    strong_range = sim_param.server_strong_range\n",
    "\n",
    "    # Generate Server\n",
    "    servers = []\n",
    "    idx_counter = 0\n",
    "\n",
    "    for i in range(sim_param.num_servers):\n",
    "        servers.append(Server(boundaries,level=2,rand_locs=True,locs=None))\n",
    "        servers[-1].server_resources(num_resource, weak_range, strong_range)\n",
    "        servers[-1].assign_id(idx_counter)\n",
    "        idx_counter += 1\n",
    "\n",
    "\n",
    "    # Generate Users\n",
    "    users= []\n",
    "    idx_counter = 0\n",
    "\n",
    "\n",
    "    for i in range(sim_param.num_users):\n",
    "        users += [User(boundaries, sim_param.big_ts, 2, sim_param.user_lamdas, sim_param.user_max_speed)]\n",
    "        users[-1].generate_MC(servers)\n",
    "        users[-1].assign_id(idx_counter)\n",
    "        idx_counter += 1\n",
    "\n",
    "\n",
    "    # Generate Apps\n",
    "    num_apps = len(users)\n",
    "    app_id = np.random.choice(num_app_types,num_apps)\n",
    "    apps = []\n",
    "\n",
    "    for i in range(len(app_id)):\n",
    "        apps += [Application(job_type=app_id[i], user_id=i, \n",
    "                             time_steps=sim_param.big_ts, job_profiles=job_profiles)]\n",
    "        \n",
    "    # Generate Containers - in dictionary indexed by {(server,app)}\n",
    "    containers = {}\n",
    "    \n",
    "    for s in range(len(servers)):\n",
    "        for a in range(num_app_types):\n",
    "            service_rate = np.random.uniform(sim_param.container_service_low, sim_param.container_service_high)\n",
    "            latency_restriction = job_profiles[a].latency_req\n",
    "            containers[(s,a)] = Container(a, s, service_rate, latency_restriction)\n",
    "\n",
    "    return servers, users, containers, apps"
   ]
  },
  {
   "cell_type": "markdown",
   "id": "62679afb",
   "metadata": {},
   "source": [
    "### Run the system\n",
    "\n",
    "First set up simulation parameters and generate players (servers, users, containers, apps)"
   ]
  },
  {
   "cell_type": "code",
   "execution_count": 5,
   "id": "374b46d4",
   "metadata": {},
   "outputs": [],
   "source": [
    "sim_param = Sim_Params(big_ts=5, small_ts=5, x_length=5, y_length=5, num_users=20, num_servers=5, num_apps=6)\n",
    "servers, users, containers, apps = setup_sim(sim_param)"
   ]
  },
  {
   "cell_type": "markdown",
   "id": "85ad089b",
   "metadata": {},
   "source": [
    "Initially run the scenario of job arrivals and process during small TS."
   ]
  },
  {
   "cell_type": "code",
   "execution_count": 12,
   "id": "86429429",
   "metadata": {},
   "outputs": [],
   "source": [
    "# Loop through big time step\n",
    "cc = Central_Controller(servers, containers, sim_param, apps, users)\n",
    "\n",
    "for bt in range(sim_param.big_ts):\n",
    "# Update user location for big timestep\n",
    "\n",
    "    # Deploy the containers to the servers\n",
    "    cc.big_ts = bt\n",
    "    cc.VM_placement(users,apps,sim_param.deploy_rounds)\n",
    "\n",
    "    # For each small time step offload and serve at container\n",
    "    for st in range(sim_param.small_ts):\n",
    "        # random order between users when offloading for each app\n",
    "        cc.small_ts = st\n",
    "        usr_order = np.arange(len(users))\n",
    "        np.random.shuffle(usr_order)\n",
    "\n",
    "        temp_containers = {}\n",
    "        queue_replies = {}\n",
    "\n",
    "        # Make offloading decision\n",
    "        for u in usr_order:\n",
    "            # Generate load\n",
    "            apps[u].new_load(ts_big=bt,ts_small=st)\n",
    "            # Decide to offload given servers --> add offload policy to app class\n",
    "            offload_u = apps[u].offload_uniform(cc.container_deployed, bt, st)\n",
    "            for (s,a) in offload_u.keys():\n",
    "                if (s,a) not in temp_containers:\n",
    "                    temp_containers[(s,a)] = np.empty([0,4])\n",
    "                temp_containers[(s,a)] = np.append(temp_containers[(s,a)],offload_u[(s,a)],axis=0)\n",
    "\n",
    "        # Scramble arrived job and add to queue, apps record latency\n",
    "        for (s,a) in temp_containers.keys():\n",
    "            sa_offload = temp_containers[(s,a)]\n",
    "            np.random.shuffle(sa_offload) \n",
    "            replies = containers[(s,a)].add_to_queue(sa_offload)\n",
    "            # print(containers[(s,a)].queue)\n",
    "            queue_replies[(s,a)] = replies\n",
    "\n",
    "            for i in range(replies.shape[0]):\n",
    "                a_id, reply_len = int(replies[i,0]), replies[i,1]\n",
    "                apps[a_id].record_queue_length(reply_len, s, bt, st)\n",
    "\n",
    "            # Service the queue\n",
    "            containers[(s,a)].serve_ts()"
   ]
  },
  {
   "cell_type": "code",
   "execution_count": 13,
   "id": "2f946d32",
   "metadata": {},
   "outputs": [
    {
     "data": {
      "text/plain": [
       "{(1,\n",
       "  2): array([[ 4.        ,  1.67368182],\n",
       "        [15.        ,  1.94085868],\n",
       "        [ 8.        ,  2.17463843]]),\n",
       " (0,\n",
       "  5): array([[10.        ,  0.48707112],\n",
       "        [13.        ,  0.71942599],\n",
       "        [ 2.        ,  0.76589696],\n",
       "        [ 3.        ,  0.8588389 ]]),\n",
       " (2,\n",
       "  4): array([[14.        ,  6.32605443],\n",
       "        [19.        ,  6.45377155],\n",
       "        [ 9.        ,  6.5389163 ],\n",
       "        [16.        ,  6.70920579],\n",
       "        [11.        ,  6.92206766]]),\n",
       " (3,\n",
       "  4): array([[17.        ,  3.54957925],\n",
       "        [16.        ,  3.68940743],\n",
       "        [11.        ,  3.86419266],\n",
       "        [19.        ,  3.9690638 ],\n",
       "        [ 9.        ,  4.07393493],\n",
       "        [14.        ,  4.2836772 ]]),\n",
       " (4,\n",
       "  4): array([[14.        ,  1.00374941],\n",
       "        [11.        ,  1.15778784],\n",
       "        [ 9.        ,  1.27331666],\n",
       "        [19.        ,  1.38884548],\n",
       "        [16.        ,  1.54288391]]),\n",
       " (2,\n",
       "  3): array([[ 7.        ,  0.14700671],\n",
       "        [12.        ,  0.53902461],\n",
       "        [ 5.        ,  0.58802685],\n",
       "        [ 0.        ,  1.22505594]]),\n",
       " (3,\n",
       "  3): array([[12.        ,  0.30693854],\n",
       "        [ 5.        ,  0.34530586],\n",
       "        [ 7.        ,  0.38367318],\n",
       "        [ 0.        ,  0.88244831]]),\n",
       " (4,\n",
       "  3): array([[ 5.        ,  0.03436188],\n",
       "        [ 7.        ,  0.06872375],\n",
       "        [ 0.        ,  0.51542815],\n",
       "        [12.        ,  0.82468504]]),\n",
       " (0,\n",
       "  1): array([[ 6.        ,  0.23394461],\n",
       "        [18.        ,  0.37431138]]),\n",
       " (1,\n",
       "  1): array([[ 6.        ,  0.07816884],\n",
       "        [18.        ,  0.1954221 ]]),\n",
       " (2,\n",
       "  1): array([[ 6.        ,  0.07036888],\n",
       "        [18.        ,  0.17592219]]),\n",
       " (3,\n",
       "  1): array([[18.        ,  0.13905235],\n",
       "        [ 6.        ,  0.23175391]]),\n",
       " (4,\n",
       "  1): array([[ 6.        ,  0.06983052],\n",
       "        [18.        ,  0.1745763 ]]),\n",
       " (1, 0): array([[1.       , 0.0408501]]),\n",
       " (2, 0): array([[1.       , 0.0841979]]),\n",
       " (3, 0): array([[1.       , 0.0901863]]),\n",
       " (4, 0): array([[1.        , 0.09536462]])}"
      ]
     },
     "execution_count": 13,
     "metadata": {},
     "output_type": "execute_result"
    }
   ],
   "source": [
    "queue_replies"
   ]
  },
  {
   "cell_type": "code",
   "execution_count": null,
   "id": "89b04ea9",
   "metadata": {},
   "outputs": [],
   "source": []
  }
 ],
 "metadata": {
  "kernelspec": {
   "display_name": "Python 3",
   "language": "python",
   "name": "python3"
  },
  "language_info": {
   "codemirror_mode": {
    "name": "ipython",
    "version": 3
   },
   "file_extension": ".py",
   "mimetype": "text/x-python",
   "name": "python",
   "nbconvert_exporter": "python",
   "pygments_lexer": "ipython3",
   "version": "3.8.8"
  }
 },
 "nbformat": 4,
 "nbformat_minor": 5
}
