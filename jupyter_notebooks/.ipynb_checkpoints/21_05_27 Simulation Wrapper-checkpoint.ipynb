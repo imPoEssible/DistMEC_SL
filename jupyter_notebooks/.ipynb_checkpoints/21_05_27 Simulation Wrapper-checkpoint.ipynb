{
 "cells": [
  {
   "cell_type": "markdown",
   "id": "9a4f97a4",
   "metadata": {},
   "source": [
    "# Simulation Wrapper\n",
    "\n",
    "5/27/21\n",
    "\n",
    "#### Summary:\n",
    "Run a crude version of system realization and latency measurements given the offloading decisions are identical for user to assumptions in container dispatchment.\n",
    "- Initialize the system (servers, users, containers)\n",
    "- Deploy the containers for one cycle\n",
    "- Offload user jobs and record lateny throughout the system \n",
    "- Move the users based on their markovian mobility\n",
    "- Reassign containers and repeat"
   ]
  },
  {
   "cell_type": "code",
   "execution_count": 1,
   "id": "146bc379",
   "metadata": {},
   "outputs": [
    {
     "name": "stdout",
     "output_type": "stream",
     "text": [
      "/home/tkim/Academics/DistMEC\n"
     ]
    }
   ],
   "source": [
    "cd /home/tkim/Academics/DistMEC"
   ]
  },
  {
   "cell_type": "markdown",
   "id": "f8f925c3",
   "metadata": {},
   "source": [
    "### Import Relevant Libraries and Dependencies"
   ]
  },
  {
   "cell_type": "code",
   "execution_count": 36,
   "id": "ca8114e1",
   "metadata": {},
   "outputs": [],
   "source": [
    "import numpy as np\n",
    "import math\n",
    "import copy\n",
    "\n",
    "from classes.Application import *\n",
    "from classes.User import *\n",
    "from classes.Server import *\n",
    "from solver.Sim_Params import *\n",
    "from classes.Central_Controller import *\n",
    "from classes.Container import *"
   ]
  },
  {
   "cell_type": "markdown",
   "id": "d4a0e4e8",
   "metadata": {},
   "source": [
    "### Build Wrapper Class\n",
    "\n",
    "The wrapper class should propagate between small and big timesteps.\n",
    "\n",
    "Functions should take charge of each step of the cycle"
   ]
  },
  {
   "cell_type": "code",
   "execution_count": 37,
   "id": "1dfac9dd",
   "metadata": {},
   "outputs": [],
   "source": [
    "class Sim_Params:\n",
    "    \"\"\"\n",
    "    Simulation params hold information about system setting for simulation\n",
    "    - timestep - 5 min per timestep\n",
    "    - length - 1 mile per unit length\n",
    "    \"\"\"\n",
    "    \n",
    "    def __init__(self, big_ts, small_ts, x_length, y_length, num_users, num_servers, num_apps):\n",
    "        \n",
    "        self.big_ts = big_ts\n",
    "        self.small_ts = small_ts\n",
    "        self.x_length = x_length\n",
    "        self.y_length = y_length\n",
    "        self.num_users = num_users\n",
    "        self.num_servers = num_servers\n",
    "        self.num_apps = num_apps\n",
    "        \n",
    "        # Non-specified instances\n",
    "        self.low_mean_jobs = 5\n",
    "        self.high_mean_jobs = 15\n",
    "        self.server_weak_range = np.array([[1,4]])\n",
    "        self.server_strong_range = np.array([[1,4]])\n",
    "        self.user_max_speed = 2.5\n",
    "        self.user_lamdas = [1/0.25,1/0.83,1/1.67] # 3 mph, 10 mph, 20 mph\n",
    "        self.user_num_path = 10\n",
    "        self.container_service_low = 20\n",
    "        self.container_service_high = 30\n",
    "        self.deploy_rounds = 5"
   ]
  },
  {
   "cell_type": "code",
   "execution_count": 38,
   "id": "7a36abb0",
   "metadata": {},
   "outputs": [],
   "source": [
    "def setup_sim(sim_param):\n",
    "    \n",
    "    # Create Job Profiles\n",
    "    num_app_types = sim_param.num_apps\n",
    "    low_mean = sim_param.low_mean_jobs\n",
    "    high_mean = sim_param.high_mean_jobs\n",
    "    job_profiles = []\n",
    "\n",
    "    for i in range(num_app_types):\n",
    "        job_profiles += [Job_Profile(job_name = str(i),\n",
    "                                     latency_req = 3,\n",
    "                                     offload_mean = np.random.uniform(low_mean,high_mean))]\n",
    "\n",
    "\n",
    "    # System physical Boundaries - All action takes within this\n",
    "    boundaries = np.array([[0,sim_param.x_length],[0,sim_param.y_length]])\n",
    "\n",
    "\n",
    "    # Generate Servers\n",
    "    num_resource = 1\n",
    "    weak_range = sim_param.server_weak_range\n",
    "    strong_range = sim_param.server_strong_range\n",
    "\n",
    "    # Generate Server\n",
    "    servers = []\n",
    "    idx_counter = 0\n",
    "\n",
    "    for i in range(sim_param.num_servers):\n",
    "        servers.append(Server(boundaries,level=2,rand_locs=True,locs=None))\n",
    "        servers[-1].server_resources(num_resource, weak_range, strong_range)\n",
    "        servers[-1].assign_id(idx_counter)\n",
    "        idx_counter += 1\n",
    "\n",
    "\n",
    "    # Generate Users\n",
    "    users= []\n",
    "    idx_counter = 0\n",
    "\n",
    "\n",
    "    for i in range(sim_param.num_users):\n",
    "        users += [User(boundaries, sim_param.big_ts, 2, sim_param.user_lamdas, sim_param.user_max_speed)]\n",
    "        users[-1].generate_MC(servers)\n",
    "        users[-1].assign_id(idx_counter)\n",
    "        idx_counter += 1\n",
    "\n",
    "\n",
    "    # Generate Apps\n",
    "    num_apps = len(users)\n",
    "    app_id = np.random.choice(num_app_types,num_apps)\n",
    "    apps = []\n",
    "\n",
    "    for i in range(len(app_id)):\n",
    "        apps += [Application(job_type=app_id[i], user_id=i, \n",
    "                             time_steps=sim_param.big_ts, job_profiles=job_profiles)]\n",
    "        \n",
    "    # Generate Containers - in dictionary indexed by {(server,app)}\n",
    "    containers = {}\n",
    "    \n",
    "    for s in range(len(servers)):\n",
    "        for a in range(num_app_types):\n",
    "            service_rate = np.random.uniform(sim_param.container_service_low, sim_param.container_service_high)\n",
    "            latency_restriction = job_profiles[a].latency_req\n",
    "            containers[(s,a)] = Container(a, s, service_rate, latency_restriction)\n",
    "\n",
    "    return servers, users, containers, apps"
   ]
  },
  {
   "cell_type": "markdown",
   "id": "aacfe176",
   "metadata": {},
   "source": [
    "### Run the system\n",
    "\n",
    "First set up simulation parameters and generate players (servers, users, containers, apps)"
   ]
  },
  {
   "cell_type": "code",
   "execution_count": 39,
   "id": "e8d31d47",
   "metadata": {},
   "outputs": [],
   "source": [
    "sim_param = Sim_Params(big_ts=5, small_ts=5, x_length=5, y_length=5, num_users=20, num_servers=5, num_apps=6)\n",
    "servers, users, containers, apps = setup_sim(sim_param)"
   ]
  },
  {
   "cell_type": "markdown",
   "id": "72d7f021",
   "metadata": {},
   "source": [
    "Initially run the scenario of job arrivals and process during small TS."
   ]
  },
  {
   "cell_type": "code",
   "execution_count": 40,
   "id": "32df90c8",
   "metadata": {},
   "outputs": [],
   "source": [
    "# Loop through big time step\n",
    "bt = 0\n",
    "\n",
    "# Update user location for big timestep\n",
    "\n",
    "# Deploy the containers to the servers\n",
    "cc = Central_Controller(servers, containers, sim_param, apps, users)\n",
    "cc.VM_placement(users,apps,sim_param.deploy_rounds)\n",
    "\n",
    "# For each small time step offload and serve at container\n",
    "for st in range(sim_param.small_ts):\n",
    "    # random order between users when offloading for each app\n",
    "    usr_order = np.arange(len(users))\n",
    "    np.random.shuffle(usr_order)\n",
    "    \n",
    "    temp_containers = {}\n",
    "    queue_replies = {}\n",
    "    \n",
    "    # Make offloading decision\n",
    "    for u in usr_order:\n",
    "        # Generate load\n",
    "        apps[u].new_load(ts_big=bt,ts_small=st)\n",
    "        # Decide to offload given servers --> add offload policy to app class\n",
    "        offload_u = apps[u].offload_uniform(cc.container_deployed, bt, st)\n",
    "        for (s,a) in offload_u.keys():\n",
    "            if (s,a) not in temp_containers:\n",
    "                temp_containers[(s,a)] = np.empty([0,4])\n",
    "            temp_containers[(s,a)] = np.append(temp_containers[(s,a)],offload_u[(s,a)],axis=0)\n",
    "    \n",
    "    # Scramble arrived job and add to queue\n",
    "    for (s,a) in temp_containers.keys():\n",
    "        sa_offload = temp_containers[(s,a)]\n",
    "        np.random.shuffle(sa_offload) \n",
    "        queue_replies[(s,a)] = containers[(s,a)].add_to_queue(sa_offload)\n",
    "        \n",
    "    # "
   ]
  },
  {
   "cell_type": "code",
   "execution_count": 41,
   "id": "9864ce2d",
   "metadata": {},
   "outputs": [
    {
     "data": {
      "text/plain": [
       "{(0, 0): array([0., 0., 0., 0., 3.]),\n",
       " (0, 1): array([ 0.,  0.,  0.,  0., 11.]),\n",
       " (0, 2): array([ 0.,  0.,  0.,  0., 33.]),\n",
       " (0, 3): array([0., 0., 0., 0., 5.]),\n",
       " (0, 4): array([ 0.,  0.,  0.,  0., 11.])}"
      ]
     },
     "execution_count": 41,
     "metadata": {},
     "output_type": "execute_result"
    }
   ],
   "source": [
    "apps[0].offload_history"
   ]
  },
  {
   "cell_type": "code",
   "execution_count": 42,
   "id": "1929e442",
   "metadata": {},
   "outputs": [
    {
     "data": {
      "text/plain": [
       "dict_keys([(0, 0), (1, 0), (2, 0), (3, 0), (4, 0)])"
      ]
     },
     "execution_count": 42,
     "metadata": {},
     "output_type": "execute_result"
    }
   ],
   "source": [
    "offload_u.keys()"
   ]
  },
  {
   "cell_type": "code",
   "execution_count": 47,
   "id": "529f1a49",
   "metadata": {},
   "outputs": [
    {
     "data": {
      "text/plain": [
       "array([[18.,  0.,  1.,  1.],\n",
       "       [12.,  0.,  1.,  1.],\n",
       "       [12.,  1.,  1.,  1.],\n",
       "       [12.,  2.,  3.,  3.],\n",
       "       [18.,  3.,  2.,  2.],\n",
       "       [18.,  4.,  1.,  1.]])"
      ]
     },
     "execution_count": 47,
     "metadata": {},
     "output_type": "execute_result"
    }
   ],
   "source": [
    "containers[(s,a)].queue"
   ]
  },
  {
   "cell_type": "code",
   "execution_count": 48,
   "id": "d1516c59",
   "metadata": {},
   "outputs": [
    {
     "data": {
      "text/plain": [
       "{(1,\n",
       "  1): array([[ 2.        , 11.3204913 ],\n",
       "        [14.        , 12.14881993],\n",
       "        [17.        , 13.11520334],\n",
       "        [ 6.        , 15.69222575]]),\n",
       " (0,\n",
       "  2): array([[ 8.        ,  6.86209938],\n",
       "        [15.        ,  7.64527376],\n",
       "        [ 3.        ,  9.02515244],\n",
       "        [19.        ,  9.50997468]]),\n",
       " (0,\n",
       "  5): array([[16.        ,  0.83378595],\n",
       "        [13.        ,  0.86852703]]),\n",
       " (1,\n",
       "  5): array([[16.        ,  0.90876531],\n",
       "        [13.        ,  0.95203985]]),\n",
       " (2,\n",
       "  5): array([[16.        ,  1.00385799],\n",
       "        [13.        ,  1.04568541]]),\n",
       " (3,\n",
       "  5): array([[13.        ,  1.01981305],\n",
       "        [16.        ,  1.12907874]]),\n",
       " (4,\n",
       "  5): array([[13.        ,  0.95810172],\n",
       "        [16.        ,  1.0949734 ]]),\n",
       " (4,\n",
       "  3): array([[9.        , 6.69013705],\n",
       "        [0.        , 7.18403978],\n",
       "        [5.        , 7.36364077]]),\n",
       " (0,\n",
       "  0): array([[ 1.        ,  2.61922877],\n",
       "        [11.        ,  2.7283633 ],\n",
       "        [ 7.        ,  2.94663237]]),\n",
       " (1,\n",
       "  0): array([[10.        ,  2.93130176],\n",
       "        [ 1.        ,  3.18994603],\n",
       "        [11.        ,  3.31926817],\n",
       "        [ 7.        ,  3.57791244]]),\n",
       " (2,\n",
       "  0): array([[ 7.        ,  3.0842442 ],\n",
       "        [ 1.        ,  3.29842783],\n",
       "        [ 4.        ,  3.34126455],\n",
       "        [11.        ,  3.426938  ]]),\n",
       " (3,\n",
       "  0): array([[ 1.        ,  2.29965819],\n",
       "        [ 4.        ,  2.3345015 ],\n",
       "        [ 7.        ,  2.54356134],\n",
       "        [11.        ,  2.61324795]]),\n",
       " (4,\n",
       "  0): array([[ 1.        ,  2.38700106],\n",
       "        [ 4.        ,  2.42372415],\n",
       "        [ 7.        ,  2.6807858 ],\n",
       "        [11.        ,  2.75423199]]),\n",
       " (1,\n",
       "  4): array([[12.        ,  0.44109145],\n",
       "        [18.        ,  0.4852006 ]]),\n",
       " (3, 4): array([[18.        ,  0.32743874]]),\n",
       " (4, 4): array([[18.        ,  0.33776842]])}"
      ]
     },
     "execution_count": 48,
     "metadata": {},
     "output_type": "execute_result"
    }
   ],
   "source": [
    "queue_replies"
   ]
  },
  {
   "cell_type": "code",
   "execution_count": null,
   "id": "91140ffc",
   "metadata": {},
   "outputs": [],
   "source": []
  }
 ],
 "metadata": {
  "kernelspec": {
   "display_name": "Python 3",
   "language": "python",
   "name": "python3"
  },
  "language_info": {
   "codemirror_mode": {
    "name": "ipython",
    "version": 3
   },
   "file_extension": ".py",
   "mimetype": "text/x-python",
   "name": "python",
   "nbconvert_exporter": "python",
   "pygments_lexer": "ipython3",
   "version": "3.8.8"
  }
 },
 "nbformat": 4,
 "nbformat_minor": 5
}
