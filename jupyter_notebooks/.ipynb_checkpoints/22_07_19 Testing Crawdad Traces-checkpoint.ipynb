{
 "cells": [
  {
   "cell_type": "code",
   "execution_count": 1,
   "metadata": {},
   "outputs": [
    {
     "name": "stdout",
     "output_type": "stream",
     "text": [
      "/home/ubuntu/DistMEC\n"
     ]
    }
   ],
   "source": [
    "cd /home/ubuntu/DistMEC/"
   ]
  },
  {
   "cell_type": "code",
   "execution_count": 2,
   "metadata": {},
   "outputs": [],
   "source": [
    "import numpy as np\n",
    "import matplotlib.pyplot as plt\n",
    "\n",
    "from classes.User import *\n",
    "from classes.solver import *\n",
    "from classes.Server import *\n",
    "from classes.distributed_utils import *\n",
    "\n",
    "from tqdm import tqdm, tqdm_notebook\n",
    "from time import sleep\n",
    "import pickle\n",
    "import os\n",
    "import numpy as np"
   ]
  },
  {
   "cell_type": "code",
   "execution_count": 3,
   "metadata": {},
   "outputs": [
    {
     "data": {
      "application/vnd.jupyter.widget-view+json": {
       "model_id": "7613c36c822642a1a41556fa630bde12",
       "version_major": 2,
       "version_minor": 0
      },
      "text/plain": [
       "HBox(children=(IntProgress(value=0, max=19990), HTML(value='')))"
      ]
     },
     "metadata": {},
     "output_type": "display_data"
    },
    {
     "name": "stdout",
     "output_type": "stream",
     "text": [
      "\n"
     ]
    }
   ],
   "source": [
    "# System Parameters\n",
    "T = 20000\n",
    "num_users = 9\n",
    "num_svrs = 9\n",
    "num_locs = 16\n",
    "mu = np.random.uniform(low=0, high = 1, size = [num_users, num_svrs])\n",
    "ceiling = 30\n",
    "# w = np.random.uniform(low=0, high=1, size= [num_users, num_svrs])\n",
    "space_1d_dim = 5 #4 for small, 10 for big\n",
    "\n",
    "num_explore = 1\n",
    "trials = 3\n",
    "\n",
    "# result dictionaries\n",
    "result_dicts = []\n",
    "performance_list = []\n",
    "user_dicts = []\n",
    "\n",
    "save_name = 'results/22_06_16_ceiling_20/'\n",
    "isExist = os.path.exists(save_name)\n",
    "if not isExist:\n",
    "  # Create a new directory because it does not exist \n",
    "    os.makedirs(save_name)\n",
    "\n",
    "\n",
    "# Generate visitng locations and server locations\n",
    "usr_locs = gen_eq_locs(space_1d=space_1d_dim, nums=num_locs,offset = 1)\n",
    "svr_locs = gen_eq_locs(space_1d=space_1d_dim, nums=num_svrs,offset = 1)\n",
    "\n",
    "with open('traces_P_40k.pkl', 'rb') as handle:\n",
    "    P_collection = pickle.load(handle)\n",
    "P_idx = list(P_collection)\n",
    "\n",
    "# Create Users\n",
    "Users = []\n",
    "for i in range(num_users):\n",
    "    P_chosen = P_collection[random.choice(P_idx)]\n",
    "    Users += [User(usr_locs,svr_locs,mu[i],i,\n",
    "                  max_dist = 3, threshold_dist = 6, self_weight = 1 - 0.95, P = P_chosen, ceiling = ceiling,\n",
    "                  sticky_mode = True, kick_mode=True)]\n",
    "\n",
    "GoT_Users = []\n",
    "for i in range(num_users):\n",
    "    GoT_Users += [GoT_User(usr_locs, svr_locs, mu[i], i, \n",
    "                 max_dist = 7, threshold_dist = 6, self_weight = 1 - 0.95, P = Users[i].P,\n",
    "                 c1 = 5000, c2 = 6000, c3 = 6000, delta = 0, rho = 0.5, epsilon = 0.01,\n",
    "                 c = num_users, horizon = T)]\n",
    "    \n",
    "# Create Servers\n",
    "Servers = []\n",
    "for i in range(num_svrs):\n",
    "    Servers += [Server(svr_locs[i],mu,i)]\n",
    "\n",
    "# Recorded Values - reservation\n",
    "regret_g = np.zeros(T)\n",
    "collision_count_g = np.zeros(T)\n",
    "optimal_reward_g = np.zeros(T)\n",
    "regret_g_compstat = np.zeros(T)\n",
    "\n",
    "regret = np.zeros(T)\n",
    "collision_count = np.zeros(T)\n",
    "optimal_reward = np.zeros(T)\n",
    "\n",
    "\n",
    "explore_rounds(Users, num_users, Servers, mu, regret, collision_count, optimal_reward,\n",
    "                   usr_move_flag = True, rounds=num_explore)\n",
    "\n",
    "round_start = ((num_svrs)*num_explore)+1\n",
    "\n",
    "for t in range(round_start):\n",
    "    w = obtain_w(GoT_Users, len(Users), len(Servers))\n",
    "    optimal = offline_optimal_action(w, mu)\n",
    "    play_round(GoT_Users, Servers, mu, regret_g, collision_count_g, \n",
    "               usr_move_flag = True, debugger=False, reservation_mode = False, optimal=optimal, t = t)\n",
    "    \n",
    "copy_usr_loc(Users, GoT_Users)\n",
    "\n",
    "# Centralized - stationary w, known mu\n",
    "w_stat = obtain_w_stationary(Users, num_users, num_svrs)\n",
    "optimal_stat_arms = offline_optimal_action(w_stat,mu)[0]\n",
    "regret_cst = copy.deepcopy(regret)\n",
    "\n",
    "for (zzz,t) in zip(tqdm_notebook(range(T-round_start)),range(round_start, T)):\n",
    "    w = obtain_w(Users, len(Users), len(Servers))\n",
    "    optimal = offline_optimal_action(w, mu)\n",
    "    optimal_reward[t] = optimal[1]\n",
    "    play_round(Users, Servers, mu, regret, collision_count, \n",
    "               usr_move_flag = True, debugger = False, reservation_mode = True, optimal =optimal, t = t)\n",
    "    play_round(GoT_Users, Servers, mu, regret_g, collision_count_g, \n",
    "               usr_move_flag = False, debugger=False, reservation_mode = False, optimal=optimal, t = t)\n",
    "    copy_usr_loc(Users, GoT_Users)\n",
    "    \n",
    "    # centralized solution - stationary w, known mu\n",
    "    regret_cst[t] = optimal[1] - expected_reward(optimal_stat_arms, mu, w) \n",
    "    regret_g_compstat[t] = regret_g[t] - regret_cst[t]"
   ]
  },
  {
   "cell_type": "code",
   "execution_count": 4,
   "metadata": {},
   "outputs": [
    {
     "data": {
      "text/plain": [
       "<matplotlib.legend.Legend at 0x7f3699b25b00>"
      ]
     },
     "execution_count": 4,
     "metadata": {},
     "output_type": "execute_result"
    },
    {
     "data": {
      "image/png": "[encoded data removed]",
      "text/plain": [
       "<Figure size 432x288 with 1 Axes>"
      ]
     },
     "metadata": {
      "needs_background": "light"
     },
     "output_type": "display_data"
    }
   ],
   "source": [
    "plot_idx = 1\n",
    "\n",
    "plt.plot(np.cumsum(regret), label = 'rsv')\n",
    "plt.plot(np.cumsum(regret_g), label = 'GoT')\n",
    "plt.plot(np.cumsum(regret_cst), label = 'stationary op')\n",
    "plt.title('Cumulative Regret CMAB')\n",
    "plt.xlabel('Rounds')\n",
    "plt.legend()"
   ]
  },
  {
   "cell_type": "code",
   "execution_count": 5,
   "metadata": {},
   "outputs": [
    {
     "data": {
      "text/plain": [
       "<matplotlib.legend.Legend at 0x7f3699a5b0b8>"
      ]
     },
     "execution_count": 5,
     "metadata": {},
     "output_type": "execute_result"
    },
    {
     "data": {
      "image/png": "[encoded data removed]",
      "text/plain": [
       "<Figure size 432x288 with 1 Axes>"
      ]
     },
     "metadata": {
      "needs_background": "light"
     },
     "output_type": "display_data"
    }
   ],
   "source": [
    "plot_idx = 1\n",
    "\n",
    "plt.plot(np.cumsum(regret_g_compstat), label = 'stationary compare')\n",
    "plt.title('Cumulative Regret CMAB')\n",
    "plt.xlabel('Rounds')\n",
    "plt.legend()"
   ]
  },
  {
   "cell_type": "code",
   "execution_count": 6,
   "metadata": {},
   "outputs": [
    {
     "data": {
      "text/plain": [
       "<matplotlib.legend.Legend at 0x7f3699a456d8>"
      ]
     },
     "execution_count": 6,
     "metadata": {},
     "output_type": "execute_result"
    },
    {
     "data": {
      "image/png": "[encoded data removed]",
      "text/plain": [
       "<Figure size 432x288 with 1 Axes>"
      ]
     },
     "metadata": {
      "needs_background": "light"
     },
     "output_type": "display_data"
    }
   ],
   "source": [
    "plot_idx = 1\n",
    "\n",
    "plt.plot(np.cumsum(collision_count), label = 'rsv')\n",
    "plt.plot(np.cumsum(collision_count_g), label = 'GoT')\n",
    "plt.title('Cumulative Collision CMAB')\n",
    "plt.xlabel('Rounds')\n",
    "plt.legend()"
   ]
  },
  {
   "cell_type": "code",
   "execution_count": 7,
   "metadata": {},
   "outputs": [
    {
     "data": {
      "text/plain": [
       "array([[0.00000000e+00, 1.00000000e+00, 0.00000000e+00, 0.00000000e+00,\n",
       "        0.00000000e+00, 0.00000000e+00, 0.00000000e+00, 0.00000000e+00,\n",
       "        0.00000000e+00, 0.00000000e+00, 0.00000000e+00, 0.00000000e+00,\n",
       "        0.00000000e+00, 0.00000000e+00, 0.00000000e+00, 0.00000000e+00],\n",
       "       [0.00000000e+00, 9.09090905e-01, 4.54545452e-02, 4.54545452e-02,\n",
       "        0.00000000e+00, 0.00000000e+00, 0.00000000e+00, 0.00000000e+00,\n",
       "        0.00000000e+00, 0.00000000e+00, 0.00000000e+00, 0.00000000e+00,\n",
       "        0.00000000e+00, 0.00000000e+00, 0.00000000e+00, 0.00000000e+00],\n",
       "       [0.00000000e+00, 9.99999900e-01, 0.00000000e+00, 0.00000000e+00,\n",
       "        0.00000000e+00, 0.00000000e+00, 0.00000000e+00, 0.00000000e+00,\n",
       "        0.00000000e+00, 0.00000000e+00, 0.00000000e+00, 0.00000000e+00,\n",
       "        0.00000000e+00, 0.00000000e+00, 0.00000000e+00, 0.00000000e+00],\n",
       "       [0.00000000e+00, 3.99361022e-04, 0.00000000e+00, 9.98402556e-01,\n",
       "        0.00000000e+00, 0.00000000e+00, 0.00000000e+00, 1.19808307e-03,\n",
       "        0.00000000e+00, 0.00000000e+00, 0.00000000e+00, 0.00000000e+00,\n",
       "        0.00000000e+00, 0.00000000e+00, 0.00000000e+00, 0.00000000e+00],\n",
       "       [0.00000000e+00, 1.00000000e+00, 0.00000000e+00, 0.00000000e+00,\n",
       "        0.00000000e+00, 0.00000000e+00, 0.00000000e+00, 0.00000000e+00,\n",
       "        0.00000000e+00, 0.00000000e+00, 0.00000000e+00, 0.00000000e+00,\n",
       "        0.00000000e+00, 0.00000000e+00, 0.00000000e+00, 0.00000000e+00],\n",
       "       [0.00000000e+00, 1.00000000e+00, 0.00000000e+00, 0.00000000e+00,\n",
       "        0.00000000e+00, 0.00000000e+00, 0.00000000e+00, 0.00000000e+00,\n",
       "        0.00000000e+00, 0.00000000e+00, 0.00000000e+00, 0.00000000e+00,\n",
       "        0.00000000e+00, 0.00000000e+00, 0.00000000e+00, 0.00000000e+00],\n",
       "       [0.00000000e+00, 0.00000000e+00, 0.00000000e+00, 0.00000000e+00,\n",
       "        0.00000000e+00, 0.00000000e+00, 0.00000000e+00, 7.49999981e-01,\n",
       "        0.00000000e+00, 0.00000000e+00, 0.00000000e+00, 2.49999994e-01,\n",
       "        0.00000000e+00, 0.00000000e+00, 0.00000000e+00, 0.00000000e+00],\n",
       "       [0.00000000e+00, 0.00000000e+00, 0.00000000e+00, 6.38297871e-02,\n",
       "        0.00000000e+00, 0.00000000e+00, 4.25531914e-02, 5.31914892e-01,\n",
       "        0.00000000e+00, 0.00000000e+00, 2.12765957e-02, 3.40425531e-01,\n",
       "        0.00000000e+00, 0.00000000e+00, 0.00000000e+00, 0.00000000e+00],\n",
       "       [0.00000000e+00, 1.00000000e+00, 0.00000000e+00, 0.00000000e+00,\n",
       "        0.00000000e+00, 0.00000000e+00, 0.00000000e+00, 0.00000000e+00,\n",
       "        0.00000000e+00, 0.00000000e+00, 0.00000000e+00, 0.00000000e+00,\n",
       "        0.00000000e+00, 0.00000000e+00, 0.00000000e+00, 0.00000000e+00],\n",
       "       [0.00000000e+00, 1.00000000e+00, 0.00000000e+00, 0.00000000e+00,\n",
       "        0.00000000e+00, 0.00000000e+00, 0.00000000e+00, 0.00000000e+00,\n",
       "        0.00000000e+00, 0.00000000e+00, 0.00000000e+00, 0.00000000e+00,\n",
       "        0.00000000e+00, 0.00000000e+00, 0.00000000e+00, 0.00000000e+00],\n",
       "       [0.00000000e+00, 0.00000000e+00, 0.00000000e+00, 0.00000000e+00,\n",
       "        0.00000000e+00, 0.00000000e+00, 8.94374385e-05, 4.47187193e-05,\n",
       "        0.00000000e+00, 0.00000000e+00, 6.46006618e-01, 2.61470351e-01,\n",
       "        0.00000000e+00, 0.00000000e+00, 5.66586173e-02, 3.57302567e-02],\n",
       "       [0.00000000e+00, 0.00000000e+00, 0.00000000e+00, 0.00000000e+00,\n",
       "        0.00000000e+00, 0.00000000e+00, 0.00000000e+00, 1.35354629e-03,\n",
       "        0.00000000e+00, 0.00000000e+00, 5.28424472e-01, 3.54087710e-01,\n",
       "        0.00000000e+00, 0.00000000e+00, 6.57823498e-02, 5.03519220e-02],\n",
       "       [0.00000000e+00, 1.00000000e+00, 0.00000000e+00, 0.00000000e+00,\n",
       "        0.00000000e+00, 0.00000000e+00, 0.00000000e+00, 0.00000000e+00,\n",
       "        0.00000000e+00, 0.00000000e+00, 0.00000000e+00, 0.00000000e+00,\n",
       "        0.00000000e+00, 0.00000000e+00, 0.00000000e+00, 0.00000000e+00],\n",
       "       [0.00000000e+00, 1.00000000e+00, 0.00000000e+00, 0.00000000e+00,\n",
       "        0.00000000e+00, 0.00000000e+00, 0.00000000e+00, 0.00000000e+00,\n",
       "        0.00000000e+00, 0.00000000e+00, 0.00000000e+00, 0.00000000e+00,\n",
       "        0.00000000e+00, 0.00000000e+00, 0.00000000e+00, 0.00000000e+00],\n",
       "       [0.00000000e+00, 0.00000000e+00, 0.00000000e+00, 0.00000000e+00,\n",
       "        0.00000000e+00, 0.00000000e+00, 0.00000000e+00, 0.00000000e+00,\n",
       "        0.00000000e+00, 0.00000000e+00, 5.30526316e-01, 3.14105263e-01,\n",
       "        0.00000000e+00, 0.00000000e+00, 9.60000000e-02, 5.93684211e-02],\n",
       "       [0.00000000e+00, 0.00000000e+00, 0.00000000e+00, 0.00000000e+00,\n",
       "        0.00000000e+00, 0.00000000e+00, 0.00000000e+00, 0.00000000e+00,\n",
       "        0.00000000e+00, 0.00000000e+00, 4.99375780e-01, 3.41448190e-01,\n",
       "        0.00000000e+00, 0.00000000e+00, 9.42571785e-02, 6.49188514e-02]])"
      ]
     },
     "execution_count": 7,
     "metadata": {},
     "output_type": "execute_result"
    }
   ],
   "source": [
    "P_chosen"
   ]
  },
  {
   "cell_type": "code",
   "execution_count": 8,
   "metadata": {},
   "outputs": [
    {
     "data": {
      "text/plain": [
       "[(1.0, 1.0),\n",
       " (1.0, 2.666666666666667),\n",
       " (1.0, 4.333333333333334),\n",
       " (2.666666666666667, 1.0),\n",
       " (2.666666666666667, 2.666666666666667),\n",
       " (2.666666666666667, 4.333333333333334),\n",
       " (4.333333333333334, 1.0),\n",
       " (4.333333333333334, 2.666666666666667),\n",
       " (4.333333333333334, 4.333333333333334)]"
      ]
     },
     "execution_count": 8,
     "metadata": {},
     "output_type": "execute_result"
    }
   ],
   "source": [
    "svr_locs"
   ]
  },
  {
   "cell_type": "code",
   "execution_count": 9,
   "metadata": {},
   "outputs": [
    {
     "data": {
      "text/plain": [
       "[(1.0, 1.0),\n",
       " (1.0, 2.25),\n",
       " (1.0, 3.5),\n",
       " (1.0, 4.75),\n",
       " (2.25, 1.0),\n",
       " (2.25, 2.25),\n",
       " (2.25, 3.5),\n",
       " (2.25, 4.75),\n",
       " (3.5, 1.0),\n",
       " (3.5, 2.25),\n",
       " (3.5, 3.5),\n",
       " (3.5, 4.75),\n",
       " (4.75, 1.0),\n",
       " (4.75, 2.25),\n",
       " (4.75, 3.5),\n",
       " (4.75, 4.75)]"
      ]
     },
     "execution_count": 9,
     "metadata": {},
     "output_type": "execute_result"
    }
   ],
   "source": [
    "usr_locs"
   ]
  },
  {
   "cell_type": "code",
   "execution_count": null,
   "metadata": {},
   "outputs": [],
   "source": []
  }
 ],
 "metadata": {
  "kernelspec": {
   "display_name": "Python 3",
   "language": "python",
   "name": "python3"
  },
  "language_info": {
   "codemirror_mode": {
    "name": "ipython",
    "version": 3
   },
   "file_extension": ".py",
   "mimetype": "text/x-python",
   "name": "python",
   "nbconvert_exporter": "python",
   "pygments_lexer": "ipython3",
   "version": "3.7.3"
  }
 },
 "nbformat": 4,
 "nbformat_minor": 2
}
