{
 "cells": [
  {
   "cell_type": "code",
   "execution_count": 1,
   "metadata": {},
   "outputs": [],
   "source": [
    "import numpy as np\n",
    "import matplotlib.pyplot as plt\n",
    "\n",
    "# orcale to find a greedy solution \n",
    "# (also optimal solution for the designed mu here, since the marginal gains are decreasing)\n",
    "def oracle(mu, Q):\n",
    "    r = 0 # reward\n",
    "    a = np.zeros(mu.shape[0], dtype=int) # action\n",
    "    # marginal gain of resources\n",
    "    tmp = np.array(mu[:,0])\n",
    "    for i in range(Q):\n",
    "        j = np.argmax(tmp)\n",
    "        a[j] += 1\n",
    "        if i != Q - 1:\n",
    "            # marginal gain of adding one more budget to resource j\n",
    "            tmp[j] = mu[j, a[j]] - mu[j, a[j]-1]\n",
    "    for i in range(mu.shape[0]):\n",
    "        if a[i] != 0:\n",
    "            r += mu[i,a[i]-1]\n",
    "    return a, r"
   ]
  },
  {
   "cell_type": "code",
   "execution_count": 2,
   "metadata": {},
   "outputs": [
    {
     "data": {
      "text/plain": [
       "[<matplotlib.lines.Line2D at 0x2ae46f4f5b0>]"
      ]
     },
     "execution_count": 2,
     "metadata": {},
     "output_type": "execute_result"
    },
    {
     "data": {
      "image/png": "[encoded data removed]",
      "text/plain": [
       "<Figure size 432x288 with 1 Axes>"
      ]
     },
     "metadata": {
      "needs_background": "light"
     },
     "output_type": "display_data"
    }
   ],
   "source": [
    "T = 10000\n",
    "Q = 3\n",
    "mu = np.array([[0.1, 0.2, 0.3],[0.3,0.5,0.7],[0.5,0.5,0.5]])\n",
    "\n",
    "a_opt, r_opt = oracle(mu, Q) # optiaml action is (0, 2, 1), optiaml reward is 1.0\n",
    "mu_hat = np.ones_like(mu) # empirical mean\n",
    "T_ka = np.ones_like(mu) # total number of times arm (k,a) is played\n",
    "reg = np.zeros(T)\n",
    "\n",
    "for t in range(T):\n",
    "    rho_ka = np.sqrt(3*np.log(t+1)/(2*T_ka))\n",
    "    mu_bar = np.minimum(mu_hat + rho_ka, 1) # UCB\n",
    "    a, _ = oracle(mu_bar, Q)\n",
    "    r = 0\n",
    "    # calculate the expected reward of action a\n",
    "    for i in range(a.shape[0]):\n",
    "        if a[i] != 0:\n",
    "            j = a[i] - 1\n",
    "            r += mu[i,j]\n",
    "            T_ka[i, j] += 1\n",
    "            X_k = int(np.random.rand() < mu[i, j])\n",
    "            mu_hat[i, j] += (X_k - mu_hat[i, j]) / T_ka[i, j]\n",
    "    # calculate regert\n",
    "    reg[t] = r_opt - r\n",
    "\n",
    "# plot cumulative regert    \n",
    "plt.plot(np.cumsum(reg))"
   ]
  }
 ],
 "metadata": {
  "kernelspec": {
   "display_name": "Python 3",
   "language": "python",
   "name": "python3"
  },
  "language_info": {
   "codemirror_mode": {
    "name": "ipython",
    "version": 3
   },
   "file_extension": ".py",
   "mimetype": "text/x-python",
   "name": "python",
   "nbconvert_exporter": "python",
   "pygments_lexer": "ipython3",
   "version": "3.8.3"
  }
 },
 "nbformat": 4,
 "nbformat_minor": 4
}
