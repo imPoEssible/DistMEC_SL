{
 "cells": [
  {
   "cell_type": "code",
   "execution_count": 6,
   "metadata": {},
   "outputs": [],
   "source": [
    "import numpy as np\n",
    "import itertools"
   ]
  },
  {
   "cell_type": "code",
   "execution_count": 99,
   "metadata": {},
   "outputs": [],
   "source": [
    "class User():\n",
    "\n",
    "    def __init__(self, locs, max_dist = 7, threshold_dist = 6, self_weight = 0.5, P = None):\n",
    "        \n",
    "        self.locs = locs\n",
    "        self.dists = self.get_dists()\n",
    "\n",
    "        \n",
    "        if P is None:\n",
    "            self.P = self.make_P(threshold_dist, self_weight)\n",
    "        else:\n",
    "            self.P = P\n",
    "            \n",
    "        self.reward_scale = self.get_scales(max_dist)\n",
    "    \n",
    "    def make_P(self, threshold_dist, self_weight):\n",
    "        # Creating Markov Transition Probability Matrix \n",
    "        \n",
    "        P = np.zeros(self.dists.shape)\n",
    "        locs = self.locs\n",
    "        for i in range(len(locs)):\n",
    "            cut_list = self.dists[i,:]\n",
    "            others = np.squeeze(np.argwhere((cut_list > 0) * (cut_list < threshold_dist) == True))\n",
    "            num_others = others.shape[0]\n",
    "        \n",
    "            # Draw values to make up row of MC\n",
    "            self_transition = np.random.exponential(scale=1/self_weight)\n",
    "            others_transition = np.random.exponential(scale=1/((1-self_weight)*num_others),size=num_others)\n",
    "            total = self_transition + np.sum(others_transition)\n",
    "            \n",
    "            P[i,i] = self_transition/total\n",
    "            \n",
    "            idx = 0\n",
    "            for j in others:\n",
    "                P[i,j] = others_transition[idx]/total\n",
    "                idx += 1\n",
    "            \n",
    "        return P\n",
    "    \n",
    "    def get_dists(self):\n",
    "        # Obtaining distance matrix (from loc to loc) \n",
    "        \n",
    "        locs = self.locs\n",
    "        \n",
    "        num_locs = len(locs)\n",
    "        dists = np.zeros([num_locs,num_locs])\n",
    "        \n",
    "        for i,j in itertools.product(range(num_locs), range(num_locs)):\n",
    "            if dists[i,j] == 0 and i != j:\n",
    "                a = np.array(locs[i])\n",
    "                b = np.array(locs[j])\n",
    "                dists[i,j] = np.linalg.norm(a-b)\n",
    "                dists[j,i] = dists[i,j]\n",
    "        \n",
    "        return dists\n",
    "    \n",
    "    def get_scales(self,max_dist):\n",
    "        # Mapping reward to [0,1] based on distance and max acceptable distance\n",
    "        \n",
    "        reward_scale = np.ones(self.dists.shape) - self.dists/max_dist\n",
    "        reward_scale[reward_scale < 0] = 0\n",
    "        \n",
    "        return reward_scale"
   ]
  },
  {
   "cell_type": "code",
   "execution_count": 100,
   "metadata": {},
   "outputs": [],
   "source": [
    "locs = [(0,0),(2,2),(4,4),(5,5)]\n",
    "u = User(locs)"
   ]
  },
  {
   "cell_type": "code",
   "execution_count": 104,
   "metadata": {},
   "outputs": [
    {
     "data": {
      "text/plain": [
       "array([0.88576017, 0.02343493, 0.09080489, 0.        ])"
      ]
     },
     "execution_count": 104,
     "metadata": {},
     "output_type": "execute_result"
    }
   ],
   "source": [
    "u.P[0]"
   ]
  },
  {
   "cell_type": "code",
   "execution_count": 41,
   "metadata": {},
   "outputs": [
    {
     "data": {
      "text/plain": [
       "array([[1.        , 0.59593898, 0.19187796, 0.        ],\n",
       "       [0.59593898, 1.        , 0.59593898, 0.39390847],\n",
       "       [0.19187796, 0.59593898, 1.        , 0.79796949],\n",
       "       [0.        , 0.39390847, 0.79796949, 1.        ]])"
      ]
     },
     "execution_count": 41,
     "metadata": {},
     "output_type": "execute_result"
    }
   ],
   "source": [
    "u.reward_scale"
   ]
  },
  {
   "cell_type": "code",
   "execution_count": 42,
   "metadata": {},
   "outputs": [
    {
     "data": {
      "text/plain": [
       "array([[0.        , 0.40406102, 0.80812204, 1.01015254],\n",
       "       [0.40406102, 0.        , 0.40406102, 0.60609153],\n",
       "       [0.80812204, 0.40406102, 0.        , 0.20203051],\n",
       "       [1.01015254, 0.60609153, 0.20203051, 0.        ]])"
      ]
     },
     "execution_count": 42,
     "metadata": {},
     "output_type": "execute_result"
    }
   ],
   "source": [
    "u.dists/7"
   ]
  },
  {
   "cell_type": "code",
   "execution_count": 50,
   "metadata": {},
   "outputs": [],
   "source": [
    "b = u.dists[0] > 0"
   ]
  },
  {
   "cell_type": "code",
   "execution_count": 52,
   "metadata": {},
   "outputs": [],
   "source": [
    "c = a * b"
   ]
  },
  {
   "cell_type": "code",
   "execution_count": 53,
   "metadata": {},
   "outputs": [
    {
     "data": {
      "text/plain": [
       "array([False,  True, False, False])"
      ]
     },
     "execution_count": 53,
     "metadata": {},
     "output_type": "execute_result"
    }
   ],
   "source": [
    "c"
   ]
  },
  {
   "cell_type": "code",
   "execution_count": 71,
   "metadata": {},
   "outputs": [],
   "source": [
    "cut_list = u.dists[0]\n",
    "threshold_dist = 6\n",
    "others = np.argwhere((cut_list > 0) * (cut_list < threshold_dist) == True)\n"
   ]
  },
  {
   "cell_type": "code",
   "execution_count": 72,
   "metadata": {},
   "outputs": [
    {
     "data": {
      "text/plain": [
       "array([[1],\n",
       "       [2]])"
      ]
     },
     "execution_count": 72,
     "metadata": {},
     "output_type": "execute_result"
    }
   ],
   "source": [
    "others"
   ]
  },
  {
   "cell_type": "code",
   "execution_count": 83,
   "metadata": {},
   "outputs": [],
   "source": [
    "self_weight = 0.5\n",
    "num_others = others.shape[0]\n",
    "self_transition = np.random.exponential(scale=1/self_weight)\n",
    "others_transition = np.random.exponential(scale=1/((1-self_weight)*num_others),size=num_others)"
   ]
  },
  {
   "cell_type": "code",
   "execution_count": 84,
   "metadata": {},
   "outputs": [
    {
     "data": {
      "text/plain": [
       "array([0.44364903, 1.49039435])"
      ]
     },
     "execution_count": 84,
     "metadata": {},
     "output_type": "execute_result"
    }
   ],
   "source": [
    "others_transition"
   ]
  },
  {
   "cell_type": "code",
   "execution_count": 85,
   "metadata": {},
   "outputs": [
    {
     "data": {
      "text/plain": [
       "2.1168835477130776"
      ]
     },
     "execution_count": 85,
     "metadata": {},
     "output_type": "execute_result"
    }
   ],
   "source": [
    "self_transition"
   ]
  },
  {
   "cell_type": "code",
   "execution_count": 87,
   "metadata": {},
   "outputs": [],
   "source": [
    "total = self_transition + np.sum(others_transition)"
   ]
  },
  {
   "cell_type": "code",
   "execution_count": 88,
   "metadata": {},
   "outputs": [
    {
     "data": {
      "text/plain": [
       "4.0509269307994815"
      ]
     },
     "execution_count": 88,
     "metadata": {},
     "output_type": "execute_result"
    }
   ],
   "source": [
    "total"
   ]
  },
  {
   "cell_type": "code",
   "execution_count": 89,
   "metadata": {},
   "outputs": [
    {
     "data": {
      "text/plain": [
       "array([[1],\n",
       "       [2]])"
      ]
     },
     "execution_count": 89,
     "metadata": {},
     "output_type": "execute_result"
    }
   ],
   "source": [
    "others"
   ]
  },
  {
   "cell_type": "code",
   "execution_count": 98,
   "metadata": {},
   "outputs": [
    {
     "data": {
      "text/plain": [
       "2"
      ]
     },
     "execution_count": 98,
     "metadata": {},
     "output_type": "execute_result"
    }
   ],
   "source": [
    "np.squeeze(others).shape[0]"
   ]
  },
  {
   "cell_type": "code",
   "execution_count": 91,
   "metadata": {},
   "outputs": [
    {
     "data": {
      "text/plain": [
       "(2, 1)"
      ]
     },
     "execution_count": 91,
     "metadata": {},
     "output_type": "execute_result"
    }
   ],
   "source": [
    "others.shape"
   ]
  },
  {
   "cell_type": "code",
   "execution_count": null,
   "metadata": {},
   "outputs": [],
   "source": []
  }
 ],
 "metadata": {
  "kernelspec": {
   "display_name": "Python 3",
   "language": "python",
   "name": "python3"
  },
  "language_info": {
   "codemirror_mode": {
    "name": "ipython",
    "version": 3
   },
   "file_extension": ".py",
   "mimetype": "text/x-python",
   "name": "python",
   "nbconvert_exporter": "python",
   "pygments_lexer": "ipython3",
   "version": "3.7.3"
  }
 },
 "nbformat": 4,
 "nbformat_minor": 2
}
