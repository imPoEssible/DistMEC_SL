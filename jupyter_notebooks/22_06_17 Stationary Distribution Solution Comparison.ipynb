{
 "cells": [
  {
   "cell_type": "code",
   "execution_count": 1,
   "metadata": {},
   "outputs": [
    {
     "name": "stdout",
     "output_type": "stream",
     "text": [
      "/home/ubuntu/DistMEC\n"
     ]
    }
   ],
   "source": [
    "cd /home/ubuntu/DistMEC/"
   ]
  },
  {
   "cell_type": "code",
   "execution_count": 2,
   "metadata": {},
   "outputs": [],
   "source": [
    "import numpy as np\n",
    "import matplotlib.pyplot as plt\n",
    "\n",
    "from classes.User import *\n",
    "from classes.solver import *\n",
    "from classes.Server import *\n",
    "from classes.distributed_utils import *\n",
    "\n",
    "from tqdm import tqdm, tqdm_notebook\n",
    "from time import sleep\n",
    "import pickle\n",
    "import os"
   ]
  },
  {
   "cell_type": "code",
   "execution_count": 3,
   "metadata": {},
   "outputs": [],
   "source": [
    "# Fix P\n",
    "def fix_P(user):\n",
    "    P = user.P\n",
    "    \n",
    "    for i in range(user.P.shape[1]):\n",
    "        tot = np.sum(user.P[i])\n",
    "        if tot != 1.0:\n",
    "            user.P[i] = user.P[i]/tot\n",
    "        \n",
    "    return\n",
    "\n",
    "\n",
    "def obtain_w_stationary(Users, num_users, num_svrs):\n",
    "    \n",
    "    w_curr = np.zeros([num_users,num_svrs])\n",
    "    for i in range(num_users):\n",
    "        w_curr[i] = Users[i].stationary_reward_scale\n",
    "    \n",
    "    return w_curr\n",
    "\n",
    "def extract_centralized_case(Users, num_users, num_svrs):\n",
    "    \n",
    "    rewards_record = np.zeros([num_users,num_svrs])\n",
    "    pulls_record = np.zeros([num_users,num_svrs])\n",
    "    ucb = np.zeros([num_users,num_svrs])\n",
    "    \n",
    "    for i in range(num_users):\n",
    "        rewards_record[i] = Users[i].param_summed\n",
    "        pulls_record[i] = Users[i].pulls\n",
    "        ucb[i] = Users[i].ucb_raw \n",
    "    \n",
    "    return rewards_record, pulls_record, ucb"
   ]
  },
  {
   "cell_type": "code",
   "execution_count": 4,
   "metadata": {},
   "outputs": [
    {
     "name": "stdout",
     "output_type": "stream",
     "text": [
      "trial: 0\n"
     ]
    },
    {
     "data": {
      "application/vnd.jupyter.widget-view+json": {
       "model_id": "0a8f5fafd3d34f15aadbead000fa0869",
       "version_major": 2,
       "version_minor": 0
      },
      "text/plain": [
       "HBox(children=(IntProgress(value=0, max=9983), HTML(value='')))"
      ]
     },
     "metadata": {},
     "output_type": "display_data"
    },
    {
     "name": "stdout",
     "output_type": "stream",
     "text": [
      "\n"
     ]
    }
   ],
   "source": [
    "# System Parameters\n",
    "T = 10000\n",
    "num_users = 10\n",
    "num_svrs = 16\n",
    "num_locs = 16\n",
    "mu = np.random.uniform(low=0, high = 1, size = [num_users, num_svrs])\n",
    "ceiling = 40\n",
    "# w = np.random.uniform(low=0, high=1, size= [num_users, num_svrs])\n",
    "space_1d_dim = 10 #4 for small, 10 for big\n",
    "\n",
    "num_explore = 1\n",
    "trials = 1\n",
    "\n",
    "# result dictionaries\n",
    "result_dicts = []\n",
    "performance_list = []\n",
    "user_dicts = []\n",
    "\n",
    "save_name = 'results/22_06_16_ceiling_20/'\n",
    "isExist = os.path.exists(save_name)\n",
    "if not isExist:\n",
    "  # Create a new directory because it does not exist \n",
    "    os.makedirs(save_name)\n",
    "\n",
    "for tri in range(trials):\n",
    "    \n",
    "    print(\"trial:\", tri)\n",
    "    result_dict = {}\n",
    "    user_dict = {}\n",
    "    \n",
    "    # Generate visitng locations and server locations\n",
    "    usr_locs = gen_eq_locs(space_1d=space_1d_dim, nums=num_locs)\n",
    "    svr_locs = gen_eq_locs(space_1d=space_1d_dim, nums=num_svrs)\n",
    "\n",
    "    # Create Users\n",
    "    Users_w = []\n",
    "    for i in range(num_users):\n",
    "        Users_w += [User(usr_locs,svr_locs,mu[i],i,\n",
    "                      max_dist = 4, threshold_dist = 4, self_weight = 1 - 0.95, P = None, ceiling = 1,\n",
    "                      sticky_mode = False, kick_mode=True)]\n",
    "            \n",
    "    # Create Servers\n",
    "    Servers = []\n",
    "    for i in range(num_svrs):\n",
    "        Servers += [Server(svr_locs[i],mu,i)]\n",
    "\n",
    "    # Recorded Values - reservation\n",
    "    regret_w = np.zeros(T)\n",
    "    collision_count_w = np.zeros(T)\n",
    "    optimal_reward = np.zeros(T)\n",
    "\n",
    "    # Explore rounds are common/shared across all users\n",
    "    explore_rounds(Users_w, num_users, Servers, mu, regret_w, collision_count_w, optimal_reward,\n",
    "                   usr_move_flag = True, rounds=num_explore)\n",
    "    \n",
    "    # Distributed - true w learning\n",
    "    Users_s = copy.deepcopy(Users_w)\n",
    "    regret_s = copy.deepcopy(regret_w)\n",
    "    collision_count_s = copy.deepcopy(collision_count_w)\n",
    "    for u in Users_s:\n",
    "        u.sticky_mode = True\n",
    "        u.kick_mode = True #false\n",
    "        u.ceiling = ceiling\n",
    "        u.expected_time_true = u.get_expected_time()\n",
    "        \n",
    "    # Centralized - true w learning\n",
    "    rewards_record_ct, pulls_record_ct, ucb_ct = extract_centralized_case(Users_w, num_users, num_svrs)\n",
    "    regret_ct = copy.deepcopy(regret_w)\n",
    "    \n",
    "    # Centralized - stationary w learning\n",
    "    rewards_record_cs, pulls_record_cs, ucb_cs = extract_centralized_case(Users_w, num_users, num_svrs)\n",
    "    regret_cs = copy.deepcopy(regret_w)\n",
    "    \n",
    "    # Centralized - stationary w, known mu\n",
    "    w_stat = obtain_w_stationary(Users_w, num_users, num_svrs)\n",
    "    optimal_stat_arms = offline_optimal_action(w_stat,mu)[0]\n",
    "    regret_cst = copy.deepcopy(regret_w)\n",
    "    \n",
    "    round_start = ((num_svrs)*num_explore)+1\n",
    "    for (zzz,t) in zip(tqdm_notebook(range(T-round_start)),range(round_start, T)):\n",
    "        w = obtain_w(Users_w, len(Users_w), len(Servers))\n",
    "        optimal = offline_optimal_action(w, mu)\n",
    "        optimal_reward[t] = optimal[1]\n",
    "        \n",
    "        # Distributed solution \n",
    "        play_round(Users_w, Servers, mu, regret_w, collision_count_w, \n",
    "                   usr_move_flag = True, debugger = False, reservation_mode = True, optimal =optimal)\n",
    "        play_round(Users_s, Servers, mu, regret_s, collision_count_s, \n",
    "                   usr_move_flag = False, debugger=False, reservation_mode = True, optimal=optimal)\n",
    "        copy_usr_loc(Users_w, Users_s)\n",
    "        \n",
    "        # Centralized Solution -  true w learning\n",
    "        ucb_ct = update_ucb(rewards_record_ct, pulls_record_ct, ucb_ct, t, 1)\n",
    "        arms = offline_optimal_action(w, ucb_ct)[0]\n",
    "        rewards_record_ct, pulls_record_ct = pull_super_arm(arms, mu, rewards_record_ct, pulls_record_ct)\n",
    "        regret_ct[t] = optimal[1] - expected_reward(arms, mu, w)\n",
    "        \n",
    "        # Centralized Solution -  stationary w learning\n",
    "        ucb_cs = update_ucb(rewards_record_cs, pulls_record_cs, ucb_cs, t, 1)\n",
    "        arms = offline_optimal_action(w_stat, ucb_cs)[0]\n",
    "        rewards_record_cs, pulls_record_cs = pull_super_arm(arms, mu, rewards_record_cs, pulls_record_cs)\n",
    "        regret_cs[t] = optimal[1] - expected_reward(arms, mu, w)\n",
    "        \n",
    "        # centralized solution - stationary w, known mu\n",
    "        regret_cst[t] = optimal[1] - expected_reward(optimal_stat_arms, mu, w) \n",
    "        \n",
    "    # Obtain reward values\n",
    "    reward_w = optimal_reward - regret_w\n",
    "    reward_s = optimal_reward - regret_s\n",
    "    reward_cs = optimal_reward - regret_cs\n",
    "    reward_cst = optimal_reward - regret_cst\n",
    "    reward_ct = optimal_reward -regret_ct\n",
    "    \n",
    "    threshold = 1\n",
    "\n",
    "    # reward[reward <=  0] = threshold\n",
    "    reward_w[reward_w <= 0] = reward_s[reward_w <=  0]# threshold\n",
    "    \n",
    "    # Log results\n",
    "    result_dict[\"reward_w\"] = reward_w\n",
    "    result_dict[\"reward_s\"] = reward_s\n",
    "    result_dict[\"reward_cs\"] = reward_cs\n",
    "    result_dict[\"reward_ct\"] = reward_ct\n",
    "    result_dict[\"reward_cst\"] = reward_cst\n",
    "    \n",
    "    result_dict[\"regret_w\"] = regret_w\n",
    "    result_dict[\"regret_s\"] = regret_s\n",
    "    result_dict[\"regret_cs\"] = regret_cs\n",
    "    result_dict[\"regret_ct\"] = regret_ct\n",
    "    result_dict[\"regret_cst\"] = regret_cst\n",
    "    \n",
    "    result_dict[\"collision_w\"] = collision_count_w\n",
    "    result_dict[\"collision_s\"] = collision_count_s\n",
    "    \n",
    "    if np.cumsum(regret_w)[-1] > np.cumsum(regret_s)[-1]:\n",
    "        performance_list += [1]\n",
    "    else:\n",
    "        performance_list += [0]"
   ]
  },
  {
   "cell_type": "code",
   "execution_count": 5,
   "metadata": {},
   "outputs": [],
   "source": [
    "result_dicts += [result_dict]"
   ]
  },
  {
   "cell_type": "code",
   "execution_count": 6,
   "metadata": {},
   "outputs": [
    {
     "data": {
      "text/plain": [
       "[1]"
      ]
     },
     "execution_count": 6,
     "metadata": {},
     "output_type": "execute_result"
    }
   ],
   "source": [
    "performance_list"
   ]
  },
  {
   "cell_type": "code",
   "execution_count": 8,
   "metadata": {},
   "outputs": [
    {
     "data": {
      "text/plain": [
       "<matplotlib.legend.Legend at 0x7fef302e9da0>"
      ]
     },
     "execution_count": 8,
     "metadata": {},
     "output_type": "execute_result"
    },
    {
     "data": {
      "image/png": "[encoded data removed]",
      "text/plain": [
       "<Figure size 432x288 with 1 Axes>"
      ]
     },
     "metadata": {
      "needs_background": "light"
     },
     "output_type": "display_data"
    }
   ],
   "source": [
    "plot_idx = 0\n",
    "\n",
    "# plt.plot(np.cumsum(result_dicts[plot_idx]['regret_w']), label = 'worst case')\n",
    "plt.plot(np.cumsum(result_dicts[plot_idx]['regret_s']), label = 'new rsv')\n",
    "plt.plot(np.cumsum(result_dicts[plot_idx]['regret_cs']), label = 'central stationary')\n",
    "plt.plot(np.cumsum(result_dicts[plot_idx]['regret_ct']), label = 'central true')\n",
    "plt.plot(np.cumsum(result_dicts[plot_idx]['regret_cst']), label = 'stationary optimal')\n",
    "\n",
    "plt.title('Cumulative Reward CMAB')\n",
    "plt.xlabel('Rounds')\n",
    "plt.legend()"
   ]
  },
  {
   "cell_type": "code",
   "execution_count": 15,
   "metadata": {},
   "outputs": [
    {
     "data": {
      "text/plain": [
       "array([ 6.68613914e-01,  6.68613914e-01,  7.38739003e-01,  7.38739003e-01,\n",
       "        7.38739003e-01,  7.38739003e-01,  7.38739003e-01,  7.38739003e-01,\n",
       "        7.38739003e-01,  6.68613914e-01,  6.68613914e-01,  6.68613914e-01,\n",
       "        6.68613914e-01,  6.68613914e-01,  6.68613914e-01,  6.68613914e-01,\n",
       "        6.68613914e-01,  6.68613914e-01,  6.68613914e-01,  6.68613914e-01,\n",
       "        6.68613914e-01,  6.68613914e-01,  5.65260025e-01,  2.71036451e-01,\n",
       "        2.71036451e-01,  2.71036451e-01,  2.71036451e-01,  2.71036451e-01,\n",
       "        2.71036451e-01,  2.71036451e-01,  2.71036451e-01,  2.71036451e-01,\n",
       "        6.03599184e-02,  6.03599184e-02,  0.00000000e+00, -8.88178420e-16,\n",
       "       -8.88178420e-16, -8.88178420e-16, -8.88178420e-16, -8.88178420e-16,\n",
       "       -8.88178420e-16,  0.00000000e+00, -8.88178420e-16, -8.88178420e-16,\n",
       "       -8.88178420e-16, -8.88178420e-16, -8.88178420e-16,  4.31457293e-02,\n",
       "        4.31457293e-02,  4.31457293e-02])"
      ]
     },
     "execution_count": 15,
     "metadata": {},
     "output_type": "execute_result"
    }
   ],
   "source": [
    "result_dicts[plot_idx]['regret_cst'][-50:]"
   ]
  },
  {
   "cell_type": "code",
   "execution_count": null,
   "metadata": {},
   "outputs": [],
   "source": []
  }
 ],
 "metadata": {
  "kernelspec": {
   "display_name": "Python 3",
   "language": "python",
   "name": "python3"
  },
  "language_info": {
   "codemirror_mode": {
    "name": "ipython",
    "version": 3
   },
   "file_extension": ".py",
   "mimetype": "text/x-python",
   "name": "python",
   "nbconvert_exporter": "python",
   "pygments_lexer": "ipython3",
   "version": "3.7.3"
  }
 },
 "nbformat": 4,
 "nbformat_minor": 2
}
