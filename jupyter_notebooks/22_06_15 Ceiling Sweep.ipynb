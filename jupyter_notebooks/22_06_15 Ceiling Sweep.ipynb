{
 "cells": [
  {
   "cell_type": "code",
   "execution_count": 1,
   "metadata": {},
   "outputs": [
    {
     "name": "stdout",
     "output_type": "stream",
     "text": [
      "/home/ubuntu/DistMEC\n"
     ]
    }
   ],
   "source": [
    "cd /home/ubuntu/DistMEC/"
   ]
  },
  {
   "cell_type": "code",
   "execution_count": 2,
   "metadata": {},
   "outputs": [],
   "source": [
    "import numpy as np\n",
    "import matplotlib.pyplot as plt\n",
    "\n",
    "from classes.User import *\n",
    "from classes.solver import *\n",
    "from classes.Server import *\n",
    "from classes.distributed_utils import *\n",
    "\n",
    "from tqdm import tqdm, tqdm_notebook\n",
    "from time import sleep\n",
    "import pickle\n",
    "import os"
   ]
  },
  {
   "cell_type": "code",
   "execution_count": 3,
   "metadata": {},
   "outputs": [],
   "source": [
    "def copy_usr_loc(Users1, Users2):\n",
    "    \n",
    "    for u in range(len(Users1)):\n",
    "        Users2[u].usr_place = Users1[u].usr_place\n",
    "        Users2[u].expected_time_true = Users2[u].get_expected_time()\n",
    "        \n",
    "def moving_average(a, n=3) :\n",
    "    ret = np.cumsum(a, dtype=float)\n",
    "    ret[n:] = ret[n:] - ret[:-n]\n",
    "    return ret[n - 1:] / n"
   ]
  },
  {
   "cell_type": "code",
   "execution_count": 4,
   "metadata": {},
   "outputs": [
    {
     "name": "stdout",
     "output_type": "stream",
     "text": [
      "trial: 0\n"
     ]
    },
    {
     "data": {
      "application/vnd.jupyter.widget-view+json": {
       "model_id": "15a3e6e5969c4a5b93aeb122a23a9df9",
       "version_major": 2,
       "version_minor": 0
      },
      "text/plain": [
       "HBox(children=(IntProgress(value=0, max=4983), HTML(value='')))"
      ]
     },
     "metadata": {},
     "output_type": "display_data"
    },
    {
     "name": "stdout",
     "output_type": "stream",
     "text": [
      "\n"
     ]
    }
   ],
   "source": [
    "# System Parameters\n",
    "T = 5000\n",
    "num_users = 10\n",
    "num_svrs = 16\n",
    "num_locs = 16\n",
    "mu = np.random.uniform(low=0, high = 1, size = [num_users, num_svrs])\n",
    "ceilings = [2,5,10,20, 40]\n",
    "# w = np.random.uniform(low=0, high=1, size= [num_users, num_svrs])\n",
    "space_1d_dim = 10 #4 for small, 10 for big\n",
    "\n",
    "num_explore = 1\n",
    "trials = 1\n",
    "\n",
    "# result dictionaries\n",
    "result_dicts = []\n",
    "performance_list = []\n",
    "user_dicts = []\n",
    "\n",
    "save_name = 'results/ceiling_sweep/'\n",
    "isExist = os.path.exists(save_name)\n",
    "if not isExist:\n",
    "  # Create a new directory because it does not exist \n",
    "    os.makedirs(save_name)\n",
    "\n",
    "for tri in range(trials):\n",
    "    \n",
    "    print(\"trial:\", tri)\n",
    "    result_dict = {}\n",
    "    user_dict = {}\n",
    "    \n",
    "    # Generate visitng locations and server locations\n",
    "    usr_locs = gen_eq_locs(space_1d=space_1d_dim, nums=num_locs)\n",
    "    svr_locs = gen_eq_locs(space_1d=space_1d_dim, nums=num_svrs)\n",
    "\n",
    "    # Create Users\n",
    "    Users = []\n",
    "    for i in range(num_users):\n",
    "        Users += [User(usr_locs,svr_locs,mu[i],i,\n",
    "                      max_dist = 7, threshold_dist = 6, self_weight = 1 - 0.95, P = None, ceiling = 1,\n",
    "                      sticky_mode = True, kick_mode=True)]\n",
    "\n",
    "    # Create Servers\n",
    "    Servers = []\n",
    "    for i in range(num_svrs):\n",
    "        Servers += [Server(svr_locs[i],mu,i)]\n",
    "\n",
    "    # Recorded Values - reservation\n",
    "    regret = np.zeros(T)\n",
    "    collision_count = np.zeros(T)\n",
    "    optimal_reward = np.zeros(T)\n",
    "\n",
    "    # Explore rounds are common/shared across all users\n",
    "    explore_rounds(Users, num_users, Servers, mu, regret, collision_count, optimal_reward,\n",
    "                   usr_move_flag = True, rounds=num_explore)\n",
    "\n",
    "    \n",
    "    # Make copies of values for worst case\n",
    "    Users_2 = copy.deepcopy(Users)\n",
    "    regret_2 = copy.deepcopy(regret)\n",
    "    collision_count_2 = copy.deepcopy(collision_count)\n",
    "    for u in Users_2:\n",
    "        u.ceiling = 2\n",
    "        u.expected_time_true = u.get_expected_time()\n",
    "    \n",
    "    # Make copies of values for worst case\n",
    "    Users_5 = copy.deepcopy(Users)\n",
    "    regret_5 = copy.deepcopy(regret)\n",
    "    collision_count_5 = copy.deepcopy(collision_count)\n",
    "    for u in Users_5:\n",
    "        u.ceiling = 5\n",
    "        u.expected_time_true = u.get_expected_time()\n",
    "        \n",
    "    # Make copies of values for worst case\n",
    "    Users_10 = copy.deepcopy(Users)\n",
    "    regret_10 = copy.deepcopy(regret)\n",
    "    collision_count_10 = copy.deepcopy(collision_count)\n",
    "    for u in Users_10:\n",
    "        u.ceiling = 10\n",
    "        u.expected_time_true = u.get_expected_time()\n",
    "        \n",
    "    Users_20 = copy.deepcopy(Users)\n",
    "    regret_20 = copy.deepcopy(regret)\n",
    "    collision_count_20 = copy.deepcopy(collision_count)\n",
    "    for u in Users_20:\n",
    "        u.ceiling = 20\n",
    "        u.expected_time_true = u.get_expected_time()\n",
    "        \n",
    "    Users_40 = copy.deepcopy(Users)\n",
    "    regret_40 = copy.deepcopy(regret)\n",
    "    collision_count_40 = copy.deepcopy(collision_count)\n",
    "    for u in Users_40:\n",
    "        u.ceiling = 40\n",
    "        u.expected_time_true = u.get_expected_time()\n",
    "        \n",
    "    round_start = ((num_svrs)*num_explore)+1\n",
    "    for (zzz,t) in zip(tqdm_notebook(range(T-round_start)),range(round_start, T)):\n",
    "        w = obtain_w(Users, len(Users), len(Servers))\n",
    "        optimal = offline_optimal_action(w, mu)\n",
    "        optimal_reward[t] = optimal[1]\n",
    "        play_round(Users, Servers, mu, regret, collision_count, \n",
    "                   usr_move_flag = True, debugger = False, reservation_mode = True, optimal =optimal)\n",
    "        play_round(Users_2, Servers, mu, regret_2, collision_count_2, \n",
    "                   usr_move_flag = False, debugger=False, reservation_mode = True, optimal=optimal)\n",
    "        play_round(Users_5, Servers, mu, regret_5, collision_count_5, \n",
    "                   usr_move_flag = False, debugger=False, reservation_mode = True, optimal=optimal)\n",
    "        play_round(Users_10, Servers, mu, regret_10, collision_count_10, \n",
    "                   usr_move_flag = False, debugger=False, reservation_mode = True, optimal=optimal)\n",
    "        play_round(Users_20, Servers, mu, regret_20, collision_count_20, \n",
    "                   usr_move_flag = False, debugger=False, reservation_mode = True, optimal=optimal)\n",
    "        play_round(Users_40, Servers, mu, regret_40, collision_count_40, \n",
    "                   usr_move_flag = False, debugger=False, reservation_mode = True, optimal=optimal)\n",
    "        copy_usr_loc(Users, Users_2)\n",
    "        copy_usr_loc(Users, Users_5)\n",
    "        copy_usr_loc(Users, Users_10)\n",
    "        copy_usr_loc(Users, Users_20)\n",
    "        copy_usr_loc(Users, Users_40)\n",
    "\n",
    "    # Obtain reward values\n",
    "    reward = optimal_reward - regret\n",
    "    reward_2 = optimal_reward - regret_2\n",
    "    reward_5 = optimal_reward - regret_5\n",
    "    reward_10 = optimal_reward - regret_10\n",
    "    reward_20 = optimal_reward - regret_20\n",
    "    reward_40 = optimal_reward - regret_40\n",
    "    threshold = 1\n",
    "\n",
    "    \n",
    "    # Log results\n",
    "    result_dict[\"reward_1\"] = reward\n",
    "    result_dict[\"reward_2\"] = reward_2\n",
    "    result_dict[\"reward_5\"] = reward_5\n",
    "    result_dict[\"reward_10\"] = reward_10\n",
    "    result_dict[\"reward_20\"] = reward_20\n",
    "    result_dict[\"reward_40\"] = reward_40\n",
    "    \n",
    "    result_dict[\"regret_1\"] = regret\n",
    "    result_dict[\"regret_2\"] = regret_2\n",
    "    result_dict[\"regret_5\"] = regret_5\n",
    "    result_dict[\"regret_10\"] = regret_10\n",
    "    result_dict[\"regret_20\"] = regret_20\n",
    "    result_dict[\"regret_40\"] = regret_40\n",
    "    \n",
    "    result_dict[\"collision_1\"] = collision_count\n",
    "    result_dict[\"collision_2\"] = collision_count_2\n",
    "    result_dict[\"collision_5\"] = collision_count_5\n",
    "    result_dict[\"collision_10\"] = collision_count_10\n",
    "    result_dict[\"collision_20\"] = collision_count_20\n",
    "    result_dict[\"collision_40\"] = collision_count_40\n",
    "    \n",
    "    # Store values\n",
    "#     user_dict['1'] = Users\n",
    "#     user_dict['2'] = Users_2\n",
    "#     user_dict['5'] = Users_5\n",
    "#     user_dict['10'] = Users_10\n",
    "#     user_dict['20'] = Users_20\n",
    "#     user_dict['40'] = Users_40\n",
    "    \n",
    "#     result_save_name = save_name + 'regret_trial' + str(tri) + '.p'\n",
    "#     with open(result_save_name, 'wb') as handle:\n",
    "#         pickle.dump(result_dict, handle, protocol=pickle.HIGHEST_PROTOCOL)\n",
    "\n",
    "#     user_save_name = save_name + 'user_trial' + str(tri) + '.p'\n",
    "#     with open(user_save_name, 'wb') as handle:\n",
    "#         pickle.dump(user_dict, handle, protocol=pickle.HIGHEST_PROTOCOL)\n",
    "\n",
    "    \n",
    "#     user_dicts += [user_dict]\n",
    "    result_dicts += [result_dict]"
   ]
  },
  {
   "cell_type": "code",
   "execution_count": 5,
   "metadata": {},
   "outputs": [
    {
     "data": {
      "text/plain": [
       "<matplotlib.legend.Legend at 0x7f9a64abb748>"
      ]
     },
     "execution_count": 5,
     "metadata": {},
     "output_type": "execute_result"
    },
    {
     "data": {
      "image/png": "[encoded data removed]",
      "text/plain": [
       "<Figure size 432x288 with 1 Axes>"
      ]
     },
     "metadata": {
      "needs_background": "light"
     },
     "output_type": "display_data"
    }
   ],
   "source": [
    "# Make plots of average\n",
    "b = result_dicts\n",
    "\n",
    "regret_1_avg = np.zeros(T)\n",
    "regret_2_avg = np.zeros(T)\n",
    "regret_5_avg = np.zeros(T)\n",
    "regret_10_avg = np.zeros(T)\n",
    "regret_20_avg = np.zeros(T)\n",
    "regret_40_avg = np.zeros(T)\n",
    "\n",
    "for i in range(trials):\n",
    "    regret_1_avg += 1/trials * b[i]['regret_1']\n",
    "    regret_2_avg += 1/trials * b[i]['regret_2']\n",
    "    regret_5_avg += 1/trials * b[i]['regret_5']\n",
    "    regret_10_avg += 1/trials * b[i]['regret_10']\n",
    "    regret_20_avg += 1/trials * b[i]['regret_20']\n",
    "    regret_40_avg += 1/trials * b[i]['regret_40']\n",
    "    \n",
    "plt.plot(np.cumsum(regret_1_avg), label = 'c1')\n",
    "plt.plot(np.cumsum(regret_2_avg), label = 'c2')\n",
    "plt.plot(np.cumsum(regret_5_avg), label = 'c5')\n",
    "plt.plot(np.cumsum(regret_10_avg), label = 'c10')\n",
    "plt.plot(np.cumsum(regret_20_avg), label = 'c20')\n",
    "plt.plot(np.cumsum(regret_40_avg), label = 'c40')\n",
    "\n",
    "\n",
    "plt.title('Cumulative Regret CMAB')\n",
    "plt.xlabel('Rounds')\n",
    "plt.ylabel('Regret')\n",
    "plt.legend()"
   ]
  },
  {
   "cell_type": "code",
   "execution_count": 6,
   "metadata": {},
   "outputs": [
    {
     "data": {
      "text/plain": [
       "<matplotlib.legend.Legend at 0x7f9a8a61c9b0>"
      ]
     },
     "execution_count": 6,
     "metadata": {},
     "output_type": "execute_result"
    },
    {
     "data": {
      "image/png": "[encoded data removed]",
      "text/plain": [
       "<Figure size 432x288 with 1 Axes>"
      ]
     },
     "metadata": {
      "needs_background": "light"
     },
     "output_type": "display_data"
    }
   ],
   "source": [
    "# Make plots of average\n",
    "b = result_dicts\n",
    "\n",
    "regret_1_avg = np.zeros(T)\n",
    "regret_2_avg = np.zeros(T)\n",
    "regret_5_avg = np.zeros(T)\n",
    "regret_10_avg = np.zeros(T)\n",
    "regret_20_avg = np.zeros(T)\n",
    "regret_40_avg = np.zeros(T)\n",
    "\n",
    "for i in range(trials):\n",
    "    regret_1_avg += 1/trials * b[i]['collision_1']\n",
    "    regret_2_avg += 1/trials * b[i]['collision_2']\n",
    "    regret_5_avg += 1/trials * b[i]['collision_5']\n",
    "    regret_10_avg += 1/trials * b[i]['collision_10']\n",
    "    regret_20_avg += 1/trials * b[i]['collision_20']\n",
    "    regret_40_avg += 1/trials * b[i]['collision_40']\n",
    "\n",
    "    \n",
    "plt.plot(np.cumsum(regret_1_avg), label = 'c1')\n",
    "plt.plot(np.cumsum(regret_2_avg), label = 'c2')\n",
    "plt.plot(np.cumsum(regret_5_avg), label = 'c5')\n",
    "plt.plot(np.cumsum(regret_10_avg), label = 'c10')\n",
    "plt.plot(np.cumsum(regret_20_avg), label = 'c20')\n",
    "plt.plot(np.cumsum(regret_40_avg), label = 'c40')\n",
    "\n",
    "\n",
    "plt.title('Cumulative Collision CMAB')\n",
    "plt.xlabel('Rounds')\n",
    "plt.ylabel('Regret')\n",
    "plt.legend()"
   ]
  },
  {
   "cell_type": "code",
   "execution_count": 7,
   "metadata": {},
   "outputs": [
    {
     "data": {
      "text/plain": [
       "5"
      ]
     },
     "execution_count": 7,
     "metadata": {},
     "output_type": "execute_result"
    }
   ],
   "source": [
    "Users_5[5].expected_time_true"
   ]
  },
  {
   "cell_type": "code",
   "execution_count": 17,
   "metadata": {},
   "outputs": [
    {
     "data": {
      "text/plain": [
       "0.4344"
      ]
     },
     "execution_count": 17,
     "metadata": {},
     "output_type": "execute_result"
    }
   ],
   "source": [
    "np.sum(Users[5].history_collisions)/5000"
   ]
  },
  {
   "cell_type": "code",
   "execution_count": 18,
   "metadata": {},
   "outputs": [
    {
     "data": {
      "text/plain": [
       "0.0688"
      ]
     },
     "execution_count": 18,
     "metadata": {},
     "output_type": "execute_result"
    }
   ],
   "source": [
    "np.sum(Users_40[5].history_collisions)/5000"
   ]
  },
  {
   "cell_type": "code",
   "execution_count": 19,
   "metadata": {},
   "outputs": [
    {
     "data": {
      "text/plain": [
       "19.0"
      ]
     },
     "execution_count": 19,
     "metadata": {},
     "output_type": "execute_result"
    }
   ],
   "source": [
    "Users_40[5].expected_time_true"
   ]
  },
  {
   "cell_type": "code",
   "execution_count": null,
   "metadata": {},
   "outputs": [],
   "source": []
  }
 ],
 "metadata": {
  "kernelspec": {
   "display_name": "Python 3",
   "language": "python",
   "name": "python3"
  },
  "language_info": {
   "codemirror_mode": {
    "name": "ipython",
    "version": 3
   },
   "file_extension": ".py",
   "mimetype": "text/x-python",
   "name": "python",
   "nbconvert_exporter": "python",
   "pygments_lexer": "ipython3",
   "version": "3.7.3"
  }
 },
 "nbformat": 4,
 "nbformat_minor": 2
}
