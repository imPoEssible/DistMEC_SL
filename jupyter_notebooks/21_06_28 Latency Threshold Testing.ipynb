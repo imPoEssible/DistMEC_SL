{
 "cells": [
  {
   "cell_type": "markdown",
   "id": "1262f3e9",
   "metadata": {},
   "source": [
    "# Latency Threshold Testing\n",
    "\n",
    "TJ Kim\n",
    "\n",
    "6.28.21\n",
    "\n",
    "### Summary:\n",
    "- Run a stable queue system (1.5 service power ~ 1 arrival rate)\n",
    "- Record queue cost given latency threshold, only recording value whenever we violate\n",
    "- Latency threshold was set to np.random.randint(1,2)."
   ]
  },
  {
   "cell_type": "code",
   "execution_count": 1,
   "id": "69a6285d",
   "metadata": {},
   "outputs": [
    {
     "name": "stdout",
     "output_type": "stream",
     "text": [
      "/home/tkim/Academics/DistMEC\n"
     ]
    }
   ],
   "source": [
    "cd /home/tkim/Academics/DistMEC"
   ]
  },
  {
   "cell_type": "code",
   "execution_count": 2,
   "id": "a747b96b",
   "metadata": {},
   "outputs": [],
   "source": [
    "import numpy as np\n",
    "import math\n",
    "import copy\n",
    "import itertools\n",
    "\n",
    "from classes.Application import *\n",
    "from classes.User import *\n",
    "from classes.Server import *\n",
    "from solver.Sim_Params import *\n",
    "from classes.Central_Controller import *\n",
    "from classes.Container import *\n",
    "from solver.run_sim_temp import *"
   ]
  },
  {
   "cell_type": "code",
   "execution_count": 3,
   "id": "af2f51c7",
   "metadata": {},
   "outputs": [],
   "source": [
    "num_trial = 10\n",
    "threshold_sweep = [0,1,2,4]"
   ]
  },
  {
   "cell_type": "code",
   "execution_count": 4,
   "id": "c416b136",
   "metadata": {},
   "outputs": [
    {
     "name": "stdout",
     "output_type": "stream",
     "text": [
      "trial 0\n",
      "trial 1\n",
      "trial 2\n",
      "trial 3\n",
      "trial 4\n",
      "trial 5\n",
      "trial 6\n",
      "trial 7\n",
      "trial 8\n",
      "trial 9\n"
     ]
    }
   ],
   "source": [
    "# Cost recording\n",
    "costs_l = {}\n",
    "costs_q = {}\n",
    "\n",
    "for t in range(num_trial):\n",
    "    print('trial',t)\n",
    "\n",
    "    sim_param = Sim_Params(big_ts=5, small_ts=5, x_length=5, y_length=5, num_users=20, num_servers=10, num_apps=5)\n",
    "    servers, users, containers, apps = setup_sim(sim_param)\n",
    "\n",
    "    for l in threshold_sweep:\n",
    "        apps_temp = copy.deepcopy(apps)\n",
    "        for a in apps_temp:\n",
    "            a.latency_threshold = l\n",
    "            a.offload_mode = 'd'\n",
    "        apps_temp, _ = run_sim_temp(sim_param, servers, users, containers, apps_temp)\n",
    "\n",
    "        costs_l[(t,l)] = 0\n",
    "        costs_q[(t,l)] = 0\n",
    "\n",
    "        for u in range(len(apps_temp)):\n",
    "            for key in apps_temp[u].queue_length.keys():\n",
    "                costs_l[(t,l)] += np.sum(apps_temp[u].queue_length[key][:,4] * apps_temp[u].queue_length[key][:,2])\n",
    "                costs_q[(t,l)] += np.sum(apps_temp[u].queue_length[key][:,5] * apps_temp[u].queue_length[key][:,2])"
   ]
  },
  {
   "cell_type": "markdown",
   "id": "4eb7fe2b",
   "metadata": {},
   "source": [
    "### Plot Result\n",
    "\n",
    "x axis is the latency threshold in number of small timesteps. y axis is monetary value."
   ]
  },
  {
   "cell_type": "code",
   "execution_count": 5,
   "id": "cc6578e5",
   "metadata": {},
   "outputs": [],
   "source": [
    "# Analyse data and normalize - mean and SD of queue and length\n",
    "l_collect = []\n",
    "q_collect = []\n",
    "\n",
    "for t in range(num_trial):\n",
    "    for l in threshold_sweep:\n",
    "        l_collect += [costs_l[(t,l)]]\n",
    "        q_collect += [costs_q[(t,l)]]\n",
    "\n",
    "l_collect = np.asarray(l_collect)\n",
    "q_collect = np.asarray(q_collect)\n",
    "\n",
    "l_mean = np.mean(l_collect)\n",
    "l_std = np.std(l_collect)\n",
    "q_mean = np.mean(q_collect)\n",
    "q_std = np.std(q_collect)"
   ]
  },
  {
   "cell_type": "code",
   "execution_count": 6,
   "id": "4de2ef90",
   "metadata": {},
   "outputs": [
    {
     "name": "stdout",
     "output_type": "stream",
     "text": [
      "latency_mean 8026.327230697471\n",
      "latency_std 789.333072592889\n",
      "queue_mean 17480.751560682034\n",
      "queue_std 9071.592269468125\n"
     ]
    }
   ],
   "source": [
    "print('latency_mean',l_mean)\n",
    "print('latency_std',l_std)\n",
    "\n",
    "print('queue_mean', q_mean)\n",
    "print('queue_std', q_std)"
   ]
  },
  {
   "cell_type": "code",
   "execution_count": 7,
   "id": "408bdbb2",
   "metadata": {},
   "outputs": [
    {
     "data": {
      "image/png": "[encoded data removed]",
      "text/plain": [
       "<Figure size 432x288 with 1 Axes>"
      ]
     },
     "metadata": {
      "needs_background": "light"
     },
     "output_type": "display_data"
    }
   ],
   "source": [
    "import matplotlib.pyplot as plt\n",
    "\n",
    "n_vals_to_plot_q = []\n",
    "n_vals_to_plot_l = []\n",
    "\n",
    "\n",
    "for l in threshold_sweep:\n",
    "    n_val_cumul_q = 0\n",
    "    n_val_cumul_l = 0\n",
    "    for t in range(num_trial):\n",
    "        n_val_cumul_q += costs_q[(t,l)]/num_trial\n",
    "        n_val_cumul_l += costs_l[(t,l)]/num_trial\n",
    "\n",
    "    n_vals_to_plot_q += [(n_val_cumul_q-q_mean)/q_std]\n",
    "    n_vals_to_plot_l += [(n_val_cumul_l-l_mean)/l_std]\n",
    "\n",
    "# Plot the value\n",
    "labels = threshold_sweep\n",
    "q_vals = n_vals_to_plot_q\n",
    "l_vals = n_vals_to_plot_l\n",
    "width = 0.2  # the width of the bars\n",
    "\n",
    "fig, ax = plt.subplots()\n",
    "x = np.arange(len(labels))\n",
    "rects1 = ax.bar(x - width/2, q_vals, width, label='queue')\n",
    "rects2 = ax.bar(x + width/2, l_vals, width, label='dist')\n",
    "\n",
    "# Add some text for labels, title and custom x-axis tick labels, etc.\n",
    "ax.set_ylabel('Standard Deviations')\n",
    "ax.set_xlabel('latency threshold (ts)')\n",
    "ax.set_title('Latency (queue and distance)')\n",
    "ax.set_xticks(x)\n",
    "ax.set_xticklabels(labels)\n",
    "ax.legend()\n",
    "\n",
    "fig.tight_layout()\n",
    "\n",
    "plt.show()"
   ]
  },
  {
   "cell_type": "code",
   "execution_count": null,
   "id": "58d22493",
   "metadata": {},
   "outputs": [],
   "source": []
  }
 ],
 "metadata": {
  "kernelspec": {
   "display_name": "Python 3",
   "language": "python",
   "name": "python3"
  },
  "language_info": {
   "codemirror_mode": {
    "name": "ipython",
    "version": 3
   },
   "file_extension": ".py",
   "mimetype": "text/x-python",
   "name": "python",
   "nbconvert_exporter": "python",
   "pygments_lexer": "ipython3",
   "version": "3.8.8"
  }
 },
 "nbformat": 4,
 "nbformat_minor": 5
}
