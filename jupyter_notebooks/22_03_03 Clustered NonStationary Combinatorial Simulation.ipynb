{
 "cells": [
  {
   "cell_type": "code",
   "execution_count": 2,
   "metadata": {},
   "outputs": [],
   "source": [
    "import numpy as np\n",
    "import matplotlib.pyplot as plt\n",
    "\n",
    "import pulp as lp\n",
    "import itertools\n",
    "import copy"
   ]
  },
  {
   "cell_type": "code",
   "execution_count": 3,
   "metadata": {},
   "outputs": [],
   "source": [
    "# System Parameters\n",
    "T = 300\n",
    "num_users = 3\n",
    "num_svrs = 20\n",
    "space = np.array(([-2.5,2.5],[-2.5,2.5])) # Physical simulation space 2d\n",
    "\n",
    "# Generate mixtures \n",
    "num_modes = 3\n",
    "modes = np.zeros(num_users)\n",
    "underlying_dists = np.random.uniform(low=0, high = 1, size = [num_modes, num_svrs])\n",
    "\n",
    "# User time change points\n",
    "rng = np.random.default_rng()\n",
    "min_change_count = 30\n",
    "max_change_count = 100\n",
    "\n",
    "usr_dist_changes = {}\n",
    "for u in range(num_users):\n",
    "    usr_dist_changes[u] = np.sort(rng.choice(np.arange(1,T-1), \n",
    "                                  size=np.random.randint(min_change_count, max_change_count),\n",
    "                                  replace=False))\n",
    "\n",
    "# User observation Collection\n",
    "user_rewards_array = np.zeros([T, num_svrs])\n",
    "user_pulls_list = np.zeros([T,num_svrs])\n",
    "\n",
    "# "
   ]
  },
  {
   "cell_type": "code",
   "execution_count": 25,
   "metadata": {},
   "outputs": [],
   "source": [
    "# Homogeniety Test Function\n",
    "\n",
    "def homogeneity_test(num_pulls1, num_pulls2, rewards1, rewards2, sigma_sqd):\n",
    "    \"\"\"\n",
    "    Given two sets of observations (num_pulls, rewards), \n",
    "    determine if they are from the same distribution or not\n",
    "    \n",
    "    Inputs:\n",
    "    num_pulls - (kx1) list where k is the number of arms\n",
    "    rewards - (kx1) list, where each element is a sub-list with reward values from each pull \n",
    "    \"\"\"\n",
    "    \n",
    "    k = len(num_pulls1)\n",
    "    obs1, obs2, obs_both = np.zeros(k), np.zeros(k), np.zeros(k)\n",
    "    \n",
    "    for i in range(k):\n",
    "        total_reward1, total_reward2 = sum(rewards1[i]), sum(rewards2[i])\n",
    "        obs1[i] = total_reward1/num_pulls1[i]\n",
    "        obs2[i] = total_reward2/num_pulls2[i]\n",
    "        obs_both[i] = (total_reward1 + total_reward2)/(num_pulls1[i] + num_pulls2[i])\n",
    "        \n",
    "    s = (np.linalg.norm(obs1 - obs_both, ord=2) + np.linalg.norm(obs2 - obs_both, ord=2))/sigma_sqd\n",
    "    \n",
    "    return s"
   ]
  },
  {
   "cell_type": "code",
   "execution_count": 29,
   "metadata": {},
   "outputs": [
    {
     "data": {
      "text/plain": [
       "2.522278409193636"
      ]
     },
     "execution_count": 29,
     "metadata": {},
     "output_type": "execute_result"
    }
   ],
   "source": [
    "num_pulls1 = [2,3,2]\n",
    "num_pulls2 = [1,2,4]\n",
    "rewards1 = [[1,2],[3,2,4],[5,3]]\n",
    "rewards2 = [[3],[7,3],[4,2,6,3]]\n",
    "sigma_sqd = 1\n",
    "\n",
    "s = homogeneity_test(num_pulls1, num_pulls2, rewards1, rewards2, sigma_sqd)\n",
    "s"
   ]
  },
  {
   "cell_type": "code",
   "execution_count": 31,
   "metadata": {},
   "outputs": [
    {
     "data": {
      "text/plain": [
       "0.7817359599705717"
      ]
     },
     "execution_count": 31,
     "metadata": {},
     "output_type": "execute_result"
    }
   ],
   "source": [
    "num_pulls1 = [2,3,2]\n",
    "num_pulls2 = [2,3,2]\n",
    "rewards1 = [[1,2],[3,2,4],[5,3]]\n",
    "rewards2 = [[2,2],[4,2,4],[5,2]]\n",
    "sigma_sqd = 1\n",
    "\n",
    "s = homogeneity_test(num_pulls1, num_pulls2, rewards1, rewards2, sigma_sqd)\n",
    "s"
   ]
  },
  {
   "cell_type": "code",
   "execution_count": null,
   "metadata": {},
   "outputs": [],
   "source": []
  }
 ],
 "metadata": {
  "kernelspec": {
   "display_name": "Python 3",
   "language": "python",
   "name": "python3"
  },
  "language_info": {
   "codemirror_mode": {
    "name": "ipython",
    "version": 3
   },
   "file_extension": ".py",
   "mimetype": "text/x-python",
   "name": "python",
   "nbconvert_exporter": "python",
   "pygments_lexer": "ipython3",
   "version": "3.7.3"
  }
 },
 "nbformat": 4,
 "nbformat_minor": 2
}
