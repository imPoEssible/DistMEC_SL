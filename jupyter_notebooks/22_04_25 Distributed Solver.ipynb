{
 "cells": [
  {
   "cell_type": "code",
   "execution_count": 1,
   "metadata": {},
   "outputs": [
    {
     "name": "stdout",
     "output_type": "stream",
     "text": [
      "/home/ubuntu/DistMEC\n"
     ]
    }
   ],
   "source": [
    "cd /home/ubuntu/DistMEC/"
   ]
  },
  {
   "cell_type": "code",
   "execution_count": 2,
   "metadata": {},
   "outputs": [],
   "source": [
    "import numpy as np\n",
    "import matplotlib.pyplot as plt\n",
    "\n",
    "from classes.User import *\n",
    "from classes.solver import *\n",
    "from classes.Server import *"
   ]
  },
  {
   "cell_type": "code",
   "execution_count": 7,
   "metadata": {},
   "outputs": [],
   "source": [
    "def gen_eq_locs(space_1d, nums, offset = 0.5):\n",
    "    # Generate well spread out locations in square space\n",
    "    num_across = int(np.floor(np.sqrt(nums)))\n",
    "    locs = []\n",
    "    \n",
    "    inc = space_1d/nums\n",
    "    \n",
    "    for i,j in itertools.product(range(num_across), range(num_across)):\n",
    "        locs += [(i*inc+offset, j*inc+offset)]\n",
    "    \n",
    "    return locs\n",
    "\n",
    "def obtain_w(Users, num_users, num_svrs): # checked\n",
    "    \n",
    "    w_curr = np.zeros([num_users,num_svrs])\n",
    "    for i in range(num_users):\n",
    "        w_curr[i] = Users[i].reward_scale[Users[i].usr_place]\n",
    "    \n",
    "    return w_curr\n",
    "\n",
    "def update_user_locs(Users): # Checked\n",
    "    \n",
    "    for i in range(len(Users)):\n",
    "        Users[i].next_loc()\n",
    "    return\n",
    "    \n",
    "def get_arms_list(Users): # Checked\n",
    "    arms = []\n",
    "    for i in range(len(Users)):\n",
    "        arms+= [Users[i].choose_arm()]\n",
    "    return arms\n",
    "\n",
    "def sort_server_results(arms_list, Servers, Users):\n",
    "\n",
    "    reserve_id_dict = {}\n",
    "    reserve_max_val_dict = {}\n",
    "    reserve_time_dict = {}\n",
    "    reward_dict = {}\n",
    "    collision_flag_dict = {}\n",
    "\n",
    "    for s in range(len(Servers)):\n",
    "        usr_idxs = np.argwhere(np.array(arms_list) == s).flatten()\n",
    "        scales = np.zeros(usr_idxs.shape[0])\n",
    "        w_est = np.zeros(usr_idxs.shape[0])\n",
    "        stay_times = np.zeros(usr_idxs.shape[0])\n",
    "        for u in range(usr_idxs.shape[0]):\n",
    "            scales[u] = Users[usr_idxs[u]].reward_scale[Users[usr_idxs[u]].usr_place,s]\n",
    "            w_est[u] =  Users[usr_idxs[u]].ucb_raw[s]\n",
    "            stay_times[u] = Users[usr_idxs[u]].expected_time\n",
    "\n",
    "        user_list = usr_idxs.tolist()\n",
    "        scales_list = scales.tolist()\n",
    "        w_est_list = w_est.tolist()\n",
    "        stay_times_list = stay_times.tolist()\n",
    "\n",
    "        s_result = Servers[s].receive_users(user_list, scales_list, w_est_list, stay_times_list, len(Users))\n",
    "        reserve_id, reserve_max_val, reserve_time, reward, collision_flag = s_result[0],s_result[1],s_result[2],s_result[3],s_result[4]\n",
    "        reserve_id_dict[s] = reserve_id\n",
    "        reserve_max_val_dict[s] = reserve_max_val\n",
    "        reserve_time_dict[s] = reserve_time\n",
    "        reward_dict[s] = reward\n",
    "        collision_flag_dict[s] = collision_flag\n",
    "    \n",
    "    return reserve_id_dict,reserve_max_val_dict ,reserve_time_dict ,reward_dict , collision_flag_dict\n",
    "\n",
    "\n",
    "def update_user_info(Users, arms_list, reserve_id_dict,reserve_max_val_dict ,\n",
    "                     reserve_time_dict ,reward_dict ,collision_flag_dict):\n",
    "    # update UCB information from user \n",
    "    for u in range(len(Users)):\n",
    "        arm_id = arms_list[u]\n",
    "        reward = reward_dict[arm_id]\n",
    "        collision_flag = collision_flag_dict[arm_id]\n",
    "        max_reward = reserve_max_val_dict[arm_id]\n",
    "        wait_time = reserve_time_dict[arm_id]\n",
    "        chosen_idx = reserve_id_dict[arm_id]\n",
    "        Users[u].receive_reward(arm_id, reward, collision_flag, max_reward, wait_time, chosen_idx)\n",
    "    return\n",
    "\n",
    "\n",
    "def expected_reward_collision_sensing(arms, mus, w):\n",
    "    exp_mus = np.zeros(len(arms))\n",
    "    collision_counter = 0\n",
    "    seen = []\n",
    "    for i in range(len(arms)):\n",
    "        num_simul_pulls = np.argwhere(np.array(arms)==arms[i]).flatten().shape[0]\n",
    "        if num_simul_pulls == 1:\n",
    "            exp_mus[i] = w[i, arms[i]]* mus[i, arms[i]]\n",
    "        else:\n",
    "            collision_counter += 1\n",
    "        \n",
    "    return np.sum(exp_mus), collision_counter\n",
    "\n",
    "def get_user_locs(Users):\n",
    "    usr_loc_list = []\n",
    "    for i in range(len(Users)):\n",
    "        usr_loc_list += [Users[i].usr_place]\n",
    "        \n",
    "    return usr_loc_list"
   ]
  },
  {
   "cell_type": "code",
   "execution_count": 18,
   "metadata": {},
   "outputs": [],
   "source": [
    "def explore_rounds(Users, num_users, num_svrs, mu, regret, usr_move_flag = False,\n",
    "              rounds=1):\n",
    "\n",
    "    arms = list(range(num_users)) \n",
    "\n",
    "    for j in range(rounds):\n",
    "        for i in range(num_svrs):\n",
    "            w = obtain_w(Users, num_users, num_svrs)\n",
    "            optimal = offline_optimal_action(w, mu)\n",
    "            reward_exp_now, collision_count[i] = expected_reward_collision_sensing(arms, mu, w)\n",
    "            regret[i] = optimal[1] - reward_exp_now\n",
    "\n",
    "            svr_res = sort_server_results(arms, Servers, Users)\n",
    "            update_user_info(Users, arms, svr_res[0], svr_res[1], svr_res[2], svr_res[3], svr_res[4])\n",
    "            if usr_move_flag:\n",
    "                update_user_locs(Users)\n",
    "\n",
    "            arms = sweep_init_next(arms, num_svrs)\n",
    "    \n",
    "    return\n",
    "    \n",
    "def play_round(Users, num_users, num_svrs, mu, regret, usr_move_flag = False,\n",
    "              debugger = False):\n",
    "    \n",
    "    t = int(np.sum(Users[0].pulls))\n",
    "    \n",
    "    w = obtain_w(Users, num_users, num_svrs)\n",
    "    optimal = offline_optimal_action(w, mu)\n",
    "    \n",
    "    \n",
    "    if debugger:\n",
    "        print(\"time:\", t)\n",
    "        \n",
    "        print(\"\\nmu\")\n",
    "        print(mu)\n",
    "    \n",
    "        print(\"\\nest mu\")\n",
    "        for i in range(len(Users)):\n",
    "            print(Users[i].param_summed/Users[i].pulls)\n",
    "\n",
    "        print(\"\\nuser w\")\n",
    "        for i in range(len(Users)):\n",
    "            print(Users[i].reward_scale[Users[i].usr_place])\n",
    "\n",
    "        print(\"\\nscaled_reward\")    \n",
    "        for i in range(len(Users)):\n",
    "            print(Users[i].reward_scale[Users[i].usr_place] * mu[i])\n",
    "            \n",
    "        print(\"\\nraw ucb\")\n",
    "        for i in range(len(Users)):\n",
    "            print(Users[i].ucb_raw)\n",
    "            \n",
    "        print(\"\\nscaled_ucb\")    \n",
    "        for i in range(len(Users)):\n",
    "            print(Users[i].reward_scale[Users[i].usr_place] * Users[i].ucb_raw)\n",
    "\n",
    "        print(\"\\nuser pulls\")\n",
    "        for i in range(len(Users)):\n",
    "            print(Users[i].pulls)\n",
    "\n",
    "        print(\"\\nuser locs\")\n",
    "        locci = []\n",
    "        for i in range(len(Users)):\n",
    "            locci += [Users[i].usr_place]\n",
    "        print(locci)\n",
    "\n",
    "    \n",
    "    arms = get_arms_list(Users)\n",
    "    reward_exp_now, collision_count[t] = expected_reward_collision_sensing(arms, mu, w)\n",
    "    regret[t] = optimal[1] - reward_exp_now\n",
    "    svr_res = sort_server_results(arms, Servers, Users)\n",
    "    update_user_info(Users, arms, svr_res[0], svr_res[1], svr_res[2], svr_res[3], svr_res[4])\n",
    "    if usr_move_flag:\n",
    "        update_user_locs(Users)\n",
    "        \n",
    "    if debugger:\n",
    "        \n",
    "        print(\"\\noptimal arms\")\n",
    "        print(optimal[0])\n",
    "        \n",
    "        print(\"\\nchosen arms\")\n",
    "        print(arms)\n",
    "        \n",
    "        # Advanced\n",
    "        print(\"\\nmax log\")    \n",
    "        for i in range(len(Users)):\n",
    "            print(Users[i].max_logs)\n",
    "            \n",
    "        print(\"\\nwait times\")    \n",
    "        for i in range(len(Users)):\n",
    "            print(Users[i].wait_times)\n",
    "        \n",
    "        print(\"\\nregret\")\n",
    "        print(regret[t])\n",
    "            \n",
    "#     return\n",
    "    return svr_res"
   ]
  },
  {
   "cell_type": "code",
   "execution_count": 109,
   "metadata": {},
   "outputs": [],
   "source": [
    "# System Parameters\n",
    "T = 5000\n",
    "num_users = 2\n",
    "num_svrs = 4\n",
    "num_locs = 4\n",
    "mu = np.random.uniform(low=0, high = 1, size = [num_users, num_svrs])\n",
    "# w = np.random.uniform(low=0, high=1, size= [num_users, num_svrs])\n",
    "\n",
    "# Generate visitng locations and server locations\n",
    "space_1d_dim = 10 #4 for small, 10 for big\n",
    "usr_locs = gen_eq_locs(space_1d=space_1d_dim, nums=num_locs)\n",
    "svr_locs = gen_eq_locs(space_1d=space_1d_dim, nums=num_svrs)\n",
    "\n",
    "# Create Users\n",
    "Users = []\n",
    "for i in range(num_users):\n",
    "    Users += [User(usr_locs,svr_locs,mu[i],i,\n",
    "                  max_dist = 7, threshold_dist = 6, self_weight = 1 - 0.95, P = None, ceiling = 10)]\n",
    "    \n",
    "# Create Servers\n",
    "Servers = []\n",
    "for i in range(num_svrs):\n",
    "    Servers += [Server(svr_locs[i],mu,i)]\n",
    "\n",
    "# Recorded Values\n",
    "rewards_record = np.zeros([num_users,num_svrs])\n",
    "pulls_record = np.zeros([num_users,num_svrs])\n",
    "ucb = np.zeros([num_users,num_svrs])\n",
    "regret = np.zeros(T)\n",
    "collision_count = np.zeros(T)    "
   ]
  },
  {
   "cell_type": "code",
   "execution_count": 110,
   "metadata": {},
   "outputs": [
    {
     "name": "stdout",
     "output_type": "stream",
     "text": [
      "time: 4999\n",
      "\n",
      "mu\n",
      "[[0.79196286 0.27298845 0.92451237 0.54137721]\n",
      " [0.30023852 0.76168881 0.73024444 0.37483715]]\n",
      "\n",
      "est mu\n",
      "[0.78777417 0.         0.91935484 0.57142857]\n",
      "[0.6        0.76610786 0.54545455 0.41176471]\n",
      "\n",
      "user w\n",
      "[1.         0.64285714 0.64285714 0.49492373]\n",
      "[0.64285714 1.         0.49492373 0.64285714]\n",
      "\n",
      "scaled_reward\n",
      "[0.79196286 0.17549258 0.59432938 0.26794043]\n",
      "[0.19301048 0.76168881 0.3614153  0.24096674]\n",
      "\n",
      "raw ucb\n",
      "[0.82936371 1.19142724 1.28999059 1.67447586]\n",
      "[1.25257157 0.80758384 1.42538188 1.11957796]\n",
      "\n",
      "scaled_ucb\n",
      "[0.82936371 0.76591751 0.82927966 0.82873783]\n",
      "[0.80522458 0.80758384 0.70545531 0.71972869]\n",
      "\n",
      "user pulls\n",
      "[4924.    6.   62.    7.]\n",
      "[  20. 4951.   11.   17.]\n",
      "\n",
      "user locs\n",
      "[0, 1]\n",
      "\n",
      "optimal arms\n",
      "[0, 1]\n",
      "\n",
      "chosen arms\n",
      "[0, 1]\n",
      "\n",
      "max log\n",
      "[0. 0. 0. 0.]\n",
      "[0. 0. 0. 0.]\n",
      "\n",
      "wait times\n",
      "[0. 0. 0. 0.]\n",
      "[0. 0. 0. 0.]\n",
      "\n",
      "regret\n",
      "0.0\n"
     ]
    },
    {
     "data": {
      "text/plain": [
       "({0: 0, 1: 1, 2: None, 3: None},\n",
       " {0: 0.829363708349544, 1: 0.8075838398609102, 2: None, 3: None},\n",
       " {0: 8.0, 1: 10.0, 2: None, 3: None},\n",
       " {0: array([1., 0.]), 1: array([0., 1.]), 2: None, 3: None},\n",
       " {0: False, 1: False, 2: False, 3: False})"
      ]
     },
     "execution_count": 110,
     "metadata": {},
     "output_type": "execute_result"
    }
   ],
   "source": [
    "explore_rounds(Users, num_users, num_svrs, mu, regret, usr_move_flag = False,\n",
    "              rounds=1)\n",
    "\n",
    "for t in range(i+1, T-1):\n",
    "    play_round(Users, num_users, num_svrs, mu, regret, usr_move_flag = False,\n",
    "              debugger = False)\n",
    "    \n",
    "play_round(Users, num_users, num_svrs, mu, regret, usr_move_flag = False,\n",
    "              debugger = True)"
   ]
  },
  {
   "cell_type": "code",
   "execution_count": 111,
   "metadata": {},
   "outputs": [
    {
     "data": {
      "text/plain": [
       "Text(0, 0.5, 'Regret')"
      ]
     },
     "execution_count": 111,
     "metadata": {},
     "output_type": "execute_result"
    },
    {
     "data": {
      "image/png": "[encoded data removed]",
      "text/plain": [
       "<Figure size 432x288 with 1 Axes>"
      ]
     },
     "metadata": {
      "needs_background": "light"
     },
     "output_type": "display_data"
    }
   ],
   "source": [
    "plt.plot(np.cumsum(regret))\n",
    "plt.title('Cumulative Regret CMAB')\n",
    "plt.xlabel('Rounds')\n",
    "plt.ylabel('Regret')"
   ]
  },
  {
   "cell_type": "code",
   "execution_count": 112,
   "metadata": {},
   "outputs": [
    {
     "data": {
      "text/plain": [
       "Text(0, 0.5, 'Regret')"
      ]
     },
     "execution_count": 112,
     "metadata": {},
     "output_type": "execute_result"
    },
    {
     "data": {
      "image/png": "[encoded data removed]",
      "text/plain": [
       "<Figure size 432x288 with 1 Axes>"
      ]
     },
     "metadata": {
      "needs_background": "light"
     },
     "output_type": "display_data"
    }
   ],
   "source": [
    "plt.plot(regret)\n",
    "plt.title('Regret CMAB')\n",
    "plt.xlabel('Rounds')\n",
    "plt.ylabel('Regret')"
   ]
  },
  {
   "cell_type": "code",
   "execution_count": 113,
   "metadata": {},
   "outputs": [
    {
     "data": {
      "text/plain": [
       "Text(0, 0.5, 'Colliding Users')"
      ]
     },
     "execution_count": 113,
     "metadata": {},
     "output_type": "execute_result"
    },
    {
     "data": {
      "image/png": "[encoded data removed]",
      "text/plain": [
       "<Figure size 432x288 with 1 Axes>"
      ]
     },
     "metadata": {
      "needs_background": "light"
     },
     "output_type": "display_data"
    }
   ],
   "source": [
    "plt.plot(np.cumsum(collision_count))\n",
    "plt.title('Cumulative Collisions')\n",
    "plt.xlabel('Rounds')\n",
    "plt.ylabel('Colliding Users')"
   ]
  },
  {
   "cell_type": "code",
   "execution_count": 114,
   "metadata": {},
   "outputs": [
    {
     "data": {
      "text/plain": [
       "Text(0, 0.5, 'Colliding Users')"
      ]
     },
     "execution_count": 114,
     "metadata": {},
     "output_type": "execute_result"
    },
    {
     "data": {
      "image/png": "[encoded data removed]",
      "text/plain": [
       "<Figure size 432x288 with 1 Axes>"
      ]
     },
     "metadata": {
      "needs_background": "light"
     },
     "output_type": "display_data"
    }
   ],
   "source": [
    "plt.plot(collision_count)\n",
    "plt.title('Collisions')\n",
    "plt.xlabel('Rounds')\n",
    "plt.ylabel('Colliding Users')"
   ]
  },
  {
   "cell_type": "code",
   "execution_count": 115,
   "metadata": {},
   "outputs": [
    {
     "data": {
      "text/plain": [
       "0.0044"
      ]
     },
     "execution_count": 115,
     "metadata": {},
     "output_type": "execute_result"
    }
   ],
   "source": [
    "(np.cumsum(collision_count)[-1]/len(Users))/T"
   ]
  },
  {
   "cell_type": "code",
   "execution_count": 116,
   "metadata": {},
   "outputs": [
    {
     "name": "stdout",
     "output_type": "stream",
     "text": [
      "Expected times: [8.0, 10]\n"
     ]
    }
   ],
   "source": [
    "ET = []\n",
    "\n",
    "for i in range(len(Users)):\n",
    "    ET += [Users[i].expected_time]\n",
    "\n",
    "print(\"Expected times:\", ET)"
   ]
  },
  {
   "cell_type": "code",
   "execution_count": null,
   "metadata": {},
   "outputs": [],
   "source": []
  }
 ],
 "metadata": {
  "kernelspec": {
   "display_name": "Python 3",
   "language": "python",
   "name": "python3"
  },
  "language_info": {
   "codemirror_mode": {
    "name": "ipython",
    "version": 3
   },
   "file_extension": ".py",
   "mimetype": "text/x-python",
   "name": "python",
   "nbconvert_exporter": "python",
   "pygments_lexer": "ipython3",
   "version": "3.7.3"
  }
 },
 "nbformat": 4,
 "nbformat_minor": 2
}
