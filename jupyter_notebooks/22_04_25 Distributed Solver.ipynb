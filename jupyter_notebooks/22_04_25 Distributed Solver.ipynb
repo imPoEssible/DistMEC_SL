{
 "cells": [
  {
   "cell_type": "code",
   "execution_count": 1,
   "metadata": {},
   "outputs": [
    {
     "name": "stdout",
     "output_type": "stream",
     "text": [
      "/home/ubuntu/DistMEC\n"
     ]
    }
   ],
   "source": [
    "cd /home/ubuntu/DistMEC/"
   ]
  },
  {
   "cell_type": "code",
   "execution_count": 2,
   "metadata": {},
   "outputs": [],
   "source": [
    "import numpy as np\n",
    "import matplotlib.pyplot as plt\n",
    "\n",
    "from classes.User import *\n",
    "from classes.solver import *\n",
    "from classes.Server import *"
   ]
  },
  {
   "cell_type": "code",
   "execution_count": 3,
   "metadata": {},
   "outputs": [],
   "source": [
    "def gen_eq_locs(space_1d, nums, offset = 0.5):\n",
    "    # Generate well spread out locations in square space\n",
    "    num_across = int(np.floor(np.sqrt(nums)))\n",
    "    locs = []\n",
    "    \n",
    "    inc = space_1d/nums\n",
    "    \n",
    "    for i,j in itertools.product(range(num_across), range(num_across)):\n",
    "        locs += [(i*inc+offset, j*inc+offset)]\n",
    "    \n",
    "    return locs\n",
    "\n",
    "def obtain_w(Users, num_users, num_svrs): # checked\n",
    "    \n",
    "    w_curr = np.zeros([num_users,num_svrs])\n",
    "    for i in range(num_users):\n",
    "        w_curr[i] = Users[i].reward_scale[Users[i].usr_place]\n",
    "    \n",
    "    return w_curr\n",
    "\n",
    "def update_user_locs(Users): # Checked\n",
    "    \n",
    "    for i in range(len(Users)):\n",
    "        Users[i].next_loc()\n",
    "    return\n",
    "    \n",
    "def get_arms_list(Users): # Checked\n",
    "    arms = []\n",
    "    for i in range(len(Users)):\n",
    "        arms+= [Users[i].choose_arm()]\n",
    "    return arms\n",
    "\n",
    "def sort_server_results(arms_list, Servers, Users):\n",
    "\n",
    "    reserve_id_dict = {}\n",
    "    reserve_max_val_dict = {}\n",
    "    reserve_time_dict = {}\n",
    "    reward_dict = {}\n",
    "    collision_flag_dict = {}\n",
    "\n",
    "    for s in range(len(Servers)):\n",
    "        usr_idxs = np.argwhere(np.array(arms_list) == s).flatten()\n",
    "        scales = np.zeros(usr_idxs.shape[0])\n",
    "        w_est = np.zeros(usr_idxs.shape[0])\n",
    "        stay_times = np.zeros(usr_idxs.shape[0])\n",
    "        for u in range(usr_idxs.shape[0]):\n",
    "            scales[u] = Users[usr_idxs[u]].reward_scale[Users[usr_idxs[u]].usr_place,s]\n",
    "            w_est[u] =  Users[usr_idxs[u]].ucb_raw[s]\n",
    "            stay_times[u] = Users[usr_idxs[u]].expected_time\n",
    "\n",
    "        user_list = usr_idxs.tolist()\n",
    "        scales_list = scales.tolist()\n",
    "        w_est_list = w_est.tolist()\n",
    "        stay_times_list = stay_times.tolist()\n",
    "\n",
    "        s_result = Servers[s].receive_users(user_list, scales_list, w_est_list, stay_times_list)\n",
    "        reserve_id, reserve_max_val, reserve_time, reward, collision_flag = s_result[0],s_result[1],s_result[2],s_result[3],s_result[4]\n",
    "        reserve_id_dict[s] = reserve_id\n",
    "        reserve_max_val_dict[s] = reserve_max_val\n",
    "        reserve_time_dict[s] = reserve_time\n",
    "        reward_dict[s] = reward\n",
    "        collision_flag_dict[s] = collision_flag\n",
    "    \n",
    "    return reserve_id_dict,reserve_max_val_dict ,reserve_time_dict ,reward_dict ,collision_flag_dict\n",
    "\n",
    "\n",
    "def update_user_info(Users, arms_list, reserve_id_dict,reserve_max_val_dict ,\n",
    "                     reserve_time_dict ,reward_dict ,collision_flag_dict):\n",
    "    # update UCB information from user \n",
    "    for u in range(len(Users)):\n",
    "        arm_id = arms_list[u]\n",
    "        reward = reward_dict[arm_id]\n",
    "        collision_flag = collision_flag_dict[arm_id]\n",
    "        max_reward = reserve_max_val_dict[arm_id]\n",
    "        wait_time = reserve_time_dict[arm_id]\n",
    "        chosen_idx = reserve_id_dict[arm_id]\n",
    "        Users[u].receive_reward(arm_id, reward, collision_flag, max_reward, wait_time, chosen_idx)\n",
    "    return\n",
    "\n",
    "\n",
    "def expected_reward_collision_sensing(arms, mus, w):\n",
    "    exp_mus = np.zeros(len(arms))\n",
    "    collision_counter = 0\n",
    "    seen = []\n",
    "    for i in range(len(arms)):\n",
    "        num_simul_pulls = np.argwhere(np.array(arms)==arms[i]).flatten().shape[0]\n",
    "        if num_simul_pulls == 1:\n",
    "            exp_mus[i] = w[i, arms[i]]* mus[i, arms[i]]\n",
    "        else:\n",
    "            collision_counter += 1\n",
    "        \n",
    "    return np.sum(exp_mus), collision_counter\n",
    "\n",
    "def get_user_locs(Users):\n",
    "    usr_loc_list = []\n",
    "    for i in range(len(Users)):\n",
    "        usr_loc_list += [Users[i].usr_place]\n",
    "        \n",
    "    return usr_loc_list"
   ]
  },
  {
   "cell_type": "code",
   "execution_count": 4,
   "metadata": {},
   "outputs": [],
   "source": [
    "# System Parameters\n",
    "T = 10000\n",
    "num_users = 4\n",
    "num_svrs = 9\n",
    "num_locs = 9\n",
    "mu = np.random.uniform(low=0, high = 1, size = [num_users, num_svrs])\n",
    "# w = np.random.uniform(low=0, high=1, size= [num_users, num_svrs])\n",
    "\n",
    "# Generate visitng locations and server locations\n",
    "space_1d_dim = 16\n",
    "usr_locs = gen_eq_locs(space_1d=space_1d_dim, nums=num_locs)\n",
    "svr_locs = gen_eq_locs(space_1d=space_1d_dim, nums=num_svrs)\n",
    "\n",
    "# Create Users\n",
    "Users = []\n",
    "for i in range(num_users):\n",
    "    Users += [User(usr_locs,svr_locs,mu[i],i,\n",
    "                  max_dist = 7, threshold_dist = 6, self_weight = 1 - 0.95, P = None, ceiling = 10)]\n",
    "    \n",
    "# Create Servers\n",
    "Servers = []\n",
    "for i in range(num_svrs):\n",
    "    Servers += [Server(svr_locs[i],mu,i)]\n",
    "\n",
    "# Recorded Values\n",
    "rewards_record = np.zeros([num_users,num_svrs])\n",
    "pulls_record = np.zeros([num_users,num_svrs])\n",
    "ucb = np.zeros([num_users,num_svrs])\n",
    "regret = np.zeros(T)\n",
    "collision_count = np.zeros(T)"
   ]
  },
  {
   "cell_type": "code",
   "execution_count": 5,
   "metadata": {},
   "outputs": [],
   "source": [
    "# Initial Stages -- TS = servers, rotating \n",
    "arms = list(range(num_users)) \n",
    "\n",
    "for i in range(num_svrs):\n",
    "    w = obtain_w(Users, num_users, num_svrs)\n",
    "    optimal = offline_optimal_action(w, mu)\n",
    "    reward_exp_now, collision_count[i] = expected_reward_collision_sensing(arms, mu, w)\n",
    "    regret[i] = optimal[1] - reward_exp_now\n",
    "    \n",
    "    svr_res = sort_server_results(arms, Servers, Users)\n",
    "    update_user_info(Users, arms, svr_res[0], svr_res[1], svr_res[2], svr_res[3], svr_res[4])\n",
    "#     update_user_locs(Users)\n",
    "    \n",
    "    arms = sweep_init_next(arms, num_svrs)\n",
    "    \n",
    "for t in range(i+1, T):\n",
    "    w = obtain_w(Users, num_users, num_svrs)\n",
    "    optimal = offline_optimal_action(w, mu)\n",
    "    arms = get_arms_list(Users)\n",
    "    reward_exp_now, collision_count[t] = expected_reward_collision_sensing(arms, mu, w)\n",
    "    regret[t] = optimal[1] - reward_exp_now\n",
    "    svr_res = sort_server_results(arms, Servers, Users)\n",
    "    update_user_info(Users, arms, svr_res[0], svr_res[1], svr_res[2], svr_res[3], svr_res[4])\n",
    "#     update_user_locs(Users)\n",
    "    "
   ]
  },
  {
   "cell_type": "code",
   "execution_count": 6,
   "metadata": {},
   "outputs": [
    {
     "data": {
      "text/plain": [
       "array([[0.25196155, 0.4276398 , 0.64801047, 0.20196044, 0.85085024,\n",
       "        0.22563685, 0.39888742, 0.86359231, 0.29501363],\n",
       "       [0.19539427, 0.01565297, 0.23401115, 0.08518027, 0.74894058,\n",
       "        0.42905254, 0.67735137, 0.01887814, 0.30324633],\n",
       "       [0.40893298, 0.18178993, 0.25705324, 0.87146354, 0.3283172 ,\n",
       "        0.48802673, 0.37724246, 0.00984114, 0.44493337],\n",
       "       [0.03221643, 0.1541501 , 0.20968557, 0.66045556, 0.57313308,\n",
       "        0.16123735, 0.90082352, 0.03944494, 0.02086463]])"
      ]
     },
     "execution_count": 6,
     "metadata": {},
     "output_type": "execute_result"
    }
   ],
   "source": [
    "mu"
   ]
  },
  {
   "cell_type": "code",
   "execution_count": 7,
   "metadata": {},
   "outputs": [
    {
     "name": "stdout",
     "output_type": "stream",
     "text": [
      "[0.         0.         0.         0.         0.83333333 0.\n",
      " 0.5        1.         1.        ]\n",
      "[0. 0. 0. 0. 1. 0. 0. 0. 0.]\n",
      "[0.  0.5 1.  1.  0.  0.  1.  0.  1. ]\n",
      "[0.  1.  0.  1.  0.5 0.  1.  0.  0. ]\n"
     ]
    }
   ],
   "source": [
    "for i in range(len(Users)):\n",
    "    print(Users[i].param_summed/Users[i].pulls)"
   ]
  },
  {
   "cell_type": "code",
   "execution_count": 8,
   "metadata": {},
   "outputs": [
    {
     "data": {
      "text/plain": [
       "[4, 4, 1, 1]"
      ]
     },
     "execution_count": 8,
     "metadata": {},
     "output_type": "execute_result"
    }
   ],
   "source": [
    "arms"
   ]
  },
  {
   "cell_type": "code",
   "execution_count": 9,
   "metadata": {},
   "outputs": [
    {
     "data": {
      "text/plain": [
       "Text(0, 0.5, 'Regret')"
      ]
     },
     "execution_count": 9,
     "metadata": {},
     "output_type": "execute_result"
    },
    {
     "data": {
      "image/png": "[encoded data removed]",
      "text/plain": [
       "<Figure size 432x288 with 1 Axes>"
      ]
     },
     "metadata": {
      "needs_background": "light"
     },
     "output_type": "display_data"
    }
   ],
   "source": [
    "plt.plot(np.cumsum(regret))\n",
    "plt.title('Cumulative Regret CMAB')\n",
    "plt.xlabel('Rounds')\n",
    "plt.ylabel('Regret')"
   ]
  },
  {
   "cell_type": "code",
   "execution_count": 10,
   "metadata": {},
   "outputs": [
    {
     "data": {
      "text/plain": [
       "Text(0, 0.5, 'Regret')"
      ]
     },
     "execution_count": 10,
     "metadata": {},
     "output_type": "execute_result"
    },
    {
     "data": {
      "image/png": "[encoded data removed]",
      "text/plain": [
       "<Figure size 432x288 with 1 Axes>"
      ]
     },
     "metadata": {
      "needs_background": "light"
     },
     "output_type": "display_data"
    }
   ],
   "source": [
    "plt.plot(regret)\n",
    "plt.title('Regret CMAB')\n",
    "plt.xlabel('Rounds')\n",
    "plt.ylabel('Regret')"
   ]
  },
  {
   "cell_type": "code",
   "execution_count": 11,
   "metadata": {},
   "outputs": [
    {
     "data": {
      "text/plain": [
       "Text(0, 0.5, 'Colliding Users')"
      ]
     },
     "execution_count": 11,
     "metadata": {},
     "output_type": "execute_result"
    },
    {
     "data": {
      "image/png": "[encoded data removed]",
      "text/plain": [
       "<Figure size 432x288 with 1 Axes>"
      ]
     },
     "metadata": {
      "needs_background": "light"
     },
     "output_type": "display_data"
    }
   ],
   "source": [
    "plt.plot(np.cumsum(collision_count))\n",
    "plt.title('Cumulative Collisions')\n",
    "plt.xlabel('Rounds')\n",
    "plt.ylabel('Colliding Users')"
   ]
  },
  {
   "cell_type": "code",
   "execution_count": 12,
   "metadata": {},
   "outputs": [
    {
     "data": {
      "text/plain": [
       "Text(0, 0.5, 'Colliding Users')"
      ]
     },
     "execution_count": 12,
     "metadata": {},
     "output_type": "execute_result"
    },
    {
     "data": {
      "image/png": "[encoded data removed]",
      "text/plain": [
       "<Figure size 432x288 with 1 Axes>"
      ]
     },
     "metadata": {
      "needs_background": "light"
     },
     "output_type": "display_data"
    }
   ],
   "source": [
    "plt.plot(collision_count)\n",
    "plt.title('Collisions')\n",
    "plt.xlabel('Rounds')\n",
    "plt.ylabel('Colliding Users')"
   ]
  },
  {
   "cell_type": "code",
   "execution_count": 13,
   "metadata": {},
   "outputs": [
    {
     "data": {
      "text/plain": [
       "array([1.38203374, 0.65171227, 1.18694583, 0.73931798, 0.84739716,\n",
       "       1.54989271, 1.6019736 , 0.93838882, 1.34926172, 0.62290603])"
      ]
     },
     "execution_count": 13,
     "metadata": {},
     "output_type": "execute_result"
    }
   ],
   "source": [
    "regret[:10]"
   ]
  },
  {
   "cell_type": "code",
   "execution_count": 21,
   "metadata": {},
   "outputs": [
    {
     "data": {
      "text/plain": [
       "array([4., 4., 4., 4., 4., 4., 4., 4., 4., 4., 4., 4., 4., 4., 4., 4., 4.,\n",
       "       4., 4., 4., 4., 4., 4., 4., 4., 4., 4., 4., 4., 4., 4., 4., 4., 4.,\n",
       "       4., 4., 4., 4., 4., 4., 4., 4., 4., 4., 4., 4., 4., 4., 4., 4., 4.,\n",
       "       4., 4., 4., 4., 4., 4., 4., 4., 4., 4., 4., 4., 4., 4., 4., 4., 4.,\n",
       "       4., 4., 4., 4., 4., 4., 4., 4., 4., 4., 4., 4., 4., 4., 4., 4., 4.,\n",
       "       4., 4., 4., 4., 4., 4., 4., 4., 4., 4., 4., 4., 4., 4., 4.])"
      ]
     },
     "execution_count": 21,
     "metadata": {},
     "output_type": "execute_result"
    }
   ],
   "source": [
    "collision_count[-100:]"
   ]
  },
  {
   "cell_type": "code",
   "execution_count": 22,
   "metadata": {},
   "outputs": [
    {
     "data": {
      "text/plain": [
       "[4, 0, 1, 5]"
      ]
     },
     "execution_count": 22,
     "metadata": {},
     "output_type": "execute_result"
    }
   ],
   "source": [
    "get_user_locs(Users)"
   ]
  },
  {
   "cell_type": "code",
   "execution_count": 23,
   "metadata": {},
   "outputs": [
    {
     "data": {
      "text/plain": [
       "[4, 4, 1, 1]"
      ]
     },
     "execution_count": 23,
     "metadata": {},
     "output_type": "execute_result"
    }
   ],
   "source": [
    "arms"
   ]
  },
  {
   "cell_type": "code",
   "execution_count": 24,
   "metadata": {},
   "outputs": [
    {
     "data": {
      "text/plain": [
       "([7, 4, 3, 6], 2.0719329849623898)"
      ]
     },
     "execution_count": 24,
     "metadata": {},
     "output_type": "execute_result"
    }
   ],
   "source": [
    "optimal"
   ]
  },
  {
   "cell_type": "code",
   "execution_count": 25,
   "metadata": {},
   "outputs": [
    {
     "data": {
      "text/plain": [
       "8"
      ]
     },
     "execution_count": 25,
     "metadata": {},
     "output_type": "execute_result"
    }
   ],
   "source": [
    "np.argmax(Users[0].ucb_raw)"
   ]
  },
  {
   "cell_type": "code",
   "execution_count": 26,
   "metadata": {},
   "outputs": [
    {
     "data": {
      "text/plain": [
       "array([0., 0., 0., 0., 0., 0., 0., 0., 0.])"
      ]
     },
     "execution_count": 26,
     "metadata": {},
     "output_type": "execute_result"
    }
   ],
   "source": [
    "Users[2].wait_times"
   ]
  },
  {
   "cell_type": "code",
   "execution_count": 27,
   "metadata": {},
   "outputs": [
    {
     "data": {
      "text/plain": [
       "({0: None, 1: 2, 2: None, 3: None, 4: 0, 5: None, 6: None, 7: None, 8: None},\n",
       " {0: None,\n",
       "  1: 2.0485138917033874,\n",
       "  2: None,\n",
       "  3: None,\n",
       "  4: 1.8148919167261204,\n",
       "  5: None,\n",
       "  6: None,\n",
       "  7: None,\n",
       "  8: None},\n",
       " {0: None,\n",
       "  1: 10.0,\n",
       "  2: None,\n",
       "  3: None,\n",
       "  4: 9.0,\n",
       "  5: None,\n",
       "  6: None,\n",
       "  7: None,\n",
       "  8: None},\n",
       " {0: None,\n",
       "  1: array([0.        , 0.64083465]),\n",
       "  2: None,\n",
       "  3: None,\n",
       "  4: array([1.        , 0.64083465]),\n",
       "  5: None,\n",
       "  6: None,\n",
       "  7: None,\n",
       "  8: None},\n",
       " {0: False,\n",
       "  1: True,\n",
       "  2: False,\n",
       "  3: False,\n",
       "  4: True,\n",
       "  5: False,\n",
       "  6: False,\n",
       "  7: False,\n",
       "  8: False})"
      ]
     },
     "execution_count": 27,
     "metadata": {},
     "output_type": "execute_result"
    }
   ],
   "source": [
    "svr_res"
   ]
  },
  {
   "cell_type": "code",
   "execution_count": null,
   "metadata": {},
   "outputs": [],
   "source": []
  }
 ],
 "metadata": {
  "kernelspec": {
   "display_name": "Python 3",
   "language": "python",
   "name": "python3"
  },
  "language_info": {
   "codemirror_mode": {
    "name": "ipython",
    "version": 3
   },
   "file_extension": ".py",
   "mimetype": "text/x-python",
   "name": "python",
   "nbconvert_exporter": "python",
   "pygments_lexer": "ipython3",
   "version": "3.7.3"
  }
 },
 "nbformat": 4,
 "nbformat_minor": 2
}
