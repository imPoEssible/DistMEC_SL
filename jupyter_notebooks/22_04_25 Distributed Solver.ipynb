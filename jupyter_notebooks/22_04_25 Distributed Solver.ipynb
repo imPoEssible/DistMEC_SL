{
 "cells": [
  {
   "cell_type": "code",
   "execution_count": 1,
   "metadata": {},
   "outputs": [
    {
     "name": "stdout",
     "output_type": "stream",
     "text": [
      "/home/ubuntu/DistMEC\n"
     ]
    }
   ],
   "source": [
    "cd /home/ubuntu/DistMEC/"
   ]
  },
  {
   "cell_type": "code",
   "execution_count": 2,
   "metadata": {},
   "outputs": [],
   "source": [
    "import numpy as np\n",
    "import matplotlib.pyplot as plt\n",
    "\n",
    "from classes.User import *\n",
    "from classes.solver import *"
   ]
  },
  {
   "cell_type": "code",
   "execution_count": 3,
   "metadata": {},
   "outputs": [],
   "source": [
    "def gen_eq_locs(space_1d, nums, offset = 0.5):\n",
    "    # Generate well spread out locations in square space\n",
    "    num_across = int(np.floor(np.sqrt(nums)))\n",
    "    locs = []\n",
    "    \n",
    "    inc = space_1d/nums\n",
    "    \n",
    "    for i,j in itertools.product(range(num_across), range(num_across)):\n",
    "        locs += [(i*inc+offset, j*inc+offset)]\n",
    "    \n",
    "    return locs\n",
    "\n",
    "def "
   ]
  },
  {
   "cell_type": "code",
   "execution_count": 4,
   "metadata": {},
   "outputs": [],
   "source": [
    "# System Parameters\n",
    "T = 10000\n",
    "num_users = 10\n",
    "num_svrs = 16\n",
    "num_locs = 16\n",
    "mu = np.random.uniform(low=0, high = 1, size = [num_users, num_svrs])\n",
    "w = np.random.uniform(low=0, high=1, size= [num_users, num_svrs])\n",
    "\n",
    "# Generate visitng locations and server locations\n",
    "space_1d_dim = 16\n",
    "usr_locs = gen_eq_locs(space_1d=space_1d_dim, nums=num_locs)\n",
    "svr_locs = gen_eq_locs(space_1d=space_1d_dim, nums=num_svrs)\n",
    "\n",
    "# Create Users\n",
    "Users = []\n",
    "for i in range(num_users):\n",
    "    Users += [User(usr_locs,svr_locs,w[i])]\n",
    "\n",
    "# Recorded Values\n",
    "rewards_record = np.zeros([num_users,num_svrs])\n",
    "pulls_record = np.zeros([num_users,num_svrs])\n",
    "ucb = np.zeros([num_users,num_svrs])\n",
    "regret = np.zeros(T)"
   ]
  },
  {
   "cell_type": "code",
   "execution_count": null,
   "metadata": {},
   "outputs": [],
   "source": [
    "# Initial Stages -- TS = servers, rotating \n",
    "arms = list(range(num_users)) \n",
    "# w = np.random.uniform(low=0, high=1, size= [num_users, num_svrs])\n",
    "# optimal = offline_optimal_action(w, mu)\n",
    "\n",
    "for i in range(num_svrs):\n",
    "    w = np.random.uniform(low=0, high=1, size= [num_users, num_svrs])\n",
    "    optimal = offline_optimal_action(w, mu)\n",
    "    rewards_record, pulls_record = pull_super_arm(arms, mu, rewards_record, pulls_record)\n",
    "    regret[i] = optimal[1] - expected_reward(arms, mu, w)\n",
    "    arms = sweep_init_next(arms, num_svrs)\n",
    "    \n",
    "for t in range(i+1, T):\n",
    "    w = np.random.uniform(low=0, high=1, size= [num_users, num_svrs])\n",
    "    optimal = offline_optimal_action(w, mu)\n",
    "    ucb = update_ucb(rewards_record, pulls_record, ucb, i, 1)\n",
    "    arms = offline_optimal_action(w, ucb)[0]\n",
    "    rewards_record, pulls_record = pull_super_arm(arms, mu, rewards_record, pulls_record)\n",
    "    regret[t] = optimal[1] - expected_reward(arms, mu, w)"
   ]
  }
 ],
 "metadata": {
  "kernelspec": {
   "display_name": "Python 3",
   "language": "python",
   "name": "python3"
  },
  "language_info": {
   "codemirror_mode": {
    "name": "ipython",
    "version": 3
   },
   "file_extension": ".py",
   "mimetype": "text/x-python",
   "name": "python",
   "nbconvert_exporter": "python",
   "pygments_lexer": "ipython3",
   "version": "3.7.3"
  }
 },
 "nbformat": 4,
 "nbformat_minor": 2
}
