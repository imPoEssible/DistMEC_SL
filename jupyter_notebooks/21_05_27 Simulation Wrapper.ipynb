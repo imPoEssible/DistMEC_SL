{
 "cells": [
  {
   "cell_type": "markdown",
   "id": "370ddc03",
   "metadata": {},
   "source": [
    "# Simulation Wrapper\n",
    "\n",
    "5/27/21\n",
    "\n",
    "#### Summary:\n",
    "Run a crude version of system realization and latency measurements given the offloading decisions are identical for user to assumptions in container dispatchment.\n",
    "- Initialize the system (servers, users, containers)\n",
    "- Deploy the containers for one cycle\n",
    "- Offload user jobs and record lateny throughout the system \n",
    "- Move the users based on their markovian mobility\n",
    "- Reassign containers and repeat"
   ]
  },
  {
   "cell_type": "code",
   "execution_count": 1,
   "id": "79ca957a",
   "metadata": {},
   "outputs": [
    {
     "name": "stdout",
     "output_type": "stream",
     "text": [
      "/home/tkim/Academics/DistMEC\n"
     ]
    }
   ],
   "source": [
    "cd /home/tkim/Academics/DistMEC"
   ]
  },
  {
   "cell_type": "markdown",
   "id": "deb8480f",
   "metadata": {},
   "source": [
    "### Import Relevant Libraries and Dependencies"
   ]
  },
  {
   "cell_type": "code",
   "execution_count": 36,
   "id": "e988492d",
   "metadata": {},
   "outputs": [],
   "source": [
    "import numpy as np\n",
    "import math\n",
    "import copy\n",
    "\n",
    "from classes.Application import *\n",
    "from classes.User import *\n",
    "from classes.Server import *\n",
    "from solver.Sim_Params import *\n",
    "from classes.Central_Controller import *\n",
    "from classes.Container import *"
   ]
  },
  {
   "cell_type": "markdown",
   "id": "cdb68083",
   "metadata": {},
   "source": [
    "### Build Wrapper Class\n",
    "\n",
    "The wrapper class should propagate between small and big timesteps.\n",
    "\n",
    "Functions should take charge of each step of the cycle"
   ]
  },
  {
   "cell_type": "code",
   "execution_count": 37,
   "id": "654046a3",
   "metadata": {},
   "outputs": [],
   "source": [
    "class Sim_Params:\n",
    "    \"\"\"\n",
    "    Simulation params hold information about system setting for simulation\n",
    "    - timestep - 5 min per timestep\n",
    "    - length - 1 mile per unit length\n",
    "    \"\"\"\n",
    "    \n",
    "    def __init__(self, big_ts, small_ts, x_length, y_length, num_users, num_servers, num_apps):\n",
    "        \n",
    "        self.big_ts = big_ts\n",
    "        self.small_ts = small_ts\n",
    "        self.x_length = x_length\n",
    "        self.y_length = y_length\n",
    "        self.num_users = num_users\n",
    "        self.num_servers = num_servers\n",
    "        self.num_apps = num_apps\n",
    "        \n",
    "        # Non-specified instances\n",
    "        self.low_mean_jobs = 5\n",
    "        self.high_mean_jobs = 15\n",
    "        self.server_weak_range = np.array([[1,4]])\n",
    "        self.server_strong_range = np.array([[1,4]])\n",
    "        self.user_max_speed = 2.5\n",
    "        self.user_lamdas = [1/0.25,1/0.83,1/1.67] # 3 mph, 10 mph, 20 mph\n",
    "        self.user_num_path = 10\n",
    "        self.container_service_low = 20\n",
    "        self.container_service_high = 30\n",
    "        self.deploy_rounds = 5"
   ]
  },
  {
   "cell_type": "code",
   "execution_count": 38,
   "id": "922c905c",
   "metadata": {},
   "outputs": [],
   "source": [
    "def setup_sim(sim_param):\n",
    "    \n",
    "    # Create Job Profiles\n",
    "    num_app_types = sim_param.num_apps\n",
    "    low_mean = sim_param.low_mean_jobs\n",
    "    high_mean = sim_param.high_mean_jobs\n",
    "    job_profiles = []\n",
    "\n",
    "    for i in range(num_app_types):\n",
    "        job_profiles += [Job_Profile(job_name = str(i),\n",
    "                                     latency_req = 3,\n",
    "                                     offload_mean = np.random.uniform(low_mean,high_mean))]\n",
    "\n",
    "\n",
    "    # System physical Boundaries - All action takes within this\n",
    "    boundaries = np.array([[0,sim_param.x_length],[0,sim_param.y_length]])\n",
    "\n",
    "\n",
    "    # Generate Servers\n",
    "    num_resource = 1\n",
    "    weak_range = sim_param.server_weak_range\n",
    "    strong_range = sim_param.server_strong_range\n",
    "\n",
    "    # Generate Server\n",
    "    servers = []\n",
    "    idx_counter = 0\n",
    "\n",
    "    for i in range(sim_param.num_servers):\n",
    "        servers.append(Server(boundaries,level=2,rand_locs=True,locs=None))\n",
    "        servers[-1].server_resources(num_resource, weak_range, strong_range)\n",
    "        servers[-1].assign_id(idx_counter)\n",
    "        idx_counter += 1\n",
    "\n",
    "\n",
    "    # Generate Users\n",
    "    users= []\n",
    "    idx_counter = 0\n",
    "\n",
    "\n",
    "    for i in range(sim_param.num_users):\n",
    "        users += [User(boundaries, sim_param.big_ts, 2, sim_param.user_lamdas, sim_param.user_max_speed)]\n",
    "        users[-1].generate_MC(servers)\n",
    "        users[-1].assign_id(idx_counter)\n",
    "        idx_counter += 1\n",
    "\n",
    "\n",
    "    # Generate Apps\n",
    "    num_apps = len(users)\n",
    "    app_id = np.random.choice(num_app_types,num_apps)\n",
    "    apps = []\n",
    "\n",
    "    for i in range(len(app_id)):\n",
    "        apps += [Application(job_type=app_id[i], user_id=i, \n",
    "                             time_steps=sim_param.big_ts, job_profiles=job_profiles)]\n",
    "        \n",
    "    # Generate Containers - in dictionary indexed by {(server,app)}\n",
    "    containers = {}\n",
    "    \n",
    "    for s in range(len(servers)):\n",
    "        for a in range(num_app_types):\n",
    "            service_rate = np.random.uniform(sim_param.container_service_low, sim_param.container_service_high)\n",
    "            latency_restriction = job_profiles[a].latency_req\n",
    "            containers[(s,a)] = Container(a, s, service_rate, latency_restriction)\n",
    "\n",
    "    return servers, users, containers, apps"
   ]
  },
  {
   "cell_type": "markdown",
   "id": "74cbc03e",
   "metadata": {},
   "source": [
    "### Run the system\n",
    "\n",
    "First set up simulation parameters and generate players (servers, users, containers, apps)"
   ]
  },
  {
   "cell_type": "code",
   "execution_count": 39,
   "id": "9956970e",
   "metadata": {},
   "outputs": [],
   "source": [
    "sim_param = Sim_Params(big_ts=5, small_ts=5, x_length=5, y_length=5, num_users=20, num_servers=5, num_apps=6)\n",
    "servers, users, containers, apps = setup_sim(sim_param)"
   ]
  },
  {
   "cell_type": "markdown",
   "id": "ad5eef1d",
   "metadata": {},
   "source": [
    "Initially run the scenario of job arrivals and process during small TS."
   ]
  },
  {
   "cell_type": "code",
   "execution_count": 49,
   "id": "ae633be7",
   "metadata": {},
   "outputs": [],
   "source": [
    "# Loop through big time step\n",
    "bt = 0\n",
    "\n",
    "# Update user location for big timestep\n",
    "\n",
    "# Deploy the containers to the servers\n",
    "cc = Central_Controller(servers, containers, sim_param, apps, users)\n",
    "cc.VM_placement(users,apps,sim_param.deploy_rounds)\n",
    "\n",
    "# For each small time step offload and serve at container\n",
    "for st in range(sim_param.small_ts):\n",
    "    # random order between users when offloading for each app\n",
    "    usr_order = np.arange(len(users))\n",
    "    np.random.shuffle(usr_order)\n",
    "    \n",
    "    temp_containers = {}\n",
    "    queue_replies = {}\n",
    "    \n",
    "    # Make offloading decision\n",
    "    for u in usr_order:\n",
    "        # Generate load\n",
    "        apps[u].new_load(ts_big=bt,ts_small=st)\n",
    "        # Decide to offload given servers --> add offload policy to app class\n",
    "        offload_u = apps[u].offload_uniform(cc.container_deployed, bt, st)\n",
    "        for (s,a) in offload_u.keys():\n",
    "            if (s,a) not in temp_containers:\n",
    "                temp_containers[(s,a)] = np.empty([0,4])\n",
    "            temp_containers[(s,a)] = np.append(temp_containers[(s,a)],offload_u[(s,a)],axis=0)\n",
    "    \n",
    "    # Scramble arrived job and add to queue\n",
    "    for (s,a) in temp_containers.keys():\n",
    "        sa_offload = temp_containers[(s,a)]\n",
    "        np.random.shuffle(sa_offload) \n",
    "        replies = containers[(s,a)].add_to_queue(sa_offload)\n",
    "        queue_replies[(s,a)] = replies\n",
    "        \n",
    "        \n"
   ]
  },
  {
   "cell_type": "code",
   "execution_count": 50,
   "id": "4a2185af",
   "metadata": {},
   "outputs": [
    {
     "data": {
      "text/plain": [
       "{(0, 0): array([0., 0., 0., 0., 1.]),\n",
       " (0, 1): array([ 0.,  0.,  0.,  0., 15.]),\n",
       " (0, 2): array([0., 0., 0., 0., 2.]),\n",
       " (0, 3): array([0., 0., 0., 0., 7.]),\n",
       " (0, 4): array([0., 0., 0., 0., 2.])}"
      ]
     },
     "execution_count": 50,
     "metadata": {},
     "output_type": "execute_result"
    }
   ],
   "source": [
    "apps[0].offload_history"
   ]
  },
  {
   "cell_type": "code",
   "execution_count": 51,
   "id": "908bf08b",
   "metadata": {},
   "outputs": [
    {
     "data": {
      "text/plain": [
       "dict_keys([(0, 4), (1, 4), (3, 4), (4, 4)])"
      ]
     },
     "execution_count": 51,
     "metadata": {},
     "output_type": "execute_result"
    }
   ],
   "source": [
    "offload_u.keys()"
   ]
  },
  {
   "cell_type": "code",
   "execution_count": 52,
   "id": "fead3050",
   "metadata": {},
   "outputs": [
    {
     "data": {
      "text/plain": [
       "array([[18.,  0.,  1.,  1.],\n",
       "       [12.,  0.,  1.,  1.],\n",
       "       [12.,  1.,  1.,  1.],\n",
       "       [12.,  2.,  3.,  3.],\n",
       "       [18.,  3.,  2.,  2.],\n",
       "       [18.,  4.,  1.,  1.],\n",
       "       [12.,  0.,  1.,  1.],\n",
       "       [18.,  2.,  2.,  2.],\n",
       "       [12.,  3.,  1.,  1.],\n",
       "       [12.,  4.,  1.,  1.],\n",
       "       [18.,  4.,  2.,  2.]])"
      ]
     },
     "execution_count": 52,
     "metadata": {},
     "output_type": "execute_result"
    }
   ],
   "source": [
    "containers[(s,a)].queue"
   ]
  },
  {
   "cell_type": "code",
   "execution_count": 53,
   "id": "22480719",
   "metadata": {},
   "outputs": [
    {
     "data": {
      "text/plain": [
       "{(1,\n",
       "  0): array([[ 1.        , 15.34622684],\n",
       "        [ 4.        , 15.69108587],\n",
       "        [11.        , 15.77730063],\n",
       "        [10.        , 15.99283753],\n",
       "        [ 7.        , 16.38080393]]),\n",
       " (0,\n",
       "  1): array([[14.        ,  1.77789353],\n",
       "        [ 2.        ,  2.01814941],\n",
       "        [ 6.        ,  2.25840529],\n",
       "        [17.        ,  2.45061   ]]),\n",
       " (1,\n",
       "  1): array([[ 6.        , 17.44091952],\n",
       "        [17.        , 17.5789743 ],\n",
       "        [14.        , 17.80906558],\n",
       "        [ 2.        , 18.08517513]]),\n",
       " (2,\n",
       "  1): array([[ 2.        ,  1.5096534 ],\n",
       "        [ 6.        ,  1.69375748],\n",
       "        [17.        ,  1.80421992],\n",
       "        [14.        ,  1.98832399]]),\n",
       " (3,\n",
       "  1): array([[14.        ,  1.24757079],\n",
       "        [17.        ,  1.34872518],\n",
       "        [ 2.        ,  1.51731583],\n",
       "        [ 6.        ,  1.68590648]]),\n",
       " (4,\n",
       "  1): array([[ 6.        ,  1.62870218],\n",
       "        [17.        ,  1.76075911],\n",
       "        [14.        ,  2.02487298],\n",
       "        [ 2.        ,  2.24496787]]),\n",
       " (4,\n",
       "  3): array([[ 9.        , 11.85366564],\n",
       "        [ 0.        , 11.94346613],\n",
       "        [ 5.        , 12.30266812]]),\n",
       " (0,\n",
       "  5): array([[13.        ,  1.6675719 ],\n",
       "        [16.        ,  1.70231298]]),\n",
       " (1,\n",
       "  5): array([[16.        ,  1.86080516],\n",
       "        [13.        ,  2.03390332]]),\n",
       " (2,\n",
       "  5): array([[13.        ,  1.96588857],\n",
       "        [16.        ,  2.0495434 ]]),\n",
       " (3,\n",
       "  5): array([[16.        ,  1.96678232],\n",
       "        [13.        ,  2.1124699 ]]),\n",
       " (4,\n",
       "  5): array([[13.        ,  2.1899468 ],\n",
       "        [16.        ,  2.23557069]]),\n",
       " (0,\n",
       "  2): array([[19.        , 14.95490136],\n",
       "        [ 3.        , 15.17866547],\n",
       "        [15.        , 15.51431164],\n",
       "        [ 8.        , 15.62619369]]),\n",
       " (0,\n",
       "  4): array([[18.        ,  0.50096755],\n",
       "        [12.        ,  0.60831774]]),\n",
       " (1,\n",
       "  4): array([[12.        ,  0.97040119],\n",
       "        [18.        ,  1.05861948]]),\n",
       " (3,\n",
       "  4): array([[12.        ,  0.65487747],\n",
       "        [18.        ,  0.69125955]]),\n",
       " (4,\n",
       "  4): array([[12.        ,  0.52541754],\n",
       "        [18.        ,  0.60047719]])}"
      ]
     },
     "execution_count": 53,
     "metadata": {},
     "output_type": "execute_result"
    }
   ],
   "source": [
    "queue_replies"
   ]
  },
  {
   "cell_type": "code",
   "execution_count": 54,
   "id": "8137f4ec",
   "metadata": {},
   "outputs": [
    {
     "data": {
      "text/plain": [
       "array([[12.        ,  0.52541754],\n",
       "       [18.        ,  0.60047719]])"
      ]
     },
     "execution_count": 54,
     "metadata": {},
     "output_type": "execute_result"
    }
   ],
   "source": [
    "replies"
   ]
  },
  {
   "cell_type": "code",
   "execution_count": null,
   "id": "9950b3da",
   "metadata": {},
   "outputs": [],
   "source": []
  }
 ],
 "metadata": {
  "kernelspec": {
   "display_name": "Python 3",
   "language": "python",
   "name": "python3"
  },
  "language_info": {
   "codemirror_mode": {
    "name": "ipython",
    "version": 3
   },
   "file_extension": ".py",
   "mimetype": "text/x-python",
   "name": "python",
   "nbconvert_exporter": "python",
   "pygments_lexer": "ipython3",
   "version": "3.8.8"
  }
 },
 "nbformat": 4,
 "nbformat_minor": 5
}
