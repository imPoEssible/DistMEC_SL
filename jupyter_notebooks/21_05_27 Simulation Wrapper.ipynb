{
 "cells": [
  {
   "cell_type": "markdown",
   "id": "d0e7b1fb",
   "metadata": {},
   "source": [
    "# Simulation Wrapper\n",
    "\n",
    "5/27/21\n",
    "\n",
    "#### Summary:\n",
    "Run a crude version of system realization and latency measurements given the offloading decisions are identical for user to assumptions in container dispatchment.\n",
    "- Initialize the system (servers, users, containers)\n",
    "- Deploy the containers for one cycle\n",
    "- Offload user jobs and record lateny throughout the system \n",
    "- Move the users based on their markovian mobility\n",
    "- Reassign containers and repeat"
   ]
  },
  {
   "cell_type": "code",
   "execution_count": 1,
   "id": "e86f4cf8",
   "metadata": {},
   "outputs": [
    {
     "name": "stdout",
     "output_type": "stream",
     "text": [
      "/home/tkim/Academics/DistMEC\n"
     ]
    }
   ],
   "source": [
    "cd /home/tkim/Academics/DistMEC"
   ]
  },
  {
   "cell_type": "markdown",
   "id": "9b8fc83a",
   "metadata": {},
   "source": [
    "### Import Relevant Libraries and Dependencies"
   ]
  },
  {
   "cell_type": "code",
   "execution_count": 2,
   "id": "ff84667a",
   "metadata": {},
   "outputs": [],
   "source": [
    "import numpy as np\n",
    "import math\n",
    "import copy\n",
    "\n",
    "from classes.Application import *\n",
    "from classes.User import *\n",
    "from classes.Server import *\n",
    "from solver.Sim_Params import *\n",
    "from classes.Central_Controller import *\n",
    "from classes.Container import *"
   ]
  },
  {
   "cell_type": "markdown",
   "id": "bb31f9f4",
   "metadata": {},
   "source": [
    "### Build Wrapper Class\n",
    "\n",
    "The wrapper class should propagate between small and big timesteps.\n",
    "\n",
    "Functions should take charge of each step of the cycle"
   ]
  },
  {
   "cell_type": "code",
   "execution_count": 13,
   "id": "1afd4db0",
   "metadata": {},
   "outputs": [],
   "source": [
    "class Sim_Params:\n",
    "    \"\"\"\n",
    "    Simulation params hold information about system setting for simulation\n",
    "    - timestep - 5 min per timestep\n",
    "    - length - 1 mile per unit length\n",
    "    \"\"\"\n",
    "    \n",
    "    def __init__(self, big_ts, small_ts, x_length, y_length, num_users, num_servers, num_apps):\n",
    "        \n",
    "        self.big_ts = big_ts\n",
    "        self.small_ts = small_ts\n",
    "        self.x_length = x_length\n",
    "        self.y_length = y_length\n",
    "        self.num_users = num_users\n",
    "        self.num_servers = num_servers\n",
    "        self.num_apps = num_apps\n",
    "        \n",
    "        # Non-specified instances\n",
    "        self.low_mean_jobs = 5\n",
    "        self.high_mean_jobs = 15\n",
    "        self.server_weak_range = np.array([[2,2]])\n",
    "        self.server_strong_range = np.array([[2,2]])\n",
    "        self.user_max_speed = 2.5\n",
    "        self.user_lamdas = [1/0.7,1/2,1/0.7] # 3 mph, 10 mph, 20 mph\n",
    "        self.user_num_path = 10\n",
    "        self.container_service_low = 20\n",
    "        self.container_service_high = 30\n",
    "        self.deploy_rounds = 5"
   ]
  },
  {
   "cell_type": "code",
   "execution_count": 14,
   "id": "1045bd38",
   "metadata": {},
   "outputs": [],
   "source": [
    "def setup_sim(sim_param):\n",
    "    \n",
    "    # Create Job Profiles\n",
    "    num_app_types = sim_param.num_apps\n",
    "    low_mean = sim_param.low_mean_jobs\n",
    "    high_mean = sim_param.high_mean_jobs\n",
    "    job_profiles = []\n",
    "\n",
    "    for i in range(num_app_types):\n",
    "        job_profiles += [Job_Profile(job_name = str(i),\n",
    "                                     latency_req = 3,\n",
    "                                     offload_mean = np.random.uniform(low_mean,high_mean))]\n",
    "\n",
    "\n",
    "    # System physical Boundaries - All action takes within this\n",
    "    boundaries = np.array([[0,sim_param.x_length],[0,sim_param.y_length]])\n",
    "\n",
    "\n",
    "    # Generate Servers\n",
    "    num_resource = 1\n",
    "    weak_range = sim_param.server_weak_range\n",
    "    strong_range = sim_param.server_strong_range\n",
    "\n",
    "    # Generate Server\n",
    "    servers = []\n",
    "    idx_counter = 0\n",
    "\n",
    "    for i in range(sim_param.num_servers):\n",
    "        servers.append(Server(boundaries,level=2,rand_locs=True,locs=None))\n",
    "        servers[-1].server_resources(num_resource, weak_range, strong_range)\n",
    "        servers[-1].assign_id(idx_counter)\n",
    "        idx_counter += 1\n",
    "\n",
    "\n",
    "    # Generate Users\n",
    "    users= []\n",
    "    idx_counter = 0\n",
    "\n",
    "\n",
    "    for i in range(sim_param.num_users):\n",
    "        users += [User(boundaries, sim_param.big_ts, 2, sim_param.user_lamdas, sim_param.user_max_speed)]\n",
    "        users[-1].generate_MC(servers)\n",
    "        users[-1].assign_id(idx_counter)\n",
    "        idx_counter += 1\n",
    "\n",
    "\n",
    "    # Generate Apps\n",
    "    num_apps = len(users)\n",
    "    app_id = np.random.choice(num_app_types,num_apps)\n",
    "    apps = []\n",
    "\n",
    "    for i in range(len(app_id)):\n",
    "        apps += [Application(job_type=app_id[i], user_id=i, \n",
    "                             time_steps=sim_param.big_ts, job_profiles=job_profiles)]\n",
    "        \n",
    "    # Generate Containers - in dictionary indexed by {(server,app)}\n",
    "    containers = {}\n",
    "    \n",
    "    for s in range(len(servers)):\n",
    "        for a in range(num_app_types):\n",
    "            service_rate = np.random.uniform(sim_param.container_service_low, sim_param.container_service_high)\n",
    "            latency_restriction = job_profiles[a].latency_req\n",
    "            containers[(s,a)] = Container(a, s, service_rate, latency_restriction)\n",
    "\n",
    "    return servers, users, containers, apps"
   ]
  },
  {
   "cell_type": "markdown",
   "id": "6dfea476",
   "metadata": {},
   "source": [
    "### Run the system\n",
    "\n",
    "First set up simulation parameters and generate players (servers, users, containers, apps)"
   ]
  },
  {
   "cell_type": "code",
   "execution_count": 15,
   "id": "da70ff82",
   "metadata": {},
   "outputs": [],
   "source": [
    "sim_param = Sim_Params(big_ts=5, small_ts=5, x_length=5, y_length=5, num_users=15, num_servers=7, num_apps=3)\n",
    "servers, users, containers, apps = setup_sim(sim_param)"
   ]
  },
  {
   "cell_type": "markdown",
   "id": "87acf428",
   "metadata": {},
   "source": [
    "Initially run the scenario of job arrivals and process during small TS."
   ]
  },
  {
   "cell_type": "code",
   "execution_count": 19,
   "id": "a5dd6314",
   "metadata": {},
   "outputs": [],
   "source": [
    "# Loop through big time step\n",
    "cc = Central_Controller(servers, containers, sim_param, apps, users)\n",
    "cc.mode = \"dist\"\n",
    "cc_deployment_history = {}\n",
    "\n",
    "for bt in range(sim_param.big_ts):\n",
    "\n",
    "    # Deploy the containers to the servers\n",
    "    cc.big_ts = bt\n",
    "    cc.VM_placement(users,apps,sim_param.deploy_rounds)\n",
    "    cc_deployment_history[bt] = cc.container_deployed\n",
    "\n",
    "    # For each small time step offload and serve at container\n",
    "    for st in range(sim_param.small_ts):\n",
    "        # random order between users when offloading for each app\n",
    "        cc.small_ts = st\n",
    "        usr_order = np.arange(len(users))\n",
    "        np.random.shuffle(usr_order)\n",
    "\n",
    "        temp_containers = {}\n",
    "        queue_replies = {}\n",
    "\n",
    "        # Make offloading decision\n",
    "        for u in usr_order:\n",
    "            # Generate load\n",
    "            apps[u].new_load(ts_big=bt,ts_small=st)\n",
    "            # Decide to offload given servers --> add offload policy to app class\n",
    "            offload_u = apps[u].offload_uniform(cc.container_deployed, bt, st)\n",
    "            for (s,a) in offload_u.keys():\n",
    "                if (s,a) not in temp_containers:\n",
    "                    temp_containers[(s,a)] = np.empty([0,4])\n",
    "                temp_containers[(s,a)] = np.append(temp_containers[(s,a)],offload_u[(s,a)],axis=0)\n",
    "\n",
    "        # Scramble arrived job and add to queue, apps record latency\n",
    "        for (s,a) in temp_containers.keys():\n",
    "            sa_offload = temp_containers[(s,a)]\n",
    "            np.random.shuffle(sa_offload) \n",
    "            replies = containers[(s,a)].add_to_queue(sa_offload)\n",
    "            # print(containers[(s,a)].queue)\n",
    "            queue_replies[(s,a)] = replies\n",
    "\n",
    "            for i in range(replies.shape[0]):\n",
    "                a_id, reply_len = int(replies[i,0]), replies[i,1]\n",
    "                apps[a_id].record_queue_length(reply_len, s, bt, st)\n",
    "\n",
    "            # Service the queue\n",
    "            containers[(s,a)].serve_ts()"
   ]
  },
  {
   "cell_type": "code",
   "execution_count": 25,
   "id": "313ae777",
   "metadata": {},
   "outputs": [
    {
     "data": {
      "text/plain": [
       "{0: array([[0.        , 0.        , 0.15687427],\n",
       "        [0.        , 1.        , 0.98046419],\n",
       "        [0.        , 2.        , 0.84327268],\n",
       "        [0.        , 3.        , 1.8826382 ],\n",
       "        [0.        , 4.        , 1.98075809],\n",
       "        [3.        , 0.        , 2.3141894 ],\n",
       "        [3.        , 1.        , 1.86324934],\n",
       "        [3.        , 2.        , 3.96151619],\n",
       "        [3.        , 3.        , 5.23619311],\n",
       "        [3.        , 4.        , 5.56962442],\n",
       "        [4.        , 0.        , 4.80493582],\n",
       "        [4.        , 1.        , 4.23634007],\n",
       "        [4.        , 2.        , 5.55023556],\n",
       "        [4.        , 3.        , 5.72679259],\n",
       "        [4.        , 4.        , 5.00132256],\n",
       "        [1.        , 0.        , 5.09944246],\n",
       "        [1.        , 2.        , 4.35443662],\n",
       "        [1.        , 3.        , 3.58974803],\n",
       "        [1.        , 4.        , 3.02115227],\n",
       "        [2.        , 0.        , 2.17802654],\n",
       "        [2.        , 1.        , 1.33490082],\n",
       "        [2.        , 3.        , 0.1176557 ],\n",
       "        [2.        , 4.        , 0.07843714],\n",
       "        [3.        , 0.        , 0.23531141],\n",
       "        [3.        , 1.        , 0.19609284],\n",
       "        [3.        , 2.        , 0.07843714],\n",
       "        [3.        , 4.        , 0.03921857],\n",
       "        [4.        , 0.        , 0.54905995],\n",
       "        [4.        , 2.        , 0.03921857],\n",
       "        [4.        , 3.        , 0.43140424]]),\n",
       " 2: array([[1.        , 0.        , 1.18536489],\n",
       "        [1.        , 1.        , 1.19512016],\n",
       "        [1.        , 2.        , 2.65365474],\n",
       "        [1.        , 3.        , 2.75121482],\n",
       "        [1.        , 4.        , 2.23414125],\n",
       "        [2.        , 0.        , 4.30730948],\n",
       "        [2.        , 1.        , 3.96584553],\n",
       "        [2.        , 2.        , 4.50242964],\n",
       "        [2.        , 3.        , 5.17072096],\n",
       "        [2.        , 4.        , 5.04876902]]),\n",
       " 6: array([[0.        , 0.        , 0.79062792],\n",
       "        [0.        , 2.        , 0.5435567 ],\n",
       "        [0.        , 3.        , 1.22364104],\n",
       "        [0.        , 4.        , 1.26134019],\n",
       "        [1.        , 0.        , 0.55782566],\n",
       "        [1.        , 1.        , 0.34589972],\n",
       "        [1.        , 2.        , 0.5435567 ],\n",
       "        [1.        , 3.        , 0.24707123],\n",
       "        [2.        , 0.        , 0.14824274],\n",
       "        [2.        , 1.        , 0.09882849],\n",
       "        [2.        , 2.        , 0.44472821],\n",
       "        [2.        , 3.        , 0.04941425],\n",
       "        [2.        , 4.        , 0.34589972],\n",
       "        [3.        , 0.        , 0.14824274],\n",
       "        [3.        , 4.        , 0.34589972],\n",
       "        [4.        , 0.        , 0.34589972],\n",
       "        [4.        , 2.        , 0.5435567 ],\n",
       "        [4.        , 3.        , 0.49414245],\n",
       "        [4.        , 4.        , 0.39531396]]),\n",
       " 4: array([[0.        , 0.        , 0.359693  ],\n",
       "        [0.        , 1.        , 0.03996589],\n",
       "        [0.        , 2.        , 0.39965889],\n",
       "        [0.        , 3.        , 0.55866968],\n",
       "        [0.        , 4.        , 0.23979533],\n",
       "        [3.        , 3.        , 0.11989767],\n",
       "        [3.        , 4.        , 0.15986356]]),\n",
       " 1: array([[1.        , 0.        , 0.6499821 ],\n",
       "        [1.        , 2.        , 0.04999862],\n",
       "        [1.        , 3.        , 0.14999587],\n",
       "        [1.        , 4.        , 0.04999862],\n",
       "        [2.        , 0.        , 0.19999449],\n",
       "        [2.        , 1.        , 0.09999725],\n",
       "        [2.        , 3.        , 0.04999862],\n",
       "        [2.        , 4.        , 0.09999725],\n",
       "        [3.        , 0.        , 0.44998761],\n",
       "        [3.        , 3.        , 0.24999311],\n",
       "        [3.        , 4.        , 0.29999174],\n",
       "        [4.        , 0.        , 0.34999036],\n",
       "        [4.        , 2.        , 0.44998761],\n",
       "        [4.        , 3.        , 0.59998347]]),\n",
       " 3: array([[1.        , 0.        , 0.43566621],\n",
       "        [1.        , 1.        , 0.03960602],\n",
       "        [1.        , 2.        , 0.03960602],\n",
       "        [1.        , 3.        , 0.23763612],\n",
       "        [1.        , 4.        , 0.07921204],\n",
       "        [2.        , 0.        , 0.1980301 ],\n",
       "        [2.        , 1.        , 0.11881806],\n",
       "        [2.        , 3.        , 0.11881806],\n",
       "        [2.        , 4.        , 0.35645417]]),\n",
       " 5: array([[1.        , 0.        , 0.50761725],\n",
       "        [1.        , 1.        , 0.04614702],\n",
       "        [1.        , 2.        , 0.27688214],\n",
       "        [1.        , 3.        , 0.41532321],\n",
       "        [1.        , 4.        , 0.18458809],\n",
       "        [2.        , 0.        , 0.13844107],\n",
       "        [2.        , 1.        , 0.23073511],\n",
       "        [2.        , 3.        , 0.41532321],\n",
       "        [2.        , 4.        , 0.41532321],\n",
       "        [3.        , 2.        , 0.32302916],\n",
       "        [3.        , 3.        , 0.13844107],\n",
       "        [3.        , 4.        , 0.18458809],\n",
       "        [4.        , 0.        , 0.92294046],\n",
       "        [4.        , 1.        , 0.19982259],\n",
       "        [4.        , 3.        , 0.09229405],\n",
       "        [4.        , 4.        , 0.32302916]])}"
      ]
     },
     "execution_count": 25,
     "metadata": {},
     "output_type": "execute_result"
    }
   ],
   "source": [
    "apps[0].queue_length"
   ]
  },
  {
   "cell_type": "code",
   "execution_count": 22,
   "id": "6eb4bb52",
   "metadata": {},
   "outputs": [
    {
     "data": {
      "text/plain": [
       "array([[1., 1., 1., 1., 1., 1., 1.],\n",
       "       [1., 1., 0., 1., 0., 1., 1.],\n",
       "       [0., 0., 1., 0., 1., 0., 0.]])"
      ]
     },
     "execution_count": 22,
     "metadata": {},
     "output_type": "execute_result"
    }
   ],
   "source": [
    "cc_deployment_history[1]"
   ]
  },
  {
   "cell_type": "code",
   "execution_count": 21,
   "id": "15f95e9c",
   "metadata": {},
   "outputs": [
    {
     "data": {
      "text/plain": [
       "array([[0., 0., 1., 1., 1., 0., 1.],\n",
       "       [1., 1., 0., 0., 0., 1., 1.],\n",
       "       [1., 1., 1., 1., 1., 1., 0.]])"
      ]
     },
     "execution_count": 21,
     "metadata": {},
     "output_type": "execute_result"
    }
   ],
   "source": [
    "cc_deployment_history[4]"
   ]
  },
  {
   "cell_type": "code",
   "execution_count": 26,
   "id": "d298dc8e",
   "metadata": {},
   "outputs": [
    {
     "data": {
      "text/plain": [
       "{(0, 0): array([0., 0., 0., 0., 1., 0., 1.]),\n",
       " (0, 1): array([0., 0., 0., 0., 1., 0., 0.]),\n",
       " (0, 2): array([ 0.,  0.,  0.,  0., 10.,  0., 11.]),\n",
       " (0, 3): array([0., 0., 0., 0., 4., 0., 4.]),\n",
       " (0, 4): array([0., 0., 0., 0., 4., 0., 4.]),\n",
       " (1, 0): array([1., 1., 0., 1., 0., 2., 1.]),\n",
       " (1, 1): array([0., 0., 0., 1., 0., 1., 1.]),\n",
       " (1, 2): array([1., 1., 0., 1., 0., 1., 1.]),\n",
       " (1, 3): array([4., 3., 0., 5., 0., 3., 3.]),\n",
       " (1, 4): array([1., 1., 0., 1., 0., 1., 0.]),\n",
       " (2, 0): array([3., 3., 0., 3., 0., 3., 3.]),\n",
       " (2, 1): array([1., 2., 0., 2., 0., 1., 1.]),\n",
       " (2, 2): array([0., 0., 0., 0., 0., 0., 1.]),\n",
       " (2, 3): array([1., 1., 0., 1., 0., 1., 1.]),\n",
       " (2, 4): array([2., 2., 0., 2., 0., 2., 3.]),\n",
       " (3, 0): array([1., 2., 0., 0., 0., 0., 1.]),\n",
       " (3, 1): array([3., 0., 0., 0., 0., 0., 0.]),\n",
       " (3, 2): array([1., 0., 0., 0., 0., 1., 0.]),\n",
       " (3, 3): array([0., 1., 0., 0., 2., 1., 0.]),\n",
       " (3, 4): array([1., 1., 0., 0., 1., 1., 3.]),\n",
       " (4, 0): array([7., 7., 0., 0., 0., 7., 7.]),\n",
       " (4, 1): array([0., 0., 0., 0., 0., 1., 0.]),\n",
       " (4, 2): array([1., 1., 0., 0., 0., 0., 1.]),\n",
       " (4, 3): array([1., 2., 0., 0., 0., 2., 2.]),\n",
       " (4, 4): array([0., 0., 0., 0., 0., 1., 1.])}"
      ]
     },
     "execution_count": 26,
     "metadata": {},
     "output_type": "execute_result"
    }
   ],
   "source": [
    "apps[0].offload_history"
   ]
  },
  {
   "cell_type": "code",
   "execution_count": null,
   "id": "c4ab0163",
   "metadata": {},
   "outputs": [],
   "source": []
  }
 ],
 "metadata": {
  "kernelspec": {
   "display_name": "Python 3",
   "language": "python",
   "name": "python3"
  },
  "language_info": {
   "codemirror_mode": {
    "name": "ipython",
    "version": 3
   },
   "file_extension": ".py",
   "mimetype": "text/x-python",
   "name": "python",
   "nbconvert_exporter": "python",
   "pygments_lexer": "ipython3",
   "version": "3.8.8"
  }
 },
 "nbformat": 4,
 "nbformat_minor": 5
}
