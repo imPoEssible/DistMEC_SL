{
 "cells": [
  {
   "cell_type": "markdown",
   "id": "07a244d3",
   "metadata": {},
   "source": [
    "# Collision Naive Offloading\n",
    "10.18.21\n",
    "\n",
    "TJ Kim"
   ]
  },
  {
   "cell_type": "code",
   "execution_count": 1,
   "id": "06f816b6",
   "metadata": {},
   "outputs": [],
   "source": [
    "import numpy as np\n",
    "import matplotlib.pyplot as plt"
   ]
  },
  {
   "cell_type": "code",
   "execution_count": 44,
   "id": "0b091213",
   "metadata": {},
   "outputs": [],
   "source": [
    "# System Parameters\n",
    "T = 10000\n",
    "num_usrs = 15\n",
    "num_apps = 3\n",
    "num_svrs = 8\n",
    "usr_app_id = [0,0,0,0,0,1,1,1,1,1,2,2,2,2,2] # Tying each user to application type\n",
    "\n",
    "# Set Arm Parameters for every user - arm pair (randomly draw)\n",
    "mu = np.random.rand(num_usrs,num_svrs)\n",
    "mu_hat = np.ones_like(mu) # empirical mean\n",
    "T_ka = np.ones_like(mu) # total number of times arm (k,a) is played\n",
    "reg = np.zeros(T) # regret"
   ]
  },
  {
   "cell_type": "code",
   "execution_count": 61,
   "id": "e8a682cd",
   "metadata": {},
   "outputs": [],
   "source": [
    "# Function to decide arm availability randomly at every time step\n",
    "def random_VM(num_svrs,num_apps):\n",
    "    VM_deployment = np.random.randint(low=0,high=num_apps,size=num_svrs)\n",
    "    return VM_deployment\n",
    "\n",
    "# Given UCB Indices and available arms, return which arms users will pull\n",
    "def select_arm(VM_deployment, mu_bar, num_apps, usr_app_id):\n",
    "    \n",
    "    # Assign each server to each app type\n",
    "    app_arms = {}\n",
    "    for a in range(num_apps):\n",
    "        app_arms[a] = []\n",
    "    \n",
    "    for s in range(len(VM_deployment)):\n",
    "        vm = VM_deployment[s]\n",
    "        app_arms[vm] += [s]\n",
    "        \n",
    "    # Assign each user to a server to offload to\n",
    "    action = np.zeros_like(usr_app_id)\n",
    "    \n",
    "    for u in range(len(usr_app_id)):\n",
    "        app_type = usr_app_id[u]\n",
    "        arms = app_arms[app_type]\n",
    "        mu_vals = mu_bar[u,arms]\n",
    "        \n",
    "        # arm_idx = np.argmax(mu_vals)\n",
    "        arm_idx = np.random.choice(np.flatnonzero(mu_vals == mu_vals.max()))\n",
    "        action[u] = arms[arm_idx]\n",
    "        \n",
    "    return action\n",
    "\n",
    "# Optimal arm pulls for users given VM Deployment\n",
    "def optimal_postVM(VM_deployment, mu_bar):\n",
    "    return\n",
    "\n",
    "# Optimal arm pulls with optimal VM deployment\n",
    "def optimal_preVM(mu_bar):\n",
    "    return"
   ]
  },
  {
   "cell_type": "code",
   "execution_count": 62,
   "id": "d33ecfbe",
   "metadata": {},
   "outputs": [],
   "source": [
    "# Run T Round of UCB1 Algorithm\n",
    "for t in range(T):\n",
    "    VM_deployment = random_VM(num_svrs,num_apps)\n",
    "    rho_ka = np.sqrt(2*np.log(t+1)/(2*T_ka))\n",
    "    mu_bar = np.minimum(mu_hat + rho_ka, 1) # UCB\n",
    "    \n",
    "    a = select_arm(VM_deployment,mu_bar,num_apps,usr_app_id)\n",
    "    \n",
    "    # Hand out rewards (given collisions)\n",
    "    \n",
    "    continue"
   ]
  },
  {
   "cell_type": "code",
   "execution_count": 63,
   "id": "42753497",
   "metadata": {},
   "outputs": [
    {
     "data": {
      "text/plain": [
       "(15, 8)"
      ]
     },
     "execution_count": 63,
     "metadata": {},
     "output_type": "execute_result"
    }
   ],
   "source": [
    "mu_bar.shape"
   ]
  },
  {
   "cell_type": "code",
   "execution_count": 64,
   "id": "e6eb56dd",
   "metadata": {},
   "outputs": [],
   "source": [
    "VM_deployment = random_VM(num_svrs,num_apps)\n",
    "rho_ka = np.sqrt(2*np.log(t+1)/(2*T_ka))\n",
    "mu_bar = np.minimum(mu_hat + rho_ka, 1) # UCB\n",
    "\n",
    "aa = select_arm(VM_deployment, mu_bar, num_apps, usr_app_id)"
   ]
  },
  {
   "cell_type": "code",
   "execution_count": 65,
   "id": "42cc9a33",
   "metadata": {},
   "outputs": [
    {
     "data": {
      "text/plain": [
       "array([0, 1, 0, 0, 2, 2, 2, 1])"
      ]
     },
     "execution_count": 65,
     "metadata": {},
     "output_type": "execute_result"
    }
   ],
   "source": [
    "VM_deployment"
   ]
  },
  {
   "cell_type": "code",
   "execution_count": 66,
   "id": "4475989f",
   "metadata": {},
   "outputs": [
    {
     "data": {
      "text/plain": [
       "array([3, 3, 0, 2, 3, 7, 1, 1, 1, 7, 4, 6, 4, 6, 6])"
      ]
     },
     "execution_count": 66,
     "metadata": {},
     "output_type": "execute_result"
    }
   ],
   "source": [
    "aa"
   ]
  },
  {
   "cell_type": "code",
   "execution_count": null,
   "id": "4f6c6f06",
   "metadata": {},
   "outputs": [],
   "source": []
  },
  {
   "cell_type": "code",
   "execution_count": null,
   "id": "f6084d35",
   "metadata": {},
   "outputs": [],
   "source": []
  }
 ],
 "metadata": {
  "kernelspec": {
   "display_name": "Python 3 (ipykernel)",
   "language": "python",
   "name": "python3"
  },
  "language_info": {
   "codemirror_mode": {
    "name": "ipython",
    "version": 3
   },
   "file_extension": ".py",
   "mimetype": "text/x-python",
   "name": "python",
   "nbconvert_exporter": "python",
   "pygments_lexer": "ipython3",
   "version": "3.8.8"
  }
 },
 "nbformat": 4,
 "nbformat_minor": 5
}
