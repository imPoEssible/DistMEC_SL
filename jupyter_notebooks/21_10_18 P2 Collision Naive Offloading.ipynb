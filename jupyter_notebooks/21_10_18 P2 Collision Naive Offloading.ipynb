{
 "cells": [
  {
   "cell_type": "markdown",
   "id": "07a244d3",
   "metadata": {},
   "source": [
    "# Collision Naive Offloading\n",
    "10.18.21\n",
    "\n",
    "TJ Kim"
   ]
  },
  {
   "cell_type": "code",
   "execution_count": 120,
   "id": "06f816b6",
   "metadata": {},
   "outputs": [],
   "source": [
    "import numpy as np\n",
    "import matplotlib.pyplot as plt\n",
    "\n",
    "import pulp as lp\n",
    "import itertools"
   ]
  },
  {
   "cell_type": "code",
   "execution_count": 121,
   "id": "0b091213",
   "metadata": {},
   "outputs": [],
   "source": [
    "# System Parameters\n",
    "T = 20\n",
    "num_usrs = 15\n",
    "num_apps = 3\n",
    "num_svrs = 8\n",
    "usr_app_id = [0,0,0,0,0,1,1,1,1,1,2,2,2,2,2] # Tying each user to application type\n",
    "\n",
    "# Set Arm Parameters for every user - arm pair (randomly draw)\n",
    "mu = np.random.rand(num_usrs,num_svrs)\n",
    "mu_hat = np.ones_like(mu) # empirical mean\n",
    "T_ka = np.ones_like(mu) # total number of times arm (k,a) is played\n",
    "reg = np.zeros(T) # regret\n",
    "rwd = np.zeros(T) # reward"
   ]
  },
  {
   "cell_type": "code",
   "execution_count": 133,
   "id": "e8a682cd",
   "metadata": {},
   "outputs": [],
   "source": [
    "# Function to decide arm availability randomly at every time step\n",
    "def random_VM(num_svrs,num_apps):\n",
    "    VM_deployment = np.random.randint(low=0,high=num_apps,size=num_svrs)\n",
    "    return VM_deployment\n",
    "\n",
    "# Given UCB Indices and available arms, return which arms users will pull\n",
    "def UCB_postVM(VM_deployment, mu_bar, num_apps, usr_app_id):\n",
    "    \n",
    "    # Assign each server to each app type\n",
    "    app_arms = {}\n",
    "    for a in range(num_apps):\n",
    "        app_arms[a] = []\n",
    "    \n",
    "    for s in range(len(VM_deployment)):\n",
    "        vm = VM_deployment[s]\n",
    "        app_arms[vm] += [s]\n",
    "        \n",
    "    # Assign each user to a server to offload to\n",
    "    action = np.zeros_like(usr_app_id)\n",
    "    \n",
    "    for u in range(len(usr_app_id)):\n",
    "        app_type = usr_app_id[u]\n",
    "        arms = app_arms[app_type]\n",
    "        mu_vals = mu_bar[u,arms]\n",
    "        \n",
    "        # arm_idx = np.argmax(mu_vals)\n",
    "        try:\n",
    "            arm_idx = np.random.choice(np.flatnonzero(mu_vals == mu_vals.max()))\n",
    "            action[u] = arms[arm_idx]\n",
    "        except:\n",
    "            action[u] = -1 # sent to cloud is -1\n",
    "        \n",
    "    return action\n",
    "\n",
    "# Optimal arm pulls for users given VM Deployment\n",
    "def optimal_postVM(VM_deployment, mu_bar, usr_app_id, num_apps):\n",
    "    \n",
    "    action = np.ones_like(usr_app_id) * -1 # default to cloud\n",
    "    \n",
    "    # Separate each application into separate game\n",
    "    usrs_by_app = {}\n",
    "    svrs_by_app = {}\n",
    "    \n",
    "    for a in range(num_apps):\n",
    "        usrs_by_app[a] = []\n",
    "        svrs_by_app[a] = []\n",
    "    \n",
    "    for u in range(len(usr_app_id)):\n",
    "        usrs_by_app[usr_app_id[u]] += [u]\n",
    "        \n",
    "    for s in range(len(VM_deployment)):\n",
    "        svrs_by_app[VM_deployment[s]] += [s]\n",
    "    \n",
    "    # Loop through each application and play the game\n",
    "    for a in range(num_apps):\n",
    "        users = usrs_by_app[a]\n",
    "        servers = svrs_by_app[a]\n",
    "        \n",
    "        C = mu_bar[users] # Cost vector including cloud\n",
    "        C = mu_bar[:,servers]\n",
    "        C = np.append(C,np.zeros([C.shape[0],1]),axis=1)\n",
    "        \n",
    "        prob = LpProblem(\"prob\",LpMaximize)\n",
    "        \n",
    "        # Import pulp and make decision variables\n",
    "        dec_var = []\n",
    "        for u,s in itertools.product(users,servers+[-1]):\n",
    "            dec_var += [(u,s)]\n",
    "        \n",
    "        X = lp.LpVariable.dicts(\"x\", dec_var,cat='binary')\n",
    "        \n",
    "        # Make Constraints - \n",
    "        \n",
    "        \n",
    "        \n",
    "    return X\n",
    "\n",
    "# Optimal arm pulls with optimal VM deployment (P1 solution)\n",
    "def online_VM(mu_bar):\n",
    "    return\n",
    "\n",
    "\n",
    "def deploy_VM(num_svrs,num_apps,mu_bar,mode=\"random\"):\n",
    "    return"
   ]
  },
  {
   "cell_type": "code",
   "execution_count": 134,
   "id": "d33ecfbe",
   "metadata": {},
   "outputs": [],
   "source": [
    "# Run T Round of UCB1 Algorithm\n",
    "for t in range(T):\n",
    "    VM_deployment = random_VM(num_svrs,num_apps)\n",
    "    rho_ka = np.sqrt(2*np.log(t+1)/(2*T_ka))\n",
    "    mu_bar = np.minimum(mu_hat + rho_ka, 1) # UCB\n",
    "    \n",
    "    a = UCB_postVM(VM_deployment,mu_bar,num_apps,usr_app_id)\n",
    "    \n",
    "    # Hand out rewards (given collisions) -- loop through servers\n",
    "    for s in range(num_svrs):\n",
    "        s_usrs =  np.where((a == s)>0)[0] # list of users who pulled this server\n",
    "        \n",
    "        if s_usrs.shape[0] > 0: \n",
    "            r_user = np.random.choice(s_usrs)# randomly select 1 user to give reward to (all other 0)\n",
    "            X_k = int(np.random.rand() < mu[r_user, s])\n",
    "            rwd[t] += X_k\n",
    "            # Update T_ka for all users of this arm\n",
    "            for u in s_usrs:\n",
    "                T_ka[u,s] += 1\n",
    "                if u == r_user:\n",
    "                    mu_hat[u, s] += (X_k - mu_hat[u, s]) / T_ka[u, s]\n",
    "                else:\n",
    "                    mu_hat[u, s] += (0 - mu_hat[u, s]) / T_ka[u, s]\n"
   ]
  },
  {
   "cell_type": "code",
   "execution_count": 135,
   "id": "ad8ac2f1",
   "metadata": {},
   "outputs": [],
   "source": [
    "a =optimal_postVM(VM_deployment, mu_bar, usr_app_id, num_apps)"
   ]
  },
  {
   "cell_type": "code",
   "execution_count": 132,
   "id": "ef52ff87",
   "metadata": {},
   "outputs": [
    {
     "data": {
      "text/plain": [
       "{(10, 5): x_(10,_5),\n",
       " (10, 7): x_(10,_7),\n",
       " (10, -1): x_(10,__1),\n",
       " (11, 5): x_(11,_5),\n",
       " (11, 7): x_(11,_7),\n",
       " (11, -1): x_(11,__1),\n",
       " (12, 5): x_(12,_5),\n",
       " (12, 7): x_(12,_7),\n",
       " (12, -1): x_(12,__1),\n",
       " (13, 5): x_(13,_5),\n",
       " (13, 7): x_(13,_7),\n",
       " (13, -1): x_(13,__1),\n",
       " (14, 5): x_(14,_5),\n",
       " (14, 7): x_(14,_7),\n",
       " (14, -1): x_(14,__1)}"
      ]
     },
     "execution_count": 132,
     "metadata": {},
     "output_type": "execute_result"
    }
   ],
   "source": [
    "a"
   ]
  },
  {
   "cell_type": "code",
   "execution_count": 127,
   "id": "4faf87f5",
   "metadata": {},
   "outputs": [
    {
     "data": {
      "text/plain": [
       "9"
      ]
     },
     "execution_count": 127,
     "metadata": {},
     "output_type": "execute_result"
    }
   ],
   "source": [
    "u"
   ]
  },
  {
   "cell_type": "code",
   "execution_count": 128,
   "id": "0adf0525",
   "metadata": {},
   "outputs": [
    {
     "data": {
      "text/plain": [
       "7"
      ]
     },
     "execution_count": 128,
     "metadata": {},
     "output_type": "execute_result"
    }
   ],
   "source": [
    "s"
   ]
  },
  {
   "cell_type": "code",
   "execution_count": 98,
   "id": "c951159f",
   "metadata": {},
   "outputs": [],
   "source": [
    "aa = mu_bar[u]"
   ]
  },
  {
   "cell_type": "code",
   "execution_count": 110,
   "id": "aeedf3d3",
   "metadata": {},
   "outputs": [],
   "source": [
    "bb = aa[:,s]"
   ]
  },
  {
   "cell_type": "code",
   "execution_count": 112,
   "id": "2177d9aa",
   "metadata": {},
   "outputs": [],
   "source": [
    "cc = np.append(bb,np.zeros([bb.shape[0],1]),axis=1)"
   ]
  },
  {
   "cell_type": "code",
   "execution_count": 113,
   "id": "54d00a5e",
   "metadata": {},
   "outputs": [
    {
     "data": {
      "text/plain": [
       "array([[0.64733283, 0.74829496, 0.9952046 , 0.        ],\n",
       "       [0.64733283, 0.7452046 , 0.81972353, 0.        ],\n",
       "       [0.90795781, 0.78773496, 0.797045  , 0.        ],\n",
       "       [0.64733283, 0.8077046 , 0.79916168, 0.        ],\n",
       "       [0.77810263, 0.94912411, 0.83297756, 0.        ]])"
      ]
     },
     "execution_count": 113,
     "metadata": {},
     "output_type": "execute_result"
    }
   ],
   "source": [
    "cc"
   ]
  },
  {
   "cell_type": "code",
   "execution_count": null,
   "id": "d7fd9242",
   "metadata": {},
   "outputs": [],
   "source": []
  }
 ],
 "metadata": {
  "kernelspec": {
   "display_name": "Python 3 (ipykernel)",
   "language": "python",
   "name": "python3"
  },
  "language_info": {
   "codemirror_mode": {
    "name": "ipython",
    "version": 3
   },
   "file_extension": ".py",
   "mimetype": "text/x-python",
   "name": "python",
   "nbconvert_exporter": "python",
   "pygments_lexer": "ipython3",
   "version": "3.8.8"
  }
 },
 "nbformat": 4,
 "nbformat_minor": 5
}
