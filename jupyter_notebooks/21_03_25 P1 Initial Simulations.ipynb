{
 "cells": [
  {
   "cell_type": "markdown",
   "metadata": {},
   "source": [
    "# Problem 1 Initial Simulations\n",
    "\n",
    "TJ Kim\n",
    "\n",
    "Date: 3/25/21\n",
    "Updated: 3/25/21\n",
    "\n",
    "#### Summary:\n",
    "\n",
    "Using the User, Server, and Job classes from the MEC project, generate a sandbox in order to make the matching problem possible."
   ]
  },
  {
   "cell_type": "code",
   "execution_count": 1,
   "metadata": {},
   "outputs": [
    {
     "name": "stdout",
     "output_type": "stream",
     "text": [
      "/home/tkim/CMU/DistMEC\n"
     ]
    }
   ],
   "source": [
    "cd /home/tkim/CMU/DistMEC"
   ]
  },
  {
   "cell_type": "markdown",
   "metadata": {},
   "source": [
    "Import relevant libraries"
   ]
  },
  {
   "cell_type": "code",
   "execution_count": 2,
   "metadata": {},
   "outputs": [],
   "source": [
    "import numpy as np\n",
    "import math\n",
    "\n",
    "from classes.Application import *\n",
    "from classes.User import *\n",
    "from classes.Server import *\n",
    "from solver.Sim_Params import *\n",
    "from classes.Central_Controller import *"
   ]
  },
  {
   "cell_type": "markdown",
   "metadata": {},
   "source": [
    "### Central Controller Class\n",
    "\n",
    "Draft the class here before separating in own py file."
   ]
  },
  {
   "cell_type": "code",
   "execution_count": 200,
   "metadata": {},
   "outputs": [],
   "source": [
    "import numpy as np\n",
    "import copy\n",
    "\n",
    "class Central_Controller:\n",
    "    \"\"\"\n",
    "    Central controller solves P1 by placing VMs at desired servers\n",
    "    Keeps track of latency based weights for users and inits them for VMs without history\n",
    "    \"\"\"\n",
    "    \n",
    "    def __init__(self, servers, containers, system_params):\n",
    "        \n",
    "        \"\"\"\n",
    "        All inputs are lists of objects of their relevant type\n",
    "        \"\"\"\n",
    "        \n",
    "        self.servers = servers\n",
    "        self.containers = containers\n",
    "        \n",
    "        # Extract information\n",
    "        self.user_locations = None\n",
    "        self.beta_weights = None\n",
    "        \n",
    "        # System settings\n",
    "        self.ts_big = 0\n",
    "        self.ts_small = 0\n",
    "        \n",
    "        # Extract from System Params\n",
    "        self.num_app = system_params.num_app\n",
    "        self.num_user = system_params.num_user\n",
    "        self.num_servers = len(self.servers)\n",
    "        self.num_cores = self.obtain_num_cores()\n",
    "        self.max_deployed = self.obtain_max_deployed()\n",
    "        \n",
    "        # Initialize Utilities\n",
    "        # self.container_utility = np.zeros(len(containers))\n",
    "        # self.app_utility = np.zeros(self.num_app)\n",
    "        self.container_deployed = np.zeros([self.num_app, len(self.servers)]) # 1- True, 0 - False\n",
    "        \n",
    "        \n",
    "    def update_big_ts(self):\n",
    "        \n",
    "        self.ts_big += 1\n",
    "        \n",
    "    def update_small_ts(self):\n",
    "        \n",
    "        self.ts_small += 1\n",
    "        \n",
    "    def obtain_num_cores(self):\n",
    "        \"\"\"\n",
    "        Get the total number of VMs that can be deployed in the system\n",
    "        on a per server basis\n",
    "        \"\"\"\n",
    "        \n",
    "        num_cores = np.ones(len(servers))\n",
    "        \n",
    "        for i in range(len(servers)):\n",
    "            server = servers[i]\n",
    "            num_cores[i] = int(server.avail_rsrc[0])\n",
    "            \n",
    "        return num_cores\n",
    "    \n",
    "    def obtain_max_deployed(self):\n",
    "        \"\"\"\n",
    "        obtain the maximum allowed unique applications for each server?\n",
    "        \"\"\"\n",
    "        \n",
    "        num_cores = np.ones(len(servers))\n",
    "        for i in range(len(servers)):\n",
    "            server = servers[i]\n",
    "            num_cores[i] = min(server.avail_rsrc[0],self.num_app)\n",
    "            \n",
    "        return num_cores\n",
    "        \n",
    "        \n",
    "    def VM_placement(self, users, apps, limit = None):\n",
    "        \"\"\"\n",
    "        solves P1 - The VM placement problem at every big TS\n",
    "        inputs: users-apps are lists of nominal objects\n",
    "                limit - number of iterations to run swapping before quitting\n",
    "        \"\"\"\n",
    "        \n",
    "        # Flush utility functions\n",
    "        self.container_utility = np.zeros(len(containers))\n",
    "        self.app_utility = np.zeros(self.num_app)\n",
    "        self.container_deployed = np.zeros([len(servers),num_app]) \n",
    "        \n",
    "        # Initialize the Container placements on VMs \n",
    "        self.container_deployed = VM_placement_init(apps)\n",
    "        \n",
    "        # Calculate utility function for all placed containers and apps\n",
    "        \n",
    "        \n",
    "        # Sort utility functions for both app/containers\n",
    "        \n",
    "        # Matching Iteratively - from lowest app --> container and swap\n",
    "        \n",
    "        return\n",
    "        \n",
    "    def VM_placement_init(self, apps):\n",
    "        \"\"\"\n",
    "        Set aside proportional vm counts for app load\n",
    "        Place them closest to most users in round robin style\n",
    "        \"\"\"\n",
    "        \n",
    "        # Get expected load of each application group\n",
    "        load_product = np.zeros(self.num_app)\n",
    "        \n",
    "        for app in apps:\n",
    "            job_type = app.job_type\n",
    "            load_product[job_type] += app.offload_mean\n",
    "                \n",
    "        # Calculate number of VM for each app\n",
    "        container_deployed = np.zeros([self.num_app, self.num_servers])\n",
    "        space_available = copy.deepcopy(self.max_deployed)\n",
    "        total_VM = np.sum(self.max_deployed)\n",
    "        \n",
    "        load_prop = load_product/np.sum(load_product)\n",
    "        init_deployed = np.floor(load_prop * (total_VM - self.num_app)) + 1\n",
    "        \n",
    "        # Cut all init deployed below num_server\n",
    "        edit_idx = np.argwhere(init_deployed>len(self.servers))\n",
    "        init_deployed[edit_idx] = len(self.servers)\n",
    "        \n",
    "        # Deploy the servers from max-->min count\n",
    "        deploy_order = np.argsort(load_prop)\n",
    "        \n",
    "        for app_idx in deploy_order:\n",
    "            still_avail = np.subtract(space_available, np.sum(container_deployed,axis=0))\n",
    "            avail_servers = np.argwhere(still_avail>0).flatten()\n",
    "            num_VM = int(min(init_deployed[app_idx],avail_servers.shape[0]))\n",
    "            \n",
    "            deploy_servers = np.random.choice(avail_servers, size=num_VM, replace=False, p=None)\n",
    "            container_deployed[app_idx,deploy_servers] = 1\n",
    "            \n",
    "        # Fill in the available cores with empty VMs\n",
    "        still_avail = np.subtract(space_available, np.sum(container_deployed,axis=0))\n",
    "        avail_s_idx = np.argwhere(still_avail>0).flatten()\n",
    "                \n",
    "        for s in avail_s_idx:\n",
    "            deployed = container_deployed[:,s]\n",
    "            candidates = np.argwhere(deployed == 0).flatten()            \n",
    "            new_apps = np.random.choice(candidates,size= int(still_avail[s]),replace=False,p=None)\n",
    "            \n",
    "            container_deployed[new_apps,s] = 1\n",
    "            \n",
    "        \n",
    "        return container_deployed\n",
    "        \n",
    "    def compute_container_utility(self, users, apps, container):\n",
    "        \"\"\"\n",
    "        Compute all utilities for containers that are deployed\n",
    "        \"\"\"\n",
    "        \n",
    "        return\n",
    "        \n",
    "    def compute_app_utility(self, users, apps, containers):\n",
    "        \"\"\"\n",
    "        Compute utilities for all apps given \n",
    "        AKA sum all the utilities for all apps \n",
    "        \"\"\"\n",
    "        \n",
    "        return\n",
    "    \n"
   ]
  },
  {
   "cell_type": "markdown",
   "metadata": {},
   "source": [
    "### Generate Servers, Users, and Jobs.\n",
    "\n",
    "First make simulation parameters and job profiles (apps)."
   ]
  },
  {
   "cell_type": "code",
   "execution_count": 201,
   "metadata": {},
   "outputs": [],
   "source": [
    "\"\"\"\n",
    "Job Profiles - 3 apps\n",
    "\"\"\"\n",
    "\n",
    "num_app_types = 8\n",
    "low_mean = 1\n",
    "high_mean = 3\n",
    "job_profiles = []\n",
    "\n",
    "for i in range(num_app_types):\n",
    "    job_profiles += [Job_Profile(job_name = str(i),\n",
    "                                 latency_req = 1e-5,\n",
    "                                 offload_mean = np.random.uniform(low_mean,high_mean))]\n",
    "    \n",
    "\"\"\"\n",
    "Make Simulation Parameters\n",
    "\"\"\"\n",
    "sim_param = Sim_Params(time_steps = 3, x_length = 1, y_length = 1)\n",
    "boundaries = np.array([[0,sim_param.x_length],[0,sim_param.y_length]])\n",
    "sim_param.num_app = num_app_types\n",
    "sim_param.num_user = 30"
   ]
  },
  {
   "cell_type": "markdown",
   "metadata": {},
   "source": [
    "Make the servers, users, apps"
   ]
  },
  {
   "cell_type": "code",
   "execution_count": 207,
   "metadata": {},
   "outputs": [],
   "source": [
    "# Make Servers\n",
    "# Server Settings\n",
    "num_server_l1 = 0\n",
    "num_server_l2 = 10\n",
    "num_server_l3 = 0\n",
    "\n",
    "num_resource = 1\n",
    "weak_range = np.array([[1,4]])\n",
    "strong_range = np.array([[1,4]])\n",
    "\n",
    "# Generate Server\n",
    "servers_l1 = []\n",
    "servers_l2 = []\n",
    "servers_l3 = []\n",
    "idx_counter = 0\n",
    "\n",
    "for i in range(num_server_l2):\n",
    "    servers_l2.append(Server(boundaries,level=2,rand_locs=True,locs=None))\n",
    "    servers_l2[-1].server_resources(num_resource, weak_range, strong_range)\n",
    "    servers_l2[-1].assign_id(idx_counter)\n",
    "    idx_counter += 1\n",
    "    \n",
    "    \n",
    "servers = servers_l2\n",
    "\n",
    "\"\"\"\n",
    "Make Users\n",
    "\"\"\"\n",
    "\n",
    "# User Settings\n",
    "num_user_m0 = 0 # Pedestrian\n",
    "num_user_m1 = 0 # Public Transport\n",
    "num_user_m2 = 30 # Vehicle\n",
    "\n",
    "max_speed = 2.5\n",
    "lamdas = [1/0.25,1/0.83,1/1.67] # 3 mph, 10 mph, 20 mph\n",
    "num_path = 10\n",
    "\n",
    "# Generate Server\n",
    "users_m0 = []\n",
    "users_m1 = []\n",
    "users_m2 = []\n",
    "idx_counter = 0\n",
    "\n",
    "\n",
    "for i in range(num_user_m2):\n",
    "    users_m2 += [User(boundaries, sim_param.time_steps, 2, lamdas, max_speed)]\n",
    "    users_m2[-1].generate_MC(servers)\n",
    "    users_m2[-1].assign_id(idx_counter)\n",
    "    idx_counter += 1\n",
    "\n",
    "users = users_m2\n",
    "\n",
    "\"\"\"\n",
    "Make Apps\n",
    "\"\"\"\n",
    "\n",
    "num_apps = len(users)\n",
    "app_id = np.random.choice(num_app_types,num_apps)\n",
    "apps = []\n",
    "\n",
    "for i in range(len(app_id)):\n",
    "    apps += [Application(job_type=app_id[i], user_id=i, \n",
    "                         time_steps=sim_param.time_steps, job_profiles=job_profiles)]\n",
    "\n"
   ]
  },
  {
   "cell_type": "markdown",
   "metadata": {},
   "source": [
    "### Testing Central Controller App\n",
    "\n",
    "Initialize the central controller."
   ]
  },
  {
   "cell_type": "code",
   "execution_count": 208,
   "metadata": {},
   "outputs": [],
   "source": [
    "cc = Central_Controller(servers=servers, containers=None, system_params=sim_param)"
   ]
  },
  {
   "cell_type": "code",
   "execution_count": 209,
   "metadata": {},
   "outputs": [
    {
     "data": {
      "text/plain": [
       "array([[1., 0., 0., 0., 1., 0., 0., 0., 0., 0.],\n",
       "       [1., 0., 0., 0., 0., 1., 0., 0., 0., 0.],\n",
       "       [0., 0., 0., 0., 0., 0., 1., 0., 1., 1.],\n",
       "       [0., 1., 0., 0., 1., 1., 0., 0., 0., 0.],\n",
       "       [0., 0., 1., 0., 1., 0., 0., 0., 1., 1.],\n",
       "       [0., 0., 1., 1., 0., 0., 0., 0., 0., 0.],\n",
       "       [0., 0., 0., 0., 0., 0., 0., 1., 0., 0.],\n",
       "       [1., 0., 0., 0., 0., 0., 0., 0., 1., 0.]])"
      ]
     },
     "execution_count": 209,
     "metadata": {},
     "output_type": "execute_result"
    }
   ],
   "source": [
    "init = cc.VM_placement_init(apps)\n",
    "init"
   ]
  },
  {
   "cell_type": "code",
   "execution_count": 210,
   "metadata": {},
   "outputs": [
    {
     "data": {
      "text/plain": [
       "array([3., 1., 2., 1., 3., 2., 1., 1., 3., 2.])"
      ]
     },
     "execution_count": 210,
     "metadata": {},
     "output_type": "execute_result"
    }
   ],
   "source": [
    "cc.max_deployed"
   ]
  },
  {
   "cell_type": "code",
   "execution_count": 211,
   "metadata": {},
   "outputs": [
    {
     "data": {
      "text/plain": [
       "array([3., 1., 2., 1., 3., 2., 1., 1., 3., 2.])"
      ]
     },
     "execution_count": 211,
     "metadata": {},
     "output_type": "execute_result"
    }
   ],
   "source": [
    "np.sum(init,axis=0)"
   ]
  },
  {
   "cell_type": "code",
   "execution_count": null,
   "metadata": {},
   "outputs": [],
   "source": []
  }
 ],
 "metadata": {
  "kernelspec": {
   "display_name": "Python 3",
   "language": "python",
   "name": "python3"
  },
  "language_info": {
   "codemirror_mode": {
    "name": "ipython",
    "version": 3
   },
   "file_extension": ".py",
   "mimetype": "text/x-python",
   "name": "python",
   "nbconvert_exporter": "python",
   "pygments_lexer": "ipython3",
   "version": "3.8.3"
  }
 },
 "nbformat": 4,
 "nbformat_minor": 2
}
