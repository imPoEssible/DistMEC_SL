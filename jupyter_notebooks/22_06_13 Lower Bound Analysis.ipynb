{
 "cells": [
  {
   "cell_type": "code",
   "execution_count": 1,
   "metadata": {},
   "outputs": [
    {
     "name": "stdout",
     "output_type": "stream",
     "text": [
      "/home/ubuntu/DistMEC\n"
     ]
    }
   ],
   "source": [
    "cd /home/ubuntu/DistMEC/"
   ]
  },
  {
   "cell_type": "code",
   "execution_count": 2,
   "metadata": {},
   "outputs": [],
   "source": [
    "import numpy as np\n",
    "import matplotlib.pyplot as plt\n",
    "\n",
    "from classes.User import *\n",
    "from classes.solver import *\n",
    "from classes.Server import *\n",
    "from classes.distributed_utils import *\n",
    "\n",
    "import pickle\n",
    "import copy"
   ]
  },
  {
   "cell_type": "code",
   "execution_count": 14,
   "metadata": {},
   "outputs": [
    {
     "data": {
      "text/plain": [
       "<matplotlib.legend.Legend at 0x7f233fa2c710>"
      ]
     },
     "execution_count": 14,
     "metadata": {},
     "output_type": "execute_result"
    },
    {
     "data": {
      "image/png": "[encoded data removed]",
      "text/plain": [
       "<Figure size 432x288 with 1 Axes>"
      ]
     },
     "metadata": {
      "needs_background": "light"
     },
     "output_type": "display_data"
    }
   ],
   "source": [
    "try:\n",
    "    del b\n",
    "except:\n",
    "    pass\n",
    "\n",
    "# Load pre-saved data to analyze\n",
    "name = 'results/22_06_16_ceiling_20/regret_trial'\n",
    "idx = 1\n",
    "name = name + str(idx) + '.p'\n",
    "\n",
    "with open(name, 'rb') as handle:\n",
    "    b = pickle.load(handle)\n",
    "\n",
    "# For each trial, calculate relevant values\n",
    "relevant_dict = b\n",
    "num_users = 10\n",
    "T = b['reward_s'].shape[0]\n",
    "\n",
    "pm_single = 0.05\n",
    "pm = 1 - (1-pm_single)**(num_users)\n",
    "po = 0.1\n",
    "\n",
    "reg_threshold = 0.001\n",
    "regret_temp = copy.deepcopy(b['regret_s'])\n",
    "regret_temp[regret_temp <= 0] = 10\n",
    "regret_temp[regret_temp <= reg_threshold] = 10\n",
    "regret_temp[b['collision_s'] == 0] = 10\n",
    "delta_min = min(regret_temp)\n",
    "\n",
    "constant = delta_min/(po/pm + 1)\n",
    "lower_bound = np.arange(T)*constant\n",
    "\n",
    "plt.plot(np.cumsum(b['regret_res']), label = 'reserve')\n",
    "plt.plot(np.cumsum(b['regret_w']), label = 'worst case')\n",
    "plt.plot(np.cumsum(b['regret_s']), label = 'new rsv')\n",
    "plt.plot(lower_bound, label = 'lower bound')\n",
    "\n",
    "plt.title('Cumulative Regret CMAB')\n",
    "plt.xlabel('Rounds')\n",
    "plt.ylabel('Regret')\n",
    "plt.legend()"
   ]
  },
  {
   "cell_type": "code",
   "execution_count": 19,
   "metadata": {},
   "outputs": [
    {
     "data": {
      "text/plain": [
       "4004.017201836182"
      ]
     },
     "execution_count": 19,
     "metadata": {},
     "output_type": "execute_result"
    }
   ],
   "source": [
    "lower_bound[-1]"
   ]
  },
  {
   "cell_type": "code",
   "execution_count": 20,
   "metadata": {},
   "outputs": [
    {
     "data": {
      "text/plain": [
       "0.4012630607616213"
      ]
     },
     "execution_count": 20,
     "metadata": {},
     "output_type": "execute_result"
    }
   ],
   "source": [
    "pm"
   ]
  },
  {
   "cell_type": "code",
   "execution_count": 21,
   "metadata": {},
   "outputs": [
    {
     "data": {
      "text/plain": [
       "0.8009636330938551"
      ]
     },
     "execution_count": 21,
     "metadata": {},
     "output_type": "execute_result"
    }
   ],
   "source": [
    "constant"
   ]
  },
  {
   "cell_type": "code",
   "execution_count": 22,
   "metadata": {},
   "outputs": [
    {
     "data": {
      "text/plain": [
       "1.0005742405526075"
      ]
     },
     "execution_count": 22,
     "metadata": {},
     "output_type": "execute_result"
    }
   ],
   "source": [
    "delta_min"
   ]
  },
  {
   "cell_type": "code",
   "execution_count": 4,
   "metadata": {},
   "outputs": [
    {
     "data": {
      "text/plain": [
       "{'reward_res': array([3.41535964, 3.50666743, 3.60340782, ..., 7.07102415, 4.30301972,\n",
       "        7.59148051]),\n",
       " 'reward_w': array([3.41535964, 3.50666743, 3.60340782, ..., 4.62769731, 5.56810231,\n",
       "        7.59148051]),\n",
       " 'reward_s': array([3.41535964, 3.50666743, 3.60340782, ..., 6.12238547, 6.02725543,\n",
       "        7.59148051]),\n",
       " 'regret_res': array([4.83373113, 4.75264313, 4.62368962, ..., 0.55065091, 3.352691  ,\n",
       "        0.        ]),\n",
       " 'regret_w': array([4.83373113, 4.75264313, 4.62368962, ..., 2.99397775, 2.08760841,\n",
       "        0.        ]),\n",
       " 'regret_s': array([4.83373113, 4.75264313, 4.62368962, ..., 1.49928959, 1.62845529,\n",
       "        0.        ]),\n",
       " 'collision_res': array([0., 0., 0., ..., 0., 4., 0.]),\n",
       " 'collision_w': array([0., 0., 0., ..., 4., 3., 0.]),\n",
       " 'collision_s': array([0., 0., 0., ..., 2., 2., 0.])}"
      ]
     },
     "execution_count": 4,
     "metadata": {},
     "output_type": "execute_result"
    }
   ],
   "source": [
    "b"
   ]
  },
  {
   "cell_type": "code",
   "execution_count": 11,
   "metadata": {},
   "outputs": [
    {
     "data": {
      "text/plain": [
       "1.1883334069302283"
      ]
     },
     "execution_count": 11,
     "metadata": {},
     "output_type": "execute_result"
    }
   ],
   "source": [
    "delta_min"
   ]
  },
  {
   "cell_type": "code",
   "execution_count": null,
   "metadata": {},
   "outputs": [],
   "source": []
  }
 ],
 "metadata": {
  "kernelspec": {
   "display_name": "Python 3",
   "language": "python",
   "name": "python3"
  },
  "language_info": {
   "codemirror_mode": {
    "name": "ipython",
    "version": 3
   },
   "file_extension": ".py",
   "mimetype": "text/x-python",
   "name": "python",
   "nbconvert_exporter": "python",
   "pygments_lexer": "ipython3",
   "version": "3.7.3"
  }
 },
 "nbformat": 4,
 "nbformat_minor": 2
}
