{
 "cells": [
  {
   "cell_type": "code",
   "execution_count": 2,
   "metadata": {},
   "outputs": [
    {
     "name": "stdout",
     "output_type": "stream",
     "text": [
      "/home/ubuntu/DistMEC\n"
     ]
    }
   ],
   "source": [
    "cd /home/ubuntu/DistMEC/"
   ]
  },
  {
   "cell_type": "code",
   "execution_count": 3,
   "metadata": {},
   "outputs": [],
   "source": [
    "import sqlite3\n",
    "import pandas as pd\n",
    "import numpy as np\n",
    "import math\n",
    "import copy\n",
    "import pickle\n",
    "\n",
    "from classes.User import *\n",
    "from classes.solver import *\n",
    "from classes.Server import *\n",
    "from classes.distributed_utils import *\n"
   ]
  },
  {
   "cell_type": "code",
   "execution_count": 4,
   "metadata": {},
   "outputs": [],
   "source": [
    "def longlat2km(lat1, long1, lat2, long2):\n",
    "    D = 40075 # km\n",
    "    dy = (lat1-lat2) * 111.32\n",
    "    dx = (long1 - long2)*(D * np.cos((lat1+lat2)/(2 * 180 )))/(360)\n",
    "    \n",
    "    return dy, dx\n",
    "\n",
    "def load_usr(db, ts_min_size = 5):\n",
    "    cnx = sqlite3.connect(db)\n",
    "    df = pd.read_sql_query(\"SELECT * FROM locationTable\", cnx)\n",
    "\n",
    "    cnx.close()\n",
    "\n",
    "    df = df[df['_activity'] == 2]\n",
    "    df = df[df['_latitude']>0]\n",
    "    df = df[df['_longitude']>0]\n",
    "    \n",
    "    times = np.array(df['_time_location'])\n",
    "    date_list = []\n",
    "    hr_list = []\n",
    "    min_list = []\n",
    "    ts_list = []\n",
    "    \n",
    "\n",
    "    for t in times:\n",
    "        date_list+= [t[4:-9]]\n",
    "        hr_list+= [int(t[8:-7])]\n",
    "        min_list += [int(t[10:-5])]\n",
    "        ts_list += [np.round((hr_list[-1]*60 + min_list[-1])/ts_min_size)]\n",
    "        \n",
    "    df['Date'] = date_list\n",
    "    df['Hr'] = hr_list\n",
    "    df['Min'] = min_list\n",
    "    df['ts'] = ts_list\n",
    "\n",
    "    \n",
    "    lat = np.array(df['_latitude']*10e-7)\n",
    "    long = np.array(df['_longitude']*10e-7)\n",
    "\n",
    "    mean_lat = np.mean(lat)\n",
    "    mean_long =  np.mean(long)\n",
    "\n",
    "    dx,dy = longlat2km(lat,long,mean_lat,mean_long)\n",
    "\n",
    "    df['x_loc'] = dx/1.6\n",
    "    df['y_loc']= dy/1.6 # Change to miles\n",
    "\n",
    "    df_copy = df\n",
    "    \n",
    "    df = df.drop(['_node_id','_latitude_gps','_longitude_gps','_latitude_wifi','_longitude_wifi',\n",
    "             '_altitude','_accuracy','_accuracy_gps','_accuracy_wifi','_place_name','_place_comment',\n",
    "                 '_latitude','_longitude','_activity','_time_location'], axis=1)\n",
    "\n",
    "    \n",
    "    traces = {}\n",
    "    \n",
    "    for date in date_list:\n",
    "        temp_df = np.array(df[df[\"Date\"]==date])[:,3:]\n",
    "        \n",
    "        # Normalize X and Y here to be average for that date (mean = 0)\n",
    "        ts = temp_df[:,0]\n",
    "        x = temp_df[:,1] # - np.mean(np.unique(temp_df[:,1]))\n",
    "        y = temp_df[:,2] # - np.mean(np.unique(temp_df[:,2]))\n",
    "        \n",
    "        temp_df[:,1] = x\n",
    "        temp_df[:,2] = y\n",
    "        \n",
    "        temp_final = np.empty([0,3])\n",
    "        temp_final = np.append(temp_final,np.reshape(temp_df[0],[1,3]),axis=0)\n",
    "                \n",
    "        for i in range(ts.shape[0]-1):\n",
    "            t2 = int(ts[i+1])\n",
    "            t1 = int(ts[i])\n",
    "            \n",
    "            row_2 = temp_df[i+1,:]\n",
    "            row_1 = temp_df[i,:]\n",
    "            \n",
    "            t_diff = t2 - t1\n",
    "            \n",
    "            # Extrapolate\n",
    "            if t_diff > 1:\n",
    "                times = range(t1+1,t2+1)\n",
    "                del_x = x[i+1]-x[i]\n",
    "                del_y = y[i+1]-y[i]\n",
    "                \n",
    "                ratio_count = 1\n",
    "                \n",
    "                for t in times:\n",
    "                    temp_x = x[i] + (ratio_count/t_diff) * del_x\n",
    "                    temp_y = y[i] + (ratio_count/t_diff) * del_y\n",
    "                    \n",
    "                    temp = np.array([[t,temp_x,temp_y]])\n",
    "                    temp_final = np.append(temp_final,temp,axis=0)\n",
    "                    \n",
    "                    ratio_count += 1\n",
    "                \n",
    "            # Delete one of the cases    \n",
    "            elif t_diff == 0:\n",
    "                continue\n",
    "                \n",
    "            # Proceed as normal    \n",
    "            elif t_diff == 1:\n",
    "                temp_final = np.append(temp_final,np.reshape(row_2,[1,3]),axis=0)\n",
    "            \n",
    "        traces[date] = temp_final\n",
    "    \n",
    "    return df, traces #, df_copy\n"
   ]
  },
  {
   "cell_type": "code",
   "execution_count": 5,
   "metadata": {},
   "outputs": [],
   "source": [
    "# a,b,c = load_usr(\"LifeMap_GS1.db\")"
   ]
  },
  {
   "cell_type": "code",
   "execution_count": 6,
   "metadata": {},
   "outputs": [],
   "source": [
    "# min(c[\"_longitude\"])*10e-7"
   ]
  },
  {
   "cell_type": "code",
   "execution_count": 7,
   "metadata": {},
   "outputs": [],
   "source": [
    "# max(a['x_loc'])"
   ]
  },
  {
   "cell_type": "code",
   "execution_count": 10,
   "metadata": {},
   "outputs": [
    {
     "name": "stdout",
     "output_type": "stream",
     "text": [
      "round 1\n",
      "round 2\n",
      "round 3\n",
      "round 4\n",
      "round 5\n",
      "round 6\n",
      "round 7\n",
      "round 8\n",
      "round 9\n",
      "round 10\n",
      "round 11\n",
      "round 12\n"
     ]
    }
   ],
   "source": [
    "db_start = \"crawdad_mobility/LifeMap_GS\"\n",
    "df = {}\n",
    "traces = {}\n",
    "\n",
    "for i in range(1,13):\n",
    "    print(\"round\", i)\n",
    "    db = db_start + str(i) + \".db\"\n",
    "    df[i], traces[i] = load_usr(db)"
   ]
  },
  {
   "cell_type": "code",
   "execution_count": 11,
   "metadata": {},
   "outputs": [],
   "source": [
    "# Combine all time steps into one long run\n",
    "traces_combined = {}\n",
    "\n",
    "for i in range(1,13):\n",
    "    key = list(traces[i])[0]\n",
    "    size = traces[i][key].shape[1]\n",
    "    \n",
    "    temp = np.empty([0,size])\n",
    "    \n",
    "    for k in traces[i].keys():\n",
    "        temp = np.append(temp, traces[i][k],axis=0)\n",
    "        \n",
    "    traces_combined[i] = temp"
   ]
  },
  {
   "cell_type": "code",
   "execution_count": 12,
   "metadata": {},
   "outputs": [
    {
     "name": "stdout",
     "output_type": "stream",
     "text": [
      "1 x_min: -7.836966219229323 x_max: 139.0 y_min: -7.6697193733674585 y_max: 140.0\n",
      "2 x_min: -12.386985776665616 x_max: 116.0 y_min: -12.386985776665616 y_max: 117.0\n",
      "3 x_min: -10.189351274697566 x_max: 180.0 y_min: -10.189181113883114 y_max: 181.0\n",
      "4 x_min: -2.4118381801867588 x_max: 91.0 y_min: -2.382313824304387 y_max: 92.0\n",
      "5 x_min: -32.75479072651423 x_max: 146.0 y_min: -32.73560976205753 y_max: 147.0\n",
      "6 x_min: 1.780992654644033 x_max: 100.0 y_min: 1.666976229622524 y_max: 159.0\n",
      "7 x_min: -14.33946071515848 x_max: 188.0 y_min: -14.33946071515848 y_max: 189.0\n",
      "8 x_min: -5.223098499249298 x_max: 225.0 y_min: -6.23508037665874 y_max: 226.0\n",
      "9 x_min: -20.73090518165497 x_max: 143.0 y_min: -20.72457601203177 y_max: 144.0\n",
      "10 x_min: 0.5714722707835729 x_max: 165.0 y_min: 0.5717351358756639 y_max: 166.0\n",
      "11 x_min: 0.8021797983453524 x_max: 21.0 y_min: -0.5886626974673239 y_max: 22.0\n",
      "12 x_min: -6.286122754884955 x_max: 223.0 y_min: -4.9281554155419816 y_max: 224.0\n"
     ]
    }
   ],
   "source": [
    "# Normalize movement\n",
    "for i in range(1,13):\n",
    "    temp = traces_combined[i]\n",
    "    print(i, \"x_min:\", min(temp[1]), \"x_max:\", max(temp[1]), \"y_min:\", min(temp[2]), \"y_max:\", max(temp[2]))"
   ]
  },
  {
   "cell_type": "code",
   "execution_count": 13,
   "metadata": {},
   "outputs": [
    {
     "name": "stdout",
     "output_type": "stream",
     "text": [
      "1 x_diff: 146.8369662192293 y_diff: 147.66971937336746\n",
      "2 x_diff: 128.38698577666563 y_diff: 129.38698577666563\n",
      "3 x_diff: 190.18935127469757 y_diff: 191.1891811138831\n",
      "4 x_diff: 93.41183818018676 y_diff: 94.38231382430439\n",
      "5 x_diff: 178.75479072651422 y_diff: 179.73560976205752\n",
      "6 x_diff: 98.21900734535596 y_diff: 157.33302377037748\n",
      "7 x_diff: 202.33946071515848 y_diff: 203.33946071515848\n",
      "8 x_diff: 230.2230984992493 y_diff: 232.23508037665874\n",
      "9 x_diff: 163.73090518165498 y_diff: 164.72457601203178\n",
      "10 x_diff: 164.42852772921643 y_diff: 165.42826486412434\n",
      "11 x_diff: 20.197820201654647 y_diff: 22.588662697467324\n",
      "12 x_diff: 229.28612275488496 y_diff: 228.928155415542\n"
     ]
    }
   ],
   "source": [
    "# Normalize movement\n",
    "for i in range(1,13):\n",
    "    temp = traces_combined[i]\n",
    "    print(i, \"x_diff:\", max(temp[1]) - min(temp[1]), \"y_diff:\", max(temp[2]) - min(temp[2]))"
   ]
  },
  {
   "cell_type": "code",
   "execution_count": null,
   "metadata": {},
   "outputs": [],
   "source": [
    "# Normalize and divide data\n",
    "# Add noise to data\n",
    "mu = 0\n",
    "sigma = 2\n",
    "mu1 = 0\n",
    "sigma1 = 1.5\n",
    "traces_normalized = {}\n",
    "for i in range(1,13): \n",
    "    temp = copy.deepcopy(traces_combined[i])\n",
    "    s1 = np.random.normal(mu, sigma, 1)\n",
    "    s2 = np.random.normal(mu, sigma, 1)\n",
    "    s3 = np.random.normal(mu1, sigma1, temp[:,1].shape[0])\n",
    "    s4 = np.random.normal(mu1, sigma1, temp[:,2].shape[0])\n",
    "    temp[:,1] = (temp[:,1] - np.median(temp[:, 1]))/20 + 3.5 + s1 + s3\n",
    "    temp[:,2] = (temp[:,2] - np.median(temp[:,2]))/20 -3 +s2 + s4\n",
    "    traces_normalized[i] = temp"
   ]
  },
  {
   "cell_type": "code",
   "execution_count": null,
   "metadata": {},
   "outputs": [],
   "source": []
  },
  {
   "cell_type": "code",
   "execution_count": null,
   "metadata": {},
   "outputs": [],
   "source": [
    "# Repeat traces to fulfill rounds\n",
    "goal = 40000\n",
    "\n",
    "traces_normalized_repeated = {}\n",
    "\n",
    "key = list(traces[1])[1]\n",
    "size = traces[1][key].shape[1]\n",
    "\n",
    "\n",
    "# check the number of time steps for each user\n",
    "for i in range(1,13):\n",
    "    trace_len = traces_normalized[i].shape[0]\n",
    "    repeat_times = goal/trace_len\n",
    "    num_repeat = int(np.ceil(repeat_times))\n",
    "    temp = np.empty([0,size])\n",
    "    temp2 = traces_normalized[i]\n",
    "    \n",
    "    for t in range(num_repeat):\n",
    "        if t%2 == 0:\n",
    "            temp = np.append(temp, temp2,axis=0)\n",
    "        else:\n",
    "            temp = np.append(temp, np.flip(temp2, 0), axis=0)\n",
    "\n",
    "    temp[:,0] = np.arange(temp.shape[0])\n",
    "            \n",
    "    traces_normalized_repeated[i-1] = temp[:goal]"
   ]
  },
  {
   "cell_type": "code",
   "execution_count": null,
   "metadata": {},
   "outputs": [],
   "source": [
    "traces_normalized_repeated[0]"
   ]
  },
  {
   "cell_type": "code",
   "execution_count": null,
   "metadata": {},
   "outputs": [],
   "source": [
    "# Plot all locations to see concentration\n",
    "import matplotlib.pyplot as plt\n",
    "for i in range(0,12):\n",
    "    if i != 7 and i != 11:\n",
    "# i = 5\n",
    "        plt.plot(traces_normalized_repeated[i][:,1], traces_normalized_repeated[i][:,2], 'o')\n",
    "plt.show()"
   ]
  },
  {
   "cell_type": "code",
   "execution_count": 63,
   "metadata": {},
   "outputs": [],
   "source": [
    "with open(\"traces_normalized_40k.pkl\", \"wb\") as tf:\n",
    "    pickle.dump(traces_normalized_repeated,tf)"
   ]
  },
  {
   "cell_type": "code",
   "execution_count": 64,
   "metadata": {},
   "outputs": [],
   "source": [
    "with open('traces_normalized_40k.pkl', 'rb') as handle:\n",
    "    b = pickle.load(handle)"
   ]
  },
  {
   "cell_type": "code",
   "execution_count": 65,
   "metadata": {},
   "outputs": [],
   "source": [
    "num_svr = 9\n",
    "num_usr_loc = 9\n",
    "# Generate visitng locations and server locations\n",
    "usr_locs = gen_eq_locs(space_1d=5, nums=num_usr_loc,offset = 1)\n",
    "svr_locs = gen_eq_locs(space_1d=5, nums=num_svr,offset = 1)\n",
    "\n",
    "offset_x = 0\n",
    "offset_y = 5\n",
    "for i in range(len(usr_locs)):\n",
    "    usr_locs[i] = (usr_locs[i][0]-offset_x, usr_locs[i][1]-offset_y)\n",
    "for i in range(len(svr_locs)):\n",
    "    svr_locs[i] = (svr_locs[i][0]-offset_x, svr_locs[i][1]-offset_y)\n"
   ]
  },
  {
   "cell_type": "code",
   "execution_count": 66,
   "metadata": {},
   "outputs": [
    {
     "data": {
      "image/png": "[encoded data removed]",
      "text/plain": [
       "<Figure size 432x288 with 1 Axes>"
      ]
     },
     "metadata": {
      "needs_background": "light"
     },
     "output_type": "display_data"
    }
   ],
   "source": [
    "for i in range(len(usr_locs)):\n",
    "    plt.plot(usr_locs[i][0],usr_locs[i][1], 'o')\n",
    "plt.show()"
   ]
  },
  {
   "cell_type": "code",
   "execution_count": 67,
   "metadata": {},
   "outputs": [
    {
     "data": {
      "image/png": "[encoded data removed]",
      "text/plain": [
       "<Figure size 432x288 with 1 Axes>"
      ]
     },
     "metadata": {
      "needs_background": "light"
     },
     "output_type": "display_data"
    }
   ],
   "source": [
    "for i in range(len(svr_locs)):\n",
    "    plt.plot(svr_locs[i][0],svr_locs[i][1], 'o')\n",
    "plt.show()"
   ]
  },
  {
   "cell_type": "code",
   "execution_count": 68,
   "metadata": {},
   "outputs": [],
   "source": [
    "traces_discretized = {}\n",
    "for i in range(0,12):\n",
    "    T = goal\n",
    "    load_trace = traces_normalized_repeated[i]\n",
    "    closest = np.zeros(goal)\n",
    "    for t in range(goal):\n",
    "        temp = np.zeros(num_usr_loc)\n",
    "        x1 = load_trace[t,1]\n",
    "        y1 = load_trace[t,2]\n",
    "        for j in range(num_usr_loc):\n",
    "            x2 = usr_locs[j][0]\n",
    "            y2 = usr_locs[j][1]\n",
    "            temp[j] = np.sqrt((x1-x2)**2 + (y1-y2)**2)\n",
    "        closest[t] = np.random.choice(np.where(temp == temp.min())[0])\n",
    "    traces_discretized[i] = closest\n",
    "        "
   ]
  },
  {
   "cell_type": "code",
   "execution_count": 72,
   "metadata": {},
   "outputs": [
    {
     "data": {
      "text/plain": [
       "array([6., 7., 7., 6., 6., 6., 6., 6., 7., 6., 6., 6., 7., 7., 6., 6., 6.,\n",
       "       7., 6., 6., 6., 6., 6., 6., 6., 6., 6., 6., 6., 7., 6., 7., 6., 7.,\n",
       "       6., 6., 6., 6., 6., 6., 6., 6., 6., 6., 6., 6., 6., 6., 6., 6., 7.,\n",
       "       6., 6., 6., 6., 6., 6., 6., 6., 6., 6., 6., 6., 6., 6., 7., 6., 6.,\n",
       "       6., 6., 7., 6., 6., 6., 6., 6., 6., 6., 6., 6., 7., 6., 6., 6., 6.,\n",
       "       6., 7., 6., 7., 6., 6., 6., 6., 6., 6., 6., 6., 6., 6., 6., 6., 6.,\n",
       "       6., 6., 6., 6., 6., 6., 6., 6., 6., 6., 6., 6., 6., 6., 6., 6., 6.,\n",
       "       6., 6., 6., 6., 6., 6., 6., 6., 6., 7., 6., 6., 6., 6., 6., 6., 6.,\n",
       "       6., 6., 6., 6., 6., 6., 7., 6., 6., 6., 6., 6., 6., 6., 6., 6., 6.,\n",
       "       7., 6., 6., 6., 6., 6., 6., 6., 6., 6., 6., 6., 6., 6., 6., 6., 6.,\n",
       "       7., 6., 6., 6., 6., 6., 6., 7., 6., 6., 6., 6., 6., 6., 6., 7., 6.,\n",
       "       6., 7., 6., 6., 6., 6., 6., 6., 6., 6., 6., 6., 7., 6., 7., 6., 6.,\n",
       "       6., 7., 6., 6., 6., 6., 6., 6., 6., 7., 6., 6., 6., 7., 6., 7., 6.,\n",
       "       6., 6., 6., 6., 6., 6., 6., 6., 6., 6., 6., 7., 6., 7., 7., 6., 6.,\n",
       "       7., 6., 7., 6., 6., 6., 6., 6., 6., 6., 6., 6., 6., 6., 6., 6., 6.,\n",
       "       6., 7., 6., 6., 6., 6., 6., 6., 6., 6., 6., 6., 6., 6., 7., 6., 7.,\n",
       "       7., 6., 6., 7., 6., 7., 7., 6., 6., 6., 6., 6., 7., 7., 7., 7., 6.,\n",
       "       6., 7., 6., 6., 7., 6., 6., 6., 6., 6., 6., 6., 7., 6., 7., 6., 6.,\n",
       "       7., 6., 6., 6., 6., 6., 6., 6., 6., 6., 7., 6., 6., 6., 6., 6., 6.,\n",
       "       6., 6., 7., 7., 6., 7., 6., 6., 6., 6., 6., 6., 6., 6., 6., 6., 6.,\n",
       "       6., 6., 6., 6., 6., 7., 6., 6., 6., 6., 6., 6., 6., 6., 6., 6., 6.,\n",
       "       6., 6., 6., 6., 6., 6., 6., 7., 6., 6., 6., 6., 7., 6., 6., 6., 6.,\n",
       "       6., 6., 6., 6., 6., 7., 6., 7., 6., 7., 6., 6., 7., 6., 6., 6., 6.,\n",
       "       7., 6., 6., 6., 6., 6., 7., 6., 6., 6., 6., 6., 6., 6., 6., 6., 6.,\n",
       "       6., 6., 6., 6., 6., 6., 6., 7., 6., 6., 6., 6., 6., 6., 6., 6., 6.,\n",
       "       7., 7., 6., 6., 6., 6., 6., 6., 6., 6., 6., 6., 6., 6., 7., 6., 6.,\n",
       "       6., 6., 6., 7., 6., 6., 6., 6., 6., 6., 6., 6., 6., 6., 6., 6., 6.,\n",
       "       6., 6., 6., 7., 6., 6., 6., 6., 7., 6., 6., 6., 7., 6., 6., 6., 6.,\n",
       "       7., 7., 6., 7., 6., 6., 7., 6., 6., 6., 6., 6., 6., 6., 6., 6., 6.,\n",
       "       6., 6., 6., 7., 6., 6., 6., 6., 7., 6., 6., 6., 7., 6., 6., 6., 6.,\n",
       "       6., 6., 6., 7., 6., 6., 6., 6., 6., 6., 7., 6., 7., 6., 6., 6., 6.,\n",
       "       7., 6., 6., 6., 6., 6., 6., 7., 6., 6., 6., 6., 6., 6., 6., 6., 6.,\n",
       "       6., 6., 7., 6., 6., 6., 6., 6., 6., 7., 6., 6., 6., 6., 7., 6., 6.,\n",
       "       6., 6., 6., 7., 6., 6., 6., 7., 6., 7., 6., 6., 6., 6., 6., 7., 6.,\n",
       "       6., 6., 6., 6., 6., 6., 7., 6., 6., 6., 6., 6., 6., 6., 7., 6., 7.,\n",
       "       6., 6., 6., 6., 6., 6., 6., 7., 6., 6., 6., 6., 6., 6., 6., 6., 6.,\n",
       "       6., 6., 6., 6., 6., 6., 6., 6., 6., 6., 6., 6., 6., 6., 6., 6., 6.,\n",
       "       6., 6., 6., 6., 6., 6., 6., 6., 6., 6., 6., 7., 6., 7., 6., 6., 6.,\n",
       "       6., 6., 6., 6., 6., 6., 6., 6., 6., 6., 6., 6., 6., 6., 6., 6., 6.,\n",
       "       6., 7., 6., 6., 6., 6., 6., 7., 6., 6., 6., 6., 6., 6., 6., 6., 6.,\n",
       "       6., 6., 6., 6., 6., 6., 6., 7., 6., 6., 6., 6., 6., 6., 6., 6., 7.,\n",
       "       6., 7., 7., 6., 6., 6., 6., 6., 6., 7., 6., 6., 6., 6., 6., 6., 6.,\n",
       "       6., 6., 6., 6., 6., 6., 6., 6., 6., 6., 6., 6., 6., 6., 6., 6., 6.,\n",
       "       6., 6., 7., 6., 6., 6., 7., 6., 7., 6., 6., 7., 6., 6., 6., 7., 6.,\n",
       "       6., 6., 6., 6., 6., 6., 6., 6., 6., 6., 6., 6., 7., 6., 6., 7., 6.,\n",
       "       6., 7., 6., 6., 6., 6., 6., 6., 6., 7., 6., 6., 6., 6., 6., 6., 6.,\n",
       "       7., 6., 6., 6., 6., 6., 6., 6., 6., 7., 6., 6., 6., 6., 6., 7., 6.,\n",
       "       6., 6., 7., 6., 6., 6., 6., 7., 6., 6., 6., 6., 6., 6., 6., 6., 6.,\n",
       "       7., 7., 6., 6., 6., 6., 6., 6., 6., 6., 6., 6., 7., 6., 6., 6., 6.,\n",
       "       6., 6., 6., 6., 6., 6., 6., 6., 6., 6., 6., 6., 6., 6., 6., 6., 6.,\n",
       "       6., 6., 6., 6., 6., 6., 6., 6., 7., 6., 6., 6., 6., 6., 6., 6., 6.,\n",
       "       6., 6., 7., 6., 6., 6., 6., 7., 6., 6., 6., 6., 6., 6., 6., 6., 6.,\n",
       "       6., 6., 6., 6., 6., 6., 6., 6., 6., 6., 6., 7., 6., 7., 6., 6., 6.,\n",
       "       6., 6., 6., 7., 7., 6., 6., 6., 7., 6., 6., 6., 6., 6., 7., 6., 6.,\n",
       "       6., 6., 6., 6., 6., 6., 6., 6., 7., 6., 6., 6., 7., 6., 6., 6., 6.,\n",
       "       6., 6., 7., 6., 7., 6., 7., 6., 6., 6., 7., 6., 7., 6., 6., 6., 6.,\n",
       "       6., 6., 7., 6., 6., 6., 6., 6., 7., 6., 6., 6., 7., 7., 6., 7., 6.,\n",
       "       6., 6., 6., 6., 6., 6., 6., 6., 6., 6., 6., 6., 6., 6., 6., 6., 6.,\n",
       "       6., 7., 6., 6., 6., 6., 7., 6., 6., 6., 6., 6., 7., 6.])"
      ]
     },
     "execution_count": 72,
     "metadata": {},
     "output_type": "execute_result"
    }
   ],
   "source": [
    "traces_discretized[8][9000:10000]"
   ]
  },
  {
   "cell_type": "code",
   "execution_count": 73,
   "metadata": {},
   "outputs": [],
   "source": [
    "P_dict = {}\n",
    "for i in range(0,12):\n",
    "    P_temp = np.zeros([num_usr_loc,num_usr_loc])\n",
    "    for t in range(goal-1):\n",
    "        x = int(traces_discretized[i][t])\n",
    "        y = int(traces_discretized[i][t+1])\n",
    "        P_temp[x,y] += 1\n",
    "    for j in range(num_usr_loc):\n",
    "        P_temp[j] = P_temp[j]/(np.sum(P_temp[j]) + 0.0000001)\n",
    "    # Fixing bad rows where movement doesn't occur to\n",
    "    default_state = np.random.choice(np.where(np.sum(P_temp,axis=0) > 0.5)[0])\n",
    "    for j in range(num_usr_loc):\n",
    "        if np.sum(P_temp[j]) < 0.5 :\n",
    "            P_temp[j,default_state] = 1\n",
    "    P_dict[i] = P_temp"
   ]
  },
  {
   "cell_type": "code",
   "execution_count": 74,
   "metadata": {},
   "outputs": [
    {
     "data": {
      "text/plain": [
       "array([[8.94736841e-01, 5.26315789e-02, 0.00000000e+00, 3.94736842e-02,\n",
       "        0.00000000e+00, 0.00000000e+00, 1.31578947e-02, 0.00000000e+00,\n",
       "        0.00000000e+00],\n",
       "       [7.99999998e-02, 2.79999999e-01, 6.39999999e-01, 0.00000000e+00,\n",
       "        0.00000000e+00, 0.00000000e+00, 0.00000000e+00, 0.00000000e+00,\n",
       "        0.00000000e+00],\n",
       "       [0.00000000e+00, 2.13333333e-01, 7.86666666e-01, 0.00000000e+00,\n",
       "        0.00000000e+00, 0.00000000e+00, 0.00000000e+00, 0.00000000e+00,\n",
       "        0.00000000e+00],\n",
       "       [6.52173913e-03, 0.00000000e+00, 0.00000000e+00, 2.73913043e-01,\n",
       "        0.00000000e+00, 0.00000000e+00, 7.19565217e-01, 0.00000000e+00,\n",
       "        0.00000000e+00],\n",
       "       [0.00000000e+00, 0.00000000e+00, 1.00000000e+00, 0.00000000e+00,\n",
       "        0.00000000e+00, 0.00000000e+00, 0.00000000e+00, 0.00000000e+00,\n",
       "        0.00000000e+00],\n",
       "       [0.00000000e+00, 0.00000000e+00, 1.00000000e+00, 0.00000000e+00,\n",
       "        0.00000000e+00, 0.00000000e+00, 0.00000000e+00, 0.00000000e+00,\n",
       "        0.00000000e+00],\n",
       "       [2.54692713e-05, 0.00000000e+00, 0.00000000e+00, 8.43032881e-03,\n",
       "        0.00000000e+00, 0.00000000e+00, 9.91544202e-01, 0.00000000e+00,\n",
       "        0.00000000e+00],\n",
       "       [0.00000000e+00, 0.00000000e+00, 1.00000000e+00, 0.00000000e+00,\n",
       "        0.00000000e+00, 0.00000000e+00, 0.00000000e+00, 0.00000000e+00,\n",
       "        0.00000000e+00],\n",
       "       [0.00000000e+00, 0.00000000e+00, 1.00000000e+00, 0.00000000e+00,\n",
       "        0.00000000e+00, 0.00000000e+00, 0.00000000e+00, 0.00000000e+00,\n",
       "        0.00000000e+00]])"
      ]
     },
     "execution_count": 74,
     "metadata": {},
     "output_type": "execute_result"
    }
   ],
   "source": [
    "P_dict[0]"
   ]
  },
  {
   "cell_type": "code",
   "execution_count": 75,
   "metadata": {},
   "outputs": [],
   "source": [
    "with open(\"traces_P_40k.pkl\", \"wb\") as tf:\n",
    "    pickle.dump(P_dict,tf)"
   ]
  },
  {
   "cell_type": "code",
   "execution_count": 76,
   "metadata": {},
   "outputs": [],
   "source": [
    "with open(\"traces_discretized_40k.pkl\", \"wb\") as tf:\n",
    "    pickle.dump(traces_discretized,tf)"
   ]
  },
  {
   "cell_type": "code",
   "execution_count": null,
   "metadata": {},
   "outputs": [],
   "source": []
  }
 ],
 "metadata": {
  "kernelspec": {
   "display_name": "Python 3",
   "language": "python",
   "name": "python3"
  },
  "language_info": {
   "codemirror_mode": {
    "name": "ipython",
    "version": 3
   },
   "file_extension": ".py",
   "mimetype": "text/x-python",
   "name": "python",
   "nbconvert_exporter": "python",
   "pygments_lexer": "ipython3",
   "version": "3.7.3"
  }
 },
 "nbformat": 4,
 "nbformat_minor": 2
}
