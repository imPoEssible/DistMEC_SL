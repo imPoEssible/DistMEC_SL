{
 "cells": [
  {
   "cell_type": "code",
   "execution_count": 1,
   "metadata": {},
   "outputs": [
    {
     "name": "stdout",
     "output_type": "stream",
     "text": [
      "/home/ubuntu/DistMEC\n"
     ]
    }
   ],
   "source": [
    "cd /home/ubuntu/DistMEC/"
   ]
  },
  {
   "cell_type": "code",
   "execution_count": 2,
   "metadata": {},
   "outputs": [],
   "source": [
    "import sqlite3\n",
    "import pandas as pd\n",
    "import numpy as np\n",
    "import math\n",
    "import copy\n",
    "import pickle\n",
    "\n",
    "from classes.User import *\n",
    "from classes.solver import *\n",
    "from classes.Server import *\n",
    "from classes.distributed_utils import *\n"
   ]
  },
  {
   "cell_type": "code",
   "execution_count": 3,
   "metadata": {},
   "outputs": [],
   "source": [
    "def longlat2km(lat1, long1, lat2, long2):\n",
    "    D = 40075 # km\n",
    "    dy = (lat1-lat2) * 111.32\n",
    "    dx = (long1 - long2)*(D * np.cos((lat1+lat2)/(2 * 180 )))/(360)\n",
    "    \n",
    "    return dy, dx\n",
    "\n",
    "def load_usr(db, ts_min_size = 5):\n",
    "    cnx = sqlite3.connect(db)\n",
    "    df = pd.read_sql_query(\"SELECT * FROM locationTable\", cnx)\n",
    "\n",
    "    cnx.close()\n",
    "\n",
    "    df = df[df['_activity'] == 2]\n",
    "    df = df[df['_latitude']>0]\n",
    "    df = df[df['_longitude']>0]\n",
    "    \n",
    "    times = np.array(df['_time_location'])\n",
    "    date_list = []\n",
    "    hr_list = []\n",
    "    min_list = []\n",
    "    ts_list = []\n",
    "    \n",
    "\n",
    "    for t in times:\n",
    "        date_list+= [t[4:-9]]\n",
    "        hr_list+= [int(t[8:-7])]\n",
    "        min_list += [int(t[10:-5])]\n",
    "        ts_list += [np.round((hr_list[-1]*60 + min_list[-1])/ts_min_size)]\n",
    "        \n",
    "    df['Date'] = date_list\n",
    "    df['Hr'] = hr_list\n",
    "    df['Min'] = min_list\n",
    "    df['ts'] = ts_list\n",
    "\n",
    "    \n",
    "    lat = np.array(df['_latitude']*10e-7)\n",
    "    long = np.array(df['_longitude']*10e-7)\n",
    "\n",
    "    mean_lat = np.mean(lat)\n",
    "    mean_long =  np.mean(long)\n",
    "\n",
    "    dx,dy = longlat2km(lat,long,mean_lat,mean_long)\n",
    "\n",
    "    df['x_loc'] = dx/1.6\n",
    "    df['y_loc']= dy/1.6 # Change to miles\n",
    "\n",
    "    df_copy = df\n",
    "    \n",
    "    df = df.drop(['_node_id','_latitude_gps','_longitude_gps','_latitude_wifi','_longitude_wifi',\n",
    "             '_altitude','_accuracy','_accuracy_gps','_accuracy_wifi','_place_name','_place_comment',\n",
    "                 '_latitude','_longitude','_activity','_time_location'], axis=1)\n",
    "\n",
    "    \n",
    "    traces = {}\n",
    "    \n",
    "    for date in date_list:\n",
    "        temp_df = np.array(df[df[\"Date\"]==date])[:,3:]\n",
    "        \n",
    "        # Normalize X and Y here to be average for that date (mean = 0)\n",
    "        ts = temp_df[:,0]\n",
    "        x = temp_df[:,1] # - np.mean(np.unique(temp_df[:,1]))\n",
    "        y = temp_df[:,2] # - np.mean(np.unique(temp_df[:,2]))\n",
    "        \n",
    "        temp_df[:,1] = x\n",
    "        temp_df[:,2] = y\n",
    "        \n",
    "        temp_final = np.empty([0,3])\n",
    "        temp_final = np.append(temp_final,np.reshape(temp_df[0],[1,3]),axis=0)\n",
    "                \n",
    "        for i in range(ts.shape[0]-1):\n",
    "            t2 = int(ts[i+1])\n",
    "            t1 = int(ts[i])\n",
    "            \n",
    "            row_2 = temp_df[i+1,:]\n",
    "            row_1 = temp_df[i,:]\n",
    "            \n",
    "            t_diff = t2 - t1\n",
    "            \n",
    "            # Extrapolate\n",
    "            if t_diff > 1:\n",
    "                times = range(t1+1,t2+1)\n",
    "                del_x = x[i+1]-x[i]\n",
    "                del_y = y[i+1]-y[i]\n",
    "                \n",
    "                ratio_count = 1\n",
    "                \n",
    "                for t in times:\n",
    "                    temp_x = x[i] + (ratio_count/t_diff) * del_x\n",
    "                    temp_y = y[i] + (ratio_count/t_diff) * del_y\n",
    "                    \n",
    "                    temp = np.array([[t,temp_x,temp_y]])\n",
    "                    temp_final = np.append(temp_final,temp,axis=0)\n",
    "                    \n",
    "                    ratio_count += 1\n",
    "                \n",
    "            # Delete one of the cases    \n",
    "            elif t_diff == 0:\n",
    "                continue\n",
    "                \n",
    "            # Proceed as normal    \n",
    "            elif t_diff == 1:\n",
    "                temp_final = np.append(temp_final,np.reshape(row_2,[1,3]),axis=0)\n",
    "            \n",
    "        traces[date] = temp_final\n",
    "    \n",
    "    return df, traces #, df_copy\n"
   ]
  },
  {
   "cell_type": "code",
   "execution_count": 4,
   "metadata": {},
   "outputs": [],
   "source": [
    "# a,b,c = load_usr(\"LifeMap_GS1.db\")"
   ]
  },
  {
   "cell_type": "code",
   "execution_count": 5,
   "metadata": {},
   "outputs": [],
   "source": [
    "# min(c[\"_longitude\"])*10e-7"
   ]
  },
  {
   "cell_type": "code",
   "execution_count": 6,
   "metadata": {},
   "outputs": [],
   "source": [
    "# max(a['x_loc'])"
   ]
  },
  {
   "cell_type": "code",
   "execution_count": 7,
   "metadata": {},
   "outputs": [
    {
     "name": "stdout",
     "output_type": "stream",
     "text": [
      "round 1\n",
      "round 2\n",
      "round 3\n",
      "round 4\n",
      "round 5\n",
      "round 6\n",
      "round 7\n",
      "round 8\n",
      "round 9\n",
      "round 10\n",
      "round 11\n",
      "round 12\n"
     ]
    }
   ],
   "source": [
    "db_start = \"crawdad_mobility/LifeMap_GS\"\n",
    "df = {}\n",
    "traces = {}\n",
    "\n",
    "for i in range(1,13):\n",
    "    print(\"round\", i)\n",
    "    db = db_start + str(i) + \".db\"\n",
    "    df[i], traces[i] = load_usr(db)"
   ]
  },
  {
   "cell_type": "code",
   "execution_count": 31,
   "metadata": {},
   "outputs": [],
   "source": [
    "# Combine all time steps into one long run\n",
    "traces_combined = {}\n",
    "\n",
    "for i in range(1,13):\n",
    "    key = list(traces[i])[0]\n",
    "    size = traces[i][key].shape[1]\n",
    "    \n",
    "    temp = np.empty([0,size])\n",
    "    \n",
    "    for k in traces[i].keys():\n",
    "        temp = np.append(temp, traces[i][k],axis=0)\n",
    "        \n",
    "    traces_combined[i] = temp"
   ]
  },
  {
   "cell_type": "code",
   "execution_count": 32,
   "metadata": {},
   "outputs": [
    {
     "name": "stdout",
     "output_type": "stream",
     "text": [
      "1 x_min: -7.836966219229323 x_max: 139.0 y_min: -7.6697193733674585 y_max: 140.0\n",
      "2 x_min: -12.386985776665616 x_max: 116.0 y_min: -12.386985776665616 y_max: 117.0\n",
      "3 x_min: -10.189351274697566 x_max: 180.0 y_min: -10.189181113883114 y_max: 181.0\n",
      "4 x_min: -2.4118381801867588 x_max: 91.0 y_min: -2.382313824304387 y_max: 92.0\n",
      "5 x_min: -32.75479072651423 x_max: 146.0 y_min: -32.73560976205753 y_max: 147.0\n",
      "6 x_min: 1.780992654644033 x_max: 100.0 y_min: 1.666976229622524 y_max: 159.0\n",
      "7 x_min: -14.33946071515848 x_max: 188.0 y_min: -14.33946071515848 y_max: 189.0\n",
      "8 x_min: -5.223098499249298 x_max: 225.0 y_min: -6.23508037665874 y_max: 226.0\n",
      "9 x_min: -20.73090518165497 x_max: 143.0 y_min: -20.72457601203177 y_max: 144.0\n",
      "10 x_min: 0.5714722707835729 x_max: 165.0 y_min: 0.5717351358756639 y_max: 166.0\n",
      "11 x_min: 0.8021797983453524 x_max: 21.0 y_min: -0.5886626974673239 y_max: 22.0\n",
      "12 x_min: -6.286122754884955 x_max: 223.0 y_min: -4.9281554155419816 y_max: 224.0\n"
     ]
    }
   ],
   "source": [
    "# Normalize movement\n",
    "for i in range(1,13):\n",
    "    temp = traces_combined[i]\n",
    "    print(i, \"x_min:\", min(temp[1]), \"x_max:\", max(temp[1]), \"y_min:\", min(temp[2]), \"y_max:\", max(temp[2]))"
   ]
  },
  {
   "cell_type": "code",
   "execution_count": 33,
   "metadata": {},
   "outputs": [
    {
     "name": "stdout",
     "output_type": "stream",
     "text": [
      "1 x_diff: 146.8369662192293 y_diff: 147.66971937336746\n",
      "2 x_diff: 128.38698577666563 y_diff: 129.38698577666563\n",
      "3 x_diff: 190.18935127469757 y_diff: 191.1891811138831\n",
      "4 x_diff: 93.41183818018676 y_diff: 94.38231382430439\n",
      "5 x_diff: 178.75479072651422 y_diff: 179.73560976205752\n",
      "6 x_diff: 98.21900734535596 y_diff: 157.33302377037748\n",
      "7 x_diff: 202.33946071515848 y_diff: 203.33946071515848\n",
      "8 x_diff: 230.2230984992493 y_diff: 232.23508037665874\n",
      "9 x_diff: 163.73090518165498 y_diff: 164.72457601203178\n",
      "10 x_diff: 164.42852772921643 y_diff: 165.42826486412434\n",
      "11 x_diff: 20.197820201654647 y_diff: 22.588662697467324\n",
      "12 x_diff: 229.28612275488496 y_diff: 228.928155415542\n"
     ]
    }
   ],
   "source": [
    "# Normalize movement\n",
    "for i in range(1,13):\n",
    "    temp = traces_combined[i]\n",
    "    print(i, \"x_diff:\", max(temp[1]) - min(temp[1]), \"y_diff:\", max(temp[2]) - min(temp[2]))"
   ]
  },
  {
   "cell_type": "code",
   "execution_count": 45,
   "metadata": {},
   "outputs": [],
   "source": [
    "# Normalize and divide data\n",
    "# Add noise to data\n",
    "mu = 0\n",
    "sigma = 0.5\n",
    "mu1 = 0\n",
    "sigma1 = 5\n",
    "traces_normalized = {}\n",
    "for i in range(1,13): \n",
    "    \n",
    "    if i%3 == 0:\n",
    "        mulx = 1\n",
    "        muly = 1\n",
    "    if i%3 == 1:\n",
    "        mulx = -1\n",
    "        muly = 1\n",
    "    if i%3 == 2:\n",
    "        mulx = -1\n",
    "        muly = -1\n",
    "    \n",
    "    temp = copy.deepcopy(traces_combined[i])\n",
    "    s1 = np.random.normal(mu, sigma, 1)\n",
    "    s2 = np.random.normal(mu, sigma, 1)\n",
    "    s3 = np.random.normal(mu1, sigma1, temp[:,1].shape[0])\n",
    "    s4 = np.random.normal(mu1, sigma1, temp[:,2].shape[0])\n",
    "    temp[:,1] = (((temp[:,1] - np.median(temp[:, 1]))   + s3)/30 + 3 + s1) * mulx\n",
    "    temp[:,2] = (((temp[:,2] - np.median(temp[:,2]))   + s4)/30 -3 +s2) * muly\n",
    "    traces_normalized[i-1] = temp"
   ]
  },
  {
   "cell_type": "raw",
   "metadata": {},
   "source": [
    "# Repeat traces to fulfill rounds\n",
    "goal = 40000\n",
    "\n",
    "traces_normalized_repeated = {}\n",
    "\n",
    "key = list(traces[1])[1]\n",
    "size = traces[1][key].shape[1]\n",
    "\n",
    "\n",
    "# check the number of time steps for each user\n",
    "for i in range(1,13):\n",
    "    trace_len = traces_normalized[i].shape[0]\n",
    "    repeat_times = goal/trace_len\n",
    "    num_repeat = int(np.ceil(repeat_times))\n",
    "    temp = np.empty([0,size])\n",
    "    temp2 = traces_normalized[i]\n",
    "    \n",
    "    for t in range(num_repeat):\n",
    "        if t%2 == 0:\n",
    "            temp = np.append(temp, temp2,axis=0)\n",
    "        else:\n",
    "            temp = np.append(temp, np.flip(temp2, 0), axis=0)\n",
    "\n",
    "    temp[:,0] = np.arange(temp.shape[0])\n",
    "            \n",
    "    traces_normalized_repeated[i-1] = temp[:goal]"
   ]
  },
  {
   "cell_type": "code",
   "execution_count": 46,
   "metadata": {},
   "outputs": [
    {
     "data": {
      "image/png": "[encoded data removed]",
      "text/plain": [
       "<Figure size 432x288 with 1 Axes>"
      ]
     },
     "metadata": {
      "needs_background": "light"
     },
     "output_type": "display_data"
    }
   ],
   "source": [
    "# Plot all locations to see concentration\n",
    "import matplotlib.pyplot as plt\n",
    "for i in range(0,12):\n",
    "    if i != 7 and i != 11:\n",
    "# i = 5\n",
    "        plt.plot(traces_normalized[i][:,1], traces_normalized[i][:,2], 'o')\n",
    "plt.show()"
   ]
  },
  {
   "cell_type": "raw",
   "metadata": {},
   "source": [
    "with open(\"traces_normalized_40k.pkl\", \"wb\") as tf:\n",
    "    pickle.dump(traces_normalized_repeated,tf)"
   ]
  },
  {
   "cell_type": "raw",
   "metadata": {},
   "source": [
    "with open('traces_normalized_40k.pkl', 'rb') as handle:\n",
    "    b = pickle.load(handle)"
   ]
  },
  {
   "cell_type": "code",
   "execution_count": 54,
   "metadata": {},
   "outputs": [],
   "source": [
    "num_svr = 9\n",
    "num_usr_loc = 9\n",
    "# Generate visitng locations and server locations\n",
    "usr_locs = gen_eq_locs(space_1d=10, nums=num_usr_loc,offset = 1)\n",
    "svr_locs = gen_eq_locs(space_1d=10, nums=num_svr,offset = 1)\n",
    "\n",
    "offset_x = 4.5\n",
    "offset_y = 4.5\n",
    "for i in range(len(usr_locs)):\n",
    "    usr_locs[i] = (usr_locs[i][0]-offset_x, usr_locs[i][1]-offset_y)\n",
    "for i in range(len(svr_locs)):\n",
    "    svr_locs[i] = (svr_locs[i][0]-offset_x, svr_locs[i][1]-offset_y)\n"
   ]
  },
  {
   "cell_type": "code",
   "execution_count": 55,
   "metadata": {},
   "outputs": [
    {
     "data": {
      "image/png": "[encoded data removed]",
      "text/plain": [
       "<Figure size 432x288 with 1 Axes>"
      ]
     },
     "metadata": {
      "needs_background": "light"
     },
     "output_type": "display_data"
    }
   ],
   "source": [
    "for i in range(len(usr_locs)):\n",
    "    plt.plot(usr_locs[i][0],usr_locs[i][1], 'o')\n",
    "plt.show()"
   ]
  },
  {
   "cell_type": "code",
   "execution_count": 56,
   "metadata": {},
   "outputs": [
    {
     "data": {
      "image/png": "[encoded data removed]",
      "text/plain": [
       "<Figure size 432x288 with 1 Axes>"
      ]
     },
     "metadata": {
      "needs_background": "light"
     },
     "output_type": "display_data"
    }
   ],
   "source": [
    "for i in range(len(svr_locs)):\n",
    "    plt.plot(svr_locs[i][0],svr_locs[i][1], 'o')\n",
    "plt.show()"
   ]
  },
  {
   "cell_type": "code",
   "execution_count": 76,
   "metadata": {},
   "outputs": [],
   "source": [
    "traces_discretized = {}\n",
    "for i in range(0,12):\n",
    "    if i != 7 and i != 11:\n",
    "#         T = goal\n",
    "    #     load_trace = traces_normalized_repeated[i]\n",
    "        load_trace = traces_normalized[i]\n",
    "        closest = np.zeros(load_trace.shape[0])\n",
    "        for t in range(load_trace.shape[0]):\n",
    "            temp = np.zeros(num_usr_loc)\n",
    "            x1 = load_trace[t,1]\n",
    "            y1 = load_trace[t,2]\n",
    "            for j in range(num_usr_loc):\n",
    "                x2 = usr_locs[j][0]\n",
    "                y2 = usr_locs[j][1]\n",
    "                temp[j] = np.sqrt((x1-x2)**2 + (y1-y2)**2)\n",
    "            closest[t] = np.random.choice(np.where(temp == temp.min())[0])\n",
    "        traces_discretized[i] = closest\n",
    "\n",
    "# combine all traces\n",
    "# traces_discretized = np.empty(0)\n",
    "# for i in range(0,12):\n",
    "#     if i != 7+1 and i != 11+1:\n",
    "# #         T = goal\n",
    "#     #     load_trace = traces_normalized_repeated[i]\n",
    "#         load_trace = traces_normalized[i]\n",
    "#         closest = np.zeros(load_trace.shape[0])\n",
    "#         for t in range(load_trace.shape[0]):\n",
    "#             temp = np.zeros(num_usr_loc)\n",
    "#             x1 = load_trace[t,1]\n",
    "#             y1 = load_trace[t,2]\n",
    "#             for j in range(num_usr_loc):\n",
    "#                 x2 = usr_locs[j][0]\n",
    "#                 y2 = usr_locs[j][1]\n",
    "#                 temp[j] = np.sqrt((x1-x2)**2 + (y1-y2)**2)\n",
    "#             closest[t] = np.random.choice(np.where(temp == temp.min())[0])\n",
    "#         traces_discretized = np.append(traces_discretized, closest,axis=0)\n"
   ]
  },
  {
   "cell_type": "code",
   "execution_count": 77,
   "metadata": {},
   "outputs": [
    {
     "data": {
      "text/plain": [
       "{0: array([[138.0, -3.1269659575610436, -3.319681362759108],\n",
       "        [139.0, -3.2384901546003304, -3.024164630503248],\n",
       "        [140.0, -3.3604731250377595, -3.036352416921128],\n",
       "        ...,\n",
       "        [149.0, -3.3654575257305335, -3.3422978991797603],\n",
       "        [150.0, -3.0764774961234567, -3.367537395366581],\n",
       "        [151.0, -3.1336673825322516, -3.08503443384552]], dtype=object),\n",
       " 1: array([[115.0, -2.4283874917154105, 3.851191517778098],\n",
       "        [116.0, -2.569577885275245, 3.905438823085157],\n",
       "        [117.0, -2.441714510786701, 3.6446883116598947],\n",
       "        ...,\n",
       "        [153.0, -2.751683863759436, 3.756334801118157],\n",
       "        [154.0, -2.635979540261296, 3.762490263246335],\n",
       "        [155.0, -2.8504342758368946, 3.7902790165794817]], dtype=object),\n",
       " 2: array([[179.0, 2.558565946045458, -2.6886487260130663],\n",
       "        [180.0, 2.885956235615064, -2.173211810407282],\n",
       "        [181.0, 2.9785446103548954, -2.203052852537839],\n",
       "        ...,\n",
       "        [286.0, 2.7989806890212425, -2.0278807129672343],\n",
       "        [287.0, 2.4531554743514206, -1.992036923093062],\n",
       "        [1.0, 2.8690647090418917, -2.0025760967907686]], dtype=object),\n",
       " 3: array([[90.0, -3.2742831246034987, -1.8774998233079723],\n",
       "        [91.0, -2.9179073357501264, -2.1304637914001865],\n",
       "        [92.0, -3.098916405927841, -2.336517189458065],\n",
       "        ...,\n",
       "        [148.0, -3.493393458116533, -2.5354465846288425],\n",
       "        [149.0, -3.6004992559861155, -2.1684395201747906],\n",
       "        [150.0, -3.175927609354448, -2.04665316918522]], dtype=object),\n",
       " 4: array([[145.0, -3.23041139908453, 3.0957944307496583],\n",
       "        [146.0, -3.1721134725009126, 3.162521510883551],\n",
       "        [147.0, -3.087523029965122, 2.7806567599143603],\n",
       "        ...,\n",
       "        [278.0, -3.4851187307049596, 2.8890754644496197],\n",
       "        [279.0, -2.8613158992382095, 2.6796851558465478],\n",
       "        [187.0, -2.866118409653409, 3.0904810842513157]], dtype=object),\n",
       " 5: array([[105.0, 2.3787958998225402, -2.521318397934537],\n",
       "        [100.0, 2.698372293175967, -2.7720217499732325],\n",
       "        [159.0, 2.7712225727126603, -2.6468498226128467],\n",
       "        ...,\n",
       "        [112.0, 2.66620981734014, -2.513063891706688],\n",
       "        [113.0, 2.6938736579242386, -2.8979384577509144],\n",
       "        [114.0, 2.3951681352989675, -2.5150451794705155]], dtype=object),\n",
       " 6: array([[187.0, -2.5779350612661767, -3.6997593054046014],\n",
       "        [188.0, -2.2718968469119303, -3.9949566774730605],\n",
       "        [189.0, -2.202116647670026, -3.5685742158736278],\n",
       "        ...,\n",
       "        [285.0, -2.2937939378495744, -3.80201490494035],\n",
       "        [286.0, -2.5314482342703113, -3.9286854100855155],\n",
       "        [108.0, -2.500853350988229, -3.785847811141595]], dtype=object),\n",
       " 7: array([[224.0, -3.1439120867169543, 2.9680299882722867],\n",
       "        [225.0, -3.1689405421404806, 2.962583292664291],\n",
       "        [226.0, -3.1165110976066996, 3.097893900289422],\n",
       "        ...,\n",
       "        [197.0, -3.0643987496168985, 3.4314838826103538],\n",
       "        [198.0, -2.710446336585534, 2.807316984311585],\n",
       "        [199.0, -3.034852443742272, 2.8389015665851645]], dtype=object),\n",
       " 8: array([[142.0, 4.040960563153367, -2.78908881186144],\n",
       "        [143.0, 4.047384015685185, -2.9326076185649153],\n",
       "        [144.0, 3.6619972669862717, -3.017445358594014],\n",
       "        ...,\n",
       "        [142.0, 3.917003764779314, -2.5825230972893887],\n",
       "        [143.0, 3.9034361892168103, -2.572497257693309],\n",
       "        [144.0, 4.008145847726445, -2.9893156937587237]], dtype=object),\n",
       " 9: array([[164.0, -2.9494107162860788, -3.620734263564058],\n",
       "        [165.0, -3.396781517332306, -3.794899633031228],\n",
       "        [166.0, -2.8913174133421444, -3.4816801170138314],\n",
       "        ...,\n",
       "        [149.0, -3.027199849724483, -3.7739326175648933],\n",
       "        [150.0, -2.8556241990622047, -3.703159025972703],\n",
       "        [151.0, -3.118503303793682, -3.8977991227997935]], dtype=object),\n",
       " 10: array([[204.0, -3.2868374332123986, 3.374574901663202],\n",
       "        [21.0, -3.3956561691081726, 3.428666803888003],\n",
       "        [22.0, -3.715847370142063, 3.5247812569700843],\n",
       "        ...,\n",
       "        [148.0, -3.5841351290079833, 3.219271042836897],\n",
       "        [149.0, -3.5476715296275794, 3.43979092678263],\n",
       "        [150.0, -3.7069807916615294, 3.1608359647049658]], dtype=object),\n",
       " 11: array([[222.0, 2.9681616983631547, -3.033314297738006],\n",
       "        [223.0, 2.8263448707901793, -3.109637191604586],\n",
       "        [224.0, 2.7851118112797315, -2.5532389242652034],\n",
       "        ...,\n",
       "        [167.0, 3.0980927768989766, -2.9029160301519235],\n",
       "        [168.0, 3.235333224794388, -2.960774105906656],\n",
       "        [169.0, 3.0557610753585256, -3.2474664946254457]], dtype=object)}"
      ]
     },
     "execution_count": 77,
     "metadata": {},
     "output_type": "execute_result"
    }
   ],
   "source": [
    "traces_normalized"
   ]
  },
  {
   "cell_type": "code",
   "execution_count": 59,
   "metadata": {},
   "outputs": [],
   "source": [
    "a = []\n",
    "for i in range(num_usr_loc):\n",
    "    a += [np.where(traces_discretized == i)[0].shape[0]]"
   ]
  },
  {
   "cell_type": "code",
   "execution_count": 60,
   "metadata": {},
   "outputs": [
    {
     "data": {
      "text/plain": [
       "[72028, 1165, 84011, 278, 1142, 2063, 88345, 2744, 41]"
      ]
     },
     "execution_count": 60,
     "metadata": {},
     "output_type": "execute_result"
    }
   ],
   "source": [
    "traces_"
   ]
  },
  {
   "cell_type": "code",
   "execution_count": 79,
   "metadata": {},
   "outputs": [],
   "source": [
    "P_dict = {}\n",
    "for i in range(0,12):\n",
    "    if i != 7 and i != 11:\n",
    "        P_temp = np.zeros([num_usr_loc,num_usr_loc])\n",
    "        for t in range(traces_discretized[i].shape[0]-1):\n",
    "            x = int(traces_discretized[i][t])\n",
    "            y = int(traces_discretized[i][t+1])\n",
    "            P_temp[x,y] += 1\n",
    "        for j in range(num_usr_loc):\n",
    "            P_temp[j] = P_temp[j]/(np.sum(P_temp[j]) + 0.0000001)\n",
    "        # Fixing bad rows where movement doesn't occur to\n",
    "        default_state = np.random.choice(np.where(np.sum(P_temp,axis=0) > 0.5)[0])\n",
    "        for j in range(num_usr_loc):\n",
    "            if np.sum(P_temp[j]) < 0.5 :\n",
    "                P_temp[j,default_state] = 1\n",
    "        P_dict[i] = P_temp\n",
    "\n",
    "# P_temp = np.zeros([num_usr_loc,num_usr_loc])\n",
    "# for t in range(traces_discretized.shape[0]-1):\n",
    "#     x = int(traces_discretized[t])\n",
    "#     y = int(traces_discretized[t+1])\n",
    "#     P_temp[x,y] += 1\n",
    "# for j in range(num_usr_loc):\n",
    "#     P_temp[j] = P_temp[j]/(np.sum(P_temp[j]) + 0.0000001)\n",
    "# # Fixing bad rows where movement doesn't occur to\n",
    "# default_state = np.random.choice(np.where(np.sum(P_temp,axis=0) > 0.5)[0])\n",
    "# for j in range(num_usr_loc):\n",
    "#     if np.sum(P_temp[j]) < 0.5 :\n",
    "#         P_temp[j,default_state] = 1"
   ]
  },
  {
   "cell_type": "code",
   "execution_count": 80,
   "metadata": {},
   "outputs": [
    {
     "data": {
      "text/plain": [
       "array([[0., 0., 1., 0., 0., 0., 0., 0., 0.],\n",
       "       [0., 0., 1., 0., 0., 0., 0., 0., 0.],\n",
       "       [0., 0., 1., 0., 0., 0., 0., 0., 0.],\n",
       "       [0., 0., 1., 0., 0., 0., 0., 0., 0.],\n",
       "       [0., 0., 1., 0., 0., 0., 0., 0., 0.],\n",
       "       [0., 0., 1., 0., 0., 0., 0., 0., 0.],\n",
       "       [0., 0., 1., 0., 0., 0., 0., 0., 0.],\n",
       "       [0., 0., 1., 0., 0., 0., 0., 0., 0.],\n",
       "       [0., 0., 1., 0., 0., 0., 0., 0., 0.]])"
      ]
     },
     "execution_count": 80,
     "metadata": {},
     "output_type": "execute_result"
    }
   ],
   "source": [
    "P_temp"
   ]
  },
  {
   "cell_type": "code",
   "execution_count": 65,
   "metadata": {},
   "outputs": [],
   "source": [
    "with open(\"traces_P_40k.pkl\", \"wb\") as tf:\n",
    "    pickle.dump(P_temp,tf)"
   ]
  },
  {
   "cell_type": "code",
   "execution_count": 81,
   "metadata": {},
   "outputs": [],
   "source": [
    "with open(\"traces_P_40k_dict.pkl\", \"wb\") as tf:\n",
    "    pickle.dump(P_dict,tf)"
   ]
  },
  {
   "cell_type": "code",
   "execution_count": 66,
   "metadata": {},
   "outputs": [],
   "source": [
    "with open(\"traces_discretized_40k.pkl\", \"wb\") as tf:\n",
    "    pickle.dump(traces_discretized,tf)"
   ]
  },
  {
   "cell_type": "code",
   "execution_count": 67,
   "metadata": {},
   "outputs": [],
   "source": [
    "default_state = np.random.choice(np.where(np.sum(P_temp,axis=0) > 0.5)[0])"
   ]
  },
  {
   "cell_type": "code",
   "execution_count": 68,
   "metadata": {},
   "outputs": [
    {
     "data": {
      "text/plain": [
       "2"
      ]
     },
     "execution_count": 68,
     "metadata": {},
     "output_type": "execute_result"
    }
   ],
   "source": [
    "default_state"
   ]
  },
  {
   "cell_type": "code",
   "execution_count": 69,
   "metadata": {},
   "outputs": [
    {
     "data": {
      "text/plain": [
       "array([0., 0., 0., 0., 0., 0., 0., 0., 0., 0., 0., 0., 0., 0., 0., 0., 0.,\n",
       "       0., 0., 0., 0., 0., 0., 0., 0., 0., 0., 0., 0., 0., 0., 0., 0., 0.,\n",
       "       0., 0., 0., 0., 0., 0., 0., 0., 0., 0., 0., 0., 0., 0., 0., 0., 0.,\n",
       "       0., 0., 0., 0., 0., 0., 0., 0., 0., 0., 0., 0., 0., 0., 0., 0., 0.,\n",
       "       0., 0., 0., 0., 0., 0., 0., 0., 0., 0., 0., 0., 0., 0., 0., 0., 0.,\n",
       "       0., 0., 0., 0., 0., 0., 0., 0., 0., 0., 0., 0., 0., 0., 0., 0., 0.,\n",
       "       0., 0., 0., 0., 0., 0., 0., 0., 0., 0., 0., 0., 0., 0., 0., 0., 0.,\n",
       "       0., 0., 0., 0., 0., 0., 0., 0., 0., 0., 0., 0., 0., 0., 0., 0., 0.,\n",
       "       0., 0., 0., 0., 0., 0., 0., 0., 0., 0., 0., 0., 0., 0., 0., 0., 0.,\n",
       "       0., 0., 0., 0., 0., 0., 0., 0., 0., 0., 0., 0., 0., 0., 0., 0., 0.,\n",
       "       0., 0., 0., 0., 0., 0., 0., 0., 0., 0., 0., 0., 0., 0., 0., 0., 0.,\n",
       "       0., 0., 0., 0., 0., 0., 0., 0., 0., 0., 0., 0., 0., 0., 0., 0., 0.,\n",
       "       0., 0., 0., 0., 0., 0., 0., 0., 0., 0., 0., 0., 0., 0., 0., 0., 0.,\n",
       "       0., 0., 0., 0., 0., 0., 0., 0., 0., 0., 0., 0., 0., 0., 0., 0., 0.,\n",
       "       0., 0., 0., 0., 0., 0., 0., 0., 0., 0., 0., 0., 0., 0., 0., 0., 0.,\n",
       "       0., 0., 0., 0., 0., 0., 0., 0., 0., 0., 0., 0., 0., 0., 0., 0., 0.,\n",
       "       0., 0., 0., 0., 0., 0., 0., 0., 0., 0., 0., 0., 0., 0., 0., 0., 0.,\n",
       "       0., 0., 0., 0., 0., 0., 0., 0., 0., 0., 0., 0., 0., 0., 0., 0., 0.,\n",
       "       0., 0., 0., 0., 0., 0., 0., 0., 0., 0., 0., 0., 0., 0., 0., 0., 0.,\n",
       "       0., 0., 0., 0., 0., 0., 0., 0., 0., 0., 0., 0., 0., 0., 0., 0., 0.,\n",
       "       0., 0., 0., 0., 0., 0., 0., 0., 0., 0., 0., 0., 0., 0., 0., 0., 0.,\n",
       "       0., 0., 0., 0., 0., 0., 0., 0., 0., 0., 0., 0., 0., 0., 0., 0., 0.,\n",
       "       0., 0., 0., 0., 0., 0., 0., 0., 0., 0., 0., 0., 0., 0., 0., 0., 0.,\n",
       "       0., 0., 0., 0., 0., 0., 0., 0., 0., 0., 0., 0., 0., 0., 0., 0., 0.,\n",
       "       0., 0., 0., 0., 0., 0., 0., 0., 0., 0., 0., 0., 0., 0., 0., 0., 0.,\n",
       "       0., 0., 0., 0., 0., 0., 0., 0., 0., 0., 0., 0., 0., 0., 0., 0., 0.,\n",
       "       0., 0., 0., 0., 0., 0., 0., 0., 0., 0., 0., 0., 0., 0., 0., 0., 0.,\n",
       "       0., 0., 0., 0., 0., 0., 0., 0., 0., 0., 0., 0., 0., 0., 0., 0., 0.,\n",
       "       0., 0., 0., 0., 0., 0., 0., 0., 0., 0., 0., 0., 0., 0., 0., 0., 0.,\n",
       "       0., 0., 0., 0., 0., 0., 0., 0., 0., 0., 0., 0., 0., 0., 0., 0., 0.,\n",
       "       0., 0., 0., 0., 0., 0., 0., 0., 0., 0., 0., 0., 0., 0., 0., 0., 0.,\n",
       "       0., 0., 0., 0., 0., 0., 0., 0., 0., 0., 0., 0., 0., 0., 0., 0., 0.,\n",
       "       0., 0., 0., 0., 0., 0., 0., 0., 0., 0., 0., 0., 0., 0., 0., 0., 0.,\n",
       "       0., 0., 0., 0., 0., 0., 0., 0., 0., 0., 0., 0., 0., 0., 0., 0., 0.,\n",
       "       0., 0., 0., 0., 0., 0., 0., 0., 0., 0., 0., 0., 0., 0., 0., 0., 0.,\n",
       "       0., 0., 0., 0., 0., 0., 0., 0., 0., 0., 0., 0., 0., 0., 0., 0., 0.,\n",
       "       0., 0., 0., 0., 0., 0., 0., 0., 0., 0., 0., 0., 0., 0., 0., 0., 0.,\n",
       "       0., 0., 0., 0., 0., 0., 0., 0., 0., 0., 0., 0., 0., 0., 0., 0., 0.,\n",
       "       0., 0., 0., 0., 0., 0., 0., 0., 0., 0., 0., 0., 0., 0., 0., 0., 0.,\n",
       "       0., 0., 0., 0., 0., 0., 0., 0., 0., 0., 0., 0., 0., 0., 0., 0., 0.,\n",
       "       0., 0., 0., 0., 0., 0., 0., 0., 0., 0., 0., 0., 0., 0., 0., 0., 0.,\n",
       "       0., 0., 0., 0., 0., 0., 0., 0., 0., 0., 0., 0., 0., 0., 0., 0., 0.,\n",
       "       0., 0., 0., 0., 0., 0., 0., 0., 0., 0., 0., 0., 0., 0., 0., 0., 0.,\n",
       "       0., 0., 0., 0., 0., 0., 0., 0., 0., 0., 0., 0., 0., 0., 0., 0., 0.,\n",
       "       0., 0., 0., 0., 0., 0., 0., 0., 0., 0., 0., 0., 0., 0., 0., 0., 0.,\n",
       "       0., 0., 0., 0., 0., 0., 0., 0., 0., 0., 0., 0., 0., 0., 0., 0., 0.,\n",
       "       0., 0., 0., 0., 0., 0., 0., 0., 0., 0., 0., 0., 0., 0., 0., 0., 0.,\n",
       "       0., 0., 0., 0., 0., 0., 0., 0., 0., 0., 0., 0., 0., 0., 0., 0., 0.,\n",
       "       0., 0., 0., 0., 0., 0., 0., 0., 0., 0., 0., 0., 0., 0., 0., 0., 0.,\n",
       "       0., 0., 0., 0., 0., 0., 0., 0., 0., 0., 0., 0., 0., 0., 0., 0., 0.,\n",
       "       0., 0., 0., 0., 0., 0., 0., 0., 0., 0., 0., 0., 0., 0., 0., 0., 0.,\n",
       "       0., 0., 0., 0., 0., 0., 0., 0., 0., 0., 0., 0., 0., 0., 0., 0., 0.,\n",
       "       0., 0., 0., 0., 0., 0., 0., 0., 0., 0., 0., 0., 0., 0., 0., 0., 0.,\n",
       "       0., 0., 0., 0., 0., 0., 0., 0., 0., 0., 0., 0., 0., 0., 0., 0., 0.,\n",
       "       0., 0., 0., 0., 0., 0., 0., 0., 0., 0., 0., 0., 0., 0., 0., 0., 0.,\n",
       "       0., 0., 0., 0., 0., 0., 0., 0., 0., 0., 0., 0., 0., 0., 0., 0., 0.,\n",
       "       0., 0., 0., 0., 0., 0., 0., 0., 0., 0., 0., 0., 0., 0., 0., 0., 0.,\n",
       "       0., 0., 0., 0., 0., 0., 0., 0., 0., 0., 0., 0., 0., 0., 0., 0., 0.,\n",
       "       0., 0., 0., 0., 0., 0., 0., 0., 0., 0., 0., 0., 0., 0.])"
      ]
     },
     "execution_count": 69,
     "metadata": {},
     "output_type": "execute_result"
    }
   ],
   "source": [
    "traces_discretized[10000:11000]"
   ]
  },
  {
   "cell_type": "code",
   "execution_count": null,
   "metadata": {},
   "outputs": [],
   "source": []
  }
 ],
 "metadata": {
  "kernelspec": {
   "display_name": "Python 3",
   "language": "python",
   "name": "python3"
  },
  "language_info": {
   "codemirror_mode": {
    "name": "ipython",
    "version": 3
   },
   "file_extension": ".py",
   "mimetype": "text/x-python",
   "name": "python",
   "nbconvert_exporter": "python",
   "pygments_lexer": "ipython3",
   "version": "3.8.5"
  }
 },
 "nbformat": 4,
 "nbformat_minor": 2
}
