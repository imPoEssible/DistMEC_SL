{
 "cells": [
  {
   "cell_type": "code",
   "execution_count": 24,
   "metadata": {},
   "outputs": [
    {
     "name": "stdout",
     "output_type": "stream",
     "text": [
      "/home/tkim/Academics/DistMEC_SL\n"
     ]
    }
   ],
   "source": [
    "cd /home/tkim/Academics/DistMEC_SL/"
   ]
  },
  {
   "cell_type": "code",
   "execution_count": 25,
   "metadata": {},
   "outputs": [],
   "source": [
    "import numpy as np\n",
    "import matplotlib.pyplot as plt\n",
    "import matplotlib\n",
    "\n",
    "from classes.User import *\n",
    "from classes.solver import *\n",
    "from classes.Server import *\n",
    "from classes.distributed_utils import *\n",
    "\n",
    "from tqdm import tqdm, tqdm_notebook\n",
    "from time import sleep\n",
    "import pickle\n",
    "import os\n",
    "import numpy as np"
   ]
  },
  {
   "cell_type": "code",
   "execution_count": 26,
   "metadata": {},
   "outputs": [],
   "source": [
    "def sum_reward_collisions(Users,T, soft_collisions = True, data_mu = None):\n",
    "    save_array = np.zeros([len(Users),T])\n",
    "    \n",
    "    if data_mu is None:\n",
    "        data_mu = np.ones(len(Users))\n",
    "    \n",
    "    for t in range(T-1):\n",
    "        for u in range(len(Users)):\n",
    "            \n",
    "            if soft_collisions:\n",
    "                scaling = max(Users[u].random_serve_select[t], 1 - Users[u].history_collisions[t])\n",
    "            else:\n",
    "                scaling = (1 - Users[u].history_collisions[t])\n",
    "            distance_scaling = Users[u].history_dist_scale[t]\n",
    "            save_array[u,t] = scaling * Users[u].history_reward[t] * data_mu[u] * distance_scaling\n",
    "    \n",
    "    return save_array\n",
    "\n",
    "def generate_FL_mu(num_users,num_servers):\n",
    "    mu = np.zeros([num_users,num_servers])\n",
    "    svr_mu = np.random.uniform(low=0.3, high = 1, size = num_servers)\n",
    "    usr_mu = np.random.uniform(low=0.3, high = 1, size = num_users)\n",
    "    \n",
    "    for u in range(num_users):\n",
    "        for s in range(num_servers):\n",
    "            mu[u,s] = svr_mu[s] * usr_mu[u]\n",
    "    return mu"
   ]
  },
  {
   "cell_type": "code",
   "execution_count": 33,
   "metadata": {},
   "outputs": [
    {
     "data": {
      "application/vnd.jupyter.widget-view+json": {
       "model_id": "3b38ef442413471cb18df8713d330624",
       "version_major": 2,
       "version_minor": 0
      },
      "text/plain": [
       "HBox(children=(IntProgress(value=0, max=979), HTML(value='')))"
      ]
     },
     "metadata": {},
     "output_type": "display_data"
    },
    {
     "name": "stdout",
     "output_type": "stream",
     "text": [
      "\n"
     ]
    },
    {
     "data": {
      "application/vnd.jupyter.widget-view+json": {
       "model_id": "ba0b6a8f15904d5096bfd1ff5aeeb71c",
       "version_major": 2,
       "version_minor": 0
      },
      "text/plain": [
       "HBox(children=(IntProgress(value=0, max=979), HTML(value='')))"
      ]
     },
     "metadata": {},
     "output_type": "display_data"
    },
    {
     "name": "stdout",
     "output_type": "stream",
     "text": [
      "\n"
     ]
    },
    {
     "data": {
      "application/vnd.jupyter.widget-view+json": {
       "model_id": "aca665fde3134820b77cf84186dd920f",
       "version_major": 2,
       "version_minor": 0
      },
      "text/plain": [
       "HBox(children=(IntProgress(value=0, max=979), HTML(value='')))"
      ]
     },
     "metadata": {},
     "output_type": "display_data"
    },
    {
     "name": "stdout",
     "output_type": "stream",
     "text": [
      "\n"
     ]
    },
    {
     "data": {
      "application/vnd.jupyter.widget-view+json": {
       "model_id": "05beec7aeecf427985eb9f0aa3e51cd3",
       "version_major": 2,
       "version_minor": 0
      },
      "text/plain": [
       "HBox(children=(IntProgress(value=0, max=979), HTML(value='')))"
      ]
     },
     "metadata": {},
     "output_type": "display_data"
    },
    {
     "name": "stdout",
     "output_type": "stream",
     "text": [
      "\n"
     ]
    },
    {
     "data": {
      "application/vnd.jupyter.widget-view+json": {
       "model_id": "bbccfba03f484103ae945516ba06811a",
       "version_major": 2,
       "version_minor": 0
      },
      "text/plain": [
       "HBox(children=(IntProgress(value=0, max=979), HTML(value='')))"
      ]
     },
     "metadata": {},
     "output_type": "display_data"
    },
    {
     "name": "stdout",
     "output_type": "stream",
     "text": [
      "\n"
     ]
    }
   ],
   "source": [
    "# System Parameters\n",
    "T = 1000\n",
    "num_users = 20\n",
    "num_svrs = 20\n",
    "num_svrs_loc = 20\n",
    "num_locs = 9\n",
    "soft_collision = False\n",
    "\n",
    "num_trial = 5\n",
    "\n",
    "with open('traces_P_40k.pkl', 'rb') as handle:\n",
    "    P_collection = pickle.load(handle)\n",
    "\n",
    "with open('traces_P_40k_dict.pkl', 'rb') as handle:\n",
    "    P_dict = pickle.load(handle)\n",
    "        \n",
    "\n",
    "with open('data_count_20.pkl', 'rb') as handle:\n",
    "    data = np.array(pickle.load(handle))\n",
    "\n",
    "    \n",
    "data_max = 1800\n",
    "data_min = 0\n",
    "# Make contextual data_mu \n",
    "data_mu = np.clip((data - 0) / (data_max - data_min), 0, 1)\n",
    "data_mu = data_mu[:num_users]\n",
    "# data_mu = np.ones(data_mu.shape[0])\n",
    "\n",
    "for nto in range(num_trial):\n",
    "\n",
    "#     mu = generate_FL_mu(num_users,num_svrs)\n",
    "    mu = np.random.uniform(low=0.0, high = 1, size = [num_users, num_svrs])\n",
    "    \n",
    "    ceiling = 40\n",
    "    space_1d_dim = 15 #4 for small, 10 for big\n",
    "    svr_offset_uniform = 0.3\n",
    "    max_dist = 4.5\n",
    "\n",
    "    num_explore = 1\n",
    "    trials = 1\n",
    "\n",
    "    # result dictionaries\n",
    "    result_dicts = []\n",
    "    performance_list = []\n",
    "    user_dicts = []\n",
    "\n",
    "    # Generate visitng locations and server locations\n",
    "    usr_locs = gen_eq_locs(space_1d=space_1d_dim, nums=num_locs,offset = 1.7)\n",
    "\n",
    "    # Recording Mechanism\n",
    "    reward_worst_dict = {}\n",
    "    collisions_worst_dict = {}\n",
    "\n",
    "    reward_rsv_dict = {}\n",
    "    collisions_rsv_dict = {}\n",
    "\n",
    "    reward_opt_stat = {}\n",
    "\n",
    "\n",
    "    for tri in range(trials):\n",
    "        svr_locs = gen_rand_locs(space_1d=space_1d_dim - svr_offset_uniform, nums=num_svrs_loc)\n",
    "        \n",
    "        # Create Servers\n",
    "        Servers = []\n",
    "        for i in range(num_svrs):\n",
    "            Servers += [Server(svr_locs[i],mu,i, data_mu)]\n",
    "            \n",
    "        # Create Users\n",
    "        Users_w = []\n",
    "        for i in range(num_users):\n",
    "            P_temp = P_collection\n",
    "            Users_w += [User(usr_locs,svr_locs,mu[i],i,\n",
    "                          max_dist = max_dist, threshold_dist = 6, self_weight = 1 - 0.75, P = P_temp, ceiling = 1,\n",
    "                          sticky_mode = False, kick_mode=True,data_mu=data_mu[i])]\n",
    "\n",
    "        GoT_Users = []\n",
    "        for i in range(num_users):\n",
    "            GoT_Users += [GoT_User(usr_locs, svr_locs, mu[i], i, \n",
    "                         max_dist = max_dist, threshold_dist = 6, self_weight = 1 - 0.95, P = Users_w[i].P,\n",
    "                         c1 = 5000, c2 = 6000, c3 = 6000, delta = 0, rho = 0.5, epsilon = 0.1,\n",
    "                         c = num_users, horizon = T, data_mu = data_mu[i])]\n",
    "\n",
    "\n",
    "        # Recorded Values - reservation\n",
    "        regret_g = np.zeros(T) # Got\n",
    "        collision_count_g = np.zeros(T)\n",
    "        optimal_reward_g = np.zeros(T)\n",
    "\n",
    "        regret_w = np.zeros(T) # Worst\n",
    "        collision_count_w = np.zeros(T)\n",
    "        optimal_reward = np.zeros(T)\n",
    "\n",
    "        # Explore rounds are common/shared across all users\n",
    "        explore_rounds(Users_w, num_users, Servers, mu, regret_w, collision_count_w, optimal_reward,\n",
    "                       usr_move_flag = True, rounds=num_explore, skip_optimal = True,\n",
    "                       data_mu = data_mu)\n",
    "        explore_rounds(GoT_Users, num_users, Servers, mu, regret_w, collision_count_g, optimal_reward,\n",
    "                       usr_move_flag = True, rounds=num_explore, skip_optimal = True, data_mu = data_mu)\n",
    "\n",
    "        round_start = ((num_svrs)*num_explore)+1\n",
    "        copy_usr_loc(Users_w, GoT_Users)\n",
    "\n",
    "        # Other reward recodings\n",
    "        Users_rsv = copy.deepcopy(Users_w)\n",
    "        regret_rsv = copy.deepcopy(regret_w)\n",
    "        collision_count_rsv = copy.deepcopy(collision_count_w)\n",
    "        for u in Users_rsv:\n",
    "            u.sticky_mode = True\n",
    "            u.kick_mode = True #false\n",
    "            u.ceiling = ceiling\n",
    "            u.expected_time_true = u.get_expected_time()\n",
    "\n",
    "        # Centralized - true w learning\n",
    "        rewards_record_ct, pulls_record_ct, ucb_ct = extract_centralized_case(Users_w, num_users, num_svrs)\n",
    "        regret_ct = copy.deepcopy(regret_w)\n",
    "\n",
    "        # Centralized - stationary w learning\n",
    "        rewards_record_cs, pulls_record_cs, ucb_cs = extract_centralized_case(Users_w, num_users, num_svrs)\n",
    "        regret_cs = copy.deepcopy(regret_w)\n",
    "\n",
    "        # Centralized - stationary w, known mu\n",
    "        w_stat = obtain_w_stationary(Users_w, num_users, num_svrs)\n",
    "        optimal_stat_arms, optimal_stat_reward = offline_optimal_action(w_stat,mu,data_mu)\n",
    "        regret_cst = copy.deepcopy(regret_w)\n",
    "\n",
    "        for (zzz,t) in zip(tqdm_notebook(range(T-round_start)),range(round_start, T)):\n",
    "            w = obtain_w(Users_w, len(Users_w), len(Servers))\n",
    "            optimal = optimal_stat_arms, optimal_stat_reward\n",
    "\n",
    "            # Distributed solution \n",
    "            play_round(Users_w, Servers, mu, regret_w, collision_count_w, \n",
    "                       usr_move_flag = True, debugger = False, reservation_mode = False, optimal =optimal,\n",
    "                      data_mu = data_mu, soft_collision = soft_collision)\n",
    "            play_round(Users_rsv, Servers, mu, regret_rsv, collision_count_rsv, \n",
    "                       usr_move_flag = False, debugger = False, reservation_mode = True, optimal =optimal, t = t,\n",
    "                      data_mu = data_mu, soft_collision = soft_collision)\n",
    "            play_round(GoT_Users, Servers, mu, regret_g, collision_count_g, \n",
    "                       usr_move_flag = False, debugger=False, reservation_mode = False, optimal=optimal, t = t,\n",
    "                      arms_override = optimal_stat_arms, data_mu = data_mu, soft_collision = soft_collision)\n",
    "            copy_usr_loc(Users_w, GoT_Users)\n",
    "            copy_usr_loc(Users_w, Users_rsv)\n",
    "\n",
    "    Users_w_sa = sum_reward_collisions(Users_w,T, soft_collision, data_mu)\n",
    "    Users_rsv_sa = sum_reward_collisions(Users_rsv,T,soft_collision, data_mu)\n",
    "    GoT_Users_sa = sum_reward_collisions(GoT_Users,T,soft_collision, data_mu)\n",
    "    \n",
    "    save_dict = {}\n",
    "    save_dict['Users_w_sa'] = Users_w_sa\n",
    "    save_dict['Users_rsv_sa'] = Users_rsv_sa\n",
    "    save_dict['GoT_Users_sa'] = GoT_Users_sa\n",
    "\n",
    "    with open(\"experiments/save/exp9/23_07_28_participant_array_20c_hard\" + str(nto) + \".pkl\", \"wb\") as tf:\n",
    "        pickle.dump(save_dict,tf)"
   ]
  },
  {
   "cell_type": "code",
   "execution_count": 34,
   "metadata": {},
   "outputs": [
    {
     "name": "stderr",
     "output_type": "stream",
     "text": [
      "/home/tkim/anaconda3/lib/python3.7/site-packages/matplotlib/font_manager.py:1331: UserWarning: findfont: Font family ['normal'] not found. Falling back to DejaVu Sans\n",
      "  (prop.get_family(), self.defaultFamily[fontext]))\n"
     ]
    },
    {
     "data": {
      "image/png": "[encoded data removed]",
      "text/plain": [
       "<Figure size 480x320 with 1 Axes>"
      ]
     },
     "metadata": {
      "needs_background": "light"
     },
     "output_type": "display_data"
    }
   ],
   "source": [
    "\n",
    "# List to store the loaded dictionaries\n",
    "dictionaries = []\n",
    "serve_threshold = 0.01\n",
    "\n",
    "# Load dictionaries and append them to the list\n",
    "num_trial = 5  # Number of trials\n",
    "for nto in range(num_trial):\n",
    "    filename = \"experiments/save/exp9/23_07_28_participant_array_20c_hard\" + str(nto) + \".pkl\"\n",
    "    with open(filename, \"rb\") as file:\n",
    "        dictionary = pickle.load(file)\n",
    "        dictionaries.append(dictionary)\n",
    "\n",
    "# Calculate means and standard deviations\n",
    "w_means = []\n",
    "w_stds = []\n",
    "rsv_means = []\n",
    "rsv_stds = []\n",
    "got_means = []\n",
    "got_stds = []\n",
    "\n",
    "for dictionary in dictionaries:\n",
    "    Users_w_sa = dictionary['Users_w_sa']\n",
    "    Users_rsv_sa = dictionary['Users_rsv_sa']\n",
    "    GoT_Users_sa = dictionary['GoT_Users_sa']\n",
    "\n",
    "    w_mean = np.mean(np.sum(Users_w_sa > serve_threshold, axis=0))\n",
    "    w_std = np.std(np.sum(Users_w_sa > serve_threshold, axis=0))\n",
    "    rsv_mean = np.mean(np.sum(Users_rsv_sa > serve_threshold, axis=0))\n",
    "    rsv_std = np.std(np.sum(Users_rsv_sa > serve_threshold, axis=0))\n",
    "    got_mean = np.mean(np.sum(GoT_Users_sa > serve_threshold, axis=0))\n",
    "    got_std = np.std(np.sum(GoT_Users_sa > serve_threshold, axis=0))\n",
    "\n",
    "    w_means.append(w_mean)\n",
    "    w_stds.append(w_std)\n",
    "    rsv_means.append(rsv_mean)\n",
    "    rsv_stds.append(rsv_std)\n",
    "    got_means.append(got_mean)\n",
    "    got_stds.append(got_std)\n",
    "\n",
    "# Plotting the bar graph\n",
    "labels = ['Greedy', 'Rsv', 'Stat.']\n",
    "values = [np.mean(w_means), np.mean(rsv_means), np.mean(got_means)]\n",
    "std_values = [np.mean(w_stds), np.mean(rsv_stds), np.mean(got_stds)]\n",
    "\n",
    "plt.font = {'family' : 'normal',\n",
    "        'weight' : 'normal',\n",
    "        'size'   : 18}\n",
    "plt.figure(figsize=(6, 4), dpi=80)\n",
    "plt.bar(labels, values, yerr=std_values, capsize=5)\n",
    "\n",
    "font = {'family': 'normal',\n",
    "        'weight': 'normal',\n",
    "        'size': 18}\n",
    "\n",
    "plt.rc('font', **font)\n",
    "\n",
    "# Adding labels and title\n",
    "plt.ylabel('Participating Clients', fontsize=18)\n",
    "plt.title('Non-Straggler Participants per Round FL', fontsize=18)\n",
    "# plt.xlabel('Categories', fontsize=18)\n",
    "# # Adding labels and title\n",
    "# plt.ylabel('Participating Clients')\n",
    "# plt.title('Non-Straggler Participants per Round FL')\n",
    "\n",
    "# Display the graph\"\n",
    "plt.show()\n"
   ]
  },
  {
   "cell_type": "code",
   "execution_count": 35,
   "metadata": {},
   "outputs": [
    {
     "name": "stderr",
     "output_type": "stream",
     "text": [
      "/home/tkim/anaconda3/lib/python3.7/site-packages/matplotlib/font_manager.py:1331: UserWarning: findfont: Font family ['normal'] not found. Falling back to DejaVu Sans\n",
      "  (prop.get_family(), self.defaultFamily[fontext]))\n"
     ]
    },
    {
     "data": {
      "image/png": "[encoded data removed]",
      "text/plain": [
       "<Figure size 480x320 with 1 Axes>"
      ]
     },
     "metadata": {
      "needs_background": "light"
     },
     "output_type": "display_data"
    }
   ],
   "source": [
    "\n",
    "# # List to store the loaded dictionaries\n",
    "# dictionaries = []\n",
    "# serve_threshold = 0\n",
    "\n",
    "# # Load dictionaries and append them to the list\n",
    "# num_trial = 5  # Number of trials\n",
    "# for nto in range(num_trial):\n",
    "#     filename = \"experiments/save/exp9/23_07_26_participant_array3_\" + str(nto) + \".pkl\"\n",
    "#     with open(filename, \"rb\") as file:\n",
    "#         dictionary = pickle.load(file)\n",
    "#         dictionaries.append(dictionary)\n",
    "\n",
    "# Calculate means and standard deviations\n",
    "w_means = []\n",
    "w_stds = []\n",
    "rsv_means = []\n",
    "rsv_stds = []\n",
    "got_means = []\n",
    "got_stds = []\n",
    "\n",
    "for dictionary in dictionaries:\n",
    "    Users_w_sa = dictionary['Users_w_sa']\n",
    "    Users_rsv_sa = dictionary['Users_rsv_sa']\n",
    "    GoT_Users_sa = dictionary['GoT_Users_sa']\n",
    "\n",
    "    w_mean = np.sum(np.sum(Users_w_sa, axis=1))\n",
    "    w_std = np.std(np.sum(Users_w_sa, axis=0))\n",
    "    rsv_mean = np.sum(np.sum(Users_rsv_sa, axis=1))\n",
    "    rsv_std = np.std(np.sum(Users_rsv_sa, axis=0))\n",
    "    got_mean = np.sum(np.sum(GoT_Users_sa, axis=1))\n",
    "    got_std = np.std(np.mean(GoT_Users_sa, axis=0))\n",
    "\n",
    "    w_means.append(w_mean)\n",
    "    w_stds.append(w_std)\n",
    "    rsv_means.append(rsv_mean)\n",
    "    rsv_stds.append(rsv_std)\n",
    "    got_means.append(got_mean)\n",
    "    got_stds.append(got_std)\n",
    "\n",
    "# Plotting the bar graph\n",
    "labels = ['Greedy', 'Rsv', 'Stat.']\n",
    "values = [np.mean(w_means), np.mean(rsv_means), np.mean(got_means)]\n",
    "std_values = [np.mean(w_stds), np.mean(rsv_stds), np.mean(got_stds)]\n",
    "\n",
    "plt.font = {'family' : 'normal',\n",
    "        'weight' : 'normal',\n",
    "        'size'   : 18}\n",
    "plt.figure(figsize=(6, 4), dpi=80)\n",
    "plt.bar(labels, values, yerr=std_values, capsize=5)\n",
    "\n",
    "font = {'family': 'normal',\n",
    "        'weight': 'normal',\n",
    "        'size': 18}\n",
    "\n",
    "plt.rc('font', **font)\n",
    "\n",
    "# Adding labels and title\n",
    "plt.ylabel('Reward', fontsize=18)\n",
    "plt.title('Reward per Round FL', fontsize=18)\n",
    "# plt.xlabel('Categories', fontsize=18)\n",
    "# # Adding labels and title\n",
    "# plt.ylabel('Participating Clients')\n",
    "# plt.title('Non-Straggler Participants per Round FL')\n",
    "\n",
    "# Display the graph\"\n",
    "plt.show()\n"
   ]
  },
  {
   "cell_type": "code",
   "execution_count": 36,
   "metadata": {},
   "outputs": [
    {
     "data": {
      "text/plain": [
       "Text(0.5,1,'Greedy User Participation')"
      ]
     },
     "execution_count": 36,
     "metadata": {},
     "output_type": "execute_result"
    },
    {
     "name": "stderr",
     "output_type": "stream",
     "text": [
      "/home/tkim/anaconda3/lib/python3.7/site-packages/matplotlib/font_manager.py:1331: UserWarning: findfont: Font family ['normal'] not found. Falling back to DejaVu Sans\n",
      "  (prop.get_family(), self.defaultFamily[fontext]))\n"
     ]
    },
    {
     "data": {
      "image/png": "[encoded data removed]",
      "text/plain": [
       "<Figure size 432x288 with 1 Axes>"
      ]
     },
     "metadata": {
      "needs_background": "light"
     },
     "output_type": "display_data"
    }
   ],
   "source": [
    "plt.bar(range(num_users), np.sum(Users_w_sa > 0, axis = 1))\n",
    "plt.xlabel(\"Client id\")\n",
    "plt.ylabel(\"Participation Count\")\n",
    "plt.title(\"Greedy User Participation\")"
   ]
  },
  {
   "cell_type": "code",
   "execution_count": 37,
   "metadata": {},
   "outputs": [
    {
     "data": {
      "text/plain": [
       "Text(0.5,1,'Rsv User Participation')"
      ]
     },
     "execution_count": 37,
     "metadata": {},
     "output_type": "execute_result"
    },
    {
     "name": "stderr",
     "output_type": "stream",
     "text": [
      "/home/tkim/anaconda3/lib/python3.7/site-packages/matplotlib/font_manager.py:1331: UserWarning: findfont: Font family ['normal'] not found. Falling back to DejaVu Sans\n",
      "  (prop.get_family(), self.defaultFamily[fontext]))\n"
     ]
    },
    {
     "data": {
      "image/png": "[encoded data removed]",
      "text/plain": [
       "<Figure size 432x288 with 1 Axes>"
      ]
     },
     "metadata": {
      "needs_background": "light"
     },
     "output_type": "display_data"
    }
   ],
   "source": [
    "plt.bar(range(num_users), np.sum(Users_rsv_sa > 0, axis = 1))\n",
    "plt.xlabel(\"Client id\")\n",
    "plt.ylabel(\"Participation Count\")\n",
    "plt.title(\"Rsv User Participation\")"
   ]
  },
  {
   "cell_type": "code",
   "execution_count": 38,
   "metadata": {},
   "outputs": [
    {
     "data": {
      "text/plain": [
       "Text(0.5,1,'Stationary User Participation')"
      ]
     },
     "execution_count": 38,
     "metadata": {},
     "output_type": "execute_result"
    },
    {
     "name": "stderr",
     "output_type": "stream",
     "text": [
      "/home/tkim/anaconda3/lib/python3.7/site-packages/matplotlib/font_manager.py:1331: UserWarning: findfont: Font family ['normal'] not found. Falling back to DejaVu Sans\n",
      "  (prop.get_family(), self.defaultFamily[fontext]))\n"
     ]
    },
    {
     "data": {
      "image/png": "[encoded data removed]",
      "text/plain": [
       "<Figure size 432x288 with 1 Axes>"
      ]
     },
     "metadata": {
      "needs_background": "light"
     },
     "output_type": "display_data"
    }
   ],
   "source": [
    "plt.bar(range(num_users), np.sum(GoT_Users_sa > 0, axis = 1))\n",
    "plt.xlabel(\"Client id\")\n",
    "plt.ylabel(\"Participation Count\")\n",
    "plt.title(\"Stationary User Participation\")"
   ]
  },
  {
   "cell_type": "code",
   "execution_count": null,
   "metadata": {},
   "outputs": [],
   "source": []
  }
 ],
 "metadata": {
  "kernelspec": {
   "display_name": "Python 3",
   "language": "python",
   "name": "python3"
  },
  "language_info": {
   "codemirror_mode": {
    "name": "ipython",
    "version": 3
   },
   "file_extension": ".py",
   "mimetype": "text/x-python",
   "name": "python",
   "nbconvert_exporter": "python",
   "pygments_lexer": "ipython3",
   "version": "3.7.0"
  }
 },
 "nbformat": 4,
 "nbformat_minor": 2
}
