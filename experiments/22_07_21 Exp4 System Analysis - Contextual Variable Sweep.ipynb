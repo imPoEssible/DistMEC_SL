{
 "cells": [
  {
   "cell_type": "code",
   "execution_count": 2,
   "metadata": {},
   "outputs": [
    {
     "name": "stdout",
     "output_type": "stream",
     "text": [
      "/home/ubuntu/DistMEC\n"
     ]
    }
   ],
   "source": [
    "cd /home/ubuntu/DistMEC/"
   ]
  },
  {
   "cell_type": "code",
   "execution_count": 3,
   "metadata": {},
   "outputs": [],
   "source": [
    "import numpy as np\n",
    "import matplotlib.pyplot as plt\n",
    "import matplotlib\n",
    "\n",
    "from classes.User import *\n",
    "from classes.solver import *\n",
    "from classes.Server import *\n",
    "from classes.distributed_utils import *\n",
    "\n",
    "from tqdm import tqdm, tqdm_notebook\n",
    "from time import sleep\n",
    "import pickle\n",
    "import os\n",
    "import numpy as np"
   ]
  },
  {
   "cell_type": "code",
   "execution_count": 4,
   "metadata": {},
   "outputs": [],
   "source": [
    "regret_rsv_dict_list = []\n",
    "regret_worst_dict_list = []\n",
    "regret_central_dict_list = []\n",
    "regret_cstat_dict_list = []\n",
    "coll_rsv_dict_list = []\n",
    "coll_worst_dict_list = []\n",
    "\n",
    "# System Parameters\n",
    "T = 20000\n",
    "num_users = 9\n",
    "num_svrs = 9\n",
    "num_locs = 9\n",
    "# mu = np.random.uniform(low=0, high = 1, size = [num_users, num_svrs])\n",
    "ceiling = 40\n",
    "# w = np.random.uniform(low=0, high=1, size= [num_users, num_svrs])\n",
    "space_1d_dim = 10 #4 for small, 10 for big\n",
    "svr_offset_uniform = 2\n",
    "max_dists = [3,5,10,15,20]\n",
    "\n",
    "num_explore = 1\n",
    "trials = 3\n",
    "\n",
    "# result dictionaries\n",
    "result_dicts = []\n",
    "performance_list = []\n",
    "user_dicts = []\n",
    "\n",
    "save_name = 'results/22_06_16_ceiling_20/'\n",
    "isExist = os.path.exists(save_name)\n",
    "if not isExist:\n",
    "  # Create a new directory because it does not exist \n",
    "    os.makedirs(save_name)\n",
    "\n",
    "\n",
    "# Generate visitng locations and server locations\n",
    "usr_locs = gen_eq_locs(space_1d=space_1d_dim, nums=num_locs,offset = 1.7)\n",
    "svr_locs = gen_eq_locs(space_1d=space_1d_dim, nums=num_svrs,offset = 1.7)\n",
    "\n",
    "with open('traces_P_40k.pkl', 'rb') as handle:\n",
    "    P_collection = pickle.load(handle)\n",
    "    \n",
    "with open('traces_P_40k_dict.pkl', 'rb') as handle:\n",
    "    P_dict = pickle.load(handle)"
   ]
  },
  {
   "cell_type": "code",
   "execution_count": 4,
   "metadata": {},
   "outputs": [
    {
     "name": "stderr",
     "output_type": "stream",
     "text": [
      "<ipython-input-4-4fac97bad34e>:72: TqdmDeprecationWarning: This function will be removed in tqdm==5.0.0\n",
      "Please use `tqdm.notebook.tqdm` instead of `tqdm.tqdm_notebook`\n",
      "  for (zzz,t) in zip(tqdm_notebook(range(T-round_start)),range(round_start, T)):\n"
     ]
    },
    {
     "data": {
      "application/vnd.jupyter.widget-view+json": {
       "model_id": "7bc8f2d4accf4261b7665425b2ee2137",
       "version_major": 2,
       "version_minor": 0
      },
      "text/plain": [
       "HBox(children=(HTML(value=''), FloatProgress(value=0.0, max=19990.0), HTML(value='')))"
      ]
     },
     "metadata": {},
     "output_type": "display_data"
    },
    {
     "name": "stdout",
     "output_type": "stream",
     "text": [
      "\n"
     ]
    },
    {
     "data": {
      "application/vnd.jupyter.widget-view+json": {
       "model_id": "afd30b44c7cc4e72b708330fa5afa9af",
       "version_major": 2,
       "version_minor": 0
      },
      "text/plain": [
       "HBox(children=(HTML(value=''), FloatProgress(value=0.0, max=19990.0), HTML(value='')))"
      ]
     },
     "metadata": {},
     "output_type": "display_data"
    },
    {
     "name": "stdout",
     "output_type": "stream",
     "text": [
      "\n"
     ]
    },
    {
     "data": {
      "application/vnd.jupyter.widget-view+json": {
       "model_id": "e2f2ef38a26546bd90d2735e8d240184",
       "version_major": 2,
       "version_minor": 0
      },
      "text/plain": [
       "HBox(children=(HTML(value=''), FloatProgress(value=0.0, max=19990.0), HTML(value='')))"
      ]
     },
     "metadata": {},
     "output_type": "display_data"
    },
    {
     "name": "stdout",
     "output_type": "stream",
     "text": [
      "\n"
     ]
    },
    {
     "data": {
      "application/vnd.jupyter.widget-view+json": {
       "model_id": "3362fd1496b547b5a96b343845ee1066",
       "version_major": 2,
       "version_minor": 0
      },
      "text/plain": [
       "HBox(children=(HTML(value=''), FloatProgress(value=0.0, max=19990.0), HTML(value='')))"
      ]
     },
     "metadata": {},
     "output_type": "display_data"
    },
    {
     "name": "stdout",
     "output_type": "stream",
     "text": [
      "\n"
     ]
    },
    {
     "data": {
      "application/vnd.jupyter.widget-view+json": {
       "model_id": "c9618305fb464cc993f7a214edd2c814",
       "version_major": 2,
       "version_minor": 0
      },
      "text/plain": [
       "HBox(children=(HTML(value=''), FloatProgress(value=0.0, max=19990.0), HTML(value='')))"
      ]
     },
     "metadata": {},
     "output_type": "display_data"
    },
    {
     "name": "stdout",
     "output_type": "stream",
     "text": [
      "\n"
     ]
    },
    {
     "data": {
      "application/vnd.jupyter.widget-view+json": {
       "model_id": "a90be0832ac74eacb9c76b93fd3e47c4",
       "version_major": 2,
       "version_minor": 0
      },
      "text/plain": [
       "HBox(children=(HTML(value=''), FloatProgress(value=0.0, max=19990.0), HTML(value='')))"
      ]
     },
     "metadata": {},
     "output_type": "display_data"
    },
    {
     "name": "stdout",
     "output_type": "stream",
     "text": [
      "\n"
     ]
    },
    {
     "data": {
      "application/vnd.jupyter.widget-view+json": {
       "model_id": "5d9cb32b13d84e6baa6b238fe6d804ee",
       "version_major": 2,
       "version_minor": 0
      },
      "text/plain": [
       "HBox(children=(HTML(value=''), FloatProgress(value=0.0, max=19990.0), HTML(value='')))"
      ]
     },
     "metadata": {},
     "output_type": "display_data"
    },
    {
     "name": "stdout",
     "output_type": "stream",
     "text": [
      "\n"
     ]
    },
    {
     "data": {
      "application/vnd.jupyter.widget-view+json": {
       "model_id": "426e9cf7e418415696ace2ef99e0ea8d",
       "version_major": 2,
       "version_minor": 0
      },
      "text/plain": [
       "HBox(children=(HTML(value=''), FloatProgress(value=0.0, max=19990.0), HTML(value='')))"
      ]
     },
     "metadata": {},
     "output_type": "display_data"
    },
    {
     "name": "stdout",
     "output_type": "stream",
     "text": [
      "\n"
     ]
    },
    {
     "data": {
      "application/vnd.jupyter.widget-view+json": {
       "model_id": "5e36ae436e1e41a68554640f982ae66a",
       "version_major": 2,
       "version_minor": 0
      },
      "text/plain": [
       "HBox(children=(HTML(value=''), FloatProgress(value=0.0, max=19990.0), HTML(value='')))"
      ]
     },
     "metadata": {},
     "output_type": "display_data"
    },
    {
     "name": "stdout",
     "output_type": "stream",
     "text": [
      "\n"
     ]
    },
    {
     "data": {
      "application/vnd.jupyter.widget-view+json": {
       "model_id": "9c6be08907c743629aba8c7d7c1db1f5",
       "version_major": 2,
       "version_minor": 0
      },
      "text/plain": [
       "HBox(children=(HTML(value=''), FloatProgress(value=0.0, max=19990.0), HTML(value='')))"
      ]
     },
     "metadata": {},
     "output_type": "display_data"
    },
    {
     "name": "stdout",
     "output_type": "stream",
     "text": [
      "\n"
     ]
    },
    {
     "data": {
      "application/vnd.jupyter.widget-view+json": {
       "model_id": "2cf533b0df7e41d88fd1dd1d96c9efe9",
       "version_major": 2,
       "version_minor": 0
      },
      "text/plain": [
       "HBox(children=(HTML(value=''), FloatProgress(value=0.0, max=19990.0), HTML(value='')))"
      ]
     },
     "metadata": {},
     "output_type": "display_data"
    },
    {
     "name": "stdout",
     "output_type": "stream",
     "text": [
      "\n"
     ]
    },
    {
     "data": {
      "application/vnd.jupyter.widget-view+json": {
       "model_id": "b1439f5ad6324556b991fd97b92a73bf",
       "version_major": 2,
       "version_minor": 0
      },
      "text/plain": [
       "HBox(children=(HTML(value=''), FloatProgress(value=0.0, max=19990.0), HTML(value='')))"
      ]
     },
     "metadata": {},
     "output_type": "display_data"
    },
    {
     "name": "stdout",
     "output_type": "stream",
     "text": [
      "\n"
     ]
    },
    {
     "data": {
      "application/vnd.jupyter.widget-view+json": {
       "model_id": "2678869f41b44e0eb68d590690ac6343",
       "version_major": 2,
       "version_minor": 0
      },
      "text/plain": [
       "HBox(children=(HTML(value=''), FloatProgress(value=0.0, max=19990.0), HTML(value='')))"
      ]
     },
     "metadata": {},
     "output_type": "display_data"
    },
    {
     "name": "stdout",
     "output_type": "stream",
     "text": [
      "\n"
     ]
    },
    {
     "data": {
      "application/vnd.jupyter.widget-view+json": {
       "model_id": "a75ae3f0dc2a43818a20d1ef232b4a7d",
       "version_major": 2,
       "version_minor": 0
      },
      "text/plain": [
       "HBox(children=(HTML(value=''), FloatProgress(value=0.0, max=19990.0), HTML(value='')))"
      ]
     },
     "metadata": {},
     "output_type": "display_data"
    },
    {
     "name": "stdout",
     "output_type": "stream",
     "text": [
      "\n"
     ]
    },
    {
     "data": {
      "application/vnd.jupyter.widget-view+json": {
       "model_id": "39da69a8e1724f09a992e4f8a126b24b",
       "version_major": 2,
       "version_minor": 0
      },
      "text/plain": [
       "HBox(children=(HTML(value=''), FloatProgress(value=0.0, max=19990.0), HTML(value='')))"
      ]
     },
     "metadata": {},
     "output_type": "display_data"
    },
    {
     "name": "stdout",
     "output_type": "stream",
     "text": [
      "\n"
     ]
    }
   ],
   "source": [
    "for zt in range(len(max_dists)):\n",
    "    # Recording Mechanism\n",
    "    regret_centralized_dict = {}\n",
    "\n",
    "    regret_worst_dict = {}\n",
    "    collisions_worst_dict = {}\n",
    "\n",
    "    regret_rsv_dict = {}\n",
    "    collisions_rsv_dict = {}\n",
    "\n",
    "    regret_cent_stat = {}\n",
    "    mu = np.random.uniform(low=0, high = 1, size = [num_users, num_svrs])\n",
    "\n",
    "\n",
    "    for tri in range(trials):\n",
    "\n",
    "\n",
    "\n",
    "#         svr_locs = gen_rand_locs(space_1d=space_1d_dim - svr_offset_uniform, nums=num_svrs)\n",
    "        # Create Users\n",
    "        Users_w = []\n",
    "        for i in range(num_users):\n",
    "            P_temp = P_collection\n",
    "            Users_w += [User(usr_locs,svr_locs,mu[i],i,\n",
    "                          max_dist = max_dists[zt], threshold_dist = 6, self_weight = 1 - 0.85, P = P_temp, ceiling = 1,\n",
    "                          sticky_mode = True, kick_mode=True)]\n",
    "\n",
    "        # Create Servers\n",
    "        Servers = []\n",
    "        for i in range(num_svrs):\n",
    "            Servers += [Server(svr_locs[i],mu,i)]\n",
    "\n",
    "        # Recorded Values - reservation\n",
    "        regret_g = np.zeros(T) # Got\n",
    "        collision_count_g = np.zeros(T)\n",
    "        optimal_reward_g = np.zeros(T)\n",
    "\n",
    "        regret_w = np.zeros(T) # Worst\n",
    "        collision_count_w = np.zeros(T)\n",
    "        optimal_reward = np.zeros(T)\n",
    "\n",
    "        # Explore rounds are common/shared across all users\n",
    "        explore_rounds(Users_w, num_users, Servers, mu, regret_w, collision_count_w, optimal_reward,\n",
    "                       usr_move_flag = True, rounds=num_explore)\n",
    "\n",
    "        round_start = ((num_svrs)*num_explore)+1\n",
    "\n",
    "\n",
    "        # Other reward recodings\n",
    "        Users_rsv = copy.deepcopy(Users_w)\n",
    "        regret_rsv = copy.deepcopy(regret_w)\n",
    "        collision_count_rsv = copy.deepcopy(collision_count_w)\n",
    "        for u in Users_rsv:\n",
    "            u.sticky_mode = True\n",
    "            u.kick_mode = True #false\n",
    "            u.ceiling = ceiling\n",
    "            u.expected_time_true = u.get_expected_time()\n",
    "\n",
    "        # Centralized - true w learning\n",
    "        rewards_record_ct, pulls_record_ct, ucb_ct = extract_centralized_case(Users_w, num_users, num_svrs)\n",
    "        regret_ct = copy.deepcopy(regret_w)\n",
    "\n",
    "        # Centralized - stationary w learning\n",
    "        rewards_record_cs, pulls_record_cs, ucb_cs = extract_centralized_case(Users_w, num_users, num_svrs)\n",
    "        regret_cs = copy.deepcopy(regret_w)\n",
    "\n",
    "        # Centralized - stationary w, known mu\n",
    "        w_stat = obtain_w_stationary(Users_w, num_users, num_svrs)\n",
    "        optimal_stat_arms = offline_optimal_action(w_stat,mu)[0]\n",
    "        regret_cst = copy.deepcopy(regret_w)\n",
    "\n",
    "        for (zzz,t) in zip(tqdm_notebook(range(T-round_start)),range(round_start, T)):\n",
    "            w = obtain_w(Users_w, len(Users_w), len(Servers))\n",
    "            optimal = offline_optimal_action(w, mu)\n",
    "            optimal_reward[t] = optimal[1]\n",
    "\n",
    "            # Distributed solution \n",
    "            play_round(Users_w, Servers, mu, regret_w, collision_count_w, \n",
    "                       usr_move_flag = True, debugger = False, reservation_mode = True, optimal =optimal)\n",
    "            play_round(Users_rsv, Servers, mu, regret_rsv, collision_count_rsv, \n",
    "                       usr_move_flag = False, debugger = False, reservation_mode = True, optimal =optimal, t = t)\n",
    "            copy_usr_loc(Users_w, Users_rsv)\n",
    "\n",
    "            # Centralized Solution -  true w learning\n",
    "            ucb_ct = update_ucb(rewards_record_ct, pulls_record_ct, ucb_ct, t, 1)\n",
    "            arms = offline_optimal_action(w, ucb_ct)[0]\n",
    "            rewards_record_ct, pulls_record_ct = pull_super_arm(arms, mu, rewards_record_ct, pulls_record_ct)\n",
    "            regret_ct[t] = optimal[1] - expected_reward(arms, mu, w)\n",
    "\n",
    "            # Centralized Solution -  stationary w learning\n",
    "            ucb_cs = update_ucb(rewards_record_cs, pulls_record_cs, ucb_cs, t, 1)\n",
    "            arms = offline_optimal_action(w_stat, ucb_cs)[0]\n",
    "            rewards_record_cs, pulls_record_cs = pull_super_arm(arms, mu, rewards_record_cs, pulls_record_cs)\n",
    "            regret_cs[t] = optimal[1] - expected_reward(arms, mu, w)\n",
    "\n",
    "\n",
    "        regret_centralized_dict[tri] = copy.deepcopy(regret_ct)\n",
    "\n",
    "        regret_worst_dict[tri] = copy.deepcopy(regret_w)\n",
    "        collisions_worst_dict[tri] = copy.deepcopy(collision_count_w)\n",
    "\n",
    "        regret_rsv_dict[tri] = copy.deepcopy(regret_rsv)\n",
    "        collisions_rsv_dict[tri] = copy.deepcopy(collision_count_rsv)\n",
    "\n",
    "        regret_cent_stat[tri] = copy.deepcopy(regret_cs)\n",
    "#         regret_opt_stat[tri] = copy.deepcopy(regret_cst)\n",
    "\n",
    "\n",
    "        del Users_w, Users_rsv, Servers\n",
    "    regret_rsv_dict_list += [regret_rsv_dict]\n",
    "    regret_worst_dict_list += [regret_worst_dict]\n",
    "    regret_central_dict_list += [regret_centralized_dict]\n",
    "    regret_cstat_dict_list += [regret_cent_stat]\n",
    "    coll_rsv_dict_list += [collisions_rsv_dict]\n",
    "    coll_worst_dict_list += [collisions_worst_dict]"
   ]
  },
  {
   "cell_type": "code",
   "execution_count": 5,
   "metadata": {},
   "outputs": [],
   "source": [
    "save_dict = {}\n",
    "save_dict['regret_rsv_dict_list'] = regret_rsv_dict_list\n",
    "save_dict['regret_worst_dict_list'] = regret_worst_dict_list\n",
    "save_dict['regret_central_dict_list'] = regret_central_dict_list\n",
    "save_dict['regret_cstat_dict_list'] = regret_cstat_dict_list\n",
    "save_dict['coll_rsv_dict_list'] = coll_rsv_dict_list\n",
    "save_dict['coll_worst_dict_list'] = coll_worst_dict_list\n",
    "\n",
    "with open(\"experiments/save/exp4/220722_run2_t3.pkl\", \"wb\") as tf:\n",
    "    pickle.dump(save_dict,tf)"
   ]
  },
  {
   "cell_type": "code",
   "execution_count": 5,
   "metadata": {},
   "outputs": [],
   "source": [
    "with open(\"experiments/save/exp4/220722_run2_t3.pkl\", \"rb\") as handle:\n",
    "    load_dict = pickle.load(handle)\n",
    "    \n",
    "regret_rsv_dict_list = load_dict['regret_rsv_dict_list']\n",
    "regret_worst_dict_list = load_dict['regret_worst_dict_list']\n",
    "regret_central_dict_list = load_dict['regret_central_dict_list']\n",
    "regret_cstat_dict_list = load_dict['regret_cstat_dict_list']\n",
    "\n",
    "coll_rsv_dict_list = load_dict['coll_rsv_dict_list']\n",
    "coll_worst_dict_list = load_dict['coll_worst_dict_list']"
   ]
  },
  {
   "cell_type": "code",
   "execution_count": 6,
   "metadata": {},
   "outputs": [],
   "source": [
    "x = max_dists\n",
    "regret_rsv_plot = []\n",
    "regret_worst_plot = []\n",
    "regret_central_plot = []\n",
    "regret_cstat_plot = []\n",
    "\n",
    "for zt in range(len(max_dists)):\n",
    "    \n",
    "    regret_rsv_avg = 1/trials * regret_rsv_dict_list[zt][0]\n",
    "    regret_worst_avg= 1/trials * regret_worst_dict_list[zt][0]\n",
    "    regret_centralized_avg = 1/trials * regret_central_dict_list[zt][0]\n",
    "    regret_cent_stat_avg= 1/trials * regret_cstat_dict_list[zt][0]\n",
    "\n",
    "    \n",
    "    for i in range(1, trials):\n",
    "\n",
    "        regret_rsv_avg += 1/trials * regret_rsv_dict_list[zt][i]\n",
    "        regret_worst_avg += 1/trials * regret_worst_dict_list[zt][i]\n",
    "        regret_centralized_avg += 1/trials * regret_central_dict_list[zt][i]\n",
    "        regret_cent_stat_avg += 1/trials * regret_cstat_dict_list[zt][i]\n",
    "    \n",
    "    regret_rsv_plot += [copy.deepcopy(np.cumsum(regret_rsv_avg)[-1])]\n",
    "    regret_worst_plot += [copy.deepcopy(np.cumsum(regret_worst_avg)[-1])]\n",
    "    regret_central_plot += [copy.deepcopy(np.cumsum(regret_centralized_avg)[-1])]\n",
    "    regret_cstat_plot += [copy.deepcopy(np.cumsum(regret_cent_stat_avg)[-1])]"
   ]
  },
  {
   "cell_type": "code",
   "execution_count": 8,
   "metadata": {},
   "outputs": [
    {
     "data": {
      "text/plain": [
       "<matplotlib.legend.Legend at 0x7f7b1e6621f0>"
      ]
     },
     "execution_count": 8,
     "metadata": {},
     "output_type": "execute_result"
    },
    {
     "name": "stderr",
     "output_type": "stream",
     "text": [
      "findfont: Font family ['normal'] not found. Falling back to DejaVu Sans.\n"
     ]
    },
    {
     "data": {
      "image/png": "[encoded data removed]",
      "text/plain": [
       "<Figure size 432x288 with 1 Axes>"
      ]
     },
     "metadata": {
      "needs_background": "light"
     },
     "output_type": "display_data"
    }
   ],
   "source": [
    "plt.plot(x,regret_rsv_plot, label = 'Reserve Dist.')\n",
    "plt.plot(x,regret_worst_plot, label = 'Greedy Dist.')\n",
    "plt.plot(x,regret_central_plot, label = 'Central')\n",
    "plt.plot(x,regret_cstat_plot, label = 'Central Stat.')\n",
    "\n",
    "\n",
    "#  Set Font Size Limitations\n",
    "font = {'family' : 'normal',\n",
    "        'weight' : 'normal',\n",
    "        'size'   : 16}\n",
    "matplotlib.rc('font', **font)\n",
    "\n",
    "\n",
    "plt.title('Cumulative Regret for Different Contexts')\n",
    "plt.xlabel('Max. Distance For Service')\n",
    "plt.legend()"
   ]
  },
  {
   "cell_type": "code",
   "execution_count": 9,
   "metadata": {},
   "outputs": [
    {
     "data": {
      "text/plain": [
       "[8970.199188759854,\n",
       " 9642.107743442051,\n",
       " 11626.811087974274,\n",
       " 13172.661621409905,\n",
       " 15466.069581540565]"
      ]
     },
     "execution_count": 9,
     "metadata": {},
     "output_type": "execute_result"
    }
   ],
   "source": [
    "regret_rsv_plot"
   ]
  },
  {
   "cell_type": "code",
   "execution_count": 10,
   "metadata": {},
   "outputs": [
    {
     "data": {
      "text/plain": [
       "array([1.23857608e+00, 4.78066561e+00, 8.12873195e+00, ...,\n",
       "       1.54644154e+04, 1.54647702e+04, 1.54660696e+04])"
      ]
     },
     "execution_count": 10,
     "metadata": {},
     "output_type": "execute_result"
    }
   ],
   "source": [
    "np.cumsum(regret_rsv_avg)"
   ]
  },
  {
   "cell_type": "code",
   "execution_count": null,
   "metadata": {},
   "outputs": [],
   "source": []
  }
 ],
 "metadata": {
  "kernelspec": {
   "display_name": "Python 3",
   "language": "python",
   "name": "python3"
  },
  "language_info": {
   "codemirror_mode": {
    "name": "ipython",
    "version": 3
   },
   "file_extension": ".py",
   "mimetype": "text/x-python",
   "name": "python",
   "nbconvert_exporter": "python",
   "pygments_lexer": "ipython3",
   "version": "3.8.5"
  }
 },
 "nbformat": 4,
 "nbformat_minor": 4
}
