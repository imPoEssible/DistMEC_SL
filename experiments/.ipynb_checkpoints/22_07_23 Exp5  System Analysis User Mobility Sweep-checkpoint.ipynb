{
 "cells": [
  {
   "cell_type": "code",
   "execution_count": 1,
   "metadata": {},
   "outputs": [
    {
     "name": "stdout",
     "output_type": "stream",
     "text": [
      "/home/ubuntu/DistMEC\n"
     ]
    }
   ],
   "source": [
    "cd /home/ubuntu/DistMEC/"
   ]
  },
  {
   "cell_type": "code",
   "execution_count": 2,
   "metadata": {},
   "outputs": [],
   "source": [
    "import numpy as np\n",
    "import matplotlib.pyplot as plt\n",
    "import matplotlib\n",
    "\n",
    "from classes.User import *\n",
    "from classes.solver import *\n",
    "from classes.Server import *\n",
    "from classes.distributed_utils import *\n",
    "\n",
    "from tqdm import tqdm, tqdm_notebook\n",
    "from time import sleep\n",
    "import pickle\n",
    "import os\n",
    "import numpy as np"
   ]
  },
  {
   "cell_type": "code",
   "execution_count": 3,
   "metadata": {},
   "outputs": [],
   "source": [
    "regret_rsv_dict_list = []\n",
    "regret_worst_dict_list = []\n",
    "regret_central_dict_list = []\n",
    "regret_cstat_dict_list = []\n",
    "coll_rsv_dict_list = []\n",
    "coll_worst_dict_list = []\n",
    "\n",
    "# System Parameters\n",
    "T = 10000\n",
    "num_users = 9\n",
    "num_svrs = 9\n",
    "num_locs = 9\n",
    "# mu = np.random.uniform(low=0, high = 1, size = [num_users, num_svrs])\n",
    "ceiling = 40\n",
    "# w = np.random.uniform(low=0, high=1, size= [num_users, num_svrs])\n",
    "space_1d_dim = 10 #4 for small, 10 for big\n",
    "svr_offset_uniform = 2\n",
    "max_dist = 7\n",
    "usr_mobility_prob = [0.01, 0.03, 0.06, 0.1, 0.2]\n",
    "\n",
    "num_explore = 1\n",
    "trials = 5\n",
    "\n",
    "# result dictionaries\n",
    "result_dicts = []\n",
    "performance_list = []\n",
    "user_dicts = []\n",
    "\n",
    "save_name = 'results/22_06_16_ceiling_20/'\n",
    "isExist = os.path.exists(save_name)\n",
    "if not isExist:\n",
    "  # Create a new directory because it does not exist \n",
    "    os.makedirs(save_name)\n",
    "\n",
    "\n",
    "# Generate visitng locations and server locations\n",
    "usr_locs = gen_eq_locs(space_1d=space_1d_dim, nums=num_locs,offset = 1.7)\n",
    "# svr_locs = gen_eq_locs(space_1d=space_1d_dim, nums=num_svrs,offset = 1.7)\n",
    "\n",
    "with open('traces_P_40k.pkl', 'rb') as handle:\n",
    "    P_collection = pickle.load(handle)\n",
    "    \n",
    "with open('traces_P_40k_dict.pkl', 'rb') as handle:\n",
    "    P_dict = pickle.load(handle)"
   ]
  },
  {
   "cell_type": "code",
   "execution_count": 4,
   "metadata": {},
   "outputs": [
    {
     "name": "stderr",
     "output_type": "stream",
     "text": [
      "<ipython-input-4-90b39b61a7c8>:81: TqdmDeprecationWarning: This function will be removed in tqdm==5.0.0\n",
      "Please use `tqdm.notebook.tqdm` instead of `tqdm.tqdm_notebook`\n",
      "  for (zzz,t) in zip(tqdm_notebook(range(T-round_start)),range(round_start, T)):\n"
     ]
    },
    {
     "data": {
      "application/vnd.jupyter.widget-view+json": {
       "model_id": "eb1c02dced0a443f8d60518c3e2cda7f",
       "version_major": 2,
       "version_minor": 0
      },
      "text/plain": [
       "HBox(children=(HTML(value=''), FloatProgress(value=0.0, max=9990.0), HTML(value='')))"
      ]
     },
     "metadata": {},
     "output_type": "display_data"
    },
    {
     "name": "stdout",
     "output_type": "stream",
     "text": [
      "\n"
     ]
    },
    {
     "data": {
      "application/vnd.jupyter.widget-view+json": {
       "model_id": "7f1914944e52440a9570dd943e2b50e2",
       "version_major": 2,
       "version_minor": 0
      },
      "text/plain": [
       "HBox(children=(HTML(value=''), FloatProgress(value=0.0, max=9990.0), HTML(value='')))"
      ]
     },
     "metadata": {},
     "output_type": "display_data"
    },
    {
     "name": "stdout",
     "output_type": "stream",
     "text": [
      "\n"
     ]
    },
    {
     "data": {
      "application/vnd.jupyter.widget-view+json": {
       "model_id": "0c0bbf1f5f79417791119acfaf159259",
       "version_major": 2,
       "version_minor": 0
      },
      "text/plain": [
       "HBox(children=(HTML(value=''), FloatProgress(value=0.0, max=9990.0), HTML(value='')))"
      ]
     },
     "metadata": {},
     "output_type": "display_data"
    },
    {
     "name": "stdout",
     "output_type": "stream",
     "text": [
      "\n"
     ]
    },
    {
     "data": {
      "application/vnd.jupyter.widget-view+json": {
       "model_id": "7cfe35b8665d47daa8548ee5acc6e2c6",
       "version_major": 2,
       "version_minor": 0
      },
      "text/plain": [
       "HBox(children=(HTML(value=''), FloatProgress(value=0.0, max=9990.0), HTML(value='')))"
      ]
     },
     "metadata": {},
     "output_type": "display_data"
    },
    {
     "name": "stdout",
     "output_type": "stream",
     "text": [
      "\n"
     ]
    },
    {
     "data": {
      "application/vnd.jupyter.widget-view+json": {
       "model_id": "bc1cf7a433a642549b9725e270da32ad",
       "version_major": 2,
       "version_minor": 0
      },
      "text/plain": [
       "HBox(children=(HTML(value=''), FloatProgress(value=0.0, max=9990.0), HTML(value='')))"
      ]
     },
     "metadata": {},
     "output_type": "display_data"
    },
    {
     "name": "stdout",
     "output_type": "stream",
     "text": [
      "\n"
     ]
    },
    {
     "data": {
      "application/vnd.jupyter.widget-view+json": {
       "model_id": "250d6e3cad4040adb3edd365d4ed688a",
       "version_major": 2,
       "version_minor": 0
      },
      "text/plain": [
       "HBox(children=(HTML(value=''), FloatProgress(value=0.0, max=9990.0), HTML(value='')))"
      ]
     },
     "metadata": {},
     "output_type": "display_data"
    },
    {
     "name": "stdout",
     "output_type": "stream",
     "text": [
      "\n"
     ]
    },
    {
     "data": {
      "application/vnd.jupyter.widget-view+json": {
       "model_id": "925f02f255cf49c888ad22205f8e412a",
       "version_major": 2,
       "version_minor": 0
      },
      "text/plain": [
       "HBox(children=(HTML(value=''), FloatProgress(value=0.0, max=9990.0), HTML(value='')))"
      ]
     },
     "metadata": {},
     "output_type": "display_data"
    },
    {
     "name": "stdout",
     "output_type": "stream",
     "text": [
      "\n"
     ]
    },
    {
     "data": {
      "application/vnd.jupyter.widget-view+json": {
       "model_id": "934b2afd57664c20825289671df50ada",
       "version_major": 2,
       "version_minor": 0
      },
      "text/plain": [
       "HBox(children=(HTML(value=''), FloatProgress(value=0.0, max=9990.0), HTML(value='')))"
      ]
     },
     "metadata": {},
     "output_type": "display_data"
    },
    {
     "name": "stdout",
     "output_type": "stream",
     "text": [
      "\n"
     ]
    },
    {
     "data": {
      "application/vnd.jupyter.widget-view+json": {
       "model_id": "90dd50c3dd944caaa52144c8c07c4e29",
       "version_major": 2,
       "version_minor": 0
      },
      "text/plain": [
       "HBox(children=(HTML(value=''), FloatProgress(value=0.0, max=9990.0), HTML(value='')))"
      ]
     },
     "metadata": {},
     "output_type": "display_data"
    },
    {
     "name": "stdout",
     "output_type": "stream",
     "text": [
      "\n"
     ]
    },
    {
     "data": {
      "application/vnd.jupyter.widget-view+json": {
       "model_id": "fec76021ce884e98b6e4c5408964f4b4",
       "version_major": 2,
       "version_minor": 0
      },
      "text/plain": [
       "HBox(children=(HTML(value=''), FloatProgress(value=0.0, max=9990.0), HTML(value='')))"
      ]
     },
     "metadata": {},
     "output_type": "display_data"
    },
    {
     "name": "stdout",
     "output_type": "stream",
     "text": [
      "\n"
     ]
    },
    {
     "data": {
      "application/vnd.jupyter.widget-view+json": {
       "model_id": "5cd9eb03c2bf499988bff28fd9d457ce",
       "version_major": 2,
       "version_minor": 0
      },
      "text/plain": [
       "HBox(children=(HTML(value=''), FloatProgress(value=0.0, max=9990.0), HTML(value='')))"
      ]
     },
     "metadata": {},
     "output_type": "display_data"
    },
    {
     "name": "stdout",
     "output_type": "stream",
     "text": [
      "\n"
     ]
    },
    {
     "data": {
      "application/vnd.jupyter.widget-view+json": {
       "model_id": "5f07fe07e74f4ebfb62a4c2df0168b92",
       "version_major": 2,
       "version_minor": 0
      },
      "text/plain": [
       "HBox(children=(HTML(value=''), FloatProgress(value=0.0, max=9990.0), HTML(value='')))"
      ]
     },
     "metadata": {},
     "output_type": "display_data"
    },
    {
     "name": "stdout",
     "output_type": "stream",
     "text": [
      "\n"
     ]
    },
    {
     "data": {
      "application/vnd.jupyter.widget-view+json": {
       "model_id": "70ae9643a5624c4aa38fad901c9879ee",
       "version_major": 2,
       "version_minor": 0
      },
      "text/plain": [
       "HBox(children=(HTML(value=''), FloatProgress(value=0.0, max=9990.0), HTML(value='')))"
      ]
     },
     "metadata": {},
     "output_type": "display_data"
    },
    {
     "name": "stdout",
     "output_type": "stream",
     "text": [
      "\n"
     ]
    },
    {
     "data": {
      "application/vnd.jupyter.widget-view+json": {
       "model_id": "c3ce98d8a2f34c82b10ce0a566e92e57",
       "version_major": 2,
       "version_minor": 0
      },
      "text/plain": [
       "HBox(children=(HTML(value=''), FloatProgress(value=0.0, max=9990.0), HTML(value='')))"
      ]
     },
     "metadata": {},
     "output_type": "display_data"
    },
    {
     "name": "stdout",
     "output_type": "stream",
     "text": [
      "\n"
     ]
    },
    {
     "data": {
      "application/vnd.jupyter.widget-view+json": {
       "model_id": "e981ff5a8c9e4903bf96a7f17f1a93cf",
       "version_major": 2,
       "version_minor": 0
      },
      "text/plain": [
       "HBox(children=(HTML(value=''), FloatProgress(value=0.0, max=9990.0), HTML(value='')))"
      ]
     },
     "metadata": {},
     "output_type": "display_data"
    },
    {
     "name": "stdout",
     "output_type": "stream",
     "text": [
      "\n"
     ]
    },
    {
     "data": {
      "application/vnd.jupyter.widget-view+json": {
       "model_id": "be70ca58ca084c26bdb8113584e038cd",
       "version_major": 2,
       "version_minor": 0
      },
      "text/plain": [
       "HBox(children=(HTML(value=''), FloatProgress(value=0.0, max=9990.0), HTML(value='')))"
      ]
     },
     "metadata": {},
     "output_type": "display_data"
    },
    {
     "name": "stdout",
     "output_type": "stream",
     "text": [
      "\n"
     ]
    },
    {
     "data": {
      "application/vnd.jupyter.widget-view+json": {
       "model_id": "fbdc1b4903ea4945b047ce3837078e7a",
       "version_major": 2,
       "version_minor": 0
      },
      "text/plain": [
       "HBox(children=(HTML(value=''), FloatProgress(value=0.0, max=9990.0), HTML(value='')))"
      ]
     },
     "metadata": {},
     "output_type": "display_data"
    },
    {
     "name": "stdout",
     "output_type": "stream",
     "text": [
      "\n"
     ]
    },
    {
     "data": {
      "application/vnd.jupyter.widget-view+json": {
       "model_id": "ca72ed4a9f2d48489bf9d0051a791416",
       "version_major": 2,
       "version_minor": 0
      },
      "text/plain": [
       "HBox(children=(HTML(value=''), FloatProgress(value=0.0, max=9990.0), HTML(value='')))"
      ]
     },
     "metadata": {},
     "output_type": "display_data"
    },
    {
     "name": "stdout",
     "output_type": "stream",
     "text": [
      "\n"
     ]
    },
    {
     "data": {
      "application/vnd.jupyter.widget-view+json": {
       "model_id": "6f6983f98eb64d8ab94a709e479c4937",
       "version_major": 2,
       "version_minor": 0
      },
      "text/plain": [
       "HBox(children=(HTML(value=''), FloatProgress(value=0.0, max=9990.0), HTML(value='')))"
      ]
     },
     "metadata": {},
     "output_type": "display_data"
    },
    {
     "name": "stdout",
     "output_type": "stream",
     "text": [
      "\n"
     ]
    },
    {
     "data": {
      "application/vnd.jupyter.widget-view+json": {
       "model_id": "8cbfab315fbc4aca8ba3883c77d51973",
       "version_major": 2,
       "version_minor": 0
      },
      "text/plain": [
       "HBox(children=(HTML(value=''), FloatProgress(value=0.0, max=9990.0), HTML(value='')))"
      ]
     },
     "metadata": {},
     "output_type": "display_data"
    },
    {
     "name": "stdout",
     "output_type": "stream",
     "text": [
      "\n"
     ]
    },
    {
     "data": {
      "application/vnd.jupyter.widget-view+json": {
       "model_id": "4f1240f46054439287524ce4a1b99ef7",
       "version_major": 2,
       "version_minor": 0
      },
      "text/plain": [
       "HBox(children=(HTML(value=''), FloatProgress(value=0.0, max=9990.0), HTML(value='')))"
      ]
     },
     "metadata": {},
     "output_type": "display_data"
    },
    {
     "name": "stdout",
     "output_type": "stream",
     "text": [
      "\n"
     ]
    },
    {
     "data": {
      "application/vnd.jupyter.widget-view+json": {
       "model_id": "f8ce7988b693409c970901d8a0d149a1",
       "version_major": 2,
       "version_minor": 0
      },
      "text/plain": [
       "HBox(children=(HTML(value=''), FloatProgress(value=0.0, max=9990.0), HTML(value='')))"
      ]
     },
     "metadata": {},
     "output_type": "display_data"
    },
    {
     "name": "stdout",
     "output_type": "stream",
     "text": [
      "\n"
     ]
    },
    {
     "data": {
      "application/vnd.jupyter.widget-view+json": {
       "model_id": "a143261f1194429daec221252c6f126d",
       "version_major": 2,
       "version_minor": 0
      },
      "text/plain": [
       "HBox(children=(HTML(value=''), FloatProgress(value=0.0, max=9990.0), HTML(value='')))"
      ]
     },
     "metadata": {},
     "output_type": "display_data"
    },
    {
     "name": "stdout",
     "output_type": "stream",
     "text": [
      "\n"
     ]
    },
    {
     "data": {
      "application/vnd.jupyter.widget-view+json": {
       "model_id": "2efbec10a97a41c5b5cae866d77b33da",
       "version_major": 2,
       "version_minor": 0
      },
      "text/plain": [
       "HBox(children=(HTML(value=''), FloatProgress(value=0.0, max=9990.0), HTML(value='')))"
      ]
     },
     "metadata": {},
     "output_type": "display_data"
    },
    {
     "name": "stdout",
     "output_type": "stream",
     "text": [
      "\n"
     ]
    },
    {
     "data": {
      "application/vnd.jupyter.widget-view+json": {
       "model_id": "8b7f06f304474c108acbddb41b2d9d0c",
       "version_major": 2,
       "version_minor": 0
      },
      "text/plain": [
       "HBox(children=(HTML(value=''), FloatProgress(value=0.0, max=9990.0), HTML(value='')))"
      ]
     },
     "metadata": {},
     "output_type": "display_data"
    },
    {
     "name": "stdout",
     "output_type": "stream",
     "text": [
      "\n"
     ]
    }
   ],
   "source": [
    "for zt in range(len(usr_mobility_prob)):\n",
    "    # Recording Mechanism\n",
    "    regret_centralized_dict = {}\n",
    "\n",
    "    regret_worst_dict = {}\n",
    "    collisions_worst_dict = {}\n",
    "\n",
    "    regret_rsv_dict = {}\n",
    "    collisions_rsv_dict = {}\n",
    "\n",
    "    regret_cent_stat = {}\n",
    "    mu = np.random.uniform(low=0, high = 1, size = [num_users, num_svrs])\n",
    "\n",
    "\n",
    "    for tri in range(trials):\n",
    "\n",
    "        P = np.zeros(P_collection.shape)\n",
    "        temp_pm = usr_mobility_prob[zt]\n",
    "\n",
    "        for i in range(P.shape[0]):\n",
    "            for j in range(P.shape[0]):\n",
    "                if i != j:\n",
    "                    P[i,j] = temp_pm/(P.shape[0]-1)\n",
    "                else:\n",
    "                    P[i,j] = 1-temp_pm\n",
    "\n",
    "\n",
    "        svr_locs = gen_rand_locs(space_1d=space_1d_dim - svr_offset_uniform, nums=num_svrs)\n",
    "        # Create Users\n",
    "        Users_w = []\n",
    "        for i in range(num_users):\n",
    "            Users_w += [User(usr_locs,svr_locs,mu[i],i,\n",
    "                          max_dist = max_dist, threshold_dist = 6, self_weight = usr_mobility_prob[zt],\n",
    "                             P = P, ceiling = 1, sticky_mode = True, kick_mode=True)]\n",
    "\n",
    "        # Create Servers\n",
    "        Servers = []\n",
    "        for i in range(num_svrs):\n",
    "            Servers += [Server(svr_locs[i],mu,i)]\n",
    "\n",
    "        # Recorded Values - reservation\n",
    "        regret_g = np.zeros(T) # Got\n",
    "        collision_count_g = np.zeros(T)\n",
    "        optimal_reward_g = np.zeros(T)\n",
    "\n",
    "        regret_w = np.zeros(T) # Worst\n",
    "        collision_count_w = np.zeros(T)\n",
    "        optimal_reward = np.zeros(T)\n",
    "\n",
    "        # Explore rounds are common/shared across all users\n",
    "        explore_rounds(Users_w, num_users, Servers, mu, regret_w, collision_count_w, optimal_reward,\n",
    "                       usr_move_flag = True, rounds=num_explore)\n",
    "\n",
    "        round_start = ((num_svrs)*num_explore)+1\n",
    "\n",
    "\n",
    "        # Other reward recodings\n",
    "        Users_rsv = copy.deepcopy(Users_w)\n",
    "        regret_rsv = copy.deepcopy(regret_w)\n",
    "        collision_count_rsv = copy.deepcopy(collision_count_w)\n",
    "        for u in Users_rsv:\n",
    "            u.sticky_mode = True\n",
    "            u.kick_mode = True #false\n",
    "            u.ceiling = ceiling\n",
    "            u.expected_time_true = u.get_expected_time()\n",
    "#             u.rsv_lower_bound = 8\n",
    "\n",
    "        # Centralized - true w learning\n",
    "        rewards_record_ct, pulls_record_ct, ucb_ct = extract_centralized_case(Users_w, num_users, num_svrs)\n",
    "        regret_ct = copy.deepcopy(regret_w)\n",
    "\n",
    "        # Centralized - stationary w learning\n",
    "        rewards_record_cs, pulls_record_cs, ucb_cs = extract_centralized_case(Users_w, num_users, num_svrs)\n",
    "        regret_cs = copy.deepcopy(regret_w)\n",
    "\n",
    "        # Centralized - stationary w, known mu\n",
    "        w_stat = obtain_w_stationary(Users_w, num_users, num_svrs)\n",
    "        optimal_stat_arms = offline_optimal_action(w_stat,mu)[0]\n",
    "        regret_cst = copy.deepcopy(regret_w)\n",
    "\n",
    "        for (zzz,t) in zip(tqdm_notebook(range(T-round_start)),range(round_start, T)):\n",
    "            w = obtain_w(Users_w, len(Users_w), len(Servers))\n",
    "            optimal = offline_optimal_action(w, mu)\n",
    "            optimal_reward[t] = optimal[1]\n",
    "\n",
    "            # Distributed solution \n",
    "            play_round(Users_w, Servers, mu, regret_w, collision_count_w, \n",
    "                       usr_move_flag = True, debugger = False, reservation_mode = True, optimal =optimal)\n",
    "            play_round(Users_rsv, Servers, mu, regret_rsv, collision_count_rsv, \n",
    "                       usr_move_flag = False, debugger = False, reservation_mode = True, optimal =optimal, t = t)\n",
    "            copy_usr_loc(Users_w, Users_rsv)\n",
    "\n",
    "            # Centralized Solution -  true w learning\n",
    "            ucb_ct = update_ucb(rewards_record_ct, pulls_record_ct, ucb_ct, t, 1)\n",
    "            arms = offline_optimal_action(w, ucb_ct)[0]\n",
    "            rewards_record_ct, pulls_record_ct = pull_super_arm(arms, mu, rewards_record_ct, pulls_record_ct)\n",
    "            regret_ct[t] = optimal[1] - expected_reward(arms, mu, w)\n",
    "\n",
    "            # Centralized Solution -  stationary w learning\n",
    "            ucb_cs = update_ucb(rewards_record_cs, pulls_record_cs, ucb_cs, t, 1)\n",
    "            arms = offline_optimal_action(w_stat, ucb_cs)[0]\n",
    "            rewards_record_cs, pulls_record_cs = pull_super_arm(arms, mu, rewards_record_cs, pulls_record_cs)\n",
    "            regret_cs[t] = optimal[1] - expected_reward(arms, mu, w)\n",
    "\n",
    "\n",
    "        regret_centralized_dict[tri] = copy.deepcopy(regret_ct)\n",
    "\n",
    "        regret_worst_dict[tri] = copy.deepcopy(regret_w)\n",
    "        collisions_worst_dict[tri] = copy.deepcopy(collision_count_w)\n",
    "\n",
    "        regret_rsv_dict[tri] = copy.deepcopy(regret_rsv)\n",
    "        collisions_rsv_dict[tri] = copy.deepcopy(collision_count_rsv)\n",
    "\n",
    "        regret_cent_stat[tri] = copy.deepcopy(regret_cs)\n",
    "#         regret_opt_stat[tri] = copy.deepcopy(regret_cst)\n",
    "\n",
    "\n",
    "        del Users_w, Users_rsv, Servers\n",
    "    regret_rsv_dict_list += [regret_rsv_dict]\n",
    "    regret_worst_dict_list += [regret_worst_dict]\n",
    "    regret_central_dict_list += [regret_centralized_dict]\n",
    "    regret_cstat_dict_list += [regret_cent_stat]\n",
    "    coll_rsv_dict_list += [collisions_rsv_dict]\n",
    "    coll_worst_dict_list += [collisions_worst_dict]"
   ]
  },
  {
   "cell_type": "code",
   "execution_count": 5,
   "metadata": {},
   "outputs": [],
   "source": [
    "save_dict = {}\n",
    "save_dict['regret_rsv_dict_list'] = regret_rsv_dict_list\n",
    "save_dict['regret_worst_dict_list'] = regret_worst_dict_list\n",
    "save_dict['regret_central_dict_list'] = regret_central_dict_list\n",
    "save_dict['regret_cstat_dict_list'] = regret_cstat_dict_list\n",
    "save_dict['coll_rsv_dict_list'] = coll_rsv_dict_list\n",
    "save_dict['coll_worst_dict_list'] = coll_worst_dict_list\n",
    "\n",
    "with open(\"experiments/save/exp5/220725_run5_t5_random_fakeP_m7.pkl\", \"wb\") as tf:\n",
    "    pickle.dump(save_dict,tf)"
   ]
  },
  {
   "cell_type": "code",
   "execution_count": 4,
   "metadata": {},
   "outputs": [],
   "source": [
    "with open(\"experiments/save/exp5/220725_run5_t5_random_fakeP_m7.pkl\", \"rb\") as handle:\n",
    "    load_dict = pickle.load(handle)\n",
    "    \n",
    "regret_rsv_dict_list = load_dict['regret_rsv_dict_list']\n",
    "regret_worst_dict_list = load_dict['regret_worst_dict_list']\n",
    "regret_central_dict_list = load_dict['regret_central_dict_list']\n",
    "regret_cstat_dict_list = load_dict['regret_cstat_dict_list']\n",
    "\n",
    "coll_rsv_dict_list = load_dict['coll_rsv_dict_list']\n",
    "coll_worst_dict_list = load_dict['coll_worst_dict_list']"
   ]
  },
  {
   "cell_type": "raw",
   "metadata": {},
   "source": [
    "x = usr_mobility_prob\n",
    "regret_rsv_plot = []\n",
    "regret_worst_plot = []\n",
    "regret_central_plot = []\n",
    "regret_cstat_plot = []\n",
    "\n",
    "coll_rsv_plot = []\n",
    "coll_worst_plot = []\n",
    "\n",
    "for zt in range(len(usr_mobility_prob)):\n",
    "    \n",
    "    regret_rsv_avg = 1/trials * regret_rsv_dict_list[zt][0]\n",
    "    regret_worst_avg= 1/trials * regret_worst_dict_list[zt][0]\n",
    "    regret_centralized_avg = 1/trials * regret_central_dict_list[zt][0]\n",
    "    regret_cent_stat_avg= 1/trials * regret_cstat_dict_list[zt][0]\n",
    "    \n",
    "    coll_rsv_avg = 1/trials * coll_rsv_dict_list[zt][0]\n",
    "    coll_worst_avg= 1/trials * coll_worst_dict_list[zt][0]\n",
    "\n",
    "    \n",
    "    for i in range(1, trials):\n",
    "\n",
    "        regret_rsv_avg += 1/trials * regret_rsv_dict_list[zt][i]\n",
    "        regret_worst_avg += 1/trials * regret_worst_dict_list[zt][i]\n",
    "        regret_centralized_avg += 1/trials * regret_central_dict_list[zt][i]\n",
    "        regret_cent_stat_avg += 1/trials * regret_cstat_dict_list[zt][i]\n",
    "        coll_rsv_avg += 1/trials * coll_rsv_dict_list[zt][i]\n",
    "        coll_worst_avg += 1/trials * coll_worst_dict_list[zt][i]\n",
    "    \n",
    "    regret_rsv_plot += [copy.deepcopy(np.cumsum(regret_rsv_avg)[-1])]\n",
    "    regret_worst_plot += [copy.deepcopy(np.cumsum(regret_worst_avg)[-1])]\n",
    "    regret_central_plot += [copy.deepcopy(np.cumsum(regret_centralized_avg)[-1])]\n",
    "    regret_cstat_plot += [copy.deepcopy(np.cumsum(regret_cent_stat_avg)[-1])]\n",
    "    \n",
    "    coll_rsv_plot += [copy.deepcopy(np.cumsum(coll_rsv_avg)[-1])]\n",
    "    coll_worst_plot += [copy.deepcopy(np.cumsum(coll_worst_avg)[-1])]"
   ]
  },
  {
   "cell_type": "code",
   "execution_count": 12,
   "metadata": {},
   "outputs": [
    {
     "ename": "NameError",
     "evalue": "name 'coll_rsv_plot' is not defined",
     "output_type": "error",
     "traceback": [
      "\u001b[0;31m---------------------------------------------------------------------------\u001b[0m",
      "\u001b[0;31mNameError\u001b[0m                                 Traceback (most recent call last)",
      "\u001b[0;32m<ipython-input-12-46504619c4e5>\u001b[0m in \u001b[0;36m<module>\u001b[0;34m\u001b[0m\n\u001b[1;32m     81\u001b[0m     \u001b[0mregret_cstat_plot\u001b[0m \u001b[0;34m+=\u001b[0m \u001b[0;34m[\u001b[0m\u001b[0mcopy\u001b[0m\u001b[0;34m.\u001b[0m\u001b[0mdeepcopy\u001b[0m\u001b[0;34m(\u001b[0m\u001b[0mnp\u001b[0m\u001b[0;34m.\u001b[0m\u001b[0mcumsum\u001b[0m\u001b[0;34m(\u001b[0m\u001b[0mregret_cent_stat_avg\u001b[0m\u001b[0;34m)\u001b[0m\u001b[0;34m[\u001b[0m\u001b[0;34m-\u001b[0m\u001b[0;36m1\u001b[0m\u001b[0;34m]\u001b[0m\u001b[0;34m)\u001b[0m\u001b[0;34m]\u001b[0m\u001b[0;34m\u001b[0m\u001b[0;34m\u001b[0m\u001b[0m\n\u001b[1;32m     82\u001b[0m \u001b[0;34m\u001b[0m\u001b[0m\n\u001b[0;32m---> 83\u001b[0;31m     \u001b[0mcoll_rsv_plot\u001b[0m \u001b[0;34m+=\u001b[0m \u001b[0;34m[\u001b[0m\u001b[0mcopy\u001b[0m\u001b[0;34m.\u001b[0m\u001b[0mdeepcopy\u001b[0m\u001b[0;34m(\u001b[0m\u001b[0mnp\u001b[0m\u001b[0;34m.\u001b[0m\u001b[0mcumsum\u001b[0m\u001b[0;34m(\u001b[0m\u001b[0mcoll_rsv_avg\u001b[0m\u001b[0;34m)\u001b[0m\u001b[0;34m[\u001b[0m\u001b[0;34m-\u001b[0m\u001b[0;36m1\u001b[0m\u001b[0;34m]\u001b[0m\u001b[0;34m)\u001b[0m\u001b[0;34m]\u001b[0m\u001b[0;34m\u001b[0m\u001b[0;34m\u001b[0m\u001b[0m\n\u001b[0m\u001b[1;32m     84\u001b[0m     \u001b[0mcoll_worst_plot\u001b[0m \u001b[0;34m+=\u001b[0m \u001b[0;34m[\u001b[0m\u001b[0mcopy\u001b[0m\u001b[0;34m.\u001b[0m\u001b[0mdeepcopy\u001b[0m\u001b[0;34m(\u001b[0m\u001b[0mnp\u001b[0m\u001b[0;34m.\u001b[0m\u001b[0mcumsum\u001b[0m\u001b[0;34m(\u001b[0m\u001b[0mcoll_worst_avg\u001b[0m\u001b[0;34m)\u001b[0m\u001b[0;34m[\u001b[0m\u001b[0;34m-\u001b[0m\u001b[0;36m1\u001b[0m\u001b[0;34m]\u001b[0m\u001b[0;34m)\u001b[0m\u001b[0;34m]\u001b[0m\u001b[0;34m\u001b[0m\u001b[0;34m\u001b[0m\u001b[0m\n",
      "\u001b[0;31mNameError\u001b[0m: name 'coll_rsv_plot' is not defined"
     ]
    }
   ],
   "source": [
    "nt = len(list(regret_rsv_dict_list))\n",
    "cc = len(usr_mobility_prob)\n",
    "\n",
    "# calculating error bars\n",
    "regret_worst_sd = np.zeros([cc,nt])\n",
    "regret_rsv_sd = np.zeros([cc, nt])\n",
    "regret_cent_stat_sd = np.zeros([cc, nt])\n",
    "regret_centralized_sd = np.zeros([cc, nt])\n",
    "\n",
    "collisions_worst_sd = np.zeros([cc,nt])\n",
    "collisions_rsv_sd = np.zeros([cc, nt])\n",
    "\n",
    "for i in range(cc):\n",
    "    for j in range(nt):\n",
    "        regret_worst_sd[i,j] = np.cumsum(regret_worst_dict_list[i][j])[-1]\n",
    "        regret_rsv_sd[i,j] = np.cumsum(regret_rsv_dict_list[i][j])[-1]\n",
    "        regret_cent_stat_sd[i,j] = np.cumsum(regret_cstat_dict_list[i][j])[-1]\n",
    "        regret_centralized_sd[i,j] = np.cumsum(regret_central_dict_list[i][j])[-1]\n",
    "        \n",
    "        collisions_worst_sd[i,j] = np.cumsum(coll_worst_dict_list[i][j])[-1]/(T*num_users)\n",
    "        collisions_rsv_sd[i,j] = np.cumsum(coll_rsv_dict_list[i][j])[-1]/(T*num_users)\n",
    "\n",
    "regret_worst_sd2 = np.sqrt(regret_worst_sd.var(1))\n",
    "regret_rsv_sd2 = np.sqrt(regret_rsv_sd.var(1))\n",
    "regret_cent_stat_sd2 = np.sqrt(regret_cent_stat_sd.var(1))\n",
    "regret_centralized_sd2 = np.sqrt(regret_centralized_sd.var(1))\n",
    "collisions_worst_sd2 = np.sqrt(collisions_worst_sd.var(1))\n",
    "collisions_rsv_sd2 = np.sqrt(collisions_rsv_sd.var(1))\n",
    "        \n",
    "x = usr_mobility_prob\n",
    "regret_rsv_plot = []\n",
    "regret_worst_plot = []\n",
    "regret_central_plot = []\n",
    "regret_cstat_plot = []\n",
    "\n",
    "# for zt in range(len(usr_mobility_prob)):\n",
    "    \n",
    "#     regret_rsv_avg = 1/trials * regret_rsv_dict_list[zt][0]\n",
    "#     regret_worst_avg= 1/trials * regret_worst_dict_list[zt][0]\n",
    "#     regret_centralized_avg = 1/trials * regret_central_dict_list[zt][0]\n",
    "#     regret_cent_stat_avg= 1/trials * regret_cstat_dict_list[zt][0]\n",
    "    \n",
    "    \n",
    "\n",
    "    \n",
    "#     for i in range(1, trials):\n",
    "\n",
    "#         regret_rsv_avg += 1/trials * regret_rsv_dict_list[zt][i]\n",
    "#         regret_worst_avg += 1/trials * regret_worst_dict_list[zt][i]\n",
    "#         regret_centralized_avg += 1/trials * regret_central_dict_list[zt][i]\n",
    "#         regret_cent_stat_avg += 1/trials * regret_cstat_dict_list[zt][i]\n",
    "    \n",
    "#     regret_rsv_plot += [copy.deepcopy(np.cumsum(regret_rsv_avg)[-1])]\n",
    "#     regret_worst_plot += [copy.deepcopy(np.cumsum(regret_worst_avg)[-1])]\n",
    "#     regret_central_plot += [copy.deepcopy(np.cumsum(regret_centralized_avg)[-1])]\n",
    "#     regret_cstat_plot += [copy.deepcopy(np.cumsum(regret_cent_stat_avg)[-1])]\n",
    "\n",
    "for zt in range(len(usr_mobility_prob)):\n",
    "    \n",
    "    regret_rsv_avg = 1/trials * regret_rsv_dict_list[zt][0]\n",
    "    regret_worst_avg= 1/trials * regret_worst_dict_list[zt][0]\n",
    "    regret_centralized_avg = 1/trials * regret_central_dict_list[zt][0]\n",
    "    regret_cent_stat_avg= 1/trials * regret_cstat_dict_list[zt][0]\n",
    "    \n",
    "    coll_rsv_avg = 1/trials * coll_rsv_dict_list[zt][0]\n",
    "    coll_worst_avg= 1/trials * coll_worst_dict_list[zt][0]\n",
    "\n",
    "    \n",
    "    for i in range(1, trials):\n",
    "\n",
    "        regret_rsv_avg += 1/trials * regret_rsv_dict_list[zt][i]\n",
    "        regret_worst_avg += 1/trials * regret_worst_dict_list[zt][i]\n",
    "        regret_centralized_avg += 1/trials * regret_central_dict_list[zt][i]\n",
    "        regret_cent_stat_avg += 1/trials * regret_cstat_dict_list[zt][i]\n",
    "        coll_rsv_avg += 1/trials * coll_rsv_dict_list[zt][i]\n",
    "        coll_worst_avg += 1/trials * coll_worst_dict_list[zt][i]\n",
    "    \n",
    "    regret_rsv_plot += [copy.deepcopy(np.cumsum(regret_rsv_avg)[-1])]\n",
    "    regret_worst_plot += [copy.deepcopy(np.cumsum(regret_worst_avg)[-1])]\n",
    "    regret_central_plot += [copy.deepcopy(np.cumsum(regret_centralized_avg)[-1])]\n",
    "    regret_cstat_plot += [copy.deepcopy(np.cumsum(regret_cent_stat_avg)[-1])]\n",
    "    \n",
    "    coll_rsv_plot += [copy.deepcopy(np.cumsum(coll_rsv_avg)[-1])]\n",
    "    coll_worst_plot += [copy.deepcopy(np.cumsum(coll_worst_avg)[-1])]"
   ]
  },
  {
   "cell_type": "code",
   "execution_count": 13,
   "metadata": {},
   "outputs": [
    {
     "ename": "ValueError",
     "evalue": "The lengths of the data (1) and the error 5 do not match",
     "output_type": "error",
     "traceback": [
      "\u001b[0;31m---------------------------------------------------------------------------\u001b[0m",
      "\u001b[0;31mValueError\u001b[0m                                Traceback (most recent call last)",
      "\u001b[0;32m<ipython-input-13-d1b6b33c56ee>\u001b[0m in \u001b[0;36m<module>\u001b[0;34m\u001b[0m\n\u001b[1;32m     22\u001b[0m \u001b[0mplt\u001b[0m\u001b[0;34m.\u001b[0m\u001b[0mfigure\u001b[0m\u001b[0;34m(\u001b[0m\u001b[0mfigsize\u001b[0m\u001b[0;34m=\u001b[0m\u001b[0;34m(\u001b[0m\u001b[0;36m6\u001b[0m\u001b[0;34m,\u001b[0m \u001b[0;36m4\u001b[0m\u001b[0;34m)\u001b[0m\u001b[0;34m,\u001b[0m \u001b[0mdpi\u001b[0m\u001b[0;34m=\u001b[0m\u001b[0;36m80\u001b[0m\u001b[0;34m)\u001b[0m\u001b[0;34m\u001b[0m\u001b[0;34m\u001b[0m\u001b[0m\n\u001b[1;32m     23\u001b[0m \u001b[0;34m\u001b[0m\u001b[0m\n\u001b[0;32m---> 24\u001b[0;31m \u001b[0mplt\u001b[0m\u001b[0;34m.\u001b[0m\u001b[0merrorbar\u001b[0m\u001b[0;34m(\u001b[0m\u001b[0mx\u001b[0m\u001b[0;34m,\u001b[0m \u001b[0mregret_worst_plot\u001b[0m\u001b[0;34m,\u001b[0m \u001b[0mregret_worst_sd2\u001b[0m\u001b[0;34m,\u001b[0m \u001b[0mlabel\u001b[0m \u001b[0;34m=\u001b[0m \u001b[0;34m'Greedy Dist.'\u001b[0m\u001b[0;34m,\u001b[0m \u001b[0mcolor\u001b[0m \u001b[0;34m=\u001b[0m \u001b[0;34m\"tab:green\"\u001b[0m\u001b[0;34m,\u001b[0m \u001b[0mlinewidth\u001b[0m\u001b[0;34m=\u001b[0m\u001b[0;36m2.0\u001b[0m\u001b[0;34m)\u001b[0m\u001b[0;34m\u001b[0m\u001b[0;34m\u001b[0m\u001b[0m\n\u001b[0m\u001b[1;32m     25\u001b[0m \u001b[0mplt\u001b[0m\u001b[0;34m.\u001b[0m\u001b[0merrorbar\u001b[0m\u001b[0;34m(\u001b[0m\u001b[0mx\u001b[0m\u001b[0;34m,\u001b[0m\u001b[0mregret_rsv_plot\u001b[0m\u001b[0;34m,\u001b[0m \u001b[0mregret_rsv_sd2\u001b[0m\u001b[0;34m,\u001b[0m \u001b[0mlabel\u001b[0m \u001b[0;34m=\u001b[0m \u001b[0;34m'Edge-Alloc:D'\u001b[0m\u001b[0;34m,\u001b[0m \u001b[0mcolor\u001b[0m \u001b[0;34m=\u001b[0m \u001b[0;34m\"tab:red\"\u001b[0m\u001b[0;34m,\u001b[0m \u001b[0mlinewidth\u001b[0m\u001b[0;34m=\u001b[0m\u001b[0;36m2.0\u001b[0m\u001b[0;34m)\u001b[0m\u001b[0;34m\u001b[0m\u001b[0;34m\u001b[0m\u001b[0m\n\u001b[1;32m     26\u001b[0m \u001b[0mplt\u001b[0m\u001b[0;34m.\u001b[0m\u001b[0merrorbar\u001b[0m\u001b[0;34m(\u001b[0m\u001b[0mx\u001b[0m\u001b[0;34m,\u001b[0m\u001b[0mregret_central_plot\u001b[0m\u001b[0;34m,\u001b[0m \u001b[0mregret_centralized_sd2\u001b[0m\u001b[0;34m,\u001b[0m \u001b[0mlabel\u001b[0m \u001b[0;34m=\u001b[0m \u001b[0;34m'Edge-Alloc:C'\u001b[0m\u001b[0;34m,\u001b[0m \u001b[0mcolor\u001b[0m \u001b[0;34m=\u001b[0m \u001b[0;34m\"tab:blue\"\u001b[0m\u001b[0;34m,\u001b[0m \u001b[0mlinewidth\u001b[0m\u001b[0;34m=\u001b[0m\u001b[0;36m2.5\u001b[0m\u001b[0;34m)\u001b[0m\u001b[0;34m\u001b[0m\u001b[0;34m\u001b[0m\u001b[0m\n",
      "\u001b[0;32m~/anaconda3/lib/python3.8/site-packages/matplotlib/pyplot.py\u001b[0m in \u001b[0;36merrorbar\u001b[0;34m(x, y, yerr, xerr, fmt, ecolor, elinewidth, capsize, barsabove, lolims, uplims, xlolims, xuplims, errorevery, capthick, data, **kwargs)\u001b[0m\n\u001b[1;32m   2553\u001b[0m         \u001b[0muplims\u001b[0m\u001b[0;34m=\u001b[0m\u001b[0;32mFalse\u001b[0m\u001b[0;34m,\u001b[0m \u001b[0mxlolims\u001b[0m\u001b[0;34m=\u001b[0m\u001b[0;32mFalse\u001b[0m\u001b[0;34m,\u001b[0m \u001b[0mxuplims\u001b[0m\u001b[0;34m=\u001b[0m\u001b[0;32mFalse\u001b[0m\u001b[0;34m,\u001b[0m \u001b[0merrorevery\u001b[0m\u001b[0;34m=\u001b[0m\u001b[0;36m1\u001b[0m\u001b[0;34m,\u001b[0m\u001b[0;34m\u001b[0m\u001b[0;34m\u001b[0m\u001b[0m\n\u001b[1;32m   2554\u001b[0m         capthick=None, *, data=None, **kwargs):\n\u001b[0;32m-> 2555\u001b[0;31m     return gca().errorbar(\n\u001b[0m\u001b[1;32m   2556\u001b[0m         \u001b[0mx\u001b[0m\u001b[0;34m,\u001b[0m \u001b[0my\u001b[0m\u001b[0;34m,\u001b[0m \u001b[0myerr\u001b[0m\u001b[0;34m=\u001b[0m\u001b[0myerr\u001b[0m\u001b[0;34m,\u001b[0m \u001b[0mxerr\u001b[0m\u001b[0;34m=\u001b[0m\u001b[0mxerr\u001b[0m\u001b[0;34m,\u001b[0m \u001b[0mfmt\u001b[0m\u001b[0;34m=\u001b[0m\u001b[0mfmt\u001b[0m\u001b[0;34m,\u001b[0m \u001b[0mecolor\u001b[0m\u001b[0;34m=\u001b[0m\u001b[0mecolor\u001b[0m\u001b[0;34m,\u001b[0m\u001b[0;34m\u001b[0m\u001b[0;34m\u001b[0m\u001b[0m\n\u001b[1;32m   2557\u001b[0m         \u001b[0melinewidth\u001b[0m\u001b[0;34m=\u001b[0m\u001b[0melinewidth\u001b[0m\u001b[0;34m,\u001b[0m \u001b[0mcapsize\u001b[0m\u001b[0;34m=\u001b[0m\u001b[0mcapsize\u001b[0m\u001b[0;34m,\u001b[0m \u001b[0mbarsabove\u001b[0m\u001b[0;34m=\u001b[0m\u001b[0mbarsabove\u001b[0m\u001b[0;34m,\u001b[0m\u001b[0;34m\u001b[0m\u001b[0;34m\u001b[0m\u001b[0m\n",
      "\u001b[0;32m~/anaconda3/lib/python3.8/site-packages/matplotlib/__init__.py\u001b[0m in \u001b[0;36minner\u001b[0;34m(ax, data, *args, **kwargs)\u001b[0m\n\u001b[1;32m   1599\u001b[0m     \u001b[0;32mdef\u001b[0m \u001b[0minner\u001b[0m\u001b[0;34m(\u001b[0m\u001b[0max\u001b[0m\u001b[0;34m,\u001b[0m \u001b[0;34m*\u001b[0m\u001b[0margs\u001b[0m\u001b[0;34m,\u001b[0m \u001b[0mdata\u001b[0m\u001b[0;34m=\u001b[0m\u001b[0;32mNone\u001b[0m\u001b[0;34m,\u001b[0m \u001b[0;34m**\u001b[0m\u001b[0mkwargs\u001b[0m\u001b[0;34m)\u001b[0m\u001b[0;34m:\u001b[0m\u001b[0;34m\u001b[0m\u001b[0;34m\u001b[0m\u001b[0m\n\u001b[1;32m   1600\u001b[0m         \u001b[0;32mif\u001b[0m \u001b[0mdata\u001b[0m \u001b[0;32mis\u001b[0m \u001b[0;32mNone\u001b[0m\u001b[0;34m:\u001b[0m\u001b[0;34m\u001b[0m\u001b[0;34m\u001b[0m\u001b[0m\n\u001b[0;32m-> 1601\u001b[0;31m             \u001b[0;32mreturn\u001b[0m \u001b[0mfunc\u001b[0m\u001b[0;34m(\u001b[0m\u001b[0max\u001b[0m\u001b[0;34m,\u001b[0m \u001b[0;34m*\u001b[0m\u001b[0mmap\u001b[0m\u001b[0;34m(\u001b[0m\u001b[0msanitize_sequence\u001b[0m\u001b[0;34m,\u001b[0m \u001b[0margs\u001b[0m\u001b[0;34m)\u001b[0m\u001b[0;34m,\u001b[0m \u001b[0;34m**\u001b[0m\u001b[0mkwargs\u001b[0m\u001b[0;34m)\u001b[0m\u001b[0;34m\u001b[0m\u001b[0;34m\u001b[0m\u001b[0m\n\u001b[0m\u001b[1;32m   1602\u001b[0m \u001b[0;34m\u001b[0m\u001b[0m\n\u001b[1;32m   1603\u001b[0m         \u001b[0mbound\u001b[0m \u001b[0;34m=\u001b[0m \u001b[0mnew_sig\u001b[0m\u001b[0;34m.\u001b[0m\u001b[0mbind\u001b[0m\u001b[0;34m(\u001b[0m\u001b[0max\u001b[0m\u001b[0;34m,\u001b[0m \u001b[0;34m*\u001b[0m\u001b[0margs\u001b[0m\u001b[0;34m,\u001b[0m \u001b[0;34m**\u001b[0m\u001b[0mkwargs\u001b[0m\u001b[0;34m)\u001b[0m\u001b[0;34m\u001b[0m\u001b[0;34m\u001b[0m\u001b[0m\n",
      "\u001b[0;32m~/anaconda3/lib/python3.8/site-packages/matplotlib/axes/_axes.py\u001b[0m in \u001b[0;36merrorbar\u001b[0;34m(self, x, y, yerr, xerr, fmt, ecolor, elinewidth, capsize, barsabove, lolims, uplims, xlolims, xuplims, errorevery, capthick, **kwargs)\u001b[0m\n\u001b[1;32m   3422\u001b[0m \u001b[0;34m\u001b[0m\u001b[0m\n\u001b[1;32m   3423\u001b[0m         \u001b[0;32mif\u001b[0m \u001b[0myerr\u001b[0m \u001b[0;32mis\u001b[0m \u001b[0;32mnot\u001b[0m \u001b[0;32mNone\u001b[0m\u001b[0;34m:\u001b[0m\u001b[0;34m\u001b[0m\u001b[0;34m\u001b[0m\u001b[0m\n\u001b[0;32m-> 3424\u001b[0;31m             \u001b[0mlower\u001b[0m\u001b[0;34m,\u001b[0m \u001b[0mupper\u001b[0m \u001b[0;34m=\u001b[0m \u001b[0mextract_err\u001b[0m\u001b[0;34m(\u001b[0m\u001b[0myerr\u001b[0m\u001b[0;34m,\u001b[0m \u001b[0my\u001b[0m\u001b[0;34m)\u001b[0m\u001b[0;34m\u001b[0m\u001b[0;34m\u001b[0m\u001b[0m\n\u001b[0m\u001b[1;32m   3425\u001b[0m             \u001b[0;31m# select points without upper/lower limits in y and\u001b[0m\u001b[0;34m\u001b[0m\u001b[0;34m\u001b[0m\u001b[0;34m\u001b[0m\u001b[0m\n\u001b[1;32m   3426\u001b[0m             \u001b[0;31m# draw normal errorbars for these points\u001b[0m\u001b[0;34m\u001b[0m\u001b[0;34m\u001b[0m\u001b[0;34m\u001b[0m\u001b[0m\n",
      "\u001b[0;32m~/anaconda3/lib/python3.8/site-packages/matplotlib/axes/_axes.py\u001b[0m in \u001b[0;36mextract_err\u001b[0;34m(err, data)\u001b[0m\n\u001b[1;32m   3365\u001b[0m             \u001b[0;32mfor\u001b[0m \u001b[0me\u001b[0m \u001b[0;32min\u001b[0m \u001b[0;34m[\u001b[0m\u001b[0ma\u001b[0m\u001b[0;34m,\u001b[0m \u001b[0mb\u001b[0m\u001b[0;34m]\u001b[0m\u001b[0;34m:\u001b[0m\u001b[0;34m\u001b[0m\u001b[0;34m\u001b[0m\u001b[0m\n\u001b[1;32m   3366\u001b[0m                 \u001b[0;32mif\u001b[0m \u001b[0mlen\u001b[0m\u001b[0;34m(\u001b[0m\u001b[0mdata\u001b[0m\u001b[0;34m)\u001b[0m \u001b[0;34m!=\u001b[0m \u001b[0mlen\u001b[0m\u001b[0;34m(\u001b[0m\u001b[0me\u001b[0m\u001b[0;34m)\u001b[0m\u001b[0;34m:\u001b[0m\u001b[0;34m\u001b[0m\u001b[0;34m\u001b[0m\u001b[0m\n\u001b[0;32m-> 3367\u001b[0;31m                     raise ValueError(\n\u001b[0m\u001b[1;32m   3368\u001b[0m                         \u001b[0;34mf\"The lengths of the data ({len(data)}) and the \"\u001b[0m\u001b[0;34m\u001b[0m\u001b[0;34m\u001b[0m\u001b[0m\n\u001b[1;32m   3369\u001b[0m                         f\"error {len(e)} do not match\")\n",
      "\u001b[0;31mValueError\u001b[0m: The lengths of the data (1) and the error 5 do not match"
     ]
    },
    {
     "data": {
      "image/png": "[encoded data removed]",
      "text/plain": [
       "<Figure size 480x320 with 1 Axes>"
      ]
     },
     "metadata": {
      "needs_background": "light"
     },
     "output_type": "display_data"
    }
   ],
   "source": [
    "# plt.figure(figsize=(6, 4), dpi=80)\n",
    "\n",
    "\n",
    "# plt.plot(x,regret_rsv_plot, label = 'Reserve Dist.')\n",
    "# plt.plot(x,regret_worst_plot, label = 'Greedy Dist.')\n",
    "# plt.plot(x,regret_central_plot, label = 'Central')\n",
    "# plt.plot(x,regret_cstat_plot, label = 'Central Stat.')\n",
    "\n",
    "\n",
    "# #  Set Font Size Limitations\n",
    "# font = {'family' : 'normal',\n",
    "#         'weight' : 'normal',\n",
    "#         'size'   : 16}\n",
    "# matplotlib.rc('font', **font)\n",
    "\n",
    "\n",
    "# plt.title('Cumulative Regret for Different Movement')\n",
    "# plt.xlabel('Probability of Mobility Per Round')\n",
    "# plt.legend()\n",
    "\n",
    "\n",
    "plt.figure(figsize=(6, 4), dpi=80)\n",
    "\n",
    "plt.errorbar(x, regret_worst_plot, regret_worst_sd2, label = 'Greedy Dist.', color = \"tab:green\", linewidth=2.0)\n",
    "plt.errorbar(x,regret_rsv_plot, regret_rsv_sd2, label = 'Edge-Alloc:D', color = \"tab:red\", linewidth=2.0)\n",
    "plt.errorbar(x,regret_central_plot, regret_centralized_sd2, label = 'Edge-Alloc:C', color = \"tab:blue\", linewidth=2.5)\n",
    "plt.errorbar(x,regret_cstat_plot, regret_cent_stat_sd2, label = 'Stat. Central', color = \"tab:orange\", linewidth=2.5)\n",
    "\n",
    "\n",
    "#  Set Font Size Limitations\n",
    "font = {'family' : 'normal',\n",
    "        'weight' : 'normal',\n",
    "        'size'   : 16}\n",
    "matplotlib.rc('font', **font)\n",
    "\n",
    "\n",
    "\n",
    "plt.title('Cumulative Regret and Mobility')\n",
    "plt.xlabel('Probability of Mobility Per Round')\n",
    "plt.legend(loc = 'best', prop={'size': 12})\n"
   ]
  },
  {
   "cell_type": "code",
   "execution_count": 10,
   "metadata": {},
   "outputs": [],
   "source": [
    "# Per user - greedy\n",
    "def exp_coll_greedy(usr_count, svr_count):\n",
    "    \n",
    "    return 1-((svr_count-1)/(svr_count))**(usr_count)\n",
    "\n",
    "def exp_coll_greedy_list(ls):\n",
    "    res = []\n",
    "    for i in ls:\n",
    "        usr_count, svr_count = i,i\n",
    "        res += [exp_coll_greedy(usr_count, svr_count)]\n",
    "    return res\n",
    "\n",
    "# Per user - Rsv\n",
    "def coll_upr_rsv(pm, num_usr, num_svr, pb):\n",
    "    exp_col = exp_coll_greedy(num_usr, num_svr)\n",
    "    return exp_col*(pm + 1 - (1 - pm*pb)**(num_usr))\n",
    "\n",
    "def coll_upr_rsv_list(pm_list, pb, ls):\n",
    "    res = []\n",
    "    j = 0\n",
    "    for i in ls:\n",
    "        usr_count, svr_count = i,i\n",
    "        res += [coll_upr_rsv(pm_list[j], usr_count, svr_count, pb)]\n",
    "        j += 1\n",
    "    return res"
   ]
  },
  {
   "cell_type": "code",
   "execution_count": 11,
   "metadata": {},
   "outputs": [
    {
     "ename": "NameError",
     "evalue": "name 'coll_worst_plot' is not defined",
     "output_type": "error",
     "traceback": [
      "\u001b[0;31m---------------------------------------------------------------------------\u001b[0m",
      "\u001b[0;31mNameError\u001b[0m                                 Traceback (most recent call last)",
      "\u001b[0;32m<ipython-input-11-84254abf01e9>\u001b[0m in \u001b[0;36m<module>\u001b[0;34m\u001b[0m\n\u001b[1;32m      5\u001b[0m \u001b[0mnum_svrs_list\u001b[0m \u001b[0;34m=\u001b[0m \u001b[0;34m[\u001b[0m\u001b[0;36m9\u001b[0m\u001b[0;34m,\u001b[0m\u001b[0;36m9\u001b[0m\u001b[0;34m,\u001b[0m\u001b[0;36m9\u001b[0m\u001b[0;34m,\u001b[0m\u001b[0;36m9\u001b[0m\u001b[0;34m,\u001b[0m\u001b[0;36m9\u001b[0m\u001b[0;34m]\u001b[0m\u001b[0;34m\u001b[0m\u001b[0;34m\u001b[0m\u001b[0m\n\u001b[1;32m      6\u001b[0m \u001b[0;34m\u001b[0m\u001b[0m\n\u001b[0;32m----> 7\u001b[0;31m plt.errorbar(x,np.divide(coll_worst_plot,T*num_users), collisions_worst_sd2, \n\u001b[0m\u001b[1;32m      8\u001b[0m              label = 'Greedy Dist.', color = \"tab:green\", linewidth=2.0)\n\u001b[1;32m      9\u001b[0m plt.errorbar(x,np.divide(coll_rsv_plot,T*num_users),collisions_rsv_sd2, \n",
      "\u001b[0;31mNameError\u001b[0m: name 'coll_worst_plot' is not defined"
     ]
    },
    {
     "data": {
      "text/plain": [
       "<Figure size 480x320 with 0 Axes>"
      ]
     },
     "metadata": {},
     "output_type": "display_data"
    }
   ],
   "source": [
    "plt.figure(figsize=(6, 4), dpi=80)\n",
    "# Calculate from equation\n",
    "pm = usr_mobility_prob\n",
    "pb = 0.5\n",
    "num_svrs_list = [9,9,9,9,9]\n",
    "\n",
    "plt.errorbar(x,np.divide(coll_worst_plot,T*num_users), collisions_worst_sd2, \n",
    "             label = 'Greedy Dist.', color = \"tab:green\", linewidth=2.0)\n",
    "plt.errorbar(x,np.divide(coll_rsv_plot,T*num_users),collisions_rsv_sd2, \n",
    "             label = 'Edge-Alloc:D', color = \"tab:red\", linewidth=2.0)\n",
    "plt.plot(x, exp_coll_greedy_list(num_svrs_list), label = \"Greedy Exp.\", color = \"tab:green\", \n",
    "         linewidth=2.0, linestyle = 'dashed')\n",
    "plt.plot(x, coll_upr_rsv_list(pm, pb, num_svrs_list), label = \"Edge-Alloc:D Exp.\", \n",
    "        color = \"tab:red\", linewidth=2.0, linestyle = 'dashed')\n",
    "\n",
    "#  Set Font Size Limitations\n",
    "font = {'family' : 'normal',\n",
    "        'weight' : 'normal',\n",
    "        'size'   : 16}\n",
    "matplotlib.rc('font', **font)\n",
    "\n",
    "\n",
    "plt.title('Collision Rate and Mobility')\n",
    "plt.xlabel('Probability of Mobility Per Round')\n",
    "plt.legend(loc = 'best', prop={'size': 12})\n"
   ]
  },
  {
   "cell_type": "code",
   "execution_count": null,
   "metadata": {},
   "outputs": [],
   "source": []
  }
 ],
 "metadata": {
  "kernelspec": {
   "display_name": "Python 3",
   "language": "python",
   "name": "python3"
  },
  "language_info": {
   "codemirror_mode": {
    "name": "ipython",
    "version": 3
   },
   "file_extension": ".py",
   "mimetype": "text/x-python",
   "name": "python",
   "nbconvert_exporter": "python",
   "pygments_lexer": "ipython3",
   "version": "3.8.5"
  }
 },
 "nbformat": 4,
 "nbformat_minor": 4
}
