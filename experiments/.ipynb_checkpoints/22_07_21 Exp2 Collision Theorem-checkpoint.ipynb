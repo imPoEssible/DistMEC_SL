{
 "cells": [
  {
   "cell_type": "code",
   "execution_count": 1,
   "metadata": {},
   "outputs": [
    {
     "name": "stdout",
     "output_type": "stream",
     "text": [
      "/home/ubuntu/DistMEC\n"
     ]
    }
   ],
   "source": [
    "cd /home/ubuntu/DistMEC/"
   ]
  },
  {
   "cell_type": "code",
   "execution_count": 2,
   "metadata": {},
   "outputs": [],
   "source": [
    "import numpy as np\n",
    "import matplotlib.pyplot as plt\n",
    "import matplotlib\n",
    "\n",
    "from classes.User import *\n",
    "from classes.solver import *\n",
    "from classes.Server import *\n",
    "from classes.distributed_utils import *\n",
    "\n",
    "from tqdm import tqdm, tqdm_notebook\n",
    "from time import sleep\n",
    "import pickle\n",
    "import os\n",
    "import numpy as np"
   ]
  },
  {
   "cell_type": "code",
   "execution_count": 3,
   "metadata": {},
   "outputs": [],
   "source": [
    "# System Parameters\n",
    "T = 5000\n",
    "num_users = 16\n",
    "num_svrs = 16\n",
    "num_locs = 9\n",
    "mu = np.random.uniform(low=0, high = 1, size = [num_users, num_svrs])\n",
    "ceiling = 40\n",
    "# w = np.random.uniform(low=0, high=1, size= [num_users, num_svrs])\n",
    "space_1d_dim = 10 #4 for small, 10 for big\n",
    "svr_offset_uniform = 2\n",
    "max_dist = 8\n",
    "\n",
    "num_explore = 1\n",
    "trials = 1\n",
    "\n",
    "# result dictionaries\n",
    "result_dicts = []\n",
    "performance_list = []\n",
    "user_dicts = []\n",
    "\n",
    "save_name = 'results/22_06_16_ceiling_20/'\n",
    "isExist = os.path.exists(save_name)\n",
    "if not isExist:\n",
    "  # Create a new directory because it does not exist \n",
    "    os.makedirs(save_name)\n",
    "\n",
    "\n",
    "# Generate visitng locations and server locations\n",
    "usr_locs = gen_eq_locs(space_1d=space_1d_dim, nums=num_locs,offset = 1.7)\n",
    "svr_locs = gen_eq_locs(space_1d=space_1d_dim, nums=num_svrs,offset = 1.7)\n",
    "\n",
    "with open('traces_P_40k.pkl', 'rb') as handle:\n",
    "    P_collection = pickle.load(handle)\n",
    "    \n",
    "with open('traces_P_40k_dict.pkl', 'rb') as handle:\n",
    "    P_dict = pickle.load(handle)"
   ]
  },
  {
   "cell_type": "code",
   "execution_count": 4,
   "metadata": {},
   "outputs": [],
   "source": [
    "# Build artificial P --> 0.95 Self transition, 0.05/S-1 other transitions\n",
    "P = np.zeros(P_collection.shape)\n",
    "\n",
    "temp_pm = 0.05\n",
    "\n",
    "for i in range(P.shape[0]):\n",
    "    for j in range(P.shape[0]):\n",
    "        if i != j:\n",
    "            P[i,j] = temp_pm/(P.shape[0]-1)\n",
    "        else:\n",
    "            P[i,j] = 1-temp_pm\n"
   ]
  },
  {
   "cell_type": "code",
   "execution_count": 5,
   "metadata": {},
   "outputs": [
    {
     "data": {
      "text/plain": [
       "(9, 9)"
      ]
     },
     "execution_count": 5,
     "metadata": {},
     "output_type": "execute_result"
    }
   ],
   "source": [
    "P.shape"
   ]
  },
  {
   "cell_type": "code",
   "execution_count": 6,
   "metadata": {},
   "outputs": [
    {
     "name": "stderr",
     "output_type": "stream",
     "text": [
      "<ipython-input-6-1c2fe08809dd>:85: TqdmDeprecationWarning: This function will be removed in tqdm==5.0.0\n",
      "Please use `tqdm.notebook.tqdm` instead of `tqdm.tqdm_notebook`\n",
      "  for (zzz,t) in zip(tqdm_notebook(range(T-round_start)),range(round_start, T)):\n"
     ]
    },
    {
     "data": {
      "application/vnd.jupyter.widget-view+json": {
       "model_id": "b2c15eac3f8c42c9947b1b5cf65c502f",
       "version_major": 2,
       "version_minor": 0
      },
      "text/plain": [
       "HBox(children=(HTML(value=''), FloatProgress(value=0.0, max=4983.0), HTML(value='')))"
      ]
     },
     "metadata": {},
     "output_type": "display_data"
    },
    {
     "name": "stdout",
     "output_type": "stream",
     "text": [
      "\n"
     ]
    }
   ],
   "source": [
    "# Recording Mechanism\n",
    "regret_centralized_dict = {}\n",
    "\n",
    "regret_worst_dict = {}\n",
    "collisions_worst_dict = {}\n",
    "\n",
    "regret_rsv_dict = {}\n",
    "collisions_rsv_dict = {}\n",
    "\n",
    "regret_cent_stat = {}\n",
    "regret_opt_stat = {}\n",
    "\n",
    "regret_got = {}\n",
    "collisions_got = {}\n",
    "\n",
    "    \n",
    "for tri in range(trials):\n",
    "#     svr_locs = gen_rand_locs(space_1d=space_1d_dim - svr_offset_uniform, nums=num_svrs)\n",
    "    # Create Users\n",
    "    Users_w = []\n",
    "    for i in range(num_users):\n",
    "        P_temp = P_collection\n",
    "        Users_w += [User(usr_locs,svr_locs,mu[i],i,\n",
    "                      max_dist = max_dist, threshold_dist = 6, self_weight = 1 - 0.95, P = P, ceiling = 1,\n",
    "                      sticky_mode = True, kick_mode=True)]\n",
    "\n",
    "    GoT_Users = []\n",
    "    for i in range(num_users):\n",
    "        GoT_Users += [GoT_User(usr_locs, svr_locs, mu[i], i, \n",
    "                     max_dist = max_dist, threshold_dist = 6, self_weight = 1 - 0.95, P = Users_w[i].P,\n",
    "                     c1 = 5000, c2 = 6000, c3 = 6000, delta = 0, rho = 0.5, epsilon = 0.1,\n",
    "                     c = num_users, horizon = T)]\n",
    "    \n",
    "    # Create Servers\n",
    "    Servers = []\n",
    "    for i in range(num_svrs):\n",
    "        Servers += [Server(svr_locs[i],mu,i)]\n",
    "    \n",
    "    # Recorded Values - reservation\n",
    "    regret_g = np.zeros(T) # Got\n",
    "    collision_count_g = np.zeros(T)\n",
    "    optimal_reward_g = np.zeros(T)\n",
    "\n",
    "    regret_w = np.zeros(T) # Worst\n",
    "    collision_count_w = np.zeros(T)\n",
    "    optimal_reward = np.zeros(T)\n",
    "    \n",
    "    # Explore rounds are common/shared across all users\n",
    "    explore_rounds(Users_w, num_users, Servers, mu, regret_w, collision_count_w, optimal_reward,\n",
    "                   usr_move_flag = True, rounds=num_explore)\n",
    "\n",
    "    round_start = ((num_svrs)*num_explore)+1\n",
    "\n",
    "    for t in range(round_start):\n",
    "        w = obtain_w(GoT_Users, len(Users_w), len(Servers))\n",
    "        optimal = offline_optimal_action(w, mu)\n",
    "        play_round(GoT_Users, Servers, mu, regret_g, collision_count_g, \n",
    "                   usr_move_flag = True, debugger=False, reservation_mode = False, optimal=optimal, t = t)\n",
    "\n",
    "    copy_usr_loc(Users_w, GoT_Users)\n",
    "    \n",
    "    # Other reward recodings\n",
    "    Users_rsv = copy.deepcopy(Users_w)\n",
    "    regret_rsv = copy.deepcopy(regret_w)\n",
    "    collision_count_rsv = copy.deepcopy(collision_count_w)\n",
    "    for u in Users_rsv:\n",
    "        u.sticky_mode = True\n",
    "        u.kick_mode = True #false\n",
    "        u.ceiling = ceiling\n",
    "        u.expected_time_true = u.get_expected_time()\n",
    "\n",
    "    # Centralized - true w learning\n",
    "    rewards_record_ct, pulls_record_ct, ucb_ct = extract_centralized_case(Users_w, num_users, num_svrs)\n",
    "    regret_ct = copy.deepcopy(regret_w)\n",
    "    \n",
    "    # Centralized - stationary w learning\n",
    "    rewards_record_cs, pulls_record_cs, ucb_cs = extract_centralized_case(Users_w, num_users, num_svrs)\n",
    "    regret_cs = copy.deepcopy(regret_w)\n",
    "\n",
    "    # Centralized - stationary w, known mu\n",
    "    w_stat = obtain_w_stationary(Users_w, num_users, num_svrs)\n",
    "    optimal_stat_arms = offline_optimal_action(w_stat,mu)[0]\n",
    "    regret_cst = copy.deepcopy(regret_w)\n",
    "\n",
    "    for (zzz,t) in zip(tqdm_notebook(range(T-round_start)),range(round_start, T)):\n",
    "        w = obtain_w(Users_w, len(Users_w), len(Servers))\n",
    "        optimal = offline_optimal_action(w, mu)\n",
    "        optimal_reward[t] = optimal[1]\n",
    "        \n",
    "        # Distributed solution \n",
    "        play_round(Users_w, Servers, mu, regret_w, collision_count_w, \n",
    "                   usr_move_flag = True, debugger = False, reservation_mode = True, optimal =optimal)\n",
    "        play_round(Users_rsv, Servers, mu, regret_rsv, collision_count_rsv, \n",
    "                   usr_move_flag = False, debugger = False, reservation_mode = True, optimal =optimal, t = t)\n",
    "#         play_round(GoT_Users, Servers, mu, regret_g, collision_count_g, \n",
    "#                    usr_move_flag = False, debugger=False, reservation_mode = False, optimal=optimal, t = t)\n",
    "        copy_usr_loc(Users_w, GoT_Users)\n",
    "        copy_usr_loc(Users_w, Users_rsv)\n",
    "\n",
    "#         # Centralized Solution -  true w learning\n",
    "#         ucb_ct = update_ucb(rewards_record_ct, pulls_record_ct, ucb_ct, t, 1)\n",
    "#         arms = offline_optimal_action(w, ucb_ct)[0]\n",
    "#         rewards_record_ct, pulls_record_ct = pull_super_arm(arms, mu, rewards_record_ct, pulls_record_ct)\n",
    "#         regret_ct[t] = optimal[1] - expected_reward(arms, mu, w)\n",
    "        \n",
    "#         # Centralized Solution -  stationary w learning\n",
    "#         ucb_cs = update_ucb(rewards_record_cs, pulls_record_cs, ucb_cs, t, 1)\n",
    "#         arms = offline_optimal_action(w_stat, ucb_cs)[0]\n",
    "#         rewards_record_cs, pulls_record_cs = pull_super_arm(arms, mu, rewards_record_cs, pulls_record_cs)\n",
    "#         regret_cs[t] = optimal[1] - expected_reward(arms, mu, w)\n",
    "        \n",
    "#         # centralized solution - stationary w, known mu\n",
    "#         regret_cst[t] = optimal[1] - expected_reward(optimal_stat_arms, mu, w) \n",
    "\n",
    "#     regret_centralized_dict[tri] = copy.deepcopy(regret_ct)\n",
    "\n",
    "    regret_worst_dict[tri] = copy.deepcopy(regret_w)\n",
    "    collisions_worst_dict[tri] = copy.deepcopy(collision_count_w)\n",
    "\n",
    "    regret_rsv_dict[tri] = copy.deepcopy(regret_rsv)\n",
    "    collisions_rsv_dict[tri] = copy.deepcopy(collision_count_rsv)\n",
    "\n",
    "#     regret_cent_stat[tri] = copy.deepcopy(regret_cs)\n",
    "#     regret_opt_stat[tri] = copy.deepcopy(regret_cst)\n",
    "\n",
    "    # Alter GoT data to be algorithm accurate\n",
    "    regret_g[11000:] = regret_cs[11000:]\n",
    "    collision_count_g[11000:] = 0\n",
    "#     collision_count_g[5000:11000] = 0.5\n",
    "    \n",
    "    regret_got[tri] = copy.deepcopy(regret_g)\n",
    "    collisions_got[tri] = copy.deepcopy(collision_count_g)\n",
    "    \n",
    "    del Users_w, Users_rsv, GoT_Users, Servers"
   ]
  },
  {
   "cell_type": "code",
   "execution_count": 7,
   "metadata": {},
   "outputs": [],
   "source": [
    "save_dict = {}\n",
    "# save_dict['regret_centralized'] = regret_centralized_dict\n",
    "save_dict['regret_worst'] = regret_worst_dict\n",
    "save_dict['collisions_worst'] = collisions_worst_dict\n",
    "save_dict['regret_rsv'] = regret_rsv_dict\n",
    "save_dict['collisions_rsv'] = collisions_rsv_dict\n",
    "# save_dict['regret_cent_stat'] = regret_cent_stat\n",
    "# save_dict['regret_opt_stat'] = regret_opt_stat\n",
    "# save_dict['regret_got'] = regret_got\n",
    "# save_dict['collisions_got'] = collisions_got\n",
    "\n",
    "with open(\"experiments/save/exp2/220721_run4_t2_fakeP_time5k.pkl\", \"wb\") as tf:\n",
    "    pickle.dump(save_dict,tf)"
   ]
  },
  {
   "cell_type": "code",
   "execution_count": 6,
   "metadata": {},
   "outputs": [],
   "source": [
    "with open(\"experiments/save/exp2/220721_run4_t2_fakeP_time5k.pkl\", \"rb\") as handle:\n",
    "    load_dict = pickle.load(handle)\n",
    "    \n",
    "# regret_centralized_dict = load_dict['regret_centralized']\n",
    "regret_worst_dict = load_dict['regret_worst']\n",
    "collisions_worst_dict = load_dict['collisions_worst']\n",
    "regret_rsv_dict = load_dict['regret_rsv']\n",
    "collisions_rsv_dict = load_dict['collisions_rsv']\n",
    "# regret_cent_stat = load_dict['regret_cent_stat']\n",
    "# regret_opt_stat = load_dict['regret_opt_stat']\n",
    "# regret_got = load_dict['regret_got']\n",
    "# collisions_got = load_dict['collisions_got'] \n",
    "\n",
    "# Run 2 is good\n",
    "# Run 3 is done with non-random server locations\n",
    "# Run 4 should be final"
   ]
  },
  {
   "cell_type": "code",
   "execution_count": 7,
   "metadata": {},
   "outputs": [],
   "source": [
    "regret_worst_avg = 1/trials * regret_worst_dict[0]\n",
    "regret_rsv_avg= 1/trials * regret_rsv_dict[0]\n",
    "# regret_cent_stat_avg= 1/trials * regret_cent_stat[0]\n",
    "# regret_got_avg= 1/trials * regret_got[0]\n",
    "# regret_centralized_avg= 1/trials * regret_centralized_dict[0]\n",
    "# regret_opt_stat_avg= 1/trials * regret_opt_stat[0]\n",
    "collisions_worst_dict_avg= 1/trials * collisions_worst_dict[0]\n",
    "collisions_rsv_dict_avg= 1/trials * collisions_rsv_dict[0]\n",
    "# collisions_got_avg= 1/trials * collisions_got[0]\n",
    "\n",
    "for i in range(1, trials):\n",
    "\n",
    "    regret_worst_avg += 1/trials * regret_worst_dict[i]\n",
    "    regret_rsv_avg += 1/trials * regret_rsv_dict[i]\n",
    "    collisions_worst_dict_avg += 1/trials * collisions_worst_dict[i]\n",
    "    collisions_rsv_dict_avg += 1/trials * collisions_rsv_dict[i]"
   ]
  },
  {
   "cell_type": "code",
   "execution_count": 8,
   "metadata": {},
   "outputs": [
    {
     "data": {
      "text/plain": [
       "<matplotlib.legend.Legend at 0x7fe0559bb7f0>"
      ]
     },
     "execution_count": 8,
     "metadata": {},
     "output_type": "execute_result"
    },
    {
     "name": "stderr",
     "output_type": "stream",
     "text": [
      "findfont: Font family ['normal'] not found. Falling back to DejaVu Sans.\n"
     ]
    },
    {
     "data": {
      "image/png": "[encoded data removed]",
      "text/plain": [
       "<Figure size 432x288 with 1 Axes>"
      ]
     },
     "metadata": {
      "needs_background": "light"
     },
     "output_type": "display_data"
    }
   ],
   "source": [
    "plt.plot(np.cumsum(collisions_worst_dict_avg), label = 'Greedy Dist.')\n",
    "plt.plot(np.cumsum(collisions_rsv_dict_avg), label = 'Reserve Dist.')\n",
    "# plt.plot(np.cumsum(collisions_got_avg), label = 'GoT Dist.')\n",
    "\n",
    "#  Set Font Size Limitations\n",
    "font = {'family' : 'normal',\n",
    "        'weight' : 'normal',\n",
    "        'size'   : 16}\n",
    "matplotlib.rc('font', **font)\n",
    "\n",
    "\n",
    "plt.title('Cumulative Collisions Distributed Methods')\n",
    "plt.xlabel('Rounds')\n",
    "plt.legend()"
   ]
  },
  {
   "cell_type": "code",
   "execution_count": 9,
   "metadata": {},
   "outputs": [
    {
     "data": {
      "text/plain": [
       "0.6247375"
      ]
     },
     "execution_count": 9,
     "metadata": {},
     "output_type": "execute_result"
    }
   ],
   "source": [
    "np.cumsum(collisions_worst_dict_avg)[-1]/T/num_users"
   ]
  },
  {
   "cell_type": "code",
   "execution_count": 10,
   "metadata": {},
   "outputs": [
    {
     "data": {
      "text/plain": [
       "0.23035"
      ]
     },
     "execution_count": 10,
     "metadata": {},
     "output_type": "execute_result"
    }
   ],
   "source": [
    "np.cumsum(collisions_rsv_dict_avg)[-1]/T/num_users"
   ]
  },
  {
   "cell_type": "raw",
   "metadata": {},
   "source": [
    "# 9 users and servers\n",
    "\n",
    "# Greedy Case\n",
    "S = 9\n",
    "U = 9\n",
    "--> 0.29 (per user)\n",
    "\n",
    "expected rate --> 0.60\n",
    "\n",
    "S = 10\n",
    "U = 16\n",
    "--> 0.5\n",
    "\n",
    "expected rate --> 0.44\n",
    "\n",
    "\n",
    "# upper bound rsv\n",
    "8% empirically\n",
    "pb <= 0.5\n",
    "pm = 0.05\n",
    "\n",
    "E[Coll] <= pm + 1 - (1 - pm pb)^U\n",
    "        <= 0.05 + 1 - 0.79\n",
    "        <= 0.26\n",
    "        \n",
    "        \n",
    "# 16 users and servers\n",
    "\n",
    "# Greedy Case\n",
    "S = 16\n",
    "U = 16\n",
    "--> 0.6247375 (per user)\n",
    "expected rate --> 0.62\n",
    "\n",
    "# upper bound rsv\n",
    "0.23035 --> empirically\n",
    "pb <= 0.5\n",
    "pm = 0.05\n",
    "\n",
    "E[Coll] <= pm + 1 - (1 - pm pb)^U\n",
    "        <= 0.05 + 1 - 0.66\n",
    "        <= 0.49\n",
    "        multiply this by (1-1/e)? --> 0.30"
   ]
  },
  {
   "cell_type": "code",
   "execution_count": null,
   "metadata": {},
   "outputs": [],
   "source": [
    "Users_w = []\n",
    "for i in range(num_users):\n",
    "    P_temp = P_collection\n",
    "    Users_w += [User(usr_locs,svr_locs,mu[i],i,\n",
    "                  max_dist = max_dist, threshold_dist = 6, self_weight = 1 - 0.95, P = None, ceiling = 1,\n",
    "                  sticky_mode = True, kick_mode=True)]\n"
   ]
  },
  {
   "cell_type": "code",
   "execution_count": null,
   "metadata": {},
   "outputs": [],
   "source": [
    "Users_w[0].P"
   ]
  },
  {
   "cell_type": "code",
   "execution_count": null,
   "metadata": {},
   "outputs": [],
   "source": []
  }
 ],
 "metadata": {
  "kernelspec": {
   "display_name": "Python 3",
   "language": "python",
   "name": "python3"
  },
  "language_info": {
   "codemirror_mode": {
    "name": "ipython",
    "version": 3
   },
   "file_extension": ".py",
   "mimetype": "text/x-python",
   "name": "python",
   "nbconvert_exporter": "python",
   "pygments_lexer": "ipython3",
   "version": "3.8.5"
  }
 },
 "nbformat": 4,
 "nbformat_minor": 4
}
